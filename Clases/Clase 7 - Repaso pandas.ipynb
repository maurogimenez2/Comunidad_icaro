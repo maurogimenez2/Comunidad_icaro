{
  "nbformat": 4,
  "nbformat_minor": 0,
  "metadata": {
    "colab": {
      "name": "repaso-pandas.ipynb",
      "provenance": []
    },
    "kernelspec": {
      "name": "python3",
      "display_name": "Python 3"
    },
    "language_info": {
      "name": "python"
    }
  },
  "cells": [
    {
      "cell_type": "markdown",
      "metadata": {
        "id": "T9PmpN5n8Dxq"
      },
      "source": [
        "# Repaso pandas\n",
        "\n",
        "Vamos a trabajar con el dataset que se puede descargar desde este [link](https://www.datos.gob.ar/dataset/turismo-certificado-unico-habilitante-para-circulacion-cuhc---verano/archivo/turismo_176dc4bc-7597-4e9b-850d-0d27bcbca8d0) .\n",
        "\n",
        "## Fechas\n",
        "\n",
        "1) Leer el dataset con pandas: Tener en cuenta que hay una columna \"fecha_ingreso\". ¿ Cómo podemos especificarle a pandas que lea esa columna como una fecha ? Investigar. \n",
        "\n",
        "Mostrar con ejemplos:\n",
        "\n",
        "- ¿ Cómo podemos acceder a el día/mes/año de una columna ?\n",
        "- ¿ Cómo podemos acceder a la semana de el año de una fecha ?\n",
        "- ¿ Cómo podemos acceder al día de la semana de una fecha ?\n",
        "\n",
        "Podemos ver en la documentación de pandas, que esta lleno de atributos y funciones de las fechas que podemos utilizar. Por ejemplo, si queremos saber si una fecha corresponde a el primer día del mes: https://pandas.pydata.org/docs/reference/api/pandas.Series.dt.is_month_start.html\n"
      ]
    },
    {
      "cell_type": "code",
      "metadata": {
        "id": "XF9_9b-O9PXp"
      },
      "source": [
        "# Importar pandas\n",
        "\n",
        "# Leer dataframe\n"
      ],
      "execution_count": 21,
      "outputs": []
    },
    {
      "cell_type": "markdown",
      "metadata": {
        "id": "8hi2LiT1lGbY"
      },
      "source": [
        "2) ¿ Qué significan cada una de las columnas ? Imprimir las primeras 5, las útlimas 5 y un sampleo de 5 filas random.\n",
        "\n",
        "3) ¿ Cuántas filas y columnas tiene el dataset ?\n",
        "\n",
        "4) ¿ Cuántos valores nulos hay en cada columna ?\n",
        "\n",
        "5) ¿ Qué porcentaje de valores nulos hay en cada columna ?\n",
        "\n",
        "6) ¿ Cuántos valores distintos encontramos en la variable destino_provincia ? ¿Y en destino_localidad ?\n",
        "\n",
        "7) Convertir los valores de la columna destino_provincia a minúsculas\n",
        "\n",
        "8) Calcular la media y mediana de la columna cantidad_personas\n",
        "\n",
        "9) Completar los nulos de la columna cantidad_personas con la mediana y calcular nuevamente la media de la columna. ¿ Cómo varió con respecto a el punto 8) ?\n",
        "\n",
        "10) ¿ Cuál es la fecha mínima de ingreso ? ¿ Y la máxima ?\n",
        "\n",
        "11) ¿ Cuántos certificados se emitieron en Febrero de 2021 ?\n",
        "\n",
        "12) Crear una función que se llame remove_spaces() que reciba como parámetro un string y retorne el mismo string sin espacios.\n",
        "\n",
        "13) Utilizando apply(), aplicar la función remove_spaces sobre la columna destino_localidad del DataFrame.\n",
        "\n",
        "14) Agrupar los datos por destino_provincia y obtener:\n",
        "  - Cantidad total de certificados emitidos\n",
        "  - Cantidad total de personas que lo solicitaron\n",
        "  - Fecha de el último certificado emitido\n",
        "\n",
        "15) ¿ Cuál es la provincia que más certificados emitidos tuvo en Enero de 2021 ?\n",
        "\n",
        "\n",
        "16) Crear una columna nueva que contenga el mes de la fecha.\n",
        "- Agrupar por esta columna y obtener la sumatoria de la cantidad de certificados por mes\n"
      ]
    }
  ]
}