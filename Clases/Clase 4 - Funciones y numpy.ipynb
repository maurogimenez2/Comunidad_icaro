{
  "nbformat": 4,
  "nbformat_minor": 0,
  "metadata": {
    "colab": {
      "name": "clase 4 - Funciones y Numpy.ipynb",
      "provenance": []
    },
    "kernelspec": {
      "name": "python3",
      "display_name": "Python 3"
    },
    "language_info": {
      "name": "python"
    }
  },
  "cells": [
    {
      "cell_type": "markdown",
      "metadata": {
        "id": "cJn48aX4uGvf"
      },
      "source": [
        "# Funciones\n",
        "\n",
        "Dijimos que en python podemos definir nuestras propias funciones y reutilizarlas donde querramos. \n",
        "\n",
        "Como lo hacemos?\n",
        "\n",
        "Una función en python se define de la siguiente manera:\n",
        "\n",
        "\n",
        "\n",
        "```\n",
        "def nombre_de_la_función(parametro1, parametro2):\n",
        "  ...\n",
        "  bloque de código\n",
        "  ...\n",
        "  return algunValor # Opcional\n",
        "```\n",
        "\n",
        "Una función puede recibir 0 o tantos parámetros como necesitemos y opcionalmente retornar algún valor\n",
        "\n",
        "Para llamarla simplemente escribimos su nombre y le pasamos los parámetros que necesite (si es que necesita)\n",
        "\n",
        "Veamos algunos ejemplos:"
      ]
    },
    {
      "cell_type": "code",
      "metadata": {
        "id": "G4l0o_btuFrE"
      },
      "source": [
        "# Función que no recibe parámetros y no retorna ningún valor\n",
        "def nuestra_funcion():\n",
        "  print(\"Nuestra primer funcion que no retorna nada y simplemente imprime un mensaje\")"
      ],
      "execution_count": null,
      "outputs": []
    },
    {
      "cell_type": "code",
      "metadata": {
        "colab": {
          "base_uri": "https://localhost:8080/"
        },
        "id": "yU8y9Ry0vNyw",
        "outputId": "562261b3-433e-4c2a-e7dd-ff07275f1351"
      },
      "source": [
        "i = 0\n",
        "while i <= 5:\n",
        "  nuestra_funcion()\n",
        "  i += 1 # Esto es lo mismo que escribir i = i + 1"
      ],
      "execution_count": null,
      "outputs": [
        {
          "output_type": "stream",
          "text": [
            "Nuestra primer funcion que no retorna nada y simplemente imprime un mensaje\n",
            "Nuestra primer funcion que no retorna nada y simplemente imprime un mensaje\n",
            "Nuestra primer funcion que no retorna nada y simplemente imprime un mensaje\n",
            "Nuestra primer funcion que no retorna nada y simplemente imprime un mensaje\n",
            "Nuestra primer funcion que no retorna nada y simplemente imprime un mensaje\n",
            "Nuestra primer funcion que no retorna nada y simplemente imprime un mensaje\n"
          ],
          "name": "stdout"
        }
      ]
    },
    {
      "cell_type": "code",
      "metadata": {
        "colab": {
          "base_uri": "https://localhost:8080/"
        },
        "id": "2dwBbbg7vh9U",
        "outputId": "0e3e7e3c-7102-4d3f-cfd2-6aa0a15cd083"
      },
      "source": [
        "# Función que recibe parámetros pero no retorna ningún valor\n",
        "\n",
        "def otra_funcion(parametro):\n",
        "  print(f\"parametro toma el valor: {parametro}\")\n",
        "\n",
        "otra_funcion(\"un valor\")\n",
        "otra_funcion(5)\n",
        "otra_funcion([1,2,3])"
      ],
      "execution_count": null,
      "outputs": [
        {
          "output_type": "stream",
          "text": [
            "parametro toma el valor: un valor\n",
            "parametro toma el valor: 5\n",
            "parametro toma el valor: [1, 2, 3]\n"
          ],
          "name": "stdout"
        }
      ]
    },
    {
      "cell_type": "code",
      "metadata": {
        "id": "LOAOvW27vzNa"
      },
      "source": [
        "# Función que recibe parámetros y retorna un valor\n",
        "\n",
        "def suma(a, b):\n",
        "  return a + b"
      ],
      "execution_count": null,
      "outputs": []
    },
    {
      "cell_type": "code",
      "metadata": {
        "colab": {
          "base_uri": "https://localhost:8080/"
        },
        "id": "wdS5k5bwv5RJ",
        "outputId": "b2045fb2-fefb-414b-aa67-377abbf20938"
      },
      "source": [
        "c = suma(5, 6)\n",
        "print(c)"
      ],
      "execution_count": null,
      "outputs": [
        {
          "output_type": "stream",
          "text": [
            "11\n"
          ],
          "name": "stdout"
        }
      ]
    },
    {
      "cell_type": "markdown",
      "metadata": {
        "id": "p_ytekGUwBli"
      },
      "source": [
        "##### Docstrings\n",
        "\n",
        "Es una muy buena práctica, documentar lo que hacemos. Muchas veces otras personas van a ver nuestro código, nuestros análisis en jupyter notebooks, etc y no es simple ver el código de otra persona cuando no hay ningún comentario.\n",
        "\n",
        "Tenemos que acostumbrarnos desde ahora a comentar bien las funciones que hacemos y aprovechar las celdas de texto que nos brinda jupyter para explicar lo que vamos haciendo.\n",
        "\n",
        "En python, una forma de describir lo que hace una función es usando docstings. Esto es, una descripción que se pone entre 3 comillas \"\"\" al principio de la funcion. Por ejemplo:"
      ]
    },
    {
      "cell_type": "code",
      "metadata": {
        "id": "xW1bCpTNwnfc"
      },
      "source": [
        "def suma(a, b):\n",
        "  \"\"\"\n",
        "  Esta funcion retorna la suma de los valores de a y b.\n",
        "  Params:\n",
        "  - a: número a (int)\n",
        "  - b: número b (int)\n",
        "  \"\"\"\n",
        "  return a + b"
      ],
      "execution_count": null,
      "outputs": []
    },
    {
      "cell_type": "markdown",
      "metadata": {
        "id": "UKx76sJvw1CV"
      },
      "source": [
        "Otra buena práctica, es especificar el tipo de dato que esperamos que reciba una función y el tipo de dato que devuelve. Esto se hace de la siguiente forma:"
      ]
    },
    {
      "cell_type": "code",
      "metadata": {
        "id": "TEFPbnuVw74h"
      },
      "source": [
        "def suma(a: int, b: int) -> int:\n",
        "  \"\"\"\n",
        "  Esta funcion retorna la suma de los valores de a y b.\n",
        "  Params:\n",
        "  - a: número a (int)\n",
        "  - b: número b (int)\n",
        "  \"\"\"\n",
        "  return a + b"
      ],
      "execution_count": null,
      "outputs": []
    },
    {
      "cell_type": "markdown",
      "metadata": {
        "id": "ys2vLUNqzsrc"
      },
      "source": [
        "Además, cuando definimos una función con docstings, al utilizar la funcion `help`de python, ese docstring se imprime y puede ser muy util para otra persona que quiera usar nuestra función!"
      ]
    },
    {
      "cell_type": "code",
      "metadata": {
        "colab": {
          "base_uri": "https://localhost:8080/"
        },
        "id": "UxJ4lpQwzfKM",
        "outputId": "4db9e511-2c41-4444-c71c-99632ef75e17"
      },
      "source": [
        "help(suma)"
      ],
      "execution_count": null,
      "outputs": [
        {
          "output_type": "stream",
          "text": [
            "Help on function suma in module __main__:\n",
            "\n",
            "suma(a: int, b: int) -> int\n",
            "    Esta funcion retorna la suma de los valores de a y b.\n",
            "    Params:\n",
            "    - a: número a (int)\n",
            "    - b: número b (int)\n",
            "\n"
          ],
          "name": "stdout"
        }
      ]
    },
    {
      "cell_type": "markdown",
      "metadata": {
        "id": "sT0wn2aju550"
      },
      "source": [
        "Parametros por defecto"
      ]
    },
    {
      "cell_type": "code",
      "metadata": {
        "colab": {
          "base_uri": "https://localhost:8080/"
        },
        "id": "k-mKgXUZu71H",
        "outputId": "b4fb442a-f423-40a7-8a0f-3e607e38b95e"
      },
      "source": [
        "def resta(a=None, b=None):\n",
        "    if a == None or b == None:\n",
        "        print(\"Error, debes enviar dos números a la función\")\n",
        "        return   # indicamos el final de la función aunque no devuelva nada\n",
        "    else: \n",
        "      return a-b\n",
        "\n",
        "resta()"
      ],
      "execution_count": 1,
      "outputs": [
        {
          "output_type": "stream",
          "text": [
            "Error, debes enviar dos números a la función\n"
          ],
          "name": "stdout"
        }
      ]
    },
    {
      "cell_type": "markdown",
      "metadata": {
        "id": "TZTRD5BPuO7_"
      },
      "source": [
        "# Ejercicios\n",
        "\n",
        "1) Realiza una función llamada `relacion(a, b)` que a partir de dos números cumpla lo siguiente:\n",
        "\n",
        "Si el primer número es mayor que el segundo, debe devolver 1.\n",
        "Si el primer número es menor que el segundo, debe devolver -1.\n",
        "Si ambos números son iguales, debe devolver un 0.\n",
        "\n",
        "\n",
        "2) Realiza una función `separar(lista)` que tome una lista de números enteros y devuelva dos listas ordenadas. La primera con los números pares y la segunda con los números impares.\n",
        "\n"
      ]
    },
    {
      "cell_type": "markdown",
      "metadata": {
        "id": "nFr1UJO_sNVs"
      },
      "source": [
        "# Numpy\n",
        "\n",
        "Recuerden que siempre pueden tener la documentación a mano cuando necesitan algo: https://numpy.org/doc/stable/\n",
        "\n",
        "En esta clase vamos a empezar a aprender las principales funcionalidades que nos brinda numpy.\n",
        "\n",
        "Lo primero que tenemos que hacer siempre que vayamos a usar una librería, es instalarla.\n",
        "\n",
        "En python, las librerías se pueden instalar con el comando `pip install NombreDeLaLibreria` o en el caso de que estemos en un environment de conda, 'conda install'.\n",
        "\n",
        "Siempre en la documentación de una librería nos van a explicar como instalarla.\n",
        "\n",
        "Si instalamos anaconda o usamos google colab, numpy ya viene instalado. Si no, debemos correr el siguiente comando:"
      ]
    },
    {
      "cell_type": "code",
      "metadata": {
        "colab": {
          "base_uri": "https://localhost:8080/"
        },
        "id": "LkkiEMGStN5n",
        "outputId": "33e68afd-41c4-477a-c007-be26922380a9"
      },
      "source": [
        "!pip install numpy"
      ],
      "execution_count": null,
      "outputs": [
        {
          "output_type": "stream",
          "text": [
            "Requirement already satisfied: numpy in /usr/local/lib/python3.7/dist-packages (1.19.5)\n"
          ],
          "name": "stdout"
        }
      ]
    },
    {
      "cell_type": "markdown",
      "metadata": {
        "id": "YhBSvAbFtQu7"
      },
      "source": [
        "Vemos que dice: Requirement already satisfied: numpy in /usr/local/lib/python3.7/dist-packages (1.19.5)\n",
        "\n",
        "Esto quiere decir que ya la teníamos instalada desde antes.\n",
        "\n",
        "Una vez que instalamos una librería, tenemos que importarla para poder usarla. En python, esto se hace de la siguiente manera:"
      ]
    },
    {
      "cell_type": "code",
      "metadata": {
        "id": "NwC9Q3LvtPP1"
      },
      "source": [
        "import numpy as np"
      ],
      "execution_count": null,
      "outputs": []
    },
    {
      "cell_type": "markdown",
      "metadata": {
        "id": "7veZ6OtRthYa"
      },
      "source": [
        "La parte que dice `as np` se denomina alias. Esto es para que cuando querramos llamar a la librería, no tengamos que poner su nombre completo y podamos llamarla simplemente con el alias `np`.\n",
        "\n",
        "## Numpy array\n",
        "\n",
        "El elemento principal de numpy es el numpy array. Para crear uno hay varias formas, una de ellas es pasándo una lista como parámetro:"
      ]
    },
    {
      "cell_type": "code",
      "metadata": {
        "colab": {
          "base_uri": "https://localhost:8080/"
        },
        "id": "OmLD3uMltgsH",
        "outputId": "fd572928-3caf-47a7-8c8b-7d9067f0410d"
      },
      "source": [
        "lista = [1,2,3,4]\n",
        "numpy_array = np.array(lista)\n",
        "print(lista)\n",
        "print(numpy_array)"
      ],
      "execution_count": null,
      "outputs": [
        {
          "output_type": "stream",
          "text": [
            "[1, 2, 3, 4]\n",
            "[1 2 3 4]\n"
          ],
          "name": "stdout"
        }
      ]
    },
    {
      "cell_type": "markdown",
      "metadata": {
        "id": "f1LsFswMzJs2"
      },
      "source": [
        "En este caso, en el que el array esta compuesto por un rango de números en forma ascendente, numpy nos brinda formas más rapidas de crear un array:"
      ]
    },
    {
      "cell_type": "code",
      "metadata": {
        "colab": {
          "base_uri": "https://localhost:8080/"
        },
        "id": "fPjLxuSSzH7X",
        "outputId": "0bca8ad9-ab1e-49f1-b7ae-a999583a9d6c"
      },
      "source": [
        "np.arange(4)"
      ],
      "execution_count": null,
      "outputs": [
        {
          "output_type": "execute_result",
          "data": {
            "text/plain": [
              "array([0, 1, 2, 3])"
            ]
          },
          "metadata": {
            "tags": []
          },
          "execution_count": 14
        }
      ]
    },
    {
      "cell_type": "markdown",
      "metadata": {
        "id": "56U0CwSfzbOx"
      },
      "source": [
        "Este array empieza desde 0, nuestra lista anterior arrancaba desde 1. ¿ Cómo podremos hacer que el array arranque desde 1 ?\n",
        "Para responder preguntas de este tipo, la documentación y el comando help() son muy útiles.\n",
        "\n",
        "Veamos que dice el comando help:"
      ]
    },
    {
      "cell_type": "code",
      "metadata": {
        "colab": {
          "base_uri": "https://localhost:8080/"
        },
        "id": "5nyX2VKUzXbP",
        "outputId": "df20f721-8c82-4621-f324-0b3e5e5346e3"
      },
      "source": [
        "help(np.arange)"
      ],
      "execution_count": null,
      "outputs": [
        {
          "output_type": "stream",
          "text": [
            "Help on built-in function arange in module numpy:\n",
            "\n",
            "arange(...)\n",
            "    arange([start,] stop[, step,], dtype=None)\n",
            "    \n",
            "    Return evenly spaced values within a given interval.\n",
            "    \n",
            "    Values are generated within the half-open interval ``[start, stop)``\n",
            "    (in other words, the interval including `start` but excluding `stop`).\n",
            "    For integer arguments the function is equivalent to the Python built-in\n",
            "    `range` function, but returns an ndarray rather than a list.\n",
            "    \n",
            "    When using a non-integer step, such as 0.1, the results will often not\n",
            "    be consistent.  It is better to use `numpy.linspace` for these cases.\n",
            "    \n",
            "    Parameters\n",
            "    ----------\n",
            "    start : number, optional\n",
            "        Start of interval.  The interval includes this value.  The default\n",
            "        start value is 0.\n",
            "    stop : number\n",
            "        End of interval.  The interval does not include this value, except\n",
            "        in some cases where `step` is not an integer and floating point\n",
            "        round-off affects the length of `out`.\n",
            "    step : number, optional\n",
            "        Spacing between values.  For any output `out`, this is the distance\n",
            "        between two adjacent values, ``out[i+1] - out[i]``.  The default\n",
            "        step size is 1.  If `step` is specified as a position argument,\n",
            "        `start` must also be given.\n",
            "    dtype : dtype\n",
            "        The type of the output array.  If `dtype` is not given, infer the data\n",
            "        type from the other input arguments.\n",
            "    \n",
            "    Returns\n",
            "    -------\n",
            "    arange : ndarray\n",
            "        Array of evenly spaced values.\n",
            "    \n",
            "        For floating point arguments, the length of the result is\n",
            "        ``ceil((stop - start)/step)``.  Because of floating point overflow,\n",
            "        this rule may result in the last element of `out` being greater\n",
            "        than `stop`.\n",
            "    \n",
            "    See Also\n",
            "    --------\n",
            "    numpy.linspace : Evenly spaced numbers with careful handling of endpoints.\n",
            "    numpy.ogrid: Arrays of evenly spaced numbers in N-dimensions.\n",
            "    numpy.mgrid: Grid-shaped arrays of evenly spaced numbers in N-dimensions.\n",
            "    \n",
            "    Examples\n",
            "    --------\n",
            "    >>> np.arange(3)\n",
            "    array([0, 1, 2])\n",
            "    >>> np.arange(3.0)\n",
            "    array([ 0.,  1.,  2.])\n",
            "    >>> np.arange(3,7)\n",
            "    array([3, 4, 5, 6])\n",
            "    >>> np.arange(3,7,2)\n",
            "    array([3, 5])\n",
            "\n"
          ],
          "name": "stdout"
        }
      ]
    },
    {
      "cell_type": "markdown",
      "metadata": {
        "id": "mLdwZast0LF-"
      },
      "source": [
        "Ahora, tratemos de generar un array de 6 elementos que arranque desde el valor 0!"
      ]
    },
    {
      "cell_type": "code",
      "metadata": {
        "id": "rFBMtZhHz5r3"
      },
      "source": [
        "nuevo_array = np.arrange( ... ) # COMPLETAR\n",
        "print(nuevo_array)"
      ],
      "execution_count": null,
      "outputs": []
    },
    {
      "cell_type": "markdown",
      "metadata": {
        "id": "OYYh1nP-08La"
      },
      "source": [
        "### Operaciones sobre listas y arrays de numpy"
      ]
    },
    {
      "cell_type": "markdown",
      "metadata": {
        "id": "jCOjoam_0hzF"
      },
      "source": [
        "Otra funcionalidad muy útil que nos provee numpy, es la posibilidad de realizar una operación matemática sobre cada elemento de la lista de una forma muy simple.\n",
        "\n",
        "Si queremos hacer esto con una lista común de python, vamos a necesitar iterar sobre cada elemento (con un for). Numpy nos ahorra ese paso:"
      ]
    },
    {
      "cell_type": "code",
      "metadata": {
        "colab": {
          "base_uri": "https://localhost:8080/",
          "height": 198
        },
        "id": "IrKN4glp0ez6",
        "outputId": "52e34d70-3feb-4ec9-9543-99535aefa54b"
      },
      "source": [
        "# Al hacerlo sobre una lista, vamos a obtener un error:\n",
        "\n",
        "[1,2,3] + 1"
      ],
      "execution_count": null,
      "outputs": [
        {
          "output_type": "error",
          "ename": "TypeError",
          "evalue": "ignored",
          "traceback": [
            "\u001b[0;31m---------------------------------------------------------------------------\u001b[0m",
            "\u001b[0;31mTypeError\u001b[0m                                 Traceback (most recent call last)",
            "\u001b[0;32m<ipython-input-16-ed0716725850>\u001b[0m in \u001b[0;36m<module>\u001b[0;34m()\u001b[0m\n\u001b[1;32m      1\u001b[0m \u001b[0;31m# Al hacerlo sobre una lista, vamos a obtener un error:\u001b[0m\u001b[0;34m\u001b[0m\u001b[0;34m\u001b[0m\u001b[0;34m\u001b[0m\u001b[0m\n\u001b[1;32m      2\u001b[0m \u001b[0;34m\u001b[0m\u001b[0m\n\u001b[0;32m----> 3\u001b[0;31m \u001b[0;34m[\u001b[0m\u001b[0;36m1\u001b[0m\u001b[0;34m,\u001b[0m\u001b[0;36m2\u001b[0m\u001b[0;34m,\u001b[0m\u001b[0;36m3\u001b[0m\u001b[0;34m]\u001b[0m \u001b[0;34m+\u001b[0m \u001b[0;36m1\u001b[0m\u001b[0;34m\u001b[0m\u001b[0;34m\u001b[0m\u001b[0m\n\u001b[0m",
            "\u001b[0;31mTypeError\u001b[0m: can only concatenate list (not \"int\") to list"
          ]
        }
      ]
    },
    {
      "cell_type": "code",
      "metadata": {
        "colab": {
          "base_uri": "https://localhost:8080/"
        },
        "id": "cnkH7L4RCXR2",
        "outputId": "25fb363b-6e8f-45cd-ee32-c2c2429ef24e"
      },
      "source": [
        "# Si queremos hacerlo sobre una lista tenemos que usar list comprehension\n",
        "\n",
        "l = [1,2,3,4,5,6]\n",
        "l_sum = [item + 1 for item in l]\n",
        "l_sum"
      ],
      "execution_count": null,
      "outputs": [
        {
          "output_type": "execute_result",
          "data": {
            "text/plain": [
              "[2, 3, 4, 5, 6, 7]"
            ]
          },
          "metadata": {
            "tags": []
          },
          "execution_count": 59
        }
      ]
    },
    {
      "cell_type": "code",
      "metadata": {
        "colab": {
          "base_uri": "https://localhost:8080/"
        },
        "id": "ZG2-z4mi1G2z",
        "outputId": "a5eb5487-80a0-413b-eda2-acc1e3025caa"
      },
      "source": [
        "# Pero sobre un numpy array, lo podemos hacer simplemente sumando un número:\n",
        "\n",
        "np.arange(10) + 5"
      ],
      "execution_count": null,
      "outputs": [
        {
          "output_type": "execute_result",
          "data": {
            "text/plain": [
              "array([ 5,  6,  7,  8,  9, 10, 11, 12, 13, 14])"
            ]
          },
          "metadata": {
            "tags": []
          },
          "execution_count": 60
        }
      ]
    },
    {
      "cell_type": "code",
      "metadata": {
        "colab": {
          "base_uri": "https://localhost:8080/"
        },
        "id": "z1-pEz_I1OhM",
        "outputId": "784a20f3-bcfb-4bf1-fba2-2cc4de21ab63"
      },
      "source": [
        "np.arange(10) * 5"
      ],
      "execution_count": null,
      "outputs": [
        {
          "output_type": "execute_result",
          "data": {
            "text/plain": [
              "array([ 0,  5, 10, 15, 20, 25, 30, 35, 40, 45])"
            ]
          },
          "metadata": {
            "tags": []
          },
          "execution_count": 18
        }
      ]
    },
    {
      "cell_type": "markdown",
      "metadata": {
        "id": "aqzrRe1L3FFX"
      },
      "source": [
        "### Arrays multidimensionales\n",
        "\n",
        "Al igual que las listas, los arrays de numpy pueden ser n-dimensionales"
      ]
    },
    {
      "cell_type": "code",
      "metadata": {
        "colab": {
          "base_uri": "https://localhost:8080/"
        },
        "id": "g28WwZeC3Ko0",
        "outputId": "6c39db61-d193-4a25-cdac-7431e1043418"
      },
      "source": [
        "n_dimensiones = np.array([[[1,2,3], [4,5,6]],[[7,8,9], [10, 11, 12]]])\n",
        "n_dimensiones"
      ],
      "execution_count": null,
      "outputs": [
        {
          "output_type": "execute_result",
          "data": {
            "text/plain": [
              "array([[[ 1,  2,  3],\n",
              "        [ 4,  5,  6]],\n",
              "\n",
              "       [[ 7,  8,  9],\n",
              "        [10, 11, 12]]])"
            ]
          },
          "metadata": {
            "tags": []
          },
          "execution_count": 19
        }
      ]
    },
    {
      "cell_type": "markdown",
      "metadata": {
        "id": "P07kfllq1ZA1"
      },
      "source": [
        "### Shape\n",
        "\n",
        "Vimos que los arrays de numpy tienen un atributo que se llama `shape`. Esto nos dice la \"forma\" que tiene el array. Veamos un ejemplo:"
      ]
    },
    {
      "cell_type": "code",
      "metadata": {
        "colab": {
          "base_uri": "https://localhost:8080/"
        },
        "id": "aG12kFQE1RD7",
        "outputId": "0d0ce542-3422-4555-9a62-3712dadd82b7"
      },
      "source": [
        "n_dimensiones.shape"
      ],
      "execution_count": null,
      "outputs": [
        {
          "output_type": "execute_result",
          "data": {
            "text/plain": [
              "(2, 2, 3)"
            ]
          },
          "metadata": {
            "tags": []
          },
          "execution_count": 20
        }
      ]
    },
    {
      "cell_type": "markdown",
      "metadata": {
        "id": "Ofc5pqH73qlh"
      },
      "source": [
        "El shape de un array puede modificarse con la función reshape() de numpy:"
      ]
    },
    {
      "cell_type": "code",
      "metadata": {
        "colab": {
          "base_uri": "https://localhost:8080/"
        },
        "id": "JofXc_WC3cz3",
        "outputId": "62af6f4d-b9d9-4251-bee0-3fde1af6a0cd"
      },
      "source": [
        "una_dim = np.arange(5)\n",
        "una_dim"
      ],
      "execution_count": null,
      "outputs": [
        {
          "output_type": "execute_result",
          "data": {
            "text/plain": [
              "array([0, 1, 2, 3, 4])"
            ]
          },
          "metadata": {
            "tags": []
          },
          "execution_count": 21
        }
      ]
    },
    {
      "cell_type": "code",
      "metadata": {
        "colab": {
          "base_uri": "https://localhost:8080/"
        },
        "id": "gI8I1-Wx37QJ",
        "outputId": "d2287360-b967-4767-ce71-67f7bfde79fb"
      },
      "source": [
        "una_dim.shape"
      ],
      "execution_count": null,
      "outputs": [
        {
          "output_type": "execute_result",
          "data": {
            "text/plain": [
              "(5,)"
            ]
          },
          "metadata": {
            "tags": []
          },
          "execution_count": 22
        }
      ]
    },
    {
      "cell_type": "code",
      "metadata": {
        "colab": {
          "base_uri": "https://localhost:8080/"
        },
        "id": "II1Ond303zZt",
        "outputId": "e34cf574-1678-460e-f23c-d82de3cc8c0f"
      },
      "source": [
        "# (filas, columnas)\n",
        "una_dim = una_dim.reshape(5, 1)\n",
        "una_dim"
      ],
      "execution_count": null,
      "outputs": [
        {
          "output_type": "execute_result",
          "data": {
            "text/plain": [
              "array([[0],\n",
              "       [1],\n",
              "       [2],\n",
              "       [3],\n",
              "       [4]])"
            ]
          },
          "metadata": {
            "tags": []
          },
          "execution_count": 23
        }
      ]
    },
    {
      "cell_type": "code",
      "metadata": {
        "colab": {
          "base_uri": "https://localhost:8080/"
        },
        "id": "w-aNoKUF34hF",
        "outputId": "8b5c20e5-7357-48c6-9342-cf10d5df2d38"
      },
      "source": [
        "una_dim = una_dim.reshape(1, 5)\n",
        "una_dim"
      ],
      "execution_count": null,
      "outputs": [
        {
          "output_type": "execute_result",
          "data": {
            "text/plain": [
              "array([[0, 1, 2, 3, 4]])"
            ]
          },
          "metadata": {
            "tags": []
          },
          "execution_count": 24
        }
      ]
    },
    {
      "cell_type": "markdown",
      "metadata": {
        "id": "wZ6jhoVC4ed7"
      },
      "source": [
        "### Linspace\n",
        "\n",
        "La función linspace de numpy, nos permite crear arreglos de una forma similar a arange().\n",
        "\n",
        "La diferencia con arange() es que en esta función, se crean n elementos igualmente espaciados en un intervalo que definamos.\n",
        "\n",
        "Por ejemplo, si queremos crear un array de 10 elementos igualmente espaciados entre 0 y 1:"
      ]
    },
    {
      "cell_type": "code",
      "metadata": {
        "colab": {
          "base_uri": "https://localhost:8080/"
        },
        "id": "kK4oPBKa4OwD",
        "outputId": "ccdde58b-61d5-4fc3-f2e6-3df451e78a42"
      },
      "source": [
        "np.linspace(0, 1, 10)"
      ],
      "execution_count": null,
      "outputs": [
        {
          "output_type": "execute_result",
          "data": {
            "text/plain": [
              "array([0.        , 0.11111111, 0.22222222, 0.33333333, 0.44444444,\n",
              "       0.55555556, 0.66666667, 0.77777778, 0.88888889, 1.        ])"
            ]
          },
          "metadata": {
            "tags": []
          },
          "execution_count": 25
        }
      ]
    },
    {
      "cell_type": "markdown",
      "metadata": {
        "id": "eGizr4fG77T-"
      },
      "source": [
        "Recuerden que siempre se puede usar help!"
      ]
    },
    {
      "cell_type": "code",
      "metadata": {
        "colab": {
          "base_uri": "https://localhost:8080/"
        },
        "id": "Y8Pr1LfN79Si",
        "outputId": "d246b6bd-d399-4267-e15e-248811acd92a"
      },
      "source": [
        "help(np.linspace)"
      ],
      "execution_count": null,
      "outputs": [
        {
          "output_type": "stream",
          "text": [
            "Help on function linspace in module numpy:\n",
            "\n",
            "linspace(start, stop, num=50, endpoint=True, retstep=False, dtype=None, axis=0)\n",
            "    Return evenly spaced numbers over a specified interval.\n",
            "    \n",
            "    Returns `num` evenly spaced samples, calculated over the\n",
            "    interval [`start`, `stop`].\n",
            "    \n",
            "    The endpoint of the interval can optionally be excluded.\n",
            "    \n",
            "    .. versionchanged:: 1.16.0\n",
            "        Non-scalar `start` and `stop` are now supported.\n",
            "    \n",
            "    Parameters\n",
            "    ----------\n",
            "    start : array_like\n",
            "        The starting value of the sequence.\n",
            "    stop : array_like\n",
            "        The end value of the sequence, unless `endpoint` is set to False.\n",
            "        In that case, the sequence consists of all but the last of ``num + 1``\n",
            "        evenly spaced samples, so that `stop` is excluded.  Note that the step\n",
            "        size changes when `endpoint` is False.\n",
            "    num : int, optional\n",
            "        Number of samples to generate. Default is 50. Must be non-negative.\n",
            "    endpoint : bool, optional\n",
            "        If True, `stop` is the last sample. Otherwise, it is not included.\n",
            "        Default is True.\n",
            "    retstep : bool, optional\n",
            "        If True, return (`samples`, `step`), where `step` is the spacing\n",
            "        between samples.\n",
            "    dtype : dtype, optional\n",
            "        The type of the output array.  If `dtype` is not given, infer the data\n",
            "        type from the other input arguments.\n",
            "    \n",
            "        .. versionadded:: 1.9.0\n",
            "    \n",
            "    axis : int, optional\n",
            "        The axis in the result to store the samples.  Relevant only if start\n",
            "        or stop are array-like.  By default (0), the samples will be along a\n",
            "        new axis inserted at the beginning. Use -1 to get an axis at the end.\n",
            "    \n",
            "        .. versionadded:: 1.16.0\n",
            "    \n",
            "    Returns\n",
            "    -------\n",
            "    samples : ndarray\n",
            "        There are `num` equally spaced samples in the closed interval\n",
            "        ``[start, stop]`` or the half-open interval ``[start, stop)``\n",
            "        (depending on whether `endpoint` is True or False).\n",
            "    step : float, optional\n",
            "        Only returned if `retstep` is True\n",
            "    \n",
            "        Size of spacing between samples.\n",
            "    \n",
            "    \n",
            "    See Also\n",
            "    --------\n",
            "    arange : Similar to `linspace`, but uses a step size (instead of the\n",
            "             number of samples).\n",
            "    geomspace : Similar to `linspace`, but with numbers spaced evenly on a log\n",
            "                scale (a geometric progression).\n",
            "    logspace : Similar to `geomspace`, but with the end points specified as\n",
            "               logarithms.\n",
            "    \n",
            "    Examples\n",
            "    --------\n",
            "    >>> np.linspace(2.0, 3.0, num=5)\n",
            "    array([2.  , 2.25, 2.5 , 2.75, 3.  ])\n",
            "    >>> np.linspace(2.0, 3.0, num=5, endpoint=False)\n",
            "    array([2. ,  2.2,  2.4,  2.6,  2.8])\n",
            "    >>> np.linspace(2.0, 3.0, num=5, retstep=True)\n",
            "    (array([2.  ,  2.25,  2.5 ,  2.75,  3.  ]), 0.25)\n",
            "    \n",
            "    Graphical illustration:\n",
            "    \n",
            "    >>> import matplotlib.pyplot as plt\n",
            "    >>> N = 8\n",
            "    >>> y = np.zeros(N)\n",
            "    >>> x1 = np.linspace(0, 10, N, endpoint=True)\n",
            "    >>> x2 = np.linspace(0, 10, N, endpoint=False)\n",
            "    >>> plt.plot(x1, y, 'o')\n",
            "    [<matplotlib.lines.Line2D object at 0x...>]\n",
            "    >>> plt.plot(x2, y + 0.5, 'o')\n",
            "    [<matplotlib.lines.Line2D object at 0x...>]\n",
            "    >>> plt.ylim([-0.5, 1])\n",
            "    (-0.5, 1)\n",
            "    >>> plt.show()\n",
            "\n"
          ],
          "name": "stdout"
        }
      ]
    },
    {
      "cell_type": "markdown",
      "metadata": {
        "id": "BEi0rt9i7__c"
      },
      "source": [
        "Y también tenemos documentación: https://numpy.org/doc/stable/reference/generated/numpy.linspace.html"
      ]
    },
    {
      "cell_type": "markdown",
      "metadata": {
        "id": "QKotqFtJ9csj"
      },
      "source": [
        "### Zeros y Ones\n",
        "\n",
        "Numpy también nos permite crear un array de tantos 0s o 1s como querramos"
      ]
    },
    {
      "cell_type": "code",
      "metadata": {
        "colab": {
          "base_uri": "https://localhost:8080/"
        },
        "id": "g7NuVwf09i0m",
        "outputId": "73a05252-3f1e-44cf-b1fe-693c927ead18"
      },
      "source": [
        "np.ones(10)"
      ],
      "execution_count": null,
      "outputs": [
        {
          "output_type": "execute_result",
          "data": {
            "text/plain": [
              "array([1., 1., 1., 1., 1., 1., 1., 1., 1., 1.])"
            ]
          },
          "metadata": {
            "tags": []
          },
          "execution_count": 27
        }
      ]
    },
    {
      "cell_type": "code",
      "metadata": {
        "colab": {
          "base_uri": "https://localhost:8080/"
        },
        "id": "p0buVgVy9knG",
        "outputId": "fba67303-48ba-47b7-e246-7f454305fd17"
      },
      "source": [
        "np.zeros(10)"
      ],
      "execution_count": null,
      "outputs": [
        {
          "output_type": "execute_result",
          "data": {
            "text/plain": [
              "array([0., 0., 0., 0., 0., 0., 0., 0., 0., 0.])"
            ]
          },
          "metadata": {
            "tags": []
          },
          "execution_count": 28
        }
      ]
    },
    {
      "cell_type": "markdown",
      "metadata": {
        "id": "smwpJlME94tO"
      },
      "source": [
        "O podemos usar la función full() y crear un array con la shape que querramos y el valor que querramos:"
      ]
    },
    {
      "cell_type": "code",
      "metadata": {
        "colab": {
          "base_uri": "https://localhost:8080/"
        },
        "id": "7G4TDPLO9oJK",
        "outputId": "79e7de0a-1d66-41aa-f40a-f4a5b5d879e3"
      },
      "source": [
        "np.full(shape=(10,10), fill_value=3)"
      ],
      "execution_count": null,
      "outputs": [
        {
          "output_type": "execute_result",
          "data": {
            "text/plain": [
              "array([[3, 3, 3, 3, 3, 3, 3, 3, 3, 3],\n",
              "       [3, 3, 3, 3, 3, 3, 3, 3, 3, 3],\n",
              "       [3, 3, 3, 3, 3, 3, 3, 3, 3, 3],\n",
              "       [3, 3, 3, 3, 3, 3, 3, 3, 3, 3],\n",
              "       [3, 3, 3, 3, 3, 3, 3, 3, 3, 3],\n",
              "       [3, 3, 3, 3, 3, 3, 3, 3, 3, 3],\n",
              "       [3, 3, 3, 3, 3, 3, 3, 3, 3, 3],\n",
              "       [3, 3, 3, 3, 3, 3, 3, 3, 3, 3],\n",
              "       [3, 3, 3, 3, 3, 3, 3, 3, 3, 3],\n",
              "       [3, 3, 3, 3, 3, 3, 3, 3, 3, 3]])"
            ]
          },
          "metadata": {
            "tags": []
          },
          "execution_count": 29
        }
      ]
    },
    {
      "cell_type": "markdown",
      "metadata": {
        "id": "ddn-Mh2m5txI"
      },
      "source": [
        "### Acceder a elementos del array\n",
        "\n",
        "Al igual que una lista, para acceder a los elementos de un array de numpy podemos utilizar el indice de los elementos que querramos o un rango [start:stop:step]"
      ]
    },
    {
      "cell_type": "code",
      "metadata": {
        "colab": {
          "base_uri": "https://localhost:8080/"
        },
        "id": "CBv-w0nb571N",
        "outputId": "5c5c78e3-81c3-467c-f79a-d9bc8fe21ab0"
      },
      "source": [
        "numpy_array[1]"
      ],
      "execution_count": null,
      "outputs": [
        {
          "output_type": "execute_result",
          "data": {
            "text/plain": [
              "2"
            ]
          },
          "metadata": {
            "tags": []
          },
          "execution_count": 30
        }
      ]
    },
    {
      "cell_type": "code",
      "metadata": {
        "colab": {
          "base_uri": "https://localhost:8080/"
        },
        "id": "BFEg7RZq5_SN",
        "outputId": "1df80800-54d6-4b42-9daa-e0e1e4d9e83d"
      },
      "source": [
        "numpy_array[0:3]"
      ],
      "execution_count": null,
      "outputs": [
        {
          "output_type": "execute_result",
          "data": {
            "text/plain": [
              "array([1, 2, 3])"
            ]
          },
          "metadata": {
            "tags": []
          },
          "execution_count": 31
        }
      ]
    },
    {
      "cell_type": "markdown",
      "metadata": {
        "id": "Q7_TneBT49AQ"
      },
      "source": [
        "### Mask\n",
        "\n",
        "Muchas veces vamos a tener arrays enormes con datos y queremos filtrarlos. Por ejemplo, de un array queremos obtener todos los números que sean menores a 10.\n",
        "\n",
        "Para hacer esto en una lista de python, deberíamos iterar sobre toda la lista. Podemos evitarlo usando masks en numpy.\n",
        "\n",
        "Las masks (o filtros booleanos) se definen como una condición, por ejemplo para el caso en el que queremos saber si un elemento es < 10:\n",
        "\n",
        "`lista < 10`\n",
        "\n",
        "Esto nos va a retornar otra lista (con el mismo shape que la lista a la que le aplicamos la mask) pero que va a contener los valores `True` y `False`.\n",
        "\n",
        "True en los casos que se cumple la condición, False de lo contrario.\n"
      ]
    },
    {
      "cell_type": "code",
      "metadata": {
        "colab": {
          "base_uri": "https://localhost:8080/"
        },
        "id": "Og1VGsHL40uL",
        "outputId": "1804e15d-437e-4b17-fb92-9bdd13635e1d"
      },
      "source": [
        "lista_a_filtrar = np.arange(100).reshape(10, 10) # Creamos una lista de 100 elementos con shape (10, 10), es decir, 10 filas y 10 columnas\n",
        "lista_a_filtrar"
      ],
      "execution_count": null,
      "outputs": [
        {
          "output_type": "execute_result",
          "data": {
            "text/plain": [
              "array([[ 0,  1,  2,  3,  4,  5,  6,  7,  8,  9],\n",
              "       [10, 11, 12, 13, 14, 15, 16, 17, 18, 19],\n",
              "       [20, 21, 22, 23, 24, 25, 26, 27, 28, 29],\n",
              "       [30, 31, 32, 33, 34, 35, 36, 37, 38, 39],\n",
              "       [40, 41, 42, 43, 44, 45, 46, 47, 48, 49],\n",
              "       [50, 51, 52, 53, 54, 55, 56, 57, 58, 59],\n",
              "       [60, 61, 62, 63, 64, 65, 66, 67, 68, 69],\n",
              "       [70, 71, 72, 73, 74, 75, 76, 77, 78, 79],\n",
              "       [80, 81, 82, 83, 84, 85, 86, 87, 88, 89],\n",
              "       [90, 91, 92, 93, 94, 95, 96, 97, 98, 99]])"
            ]
          },
          "metadata": {
            "tags": []
          },
          "execution_count": 32
        }
      ]
    },
    {
      "cell_type": "code",
      "metadata": {
        "colab": {
          "base_uri": "https://localhost:8080/"
        },
        "id": "vD-BGQhk5N9o",
        "outputId": "bfdfe300-8c45-49cb-bc2f-b9eb1513a6a2"
      },
      "source": [
        "# Definimos la Mask\n",
        "\n",
        "mask = lista_a_filtrar < 10\n",
        "mask"
      ],
      "execution_count": null,
      "outputs": [
        {
          "output_type": "execute_result",
          "data": {
            "text/plain": [
              "array([[ True,  True,  True,  True,  True,  True,  True,  True,  True,\n",
              "         True],\n",
              "       [False, False, False, False, False, False, False, False, False,\n",
              "        False],\n",
              "       [False, False, False, False, False, False, False, False, False,\n",
              "        False],\n",
              "       [False, False, False, False, False, False, False, False, False,\n",
              "        False],\n",
              "       [False, False, False, False, False, False, False, False, False,\n",
              "        False],\n",
              "       [False, False, False, False, False, False, False, False, False,\n",
              "        False],\n",
              "       [False, False, False, False, False, False, False, False, False,\n",
              "        False],\n",
              "       [False, False, False, False, False, False, False, False, False,\n",
              "        False],\n",
              "       [False, False, False, False, False, False, False, False, False,\n",
              "        False],\n",
              "       [False, False, False, False, False, False, False, False, False,\n",
              "        False]])"
            ]
          },
          "metadata": {
            "tags": []
          },
          "execution_count": 33
        }
      ]
    },
    {
      "cell_type": "markdown",
      "metadata": {
        "id": "0GumFE1_7aLz"
      },
      "source": [
        "Ahora, la Mask nos retorna otra lista con valores booleanos, pero si queremos usar esto para filtrar (aplicar la mascara), como hacemos?\n",
        "\n",
        "Es simple, se define de la siguiente manera:"
      ]
    },
    {
      "cell_type": "code",
      "metadata": {
        "colab": {
          "base_uri": "https://localhost:8080/"
        },
        "id": "p20enwRn7WAu",
        "outputId": "3e039d83-81be-4662-867f-40190d7461e3"
      },
      "source": [
        "lista_filtrada = lista_a_filtrar[mask]\n",
        "lista_filtrada"
      ],
      "execution_count": null,
      "outputs": [
        {
          "output_type": "execute_result",
          "data": {
            "text/plain": [
              "array([0, 1, 2, 3, 4, 5, 6, 7, 8, 9])"
            ]
          },
          "metadata": {
            "tags": []
          },
          "execution_count": 34
        }
      ]
    },
    {
      "cell_type": "markdown",
      "metadata": {
        "id": "6LLeb5AZ-t9_"
      },
      "source": [
        "Las máscaras no sirven solo para filtrar, también podemos asignar un valor a los elementos que cumplan la condición. Veamos un ejemplo: Reemplacemos todos los elementos que sean menores a 10 por el numero 10:"
      ]
    },
    {
      "cell_type": "code",
      "metadata": {
        "colab": {
          "base_uri": "https://localhost:8080/"
        },
        "id": "PerRcMPW-4pY",
        "outputId": "cbcdbdf8-626c-4f52-c99b-efe100bea3df"
      },
      "source": [
        "lista_elementos = np.arange(20)\n",
        "mask = lista_elementos < 10\n",
        "lista_elementos[mask] = 10 # Asignamos el valor \"menor\" a todos los items que cumplen la condicion\n",
        "lista_elementos"
      ],
      "execution_count": null,
      "outputs": [
        {
          "output_type": "execute_result",
          "data": {
            "text/plain": [
              "array([10, 10, 10, 10, 10, 10, 10, 10, 10, 10, 10, 11, 12, 13, 14, 15, 16,\n",
              "       17, 18, 19])"
            ]
          },
          "metadata": {
            "tags": []
          },
          "execution_count": 35
        }
      ]
    },
    {
      "cell_type": "markdown",
      "metadata": {
        "id": "c9VRDoEI8Lwp"
      },
      "source": [
        "### Otras funciones\n",
        "\n",
        "No podemos ver todas las funciones que nos brinda numpy en una clase, pero vamos a ver algunas de las más comunes ya que el resto tiene una sintaxis similar.\n",
        "\n",
        "Si queremos sumar todos los elementos de un array:"
      ]
    },
    {
      "cell_type": "code",
      "metadata": {
        "colab": {
          "base_uri": "https://localhost:8080/"
        },
        "id": "N3964JSe7mA3",
        "outputId": "4b4c1f5b-de1c-492f-ef26-c876139e087c"
      },
      "source": [
        "lista_a_filtrar.sum()"
      ],
      "execution_count": null,
      "outputs": [
        {
          "output_type": "execute_result",
          "data": {
            "text/plain": [
              "4950"
            ]
          },
          "metadata": {
            "tags": []
          },
          "execution_count": 36
        }
      ]
    },
    {
      "cell_type": "markdown",
      "metadata": {
        "id": "hy-Ip1Bc8uVL"
      },
      "source": [
        "En numpy, las funciones se pueden aplicar por \"axis\" (eje). Por ejemplo, podemos aplicar la función sum() sobre cada columna:"
      ]
    },
    {
      "cell_type": "code",
      "metadata": {
        "colab": {
          "base_uri": "https://localhost:8080/"
        },
        "id": "ZERi_mTW8nm5",
        "outputId": "d2fefb8e-7a47-447d-eca6-994f722e5401"
      },
      "source": [
        "# Por columnas\n",
        "\n",
        "lista_a_filtrar.sum(axis=0)"
      ],
      "execution_count": null,
      "outputs": [
        {
          "output_type": "execute_result",
          "data": {
            "text/plain": [
              "array([450, 460, 470, 480, 490, 500, 510, 520, 530, 540])"
            ]
          },
          "metadata": {
            "tags": []
          },
          "execution_count": 37
        }
      ]
    },
    {
      "cell_type": "markdown",
      "metadata": {
        "id": "vhTkdG238_W1"
      },
      "source": [
        "O sobre cada fila:\n"
      ]
    },
    {
      "cell_type": "code",
      "metadata": {
        "colab": {
          "base_uri": "https://localhost:8080/"
        },
        "id": "2oJxxrf683pv",
        "outputId": "37f32655-f5d7-49d4-c52b-f9528d0ead58"
      },
      "source": [
        "# Por filas\n",
        "\n",
        "lista_a_filtrar.sum(axis=1)"
      ],
      "execution_count": null,
      "outputs": [
        {
          "output_type": "execute_result",
          "data": {
            "text/plain": [
              "array([ 45, 145, 245, 345, 445, 545, 645, 745, 845, 945])"
            ]
          },
          "metadata": {
            "tags": []
          },
          "execution_count": 38
        }
      ]
    },
    {
      "cell_type": "markdown",
      "metadata": {
        "id": "0vv0JfLB-EvT"
      },
      "source": [
        "# A practicar!\n",
        "\n",
        "Ahora que vimos algunas funcionalidades de numpy, vamos a resolver algunos problemas. Acuerdense de modificar, romper y arreglar todo lo que quieran!\n",
        "\n",
        "Probablemente necesiten buscar algo en la documentación o utilizar el comando help().\n"
      ]
    },
    {
      "cell_type": "markdown",
      "metadata": {
        "id": "vFekgvhv-WSm"
      },
      "source": [
        "#### Ejercicio\n",
        "\n",
        "Crear un array de 3x3 en el que todos sus valores sean `True` de la forma más simple posible"
      ]
    },
    {
      "cell_type": "code",
      "metadata": {
        "id": "ACsIuPap-Vh_"
      },
      "source": [
        "trues_array = #COMPLETAR\n",
        "trues_array"
      ],
      "execution_count": null,
      "outputs": []
    },
    {
      "cell_type": "markdown",
      "metadata": {
        "id": "gnTtsPxO-mjo"
      },
      "source": [
        "#### Ejercicio\n",
        "\n",
        "Reemplazar todos los números impares del siguiente array por el valor -1"
      ]
    },
    {
      "cell_type": "code",
      "metadata": {
        "id": "oxF5oGEc_cc8"
      },
      "source": [
        "arr = np.array([0, 1, 2, 3, 4, 5, 6, 7, 8, 9])\n",
        "mask = # COMPLETAR\n",
        "#COMPLETAR"
      ],
      "execution_count": null,
      "outputs": []
    },
    {
      "cell_type": "markdown",
      "metadata": {
        "id": "AyRMewpV_h_r"
      },
      "source": [
        "#### Ejercicio\n",
        "\n",
        "Investigar las funciones vstack y hstack de numpy.\n",
        "\n",
        "1) Concatenar los arrays a y b horizontalmente\n",
        "\n",
        "2) Concatenar los arrays a y b verticalmente\n",
        "\n",
        "Resultado esperado:\n",
        "\n",
        "1)\n",
        "```\n",
        "array([[0, 1, 2, 3, 4],\n",
        "       [5, 6, 7, 8, 9],\n",
        "       [1, 1, 1, 1, 1],\n",
        "       [1, 1, 1, 1, 1]])\n",
        "```\n",
        "\n",
        "2)\n",
        "```\n",
        "array([[0, 1, 2, 3, 4, 1, 1, 1, 1, 1],\n",
        "      [5, 6, 7, 8, 9, 1, 1, 1, 1, 1]])\n",
        "```\n",
        "\n"
      ]
    },
    {
      "cell_type": "code",
      "metadata": {
        "id": "Q5___yx5_jGg"
      },
      "source": [
        "a = np.arange(10).reshape(2,5)\n",
        "b = np.repeat(1, 10).reshape(2,5) "
      ],
      "execution_count": null,
      "outputs": []
    },
    {
      "cell_type": "code",
      "metadata": {
        "colab": {
          "base_uri": "https://localhost:8080/"
        },
        "id": "gNIDS0w49_18",
        "outputId": "16dffe4b-1fd8-4ccb-c7e2-7a7ec2e941b0"
      },
      "source": [
        "print(a)"
      ],
      "execution_count": null,
      "outputs": [
        {
          "output_type": "stream",
          "text": [
            "[[0 1 2 3 4]\n",
            " [5 6 7 8 9]]\n"
          ],
          "name": "stdout"
        }
      ]
    },
    {
      "cell_type": "code",
      "metadata": {
        "colab": {
          "base_uri": "https://localhost:8080/"
        },
        "id": "_QwyF0y7-Ah0",
        "outputId": "e087945d-7ec1-4caa-e502-84d1ed9072ec"
      },
      "source": [
        "print(b)"
      ],
      "execution_count": null,
      "outputs": [
        {
          "output_type": "stream",
          "text": [
            "[[1 1 1 1 1]\n",
            " [1 1 1 1 1]]\n"
          ],
          "name": "stdout"
        }
      ]
    },
    {
      "cell_type": "markdown",
      "metadata": {
        "id": "98fsHZfa_yQe"
      },
      "source": [
        "##### Ejercicio\n",
        "\n",
        "Como podemos obtener la intersección entre dos arrays? \n",
        "\n",
        "Investigar la función `intersect1d` y utilizarla para los siguientes arrays:"
      ]
    },
    {
      "cell_type": "code",
      "metadata": {
        "id": "HHE9ohwW_ZvB"
      },
      "source": [
        "a = np.array([1,2,3,2,3,4,3,4,5,6])\n",
        "b = np.array([7,2,10,2,7,4,9,4,9,8])"
      ],
      "execution_count": null,
      "outputs": []
    },
    {
      "cell_type": "code",
      "metadata": {
        "id": "mRgUebvjAMY7"
      },
      "source": [
        "# COMPLETAR"
      ],
      "execution_count": null,
      "outputs": []
    },
    {
      "cell_type": "code",
      "metadata": {
        "id": "IMcNKMIUAIw7"
      },
      "source": [
        "# Salida esperada: array([2, 4])"
      ],
      "execution_count": null,
      "outputs": []
    }
  ]
}