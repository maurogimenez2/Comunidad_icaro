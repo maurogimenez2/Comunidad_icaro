{
  "nbformat": 4,
  "nbformat_minor": 0,
  "metadata": {
    "colab": {
      "name": "Clase 3 - (continuación clase 2).ipynb",
      "provenance": [],
      "collapsed_sections": []
    },
    "kernelspec": {
      "name": "python3",
      "display_name": "Python 3"
    },
    "language_info": {
      "name": "python"
    }
  },
  "cells": [
    {
      "cell_type": "markdown",
      "metadata": {
        "id": "uH569KiYLQhO"
      },
      "source": [
        "# ¡Empecemos a programar!\n",
        "\n",
        "Recomendación: Además de ejecutar el notebook, modifiquen, prueben, rompan... ¡Nada es irreversible!\n",
        "\n",
        "# Celdas de código\n",
        "\n",
        "En las celdas de código, se puede ejecutar código python\n",
        "\n",
        "\n",
        "\n",
        "\n"
      ]
    },
    {
      "cell_type": "code",
      "metadata": {
        "id": "kIQzBCq2VwHS"
      },
      "source": [
        "# Comentarios\n",
        "# En python, todas las lineas que empiecen con # son comentarios.\n",
        "# Los comentarios no ejecutan ninguna instrucción, simplemente sirven para dejar anotaciones en nuestro código"
      ],
      "execution_count": null,
      "outputs": []
    },
    {
      "cell_type": "code",
      "metadata": {
        "colab": {
          "base_uri": "https://localhost:8080/"
        },
        "id": "P2ASpNiOLS97",
        "outputId": "376e253d-b262-4d7d-e329-0fdc99cdb719"
      },
      "source": [
        "print(\"Hola mundo!\")"
      ],
      "execution_count": null,
      "outputs": [
        {
          "output_type": "stream",
          "text": [
            "Hola mundo!\n"
          ],
          "name": "stdout"
        }
      ]
    },
    {
      "cell_type": "markdown",
      "metadata": {
        "id": "2lNHHV3kW8pH"
      },
      "source": [
        "## Variables y tipos de datos\n",
        "\n",
        "Una variable es donde se almacenan y recuperan los datos que utilizamos en nuestros programas.\n",
        "\n",
        "Las variables deben ser de un **tipo de datos**. En python tenemos tipos de datos primitivos como:\n",
        "- str: string (variables que almacenan caracteres)\n",
        "- int: intiger (variables que almacenan números enteros)\n",
        "- float (variables que almacenan números con decimales)\n",
        "- bool: booleanos (variables que pueden tomar como valor TRUE o FALSE)\n",
        "\n",
        "Veamos algunos ejemplos!\n",
        "\n",
        "Definimos una variable de cada tipo:\n"
      ]
    },
    {
      "cell_type": "code",
      "metadata": {
        "id": "3kKXKor6W8Uf"
      },
      "source": [
        "# STRING\n",
        "variable_string = 'Esto es un string'\n",
        "\n",
        "# INT\n",
        "variable_int = 1\n",
        "\n",
        "# FLOAT\n",
        "variable_float = 1.1\n",
        "\n",
        "# BOOL\n",
        "variable_bool = True"
      ],
      "execution_count": null,
      "outputs": []
    },
    {
      "cell_type": "markdown",
      "metadata": {
        "id": "vJWpPyTVZMJ6"
      },
      "source": [
        "En python, podemos usar la función type() para saber el tipo de una variable\n"
      ]
    },
    {
      "cell_type": "code",
      "metadata": {
        "colab": {
          "base_uri": "https://localhost:8080/"
        },
        "id": "yUn_izybZLQD",
        "outputId": "90a8a86d-ae5c-4413-d851-94f55ea3b786"
      },
      "source": [
        "type(variable_string)"
      ],
      "execution_count": null,
      "outputs": [
        {
          "output_type": "execute_result",
          "data": {
            "text/plain": [
              "str"
            ]
          },
          "metadata": {
            "tags": []
          },
          "execution_count": 7
        }
      ]
    },
    {
      "cell_type": "code",
      "metadata": {
        "colab": {
          "base_uri": "https://localhost:8080/"
        },
        "id": "VKm78kyXZLoA",
        "outputId": "991103b7-72f0-40df-9852-df9294c80adb"
      },
      "source": [
        "type(variable_int)"
      ],
      "execution_count": null,
      "outputs": [
        {
          "output_type": "execute_result",
          "data": {
            "text/plain": [
              "int"
            ]
          },
          "metadata": {
            "tags": []
          },
          "execution_count": 8
        }
      ]
    },
    {
      "cell_type": "code",
      "metadata": {
        "colab": {
          "base_uri": "https://localhost:8080/"
        },
        "id": "nLxwkXyVZCqZ",
        "outputId": "a95ceb1f-f55a-4ad6-af66-8486b7ea4377"
      },
      "source": [
        "type(variable_float)\n"
      ],
      "execution_count": null,
      "outputs": [
        {
          "output_type": "execute_result",
          "data": {
            "text/plain": [
              "float"
            ]
          },
          "metadata": {
            "tags": []
          },
          "execution_count": 9
        }
      ]
    },
    {
      "cell_type": "code",
      "metadata": {
        "colab": {
          "base_uri": "https://localhost:8080/"
        },
        "id": "YPMKggRofjb8",
        "outputId": "3177c9c8-f592-4c7f-f165-c0f2b7ad8b2c"
      },
      "source": [
        "type(variable_bool)"
      ],
      "execution_count": null,
      "outputs": [
        {
          "output_type": "execute_result",
          "data": {
            "text/plain": [
              "bool"
            ]
          },
          "metadata": {
            "tags": []
          },
          "execution_count": 28
        }
      ]
    },
    {
      "cell_type": "markdown",
      "metadata": {
        "id": "HwvryzUOZxCt"
      },
      "source": [
        "De que tipo es esta variable?"
      ]
    },
    {
      "cell_type": "code",
      "metadata": {
        "id": "Xpjs1cdvZuZt"
      },
      "source": [
        "mi_variable = '1.3'"
      ],
      "execution_count": null,
      "outputs": []
    },
    {
      "cell_type": "code",
      "metadata": {
        "id": "qjh0-z_yZ1gL"
      },
      "source": [
        "# COMPLETAR (imprimir el tipo de la variable mi_variable y ejecutar la celda)"
      ],
      "execution_count": null,
      "outputs": []
    },
    {
      "cell_type": "markdown",
      "metadata": {
        "id": "p_LARicXaPnc"
      },
      "source": [
        "Las variables, como su nombre lo indica, pueden variar su valor a lo largo de la ejecución del programa. Veamos ejemplos.."
      ]
    },
    {
      "cell_type": "code",
      "metadata": {
        "colab": {
          "base_uri": "https://localhost:8080/"
        },
        "id": "7JFUuxj-aX81",
        "outputId": "980defaa-e1d3-446e-f295-f2a24a1e035a"
      },
      "source": [
        "a = 1\n",
        "print(f\"Valor de a: {a}\") # Cuando ponemos f adelante de un string, podemos imprimir el valor de una variable que pongamos entre {}\n",
        "a = 2\n",
        "print(f\"Nuevo valor de a: {a}\")\n",
        "a = a + 1\n",
        "print(f\"Le sumamos 1 a la variable y el resultado es: {a}\")"
      ],
      "execution_count": null,
      "outputs": [
        {
          "output_type": "stream",
          "text": [
            "Valor de a: 1\n",
            "Nuevo valor de a: 2\n",
            "Le sumamos 1 a la variable y el resultado es: 3\n"
          ],
          "name": "stdout"
        }
      ]
    },
    {
      "cell_type": "markdown",
      "metadata": {
        "id": "YFcWMAw6gGnj"
      },
      "source": [
        "### None\n",
        "\n",
        "En python, el valor None representa una variable vacia"
      ]
    },
    {
      "cell_type": "code",
      "metadata": {
        "colab": {
          "base_uri": "https://localhost:8080/"
        },
        "id": "NhtGGQGzgNL6",
        "outputId": "9c39d891-f219-4783-ea93-becc7e1b1490"
      },
      "source": [
        "vacia = None\n",
        "print(vacia)"
      ],
      "execution_count": null,
      "outputs": [
        {
          "output_type": "stream",
          "text": [
            "None\n"
          ],
          "name": "stdout"
        }
      ]
    },
    {
      "cell_type": "markdown",
      "metadata": {
        "id": "e9pArHTTsXWV"
      },
      "source": [
        "### Cambiar tipo de variable\n",
        "\n",
        "Los tipos de variables se pueden cambiar.\n",
        "\n",
        "Por ejemplo:"
      ]
    },
    {
      "cell_type": "code",
      "metadata": {
        "colab": {
          "base_uri": "https://localhost:8080/"
        },
        "id": "CvNVWzL3slwl",
        "outputId": "0e33fcf5-7e51-4a3a-eef7-eee933551003"
      },
      "source": [
        "numero = 5\n",
        "print(type(numero))"
      ],
      "execution_count": null,
      "outputs": [
        {
          "output_type": "stream",
          "text": [
            "<class 'int'>\n"
          ],
          "name": "stdout"
        }
      ]
    },
    {
      "cell_type": "markdown",
      "metadata": {
        "id": "DUbKQY69so9R"
      },
      "source": [
        "Transformemos la variable numero a str:"
      ]
    },
    {
      "cell_type": "code",
      "metadata": {
        "colab": {
          "base_uri": "https://localhost:8080/"
        },
        "id": "cCWbQXE4sl1j",
        "outputId": "ab2982d2-5435-41cd-bb9a-3789de14d37a"
      },
      "source": [
        "numero = str(numero)\n",
        "print(type(numero))"
      ],
      "execution_count": null,
      "outputs": [
        {
          "output_type": "stream",
          "text": [
            "<class 'str'>\n"
          ],
          "name": "stdout"
        }
      ]
    },
    {
      "cell_type": "markdown",
      "metadata": {
        "id": "xd46fOT6s0db"
      },
      "source": [
        "De todas formas, no se puede en todos los casos. Por ejemplo, no podemos transformar en int un str que tiene como valor una palabra:"
      ]
    },
    {
      "cell_type": "code",
      "metadata": {
        "colab": {
          "base_uri": "https://localhost:8080/",
          "height": 181
        },
        "id": "2HMA2QtFtDCz",
        "outputId": "a898a3e7-6930-4ca1-b0be-7168c1361665"
      },
      "source": [
        "palabra = 'prueba'\n",
        "int(palabra)"
      ],
      "execution_count": null,
      "outputs": [
        {
          "output_type": "error",
          "ename": "ValueError",
          "evalue": "ignored",
          "traceback": [
            "\u001b[0;31m---------------------------------------------------------------------------\u001b[0m",
            "\u001b[0;31mValueError\u001b[0m                                Traceback (most recent call last)",
            "\u001b[0;32m<ipython-input-93-13fdf4df9e32>\u001b[0m in \u001b[0;36m<module>\u001b[0;34m()\u001b[0m\n\u001b[1;32m      1\u001b[0m \u001b[0mpalabra\u001b[0m \u001b[0;34m=\u001b[0m \u001b[0;34m'prueba'\u001b[0m\u001b[0;34m\u001b[0m\u001b[0;34m\u001b[0m\u001b[0m\n\u001b[0;32m----> 2\u001b[0;31m \u001b[0mint\u001b[0m\u001b[0;34m(\u001b[0m\u001b[0mpalabra\u001b[0m\u001b[0;34m)\u001b[0m\u001b[0;34m\u001b[0m\u001b[0;34m\u001b[0m\u001b[0m\n\u001b[0m",
            "\u001b[0;31mValueError\u001b[0m: invalid literal for int() with base 10: 'prueba'"
          ]
        }
      ]
    },
    {
      "cell_type": "markdown",
      "metadata": {
        "id": "q4mS2mYqZffD"
      },
      "source": [
        "## Operaciones\n",
        "\n",
        "En python, como en todos los lenguajes de programación, podemos realizar operaciones matemáticas. Desde sumas y restas hasta operaciones más complejas.\n",
        "\n"
      ]
    },
    {
      "cell_type": "code",
      "metadata": {
        "colab": {
          "base_uri": "https://localhost:8080/"
        },
        "id": "3sMSByYdZs6_",
        "outputId": "f47b7e1d-1603-444b-aa3c-2237bde6ecac"
      },
      "source": [
        "# SUMA\n",
        "print(1 + 1)"
      ],
      "execution_count": null,
      "outputs": [
        {
          "output_type": "stream",
          "text": [
            "2\n"
          ],
          "name": "stdout"
        }
      ]
    },
    {
      "cell_type": "code",
      "metadata": {
        "colab": {
          "base_uri": "https://localhost:8080/"
        },
        "id": "vbRBL-2Wb6QY",
        "outputId": "69c99a3c-ed31-414a-d880-7b219c1b35e2"
      },
      "source": [
        "# RESTA\n",
        "print(3 - 1)"
      ],
      "execution_count": null,
      "outputs": [
        {
          "output_type": "stream",
          "text": [
            "2\n"
          ],
          "name": "stdout"
        }
      ]
    },
    {
      "cell_type": "code",
      "metadata": {
        "colab": {
          "base_uri": "https://localhost:8080/"
        },
        "id": "FY25NSyab6UD",
        "outputId": "594e0def-ed51-4f46-f38e-617a7c644f52"
      },
      "source": [
        "# MULTIPLICACIÓN\n",
        "print(3*3)"
      ],
      "execution_count": null,
      "outputs": [
        {
          "output_type": "stream",
          "text": [
            "9\n"
          ],
          "name": "stdout"
        }
      ]
    },
    {
      "cell_type": "code",
      "metadata": {
        "colab": {
          "base_uri": "https://localhost:8080/"
        },
        "id": "y-xnJnkHb6a2",
        "outputId": "da771741-0e08-443e-ad4b-d43de4d93d59"
      },
      "source": [
        "# DIVISIÓN\n",
        "print(10 / 2)"
      ],
      "execution_count": null,
      "outputs": [
        {
          "output_type": "stream",
          "text": [
            "5.0\n"
          ],
          "name": "stdout"
        }
      ]
    },
    {
      "cell_type": "code",
      "metadata": {
        "colab": {
          "base_uri": "https://localhost:8080/"
        },
        "id": "3IExz556cECy",
        "outputId": "a3b3837a-b9a6-4db6-da93-a4435722e112"
      },
      "source": [
        "# RESTO DE UNA DIVISIÓN\n",
        "print(10 % 3)"
      ],
      "execution_count": null,
      "outputs": [
        {
          "output_type": "stream",
          "text": [
            "1\n"
          ],
          "name": "stdout"
        }
      ]
    },
    {
      "cell_type": "code",
      "metadata": {
        "colab": {
          "base_uri": "https://localhost:8080/"
        },
        "id": "B1TMrU5gnL-L",
        "outputId": "955066db-1062-4fcd-8705-f80eb6259d7b"
      },
      "source": [
        "# ELEVAR UN NÚMERO AL CUADRADO\n",
        "print(10 ** 2)"
      ],
      "execution_count": null,
      "outputs": [
        {
          "output_type": "stream",
          "text": [
            "100\n"
          ],
          "name": "stdout"
        }
      ]
    },
    {
      "cell_type": "markdown",
      "metadata": {
        "id": "bOro95tEaKrH"
      },
      "source": [
        "Tambien podemos realizar operaciones entre variables, o asignar el resultado de una operacion a una variable"
      ]
    },
    {
      "cell_type": "code",
      "metadata": {
        "colab": {
          "base_uri": "https://localhost:8080/"
        },
        "id": "hU1-BrwacLTc",
        "outputId": "98b151cd-ac4d-4bbd-d261-7ed5ec6fb636"
      },
      "source": [
        "a = 1\n",
        "b = 2\n",
        "c = a + b\n",
        "print(c)"
      ],
      "execution_count": null,
      "outputs": [
        {
          "output_type": "stream",
          "text": [
            "3\n"
          ],
          "name": "stdout"
        }
      ]
    },
    {
      "cell_type": "markdown",
      "metadata": {
        "id": "FhgHfsUzkWD_"
      },
      "source": [
        "Los string, también nos permiten aplicar operaciones.\n",
        "\n",
        "Si sumamos 2 strings, estos 2 se unen:"
      ]
    },
    {
      "cell_type": "code",
      "metadata": {
        "colab": {
          "base_uri": "https://localhost:8080/"
        },
        "id": "l1SlmbrjkVTp",
        "outputId": "f7b1253f-eb44-4fbf-bde7-472f3ae1b394"
      },
      "source": [
        "suma_strings = \"Primer string \" + \"segundo string\"\n",
        "print(suma_strings)"
      ],
      "execution_count": null,
      "outputs": [
        {
          "output_type": "stream",
          "text": [
            "Primer string segundo string\n"
          ],
          "name": "stdout"
        }
      ]
    },
    {
      "cell_type": "markdown",
      "metadata": {
        "id": "I5LDPCH7klzm"
      },
      "source": [
        "Si multiplicamos un string por un entero n, el string se nplica:"
      ]
    },
    {
      "cell_type": "code",
      "metadata": {
        "colab": {
          "base_uri": "https://localhost:8080/"
        },
        "id": "YYt17Q09kk6e",
        "outputId": "5ab1cdf3-52eb-4bb6-e6d4-453f48b88346"
      },
      "source": [
        "entero = 5\n",
        "string = 'A'\n",
        "print(entero * string)"
      ],
      "execution_count": null,
      "outputs": [
        {
          "output_type": "stream",
          "text": [
            "AAAAA\n"
          ],
          "name": "stdout"
        }
      ]
    },
    {
      "cell_type": "markdown",
      "metadata": {
        "id": "pOjzU4c5k5VD"
      },
      "source": [
        "PREGUNTA: ¿Que tipo de dato se genera si multiplicamos un STRING y un ENTERO?"
      ]
    },
    {
      "cell_type": "code",
      "metadata": {
        "id": "Roakg7-Jk4tK"
      },
      "source": [
        "# COMPLETAR"
      ],
      "execution_count": null,
      "outputs": []
    },
    {
      "cell_type": "markdown",
      "metadata": {
        "id": "wRcChHVQCiXK"
      },
      "source": [
        "Funciones sobre strings:"
      ]
    },
    {
      "cell_type": "code",
      "metadata": {
        "id": "4jzVVTboCkXC"
      },
      "source": [
        "string_ejemplo = \"Hola como estás?\"\n"
      ],
      "execution_count": null,
      "outputs": []
    },
    {
      "cell_type": "markdown",
      "metadata": {
        "id": "k5ZCnnV4XxSz"
      },
      "source": [
        "Función IN"
      ]
    },
    {
      "cell_type": "code",
      "metadata": {
        "colab": {
          "base_uri": "https://localhost:8080/"
        },
        "id": "CNOcxltyCqaN",
        "outputId": "8e58b64a-e239-45e9-9b2f-4fa0e7e8dae1"
      },
      "source": [
        "\"Hola\" in string_ejemplo"
      ],
      "execution_count": null,
      "outputs": [
        {
          "output_type": "execute_result",
          "data": {
            "text/plain": [
              "True"
            ]
          },
          "metadata": {
            "tags": []
          },
          "execution_count": 5
        }
      ]
    },
    {
      "cell_type": "markdown",
      "metadata": {
        "id": "EDZqK-rxXzYI"
      },
      "source": [
        "Función replace"
      ]
    },
    {
      "cell_type": "code",
      "metadata": {
        "colab": {
          "base_uri": "https://localhost:8080/",
          "height": 35
        },
        "id": "qJVk8rSTC-WN",
        "outputId": "3cb550df-e602-4f3f-fabf-2d8464ffb05e"
      },
      "source": [
        "string_ejemplo.replace(\"como\", \"COMO\")"
      ],
      "execution_count": null,
      "outputs": [
        {
          "output_type": "execute_result",
          "data": {
            "application/vnd.google.colaboratory.intrinsic+json": {
              "type": "string"
            },
            "text/plain": [
              "'Hola COMO estás?'"
            ]
          },
          "metadata": {
            "tags": []
          },
          "execution_count": 6
        }
      ]
    },
    {
      "cell_type": "markdown",
      "metadata": {
        "id": "rEf4dce9X1Uu"
      },
      "source": [
        "**EJERCICIO** : Buscar las funciones de STRINGS en python:\n",
        "\n",
        "- capitalize()\n",
        "- count()\n",
        "- endswith()\n",
        "- upper() y lower()\n",
        "\n",
        "Y escribir un ejemplo de aplicación de cada una"
      ]
    },
    {
      "cell_type": "code",
      "metadata": {
        "id": "i659rATqY4Os"
      },
      "source": [
        "#capitalize()"
      ],
      "execution_count": null,
      "outputs": []
    },
    {
      "cell_type": "code",
      "metadata": {
        "id": "WUWBrHIMY4TI"
      },
      "source": [
        "#count()"
      ],
      "execution_count": null,
      "outputs": []
    },
    {
      "cell_type": "code",
      "metadata": {
        "id": "XMzQnYoAY4Yc"
      },
      "source": [
        "#endswith()"
      ],
      "execution_count": null,
      "outputs": []
    },
    {
      "cell_type": "code",
      "metadata": {
        "id": "7Rxh_2rPY4db"
      },
      "source": [
        "#upper()"
      ],
      "execution_count": null,
      "outputs": []
    },
    {
      "cell_type": "code",
      "metadata": {
        "id": "8w5xPy5CY4nA"
      },
      "source": [
        "#lower()"
      ],
      "execution_count": null,
      "outputs": []
    },
    {
      "cell_type": "markdown",
      "metadata": {
        "id": "KagUSC1qcYHC"
      },
      "source": [
        "F Strings: Nos permiten poner una variable dentro de un string. Se arman de la siguiente manera:"
      ]
    },
    {
      "cell_type": "code",
      "metadata": {
        "colab": {
          "base_uri": "https://localhost:8080/",
          "height": 35
        },
        "id": "WdGl1pbwcXox",
        "outputId": "88e4fd25-1586-4b50-f3df-19a645aca895"
      },
      "source": [
        "x = 10\n",
        "f\"Esto es un f string. El valor de la variable x es: {x}\""
      ],
      "execution_count": null,
      "outputs": [
        {
          "output_type": "execute_result",
          "data": {
            "application/vnd.google.colaboratory.intrinsic+json": {
              "type": "string"
            },
            "text/plain": [
              "'Esto es un f string. El valor de la variable x es: 10'"
            ]
          },
          "metadata": {
            "tags": []
          },
          "execution_count": 6
        }
      ]
    },
    {
      "cell_type": "markdown",
      "metadata": {
        "id": "KJ8LR_Ync8lL"
      },
      "source": [
        "## Mensajes de error\n",
        "\n",
        "A la hora de programar, vamos a ir obteniendo muchos mensajes de error. Es muy importante aprender a entender esos errores e identificar en que parte de nuestro código están. Muchas veces vamos a pasarnos tiempo buscando un error en google!"
      ]
    },
    {
      "cell_type": "code",
      "metadata": {
        "colab": {
          "base_uri": "https://localhost:8080/",
          "height": 164
        },
        "id": "xEZg_vSLdNn5",
        "outputId": "8b7f55ce-de5f-4ec6-a678-c54af96c3f84"
      },
      "source": [
        "a = error"
      ],
      "execution_count": null,
      "outputs": [
        {
          "output_type": "error",
          "ename": "NameError",
          "evalue": "ignored",
          "traceback": [
            "\u001b[0;31m---------------------------------------------------------------------------\u001b[0m",
            "\u001b[0;31mNameError\u001b[0m                                 Traceback (most recent call last)",
            "\u001b[0;32m<ipython-input-21-df89db8a0834>\u001b[0m in \u001b[0;36m<module>\u001b[0;34m()\u001b[0m\n\u001b[0;32m----> 1\u001b[0;31m \u001b[0ma\u001b[0m \u001b[0;34m=\u001b[0m \u001b[0merror\u001b[0m\u001b[0;34m\u001b[0m\u001b[0;34m\u001b[0m\u001b[0m\n\u001b[0m",
            "\u001b[0;31mNameError\u001b[0m: name 'error' is not defined"
          ]
        }
      ]
    },
    {
      "cell_type": "markdown",
      "metadata": {
        "id": "RDwf3IiVdU2E"
      },
      "source": [
        "Al no poner la palabra \"error\" entre comillas, python interpreta como que es una variable, y como nunca creamos una variable que se llame \"error\", falla."
      ]
    },
    {
      "cell_type": "markdown",
      "metadata": {
        "id": "A0LY18eydnmr"
      },
      "source": [
        "## Listas, tuplas y diccionarios\n",
        "\n",
        "3 tipos de datos más complejos que los que vimos antes, pero que vamos a utilizar mucho, son:\n",
        "- Listas: Una lista es una **estructura de datos** que contiene una colección o secuencia de datos. Los datos o elementos de una lista deben ir **separados con una coma** y todo el conjunto entre corchetes. Se dice que una lista es una estructura **mutable** porque además de permitir el acceso a los elementos, pueden suprimirse o agregarse nuevos.\n",
        "- Tuplas: Una tupla permite tener agrupados un conjunto **inmutable** de elementos, es decir, en una tupla no es posible agregar ni eliminar elementos. Las tuplas se declaran separando los elementos por comas y entre paréntesis.\n",
        "- Diccionarios: Los diccionarios son objetos que contienen una lista de parejas de elementos. De cada pareja un elemento es la clave, que no puede repetirse, y, el otro, un valor asociado.\n",
        "\n",
        "Los elementos de las tuplas, listas y diccionarios pueden ser de cualquier tipo de dato\n"
      ]
    },
    {
      "cell_type": "code",
      "metadata": {
        "id": "7mreej4-e7W1"
      },
      "source": [
        "tupla = (1, 2.2, 'string', 3,  4, 5.5)"
      ],
      "execution_count": null,
      "outputs": []
    },
    {
      "cell_type": "code",
      "metadata": {
        "id": "TGkXedMkgZgT"
      },
      "source": [
        "lista = [1, 'aaa', 3.3, 4, 5.5, 6, '7']"
      ],
      "execution_count": null,
      "outputs": []
    },
    {
      "cell_type": "markdown",
      "metadata": {
        "id": "udGCN-8Cgz1p"
      },
      "source": [
        "Para acceder a los elementos de una tupla o una lista, debemos utilizas los indices, es decir, la posición en la que se encuentra el elemento. \n",
        "Los indices empiezan desde 0.\n",
        "Para acceder a el último elemento, se usa el -1. A el penúltimo -2 y así sucesivamente."
      ]
    },
    {
      "cell_type": "code",
      "metadata": {
        "colab": {
          "base_uri": "https://localhost:8080/"
        },
        "id": "R-ABljkviFkQ",
        "outputId": "2491db28-1d14-48d0-afe7-839d72c373fc"
      },
      "source": [
        "# Accedemos a el primer elemento de la lista\n",
        "print(f\"Primer elemento de la lista: {lista[0]}\")\n",
        "\n",
        "# Accedemos a el último elemento de la lista\n",
        "print(f\"Último elemento de la lista: {lista[-1]}\")\n",
        "\n",
        "# Accedemos a el penúltimo elemento de la lista\n",
        "print(f\"Penúltimo elemento de la lista: {lista[-2]}\")"
      ],
      "execution_count": null,
      "outputs": [
        {
          "output_type": "stream",
          "text": [
            "Primer elemento de la lista: 1\n",
            "Último elemento de la lista: 7\n",
            "Penúltimo elemento de la lista: 6\n"
          ],
          "name": "stdout"
        }
      ]
    },
    {
      "cell_type": "code",
      "metadata": {
        "colab": {
          "base_uri": "https://localhost:8080/"
        },
        "id": "EiYXV_U6jXQT",
        "outputId": "d67648a1-e8b6-470f-dcdd-1d7496c1c608"
      },
      "source": [
        "# Accedemos a el primer elemento de la tupla\n",
        "print(f\"Primer elemento de la tupla: {tupla[0]}\")\n",
        "\n",
        "# Accedemos a el último elemento de la tupla\n",
        "print(f\"Último elemento de la tupla: {tupla[-1]}\")\n",
        "\n",
        "# Accedemos a el penúltimo elemento de la tupla\n",
        "print(f\"Penúltimo elemento de la tupla: {tupla[-2]}\")"
      ],
      "execution_count": null,
      "outputs": [
        {
          "output_type": "stream",
          "text": [
            "Primer elemento de la tupla: 1\n",
            "Último elemento de la tupla: 5.5\n",
            "Penúltimo elemento de la tupla: 4\n"
          ],
          "name": "stdout"
        }
      ]
    },
    {
      "cell_type": "markdown",
      "metadata": {
        "id": "0E7vZzphjfVj"
      },
      "source": [
        "COMPLETAR LAS SIGUIENTES CELDAS:"
      ]
    },
    {
      "cell_type": "code",
      "metadata": {
        "id": "cXGZ7nQ2jieQ"
      },
      "source": [
        "# IMPRIMIR EL TIPO DE DATO DE EL PRIMER Y TERCER ELEMENTO DE LA TUPLA"
      ],
      "execution_count": null,
      "outputs": []
    },
    {
      "cell_type": "code",
      "metadata": {
        "id": "uIBf-k7cjiwk"
      },
      "source": [
        "# IMPRIMIR EL TIPO DE DATO DE EL ULTIMO ELEMENTO DE LA LISTA"
      ],
      "execution_count": null,
      "outputs": []
    },
    {
      "cell_type": "code",
      "metadata": {
        "id": "XvbhzIYsji3p"
      },
      "source": [
        "# SUMAR EL PRIMER ELEMENTO DE LA TUPLA CON EL TERCERO DE LA LISTA Y ASIGNARLOS A LA VARIABLE s\n",
        "\n",
        "s = # COMPLETAR"
      ],
      "execution_count": null,
      "outputs": []
    },
    {
      "cell_type": "code",
      "metadata": {
        "id": "mPGRkNqgkCx-"
      },
      "source": [
        "# IMPRIMIR EL TIPO DE LA VARIABLE s"
      ],
      "execution_count": null,
      "outputs": []
    },
    {
      "cell_type": "markdown",
      "metadata": {
        "id": "Izybm9DVkJ0N"
      },
      "source": [
        "Atención a el tipo de la variable s. Que tipos de datos sumamos? Y que tipo de dato se creo?"
      ]
    },
    {
      "cell_type": "markdown",
      "metadata": {
        "id": "jf83dX0klZS8"
      },
      "source": [
        "Para ver el largo de una lista, podemos utilizar la funcion len()"
      ]
    },
    {
      "cell_type": "code",
      "metadata": {
        "colab": {
          "base_uri": "https://localhost:8080/"
        },
        "id": "LMAFGOujlcYj",
        "outputId": "94dfd72f-6d60-40b4-c757-fe2649a4e33f"
      },
      "source": [
        "print(f\"La lista tiene {len(lista)} elementos\")"
      ],
      "execution_count": null,
      "outputs": [
        {
          "output_type": "stream",
          "text": [
            "La lista tiene 7 elementos\n"
          ],
          "name": "stdout"
        }
      ]
    },
    {
      "cell_type": "markdown",
      "metadata": {
        "id": "2q7f_Q3JljDy"
      },
      "source": [
        "Lo mismo con tuplas"
      ]
    },
    {
      "cell_type": "code",
      "metadata": {
        "colab": {
          "base_uri": "https://localhost:8080/"
        },
        "id": "laC4pHIclkPw",
        "outputId": "6e994dbb-5b1e-4f06-8ef3-26890b29169e"
      },
      "source": [
        "print(f\"La tupla tiene {len(tupla)} elementos\")"
      ],
      "execution_count": null,
      "outputs": [
        {
          "output_type": "stream",
          "text": [
            "La tupla tiene 6 elementos\n"
          ],
          "name": "stdout"
        }
      ]
    },
    {
      "cell_type": "markdown",
      "metadata": {
        "id": "Cb2rAjMvlGel"
      },
      "source": [
        "Como dijimos, las listas son objetos mutables. Es decir, que les podemos agregar y quitar elementos:"
      ]
    },
    {
      "cell_type": "code",
      "metadata": {
        "colab": {
          "base_uri": "https://localhost:8080/"
        },
        "id": "TDmqxQ2XlMrK",
        "outputId": "d09d7395-5924-40b9-ba9c-fddd760ea8cf"
      },
      "source": [
        "print(lista)"
      ],
      "execution_count": null,
      "outputs": [
        {
          "output_type": "stream",
          "text": [
            "[1, 'aaa', 3.3, 4, 5.5, 6, '7']\n"
          ],
          "name": "stdout"
        }
      ]
    },
    {
      "cell_type": "code",
      "metadata": {
        "colab": {
          "base_uri": "https://localhost:8080/"
        },
        "id": "yLjrZvsKlMtV",
        "outputId": "fcd2e617-ad2a-426a-bae7-fe819efe5c4f"
      },
      "source": [
        "# Agregamos un elemento a la lista\n",
        "lista.append('otro elemento')\n",
        "print(lista)"
      ],
      "execution_count": null,
      "outputs": [
        {
          "output_type": "stream",
          "text": [
            "[1, 'aaa', 3.3, 4, 5.5, 6, '7', 'otro elemento']\n"
          ],
          "name": "stdout"
        }
      ]
    },
    {
      "cell_type": "code",
      "metadata": {
        "colab": {
          "base_uri": "https://localhost:8080/"
        },
        "id": "NpoqTJOVlwPF",
        "outputId": "7c06a028-ced8-434e-a6db-2da91f084d3a"
      },
      "source": [
        "print(f\"La lista ahora tiene {len(lista)} elementos\")"
      ],
      "execution_count": null,
      "outputs": [
        {
          "output_type": "stream",
          "text": [
            "La lista ahora tiene 8 elementos\n"
          ],
          "name": "stdout"
        }
      ]
    },
    {
      "cell_type": "code",
      "metadata": {
        "id": "LCL7h2CulMvz"
      },
      "source": [
        "# Eliminamos un elemento de la lista\n",
        "lista.remove('aaa')"
      ],
      "execution_count": null,
      "outputs": []
    },
    {
      "cell_type": "code",
      "metadata": {
        "colab": {
          "base_uri": "https://localhost:8080/"
        },
        "id": "jGcvZrwsl_9Q",
        "outputId": "71079b4b-fb1b-4afb-f281-d9d49b2f18db"
      },
      "source": [
        "print(lista)"
      ],
      "execution_count": null,
      "outputs": [
        {
          "output_type": "stream",
          "text": [
            "[1, 3.3, 4, 5.5, 6, '7', 'otro elemento']\n"
          ],
          "name": "stdout"
        }
      ]
    },
    {
      "cell_type": "code",
      "metadata": {
        "colab": {
          "base_uri": "https://localhost:8080/"
        },
        "id": "uSZKaU2kmA5o",
        "outputId": "499950bf-00d6-447f-9ef9-e9be69a63a30"
      },
      "source": [
        "print(f\"La lista ahora tiene {len(lista)} elementos\")"
      ],
      "execution_count": null,
      "outputs": [
        {
          "output_type": "stream",
          "text": [
            "La lista ahora tiene 7 elementos\n"
          ],
          "name": "stdout"
        }
      ]
    },
    {
      "cell_type": "markdown",
      "metadata": {
        "id": "PhFEZPVHmC8m"
      },
      "source": [
        "Las tuplas son inmutables, por lo que no tienen los métodos append y remove."
      ]
    },
    {
      "cell_type": "markdown",
      "metadata": {
        "id": "N3lkZgj3ngyi"
      },
      "source": [
        "### Slicing en listas\n",
        "\n",
        "Como vimos recién, se puede acceder a elementos específicos de una lista. Además, python nos permite acceder a un subconjunto de los elementos de una lista con lo que se conoce como slicing.\n",
        "\n",
        "Slicing se realiza utilizando \":\" de la forma:\n",
        "[start:stop]\n",
        "\n",
        "Veámoslo en el código"
      ]
    },
    {
      "cell_type": "code",
      "metadata": {
        "colab": {
          "base_uri": "https://localhost:8080/"
        },
        "id": "KVm1FA6un3sa",
        "outputId": "1795d5b3-3dca-4788-dd33-63f7d8f19a9b"
      },
      "source": [
        "print(lista)"
      ],
      "execution_count": null,
      "outputs": [
        {
          "output_type": "stream",
          "text": [
            "[1, 3.3, 4, 5.5, 6, '7', 'otro elemento']\n"
          ],
          "name": "stdout"
        }
      ]
    },
    {
      "cell_type": "code",
      "metadata": {
        "colab": {
          "base_uri": "https://localhost:8080/"
        },
        "id": "S1YOCZCLnyqD",
        "outputId": "60697aa2-1ee9-4408-924c-8ce2252307a7"
      },
      "source": [
        "print(lista[1:4])"
      ],
      "execution_count": null,
      "outputs": [
        {
          "output_type": "stream",
          "text": [
            "[3.3, 4, 5.5]\n"
          ],
          "name": "stdout"
        }
      ]
    },
    {
      "cell_type": "markdown",
      "metadata": {
        "id": "jHlsjM8OoRLX"
      },
      "source": [
        "Además, podemos agregar un parámetro :step, para ir obteniendo elementos de step en step. \n",
        "\n",
        "[start:stop:step]"
      ]
    },
    {
      "cell_type": "code",
      "metadata": {
        "colab": {
          "base_uri": "https://localhost:8080/"
        },
        "id": "pzgW7Vpkoe0T",
        "outputId": "ca2df39f-0b8c-4230-e03a-cecc10372190"
      },
      "source": [
        "print(lista[0:6:3])"
      ],
      "execution_count": null,
      "outputs": [
        {
          "output_type": "stream",
          "text": [
            "[1, 5.5]\n"
          ],
          "name": "stdout"
        }
      ]
    },
    {
      "cell_type": "markdown",
      "metadata": {
        "id": "lbNyfj2bork3"
      },
      "source": [
        "Si no ponemos el parámetro start, por defecto va a ser 0.\n",
        "\n",
        "Si no ponemos el parámetro stop, por defecto va a ser -1.\n",
        "\n",
        "Si no ponemos el parámetro step, por defecto va a ser 1.\n",
        "\n",
        "Entonces:"
      ]
    },
    {
      "cell_type": "code",
      "metadata": {
        "id": "3P5PHg5mobgz"
      },
      "source": [
        "# IMPRIMIR LOS ÚLTIMOS 3 ELEMENTOS DE LA LISTA\n",
        "last_three = # COMPLETAR\n",
        "print(f\"Últimos 3 elementos de la lista {last_three}\")"
      ],
      "execution_count": null,
      "outputs": []
    },
    {
      "cell_type": "code",
      "metadata": {
        "colab": {
          "base_uri": "https://localhost:8080/"
        },
        "id": "g9RYJ2zGpjVy",
        "outputId": "ae6886df-a123-41be-d46b-296ce679ea8f"
      },
      "source": [
        "lista"
      ],
      "execution_count": null,
      "outputs": [
        {
          "output_type": "execute_result",
          "data": {
            "text/plain": [
              "[1, 3.3, 4, 5.5, 6, '7', 'otro elemento']"
            ]
          },
          "metadata": {
            "tags": []
          },
          "execution_count": 81
        }
      ]
    },
    {
      "cell_type": "code",
      "metadata": {
        "id": "UHOQ4rO4pNAk"
      },
      "source": [
        "# IMPRIMIR DESDE EL 2do ITEM DE LA LISTA EN ADELANTE\n",
        "from_second = # COMPLETAR\n",
        "print(f\"Últimos 3 elementos de la lista {from_second}\")"
      ],
      "execution_count": null,
      "outputs": []
    },
    {
      "cell_type": "markdown",
      "metadata": {
        "id": "9STUEtmVp66F"
      },
      "source": [
        "### Listas anidadas\n",
        "\n",
        "COmo dijimos anteriormente, las listas pueden contener elementos de cualquier tipo (int, float, otras listas, diccionarios, etc).\n",
        "\n",
        "Por lo tanto, una lista puede contener otras listas:"
      ]
    },
    {
      "cell_type": "code",
      "metadata": {
        "id": "RW4UJw_ep8Xj"
      },
      "source": [
        "lista_de_listas = [[1,2,3], [4,5,6]]"
      ],
      "execution_count": null,
      "outputs": []
    },
    {
      "cell_type": "markdown",
      "metadata": {
        "id": "1Riyf21-qIFw"
      },
      "source": [
        "Como creen que podemos acceder a el primer elemento de la primer lista?\n"
      ]
    },
    {
      "cell_type": "code",
      "metadata": {
        "id": "9MLZddqZqL2S"
      },
      "source": [
        "primer_item_primer_lista = # COMPLETAR\n",
        "print(f\"El primer elemento de la primer lista es: {primer_item_primer_lista}\")"
      ],
      "execution_count": null,
      "outputs": []
    },
    {
      "cell_type": "markdown",
      "metadata": {
        "id": "AL4BzOl6qje0"
      },
      "source": [
        "Qué largo tiene la lista de listas?"
      ]
    },
    {
      "cell_type": "code",
      "metadata": {
        "colab": {
          "base_uri": "https://localhost:8080/"
        },
        "id": "fpGTqcghqlNh",
        "outputId": "07949f55-a6e8-4862-a62c-6f85791cb3ee"
      },
      "source": [
        "print(len(lista_de_listas))"
      ],
      "execution_count": null,
      "outputs": [
        {
          "output_type": "stream",
          "text": [
            "2\n"
          ],
          "name": "stdout"
        }
      ]
    },
    {
      "cell_type": "markdown",
      "metadata": {
        "id": "UkE6MMLLR-Tc"
      },
      "source": [
        "### Detalle importante!"
      ]
    },
    {
      "cell_type": "code",
      "metadata": {
        "colab": {
          "base_uri": "https://localhost:8080/"
        },
        "id": "HYcEZY9CSARg",
        "outputId": "3540d47e-46e1-4b4a-d306-7e7c25b1127b"
      },
      "source": [
        "lista_1 = [1,2,3,4]\n",
        "lista_2 = lista_1  #lista_2 ahora es igual a lista_1\n",
        "lista_2[-1] = 100 #el ultimo elemento de la lista ahora es 100, con -1 seleccionamos el ultimo elemento de la lista\n",
        "print(lista_1, lista_2)"
      ],
      "execution_count": null,
      "outputs": [
        {
          "output_type": "stream",
          "text": [
            "[1, 2, 3, 100] [1, 2, 3, 100]\n"
          ],
          "name": "stdout"
        }
      ]
    },
    {
      "cell_type": "markdown",
      "metadata": {
        "id": "OiO8B_A3SCgj"
      },
      "source": [
        "Ambas listas se modificaron!"
      ]
    },
    {
      "cell_type": "code",
      "metadata": {
        "colab": {
          "base_uri": "https://localhost:8080/"
        },
        "id": "pu3c1J78SCBL",
        "outputId": "f5f3f259-91a8-4928-b4a0-ea97c972dda1"
      },
      "source": [
        "lista_1 = [1,2,3,4]\n",
        "lista_2 = lista_1.copy()\n",
        "lista_2[-1] = 100\n",
        "print(lista_1, lista_2)"
      ],
      "execution_count": null,
      "outputs": [
        {
          "output_type": "stream",
          "text": [
            "[1, 2, 3, 4] [1, 2, 3, 100]\n"
          ],
          "name": "stdout"
        }
      ]
    },
    {
      "cell_type": "markdown",
      "metadata": {
        "id": "jnKeOAKdSGf7"
      },
      "source": [
        "Ahora no"
      ]
    },
    {
      "cell_type": "markdown",
      "metadata": {
        "id": "oe-X7HS30R9s"
      },
      "source": [
        "# In, Not in\n",
        "\n",
        "Con las expresiones \"in\" y \"not in\" podemos saber si un elemento está en una lista o no. Estas expresiones retornan True o False (un bool) dependiendo de si se cumple o no la condición."
      ]
    },
    {
      "cell_type": "code",
      "metadata": {
        "colab": {
          "base_uri": "https://localhost:8080/"
        },
        "id": "eX4gEUKy0Uac",
        "outputId": "d700d7b2-060e-4d30-f6ba-bc0a548d9b81"
      },
      "source": [
        "lista_de_elementos = ['a', 'b', 'c', 'd']\n",
        "\n",
        "print('b' in lista_de_elementos)"
      ],
      "execution_count": null,
      "outputs": [
        {
          "output_type": "stream",
          "text": [
            "True\n"
          ],
          "name": "stdout"
        }
      ]
    },
    {
      "cell_type": "code",
      "metadata": {
        "colab": {
          "base_uri": "https://localhost:8080/"
        },
        "id": "fQWTljl60mj6",
        "outputId": "f074e86d-ec89-434f-c3e0-20875eb4dda3"
      },
      "source": [
        "print('x' in lista_de_elementos)"
      ],
      "execution_count": null,
      "outputs": [
        {
          "output_type": "stream",
          "text": [
            "False\n"
          ],
          "name": "stdout"
        }
      ]
    },
    {
      "cell_type": "code",
      "metadata": {
        "colab": {
          "base_uri": "https://localhost:8080/"
        },
        "id": "5U-lQ18F0puk",
        "outputId": "f7f5ae4b-cedd-4d63-ec6e-fc0d1d48636e"
      },
      "source": [
        "print('x' not in lista_de_elementos)"
      ],
      "execution_count": null,
      "outputs": [
        {
          "output_type": "stream",
          "text": [
            "True\n"
          ],
          "name": "stdout"
        }
      ]
    },
    {
      "cell_type": "markdown",
      "metadata": {
        "id": "iv2v9S-Cqtqi"
      },
      "source": [
        "### Diccionarios"
      ]
    },
    {
      "cell_type": "markdown",
      "metadata": {
        "id": "sMDe40mNlDrw"
      },
      "source": [
        "Ahora, veamos que podemos hacer con un diccionario"
      ]
    },
    {
      "cell_type": "code",
      "metadata": {
        "id": "EMonTzxcgmtK"
      },
      "source": [
        "diccionario = {\n",
        "    'clave': 'valor',\n",
        "    'clave2': 'valor_2',\n",
        "    'clave3': 'valor_3'\n",
        "}"
      ],
      "execution_count": null,
      "outputs": []
    },
    {
      "cell_type": "code",
      "metadata": {
        "colab": {
          "base_uri": "https://localhost:8080/"
        },
        "id": "BDVWlbjrqvVD",
        "outputId": "6e0f977e-c440-4e16-dff9-4d0c1a71fab3"
      },
      "source": [
        "type(diccionario)"
      ],
      "execution_count": null,
      "outputs": [
        {
          "output_type": "execute_result",
          "data": {
            "text/plain": [
              "dict"
            ]
          },
          "metadata": {
            "tags": []
          },
          "execution_count": 88
        }
      ]
    },
    {
      "cell_type": "markdown",
      "metadata": {
        "id": "pEyuj_9qmJrh"
      },
      "source": [
        "Como vimos anteriormente, los diccionarios son objetos que se forman con claves y valores.\n",
        "Para acceder a un item del diccionario utilizamos la clave:"
      ]
    },
    {
      "cell_type": "code",
      "metadata": {
        "colab": {
          "base_uri": "https://localhost:8080/"
        },
        "id": "qA370G-MgwyI",
        "outputId": "ed780359-75c1-4085-c12a-4fa28835d8a0"
      },
      "source": [
        "print(diccionario['clave'])"
      ],
      "execution_count": null,
      "outputs": [
        {
          "output_type": "stream",
          "text": [
            "valor\n"
          ],
          "name": "stdout"
        }
      ]
    },
    {
      "cell_type": "code",
      "metadata": {
        "colab": {
          "base_uri": "https://localhost:8080/"
        },
        "id": "mdsgDoGwmWkG",
        "outputId": "aaed54c0-bf5c-48cd-be34-0da603e8ced3"
      },
      "source": [
        "print(diccionario['clave2'])"
      ],
      "execution_count": null,
      "outputs": [
        {
          "output_type": "stream",
          "text": [
            "valor_2\n"
          ],
          "name": "stdout"
        }
      ]
    },
    {
      "cell_type": "code",
      "metadata": {
        "colab": {
          "base_uri": "https://localhost:8080/"
        },
        "id": "kBDUeBwHmXtQ",
        "outputId": "76376abf-477c-4cbf-9988-531790d69152"
      },
      "source": [
        "print(diccionario['clave3'])"
      ],
      "execution_count": null,
      "outputs": [
        {
          "output_type": "stream",
          "text": [
            "valor_3\n"
          ],
          "name": "stdout"
        }
      ]
    },
    {
      "cell_type": "markdown",
      "metadata": {
        "id": "H0Krcxu-mfmx"
      },
      "source": [
        "Podemos agregar nuevas claves a un diccionario:"
      ]
    },
    {
      "cell_type": "code",
      "metadata": {
        "id": "Q96zrQq7mZl-"
      },
      "source": [
        "diccionario['nueva_clave'] = 'nuevo valor'"
      ],
      "execution_count": null,
      "outputs": []
    },
    {
      "cell_type": "code",
      "metadata": {
        "colab": {
          "base_uri": "https://localhost:8080/"
        },
        "id": "0t7ZXGTMmkq_",
        "outputId": "f42b9fa4-002a-4142-ba34-5ac00349bef3"
      },
      "source": [
        "print(diccionario)"
      ],
      "execution_count": null,
      "outputs": [
        {
          "output_type": "stream",
          "text": [
            "{'clave': 'valor', 'clave2': 'valor_2', 'clave3': 'valor_3', 'nueva_clave': 'nuevo valor'}\n"
          ],
          "name": "stdout"
        }
      ]
    },
    {
      "cell_type": "markdown",
      "metadata": {
        "id": "IwtxnIyzm3B-"
      },
      "source": [
        "Para conocer todas las claves de un diccionario, podemos usar el método .keys(). Veamos un ejemplo:"
      ]
    },
    {
      "cell_type": "code",
      "metadata": {
        "colab": {
          "base_uri": "https://localhost:8080/"
        },
        "id": "mrgkksrommxv",
        "outputId": "d12ddf9c-9e43-4c35-b786-2c387af22599"
      },
      "source": [
        "print(diccionario.keys())"
      ],
      "execution_count": null,
      "outputs": [
        {
          "output_type": "stream",
          "text": [
            "dict_keys(['clave', 'clave2', 'clave3', 'nueva_clave'])\n"
          ],
          "name": "stdout"
        }
      ]
    },
    {
      "cell_type": "markdown",
      "metadata": {
        "id": "FH6vL6PT0zKo"
      },
      "source": [
        "De que tipo es el objeto que nos retorna diccionario.keys()? "
      ]
    },
    {
      "cell_type": "code",
      "metadata": {
        "id": "vEVnN3fp0vpN"
      },
      "source": [
        "tipo = #COMPLETAR\n",
        "print(f\"El tipo de el objeto es: {tipo}\")"
      ],
      "execution_count": null,
      "outputs": []
    },
    {
      "cell_type": "markdown",
      "metadata": {
        "id": "AGpWV55x1Dkp"
      },
      "source": [
        "Podemos transformarlo en lista? Como se les ocurre ?\n",
        "RECUERDEN QUE SIEMPRE SE PUEDE USAR GOOGLE"
      ]
    },
    {
      "cell_type": "code",
      "metadata": {
        "id": "Mg8nD-jP1KJm"
      },
      "source": [
        "keys_transformado_en_lista = # COMPLETAR\n",
        "print(f\"El tipo de el objeto keys ahora es: {type(keys_transformado_en_lista)}\")"
      ],
      "execution_count": null,
      "outputs": []
    },
    {
      "cell_type": "markdown",
      "metadata": {
        "id": "aePsZ2gA1SrH"
      },
      "source": [
        "Ahora que el objeto es una lista, podemos acceder a sus valores de una forma simple (usando indices por ejemplo).\n"
      ]
    },
    {
      "cell_type": "code",
      "metadata": {
        "id": "ZjmXzUug1Y9p"
      },
      "source": [
        "# IMPRIMIR EL PRIMER ELEMENTO DE LAS KEYS"
      ],
      "execution_count": null,
      "outputs": []
    },
    {
      "cell_type": "markdown",
      "metadata": {
        "id": "McGw885dm98l"
      },
      "source": [
        "Para conocer los valores de un diccionario, existe el método .values()"
      ]
    },
    {
      "cell_type": "code",
      "metadata": {
        "colab": {
          "base_uri": "https://localhost:8080/"
        },
        "id": "WoSNqRP4m9Ya",
        "outputId": "3a44bdde-818b-46b7-dd09-eeb89dfd0883"
      },
      "source": [
        "print(diccionario.values())"
      ],
      "execution_count": null,
      "outputs": [
        {
          "output_type": "stream",
          "text": [
            "dict_values(['valor', 'valor_2', 'valor_3', 'nuevo valor'])\n"
          ],
          "name": "stdout"
        }
      ]
    },
    {
      "cell_type": "markdown",
      "metadata": {
        "id": "XO0uOkgIqyT9"
      },
      "source": [
        "Asi como podemos tener listas de listas, podemos tener un diccionario anidado, o un diccionario que contenga listas.\n",
        "\n",
        "Juguemos un poco con los diccionarios:"
      ]
    },
    {
      "cell_type": "markdown",
      "metadata": {
        "id": "mbW02ePNq8Li"
      },
      "source": [
        "Crear un diccionario d en el que contenga las keys:\n",
        "- 'dicc'\n",
        "- 'lista'\n",
        "- 'tupla'\n",
        "- 'numero'\n",
        "\n",
        "y que cada una de esas keys, tenga como valor el tipo de dato que corresponda según su nombre"
      ]
    },
    {
      "cell_type": "code",
      "metadata": {
        "id": "pdBUAzGqq3yR"
      },
      "source": [
        "d = # COMPLETAR"
      ],
      "execution_count": null,
      "outputs": []
    },
    {
      "cell_type": "markdown",
      "metadata": {
        "id": "fX7Rno3jloj7"
      },
      "source": [
        "## Palabras reservadas\n",
        "\n",
        "En python, asi como en todos los lenguajes de programación, hay palabras reservadas. Estas palabras no podemos utilizarlas como nombres de variables. Vamos a ir descubriendolas mientras aprendamos, pero algunos ejemplos son:\n",
        "\n",
        "- str\n",
        "- int\n",
        "- for\n",
        "- None\n",
        "- True\n",
        "- False\n",
        "- while\n",
        "- if\n",
        "- else"
      ]
    },
    {
      "cell_type": "markdown",
      "metadata": {
        "id": "wg4H9C92OfTf"
      },
      "source": [
        "## Operaciones lógicas\n",
        "\n",
        "Una expresión booleana (o expresión lógica) es evaluada como verdadera (**True**) o falsa (**False**). Python provee el tipo de dato bool que puede contener los valores True o False. Muchas funciones y operaciones retornan objetos booleanos.\n",
        "\n",
        "Los operadores:\n",
        "- `<`\n",
        "- `<=`\n",
        "- `>`\n",
        "- `>=`\n",
        "- `== `\n",
        "- `!= `\n",
        "\n",
        "comparan el valor de dos objetos y retornan True o False.\n",
        "\n",
        "\n",
        "\n",
        "\n",
        "\n",
        "\n"
      ]
    },
    {
      "cell_type": "code",
      "metadata": {
        "colab": {
          "base_uri": "https://localhost:8080/"
        },
        "id": "7kGCcZQMPRX2",
        "outputId": "8a75e76b-ed1e-4afb-b61c-8d51b3a00834"
      },
      "source": [
        "1 == 1"
      ],
      "execution_count": null,
      "outputs": [
        {
          "output_type": "execute_result",
          "data": {
            "text/plain": [
              "True"
            ]
          },
          "metadata": {
            "tags": []
          },
          "execution_count": 5
        }
      ]
    },
    {
      "cell_type": "code",
      "metadata": {
        "colab": {
          "base_uri": "https://localhost:8080/"
        },
        "id": "TUNuvEvuPEKO",
        "outputId": "45816b43-84a6-4212-ddda-a7b870bfc43b"
      },
      "source": [
        "1 == 2"
      ],
      "execution_count": null,
      "outputs": [
        {
          "output_type": "execute_result",
          "data": {
            "text/plain": [
              "False"
            ]
          },
          "metadata": {
            "tags": []
          },
          "execution_count": 6
        }
      ]
    },
    {
      "cell_type": "code",
      "metadata": {
        "colab": {
          "base_uri": "https://localhost:8080/"
        },
        "id": "pLcnSrCPPbtG",
        "outputId": "be4e0f68-8d35-4d21-d606-bfafe71145fc"
      },
      "source": [
        "1 < 5"
      ],
      "execution_count": null,
      "outputs": [
        {
          "output_type": "execute_result",
          "data": {
            "text/plain": [
              "True"
            ]
          },
          "metadata": {
            "tags": []
          },
          "execution_count": 7
        }
      ]
    },
    {
      "cell_type": "markdown",
      "metadata": {
        "id": "M__V_FoSPcS1"
      },
      "source": [
        "Estos valores pueden ser almacenados en variables"
      ]
    },
    {
      "cell_type": "code",
      "metadata": {
        "colab": {
          "base_uri": "https://localhost:8080/"
        },
        "id": "2PLZuwDXPhRD",
        "outputId": "48723783-face-4106-f362-dd33a9436166"
      },
      "source": [
        "a = 1 == 1\n",
        "print(a)"
      ],
      "execution_count": null,
      "outputs": [
        {
          "output_type": "stream",
          "text": [
            "True\n"
          ],
          "name": "stdout"
        }
      ]
    },
    {
      "cell_type": "markdown",
      "metadata": {
        "id": "tQj31n9rPDD9"
      },
      "source": [
        "La palabra reservada **not** puede ser utilizada para invertir un valor booleano."
      ]
    },
    {
      "cell_type": "code",
      "metadata": {
        "colab": {
          "base_uri": "https://localhost:8080/"
        },
        "id": "_2nceak0Plpu",
        "outputId": "ea8abf84-7865-4e4f-d7c4-19eb97ecce88"
      },
      "source": [
        "not 1 == 1"
      ],
      "execution_count": null,
      "outputs": [
        {
          "output_type": "execute_result",
          "data": {
            "text/plain": [
              "False"
            ]
          },
          "metadata": {
            "tags": []
          },
          "execution_count": 10
        }
      ]
    },
    {
      "cell_type": "markdown",
      "metadata": {
        "id": "pamy0l_gPnmO"
      },
      "source": [
        "Qué retorna la siguiente expresión?"
      ]
    },
    {
      "cell_type": "code",
      "metadata": {
        "colab": {
          "base_uri": "https://localhost:8080/"
        },
        "id": "p8DC_B_ePnDm",
        "outputId": "6da8755d-d91e-4825-fbc1-a1653aa3089e"
      },
      "source": [
        "v1 = \"5\"\n",
        "v2 = 5\n",
        "\n",
        "v1 == v2"
      ],
      "execution_count": null,
      "outputs": [
        {
          "output_type": "execute_result",
          "data": {
            "text/plain": [
              "False"
            ]
          },
          "metadata": {
            "tags": []
          },
          "execution_count": 11
        }
      ]
    },
    {
      "cell_type": "code",
      "metadata": {
        "colab": {
          "base_uri": "https://localhost:8080/"
        },
        "id": "arW63G82P2p_",
        "outputId": "a0674b01-249d-4cb2-906b-4b1ce4b01fc9"
      },
      "source": [
        "v1 == str(v2)"
      ],
      "execution_count": null,
      "outputs": [
        {
          "output_type": "execute_result",
          "data": {
            "text/plain": [
              "True"
            ]
          },
          "metadata": {
            "tags": []
          },
          "execution_count": 12
        }
      ]
    },
    {
      "cell_type": "markdown",
      "metadata": {
        "id": "flG5mqNWP6KY"
      },
      "source": [
        "En python podemos utilizar las operaciones lógicas `and` y `or`\n",
        "\n"
      ]
    },
    {
      "cell_type": "code",
      "metadata": {
        "colab": {
          "base_uri": "https://localhost:8080/"
        },
        "id": "-YFvWZxJQcms",
        "outputId": "1afc0e7f-56b9-49ed-8301-b837959f030f"
      },
      "source": [
        "(1 == 1) and (2==2)"
      ],
      "execution_count": null,
      "outputs": [
        {
          "output_type": "execute_result",
          "data": {
            "text/plain": [
              "True"
            ]
          },
          "metadata": {
            "tags": []
          },
          "execution_count": 13
        }
      ]
    },
    {
      "cell_type": "code",
      "metadata": {
        "colab": {
          "base_uri": "https://localhost:8080/"
        },
        "id": "pcGyaY4fQspp",
        "outputId": "0649b01e-0b35-430d-ab5e-eec84518b54a"
      },
      "source": [
        "(1 == 1) and (1 == 2)"
      ],
      "execution_count": null,
      "outputs": [
        {
          "output_type": "execute_result",
          "data": {
            "text/plain": [
              "False"
            ]
          },
          "metadata": {
            "tags": []
          },
          "execution_count": 14
        }
      ]
    },
    {
      "cell_type": "code",
      "metadata": {
        "colab": {
          "base_uri": "https://localhost:8080/"
        },
        "id": "2bRGR4ZsQv-p",
        "outputId": "58e5281b-824a-49e1-d3a9-9c5609c31a9e"
      },
      "source": [
        "(1 == 1) or (2 == 2)"
      ],
      "execution_count": null,
      "outputs": [
        {
          "output_type": "execute_result",
          "data": {
            "text/plain": [
              "True"
            ]
          },
          "metadata": {
            "tags": []
          },
          "execution_count": 15
        }
      ]
    },
    {
      "cell_type": "code",
      "metadata": {
        "colab": {
          "base_uri": "https://localhost:8080/"
        },
        "id": "O2Ey_LaBQwI5",
        "outputId": "a9fed4ba-c56b-4b7f-a38f-97767d2c331c"
      },
      "source": [
        "(1 == 2) or (1 == 1)"
      ],
      "execution_count": null,
      "outputs": [
        {
          "output_type": "execute_result",
          "data": {
            "text/plain": [
              "True"
            ]
          },
          "metadata": {
            "tags": []
          },
          "execution_count": 16
        }
      ]
    },
    {
      "cell_type": "markdown",
      "metadata": {
        "id": "QqA-MjjRSMTH"
      },
      "source": [
        "## Condicionales\n",
        "\n",
        "Los condicionales son un bloque de código que se va a ejecutar solo en caso de que la condicón se cumpla. \n",
        "\n",
        "Tanto en condicionales como otros bloques que vamos a ver a continuación, es muy importante la tabulación.\n"
      ]
    },
    {
      "cell_type": "code",
      "metadata": {
        "colab": {
          "base_uri": "https://localhost:8080/"
        },
        "id": "KzoungElSTCB",
        "outputId": "ee3fcf81-c555-4a83-d4f9-866c01eddf88"
      },
      "source": [
        "if 1 == 1:\n",
        "  print(\"Este bloque se ejecuta porque la condición se evalua como True!\") # Prestar atención al tab"
      ],
      "execution_count": null,
      "outputs": [
        {
          "output_type": "stream",
          "text": [
            "Este bloque se ejecuta porque la condición se evalua como True!\n"
          ],
          "name": "stdout"
        }
      ]
    },
    {
      "cell_type": "code",
      "metadata": {
        "id": "kky92dJRSTFS"
      },
      "source": [
        "if 1 == 2:\n",
        "  print(\"Esto no se va a imprimir\")"
      ],
      "execution_count": null,
      "outputs": []
    },
    {
      "cell_type": "markdown",
      "metadata": {
        "id": "fx5Rh_duS9kk"
      },
      "source": [
        "A veces queremos que si una condición se cumple, se ejecute un bloque de código, pero si no se cumple, se ejecute otra. La forma de hacer esto es utilizando el bloque `else`"
      ]
    },
    {
      "cell_type": "code",
      "metadata": {
        "colab": {
          "base_uri": "https://localhost:8080/"
        },
        "id": "JrfjKynWTKPG",
        "outputId": "4b0736b7-5790-47ee-972a-d1abdc6d2d40"
      },
      "source": [
        "if 1==2:\n",
        "  print(\"Esto no se imprime\")\n",
        "else:\n",
        "  print(\"Esto si se imprime\")"
      ],
      "execution_count": null,
      "outputs": [
        {
          "output_type": "stream",
          "text": [
            "Esto si se imprime\n"
          ],
          "name": "stdout"
        }
      ]
    },
    {
      "cell_type": "code",
      "metadata": {
        "colab": {
          "base_uri": "https://localhost:8080/"
        },
        "id": "FlYtGShmTQNg",
        "outputId": "df2a7ff2-df4a-4d49-8eff-7c8b7b4baa72"
      },
      "source": [
        "if 1==1:\n",
        "  print(\"Esto si se imprime\")\n",
        "else:\n",
        "  print(\"Esto no se imprime\")"
      ],
      "execution_count": null,
      "outputs": [
        {
          "output_type": "stream",
          "text": [
            "Esto si se imprime\n"
          ],
          "name": "stdout"
        }
      ]
    },
    {
      "cell_type": "markdown",
      "metadata": {
        "id": "5Q_oN5lTTY2v"
      },
      "source": [
        "También podemos definir varias condiciones en un solo if"
      ]
    },
    {
      "cell_type": "code",
      "metadata": {
        "colab": {
          "base_uri": "https://localhost:8080/"
        },
        "id": "DzZqnwktTcfd",
        "outputId": "f93709fc-0be2-48e2-a658-f64fb8239437"
      },
      "source": [
        "if 1==2:\n",
        "  # Falso\n",
        "  print(\"Falso\")\n",
        "elif 1 == 3:\n",
        "  # Falso\n",
        "  print(\"Falso\")\n",
        "elif 1 == 4:\n",
        "  # Falso\n",
        "  print(\"Falso\")\n",
        "elif 1 < 5:\n",
        "  print(\"Verdadero!\")"
      ],
      "execution_count": null,
      "outputs": [
        {
          "output_type": "stream",
          "text": [
            "Verdadero!\n"
          ],
          "name": "stdout"
        }
      ]
    },
    {
      "cell_type": "markdown",
      "metadata": {
        "id": "FuUie589Tw2A"
      },
      "source": [
        "## Loops\n",
        "\n",
        "Los Loops son estructuras de codigo fundamentales en cualquier lenguaje de programación. Son bloques de código que se repiten dada una cierta cantidad de veces dada una condición.\n",
        "Como en el if, en estos loops es muy importante respetar la indentación.\n",
        "\n",
        "### For\n",
        "El For es un loop en el que un bloque de código se repite tantas veces como elementos haya en una determinada lista. En cada iteración (repetición) hay una variable que va tomando el valor de uno de los elementos en esta lista."
      ]
    },
    {
      "cell_type": "code",
      "metadata": {
        "colab": {
          "base_uri": "https://localhost:8080/"
        },
        "id": "5NsKPkgSUSXV",
        "outputId": "a08c4fd0-6b02-406f-f791-4e72902fed7c"
      },
      "source": [
        "lista = [1,5, 10, 20, 25, 34, 100]\n",
        "\n",
        "for elem in lista:\n",
        "    print(elem)"
      ],
      "execution_count": null,
      "outputs": [
        {
          "output_type": "stream",
          "text": [
            "1\n",
            "5\n",
            "10\n",
            "20\n",
            "25\n",
            "34\n",
            "100\n"
          ],
          "name": "stdout"
        }
      ]
    },
    {
      "cell_type": "markdown",
      "metadata": {
        "id": "hZa-kr0pUqu4"
      },
      "source": [
        "También podemos recorrer listas de texto:"
      ]
    },
    {
      "cell_type": "code",
      "metadata": {
        "colab": {
          "base_uri": "https://localhost:8080/"
        },
        "id": "BKtShs2cUlo0",
        "outputId": "a48fed70-4ae0-498f-f1ea-9f25a06cbaa3"
      },
      "source": [
        "lista_texto = ['str', 'int', 'float']\n",
        "nueva_lista = []\n",
        "\n",
        "for elem in lista_texto:\n",
        "    oracion = elem + ' es un tipo de dato.'\n",
        "    nueva_lista.append(oracion)\n",
        "\n",
        "# Este print esta fuera del for, no está indentado\n",
        "print(nueva_lista)"
      ],
      "execution_count": null,
      "outputs": [
        {
          "output_type": "stream",
          "text": [
            "['str es un tipo de dato.', 'int es un tipo de dato.', 'float es un tipo de dato.']\n"
          ],
          "name": "stdout"
        }
      ]
    },
    {
      "cell_type": "markdown",
      "metadata": {
        "id": "18OounEJVAms"
      },
      "source": [
        "Y también podemos combinar esto con un if! Veamos..\n",
        "\n",
        "##### Ejercicio:\n",
        "\n",
        "Con un bloque de código similar al anterior, armar una lista que contenga las frases:\n",
        "\n",
        "['str es un tipo de dato.', 'int es otro tipo de dato.', ' y float es otro tipo de dato.']\n",
        "\n",
        "Es decir, en cada iteración debemos realizar operaciones distintas para meter la frase en la lista.\n",
        "\n",
        "Pista: Hay que definir nuevas variables y utilizar un if."
      ]
    },
    {
      "cell_type": "code",
      "metadata": {
        "id": "JXIdcfPXVbK5"
      },
      "source": [
        "lista_texto = ['str', 'int', 'float']\n",
        "nueva_lista = []\n",
        "\n",
        "# COMPLETAR\n",
        "for elem in lista_texto:\n",
        "    oracion = elem + ' es un tipo de dato.'\n",
        "    nueva_lista.append(oracion)\n",
        "\n",
        "print(nueva_lista)"
      ],
      "execution_count": null,
      "outputs": []
    },
    {
      "cell_type": "markdown",
      "metadata": {
        "id": "dZBoXJ0-WBuI"
      },
      "source": [
        "### While\n",
        "\n",
        "El while repite un bloque de código mientras se cumpla una cierta condición que le ponemos.  Es importante en este caso, asegurarnos que el loop en algún momento termine."
      ]
    },
    {
      "cell_type": "code",
      "metadata": {
        "colab": {
          "base_uri": "https://localhost:8080/"
        },
        "id": "0MDKsBQqWInc",
        "outputId": "e59a2c94-e4ed-434c-aeef-7f1a10080c27"
      },
      "source": [
        "i = 1\n",
        "\n",
        "while i <= 5:\n",
        "    print(i)\n",
        "    i = i + 1"
      ],
      "execution_count": null,
      "outputs": [
        {
          "output_type": "stream",
          "text": [
            "1\n",
            "2\n",
            "3\n",
            "4\n",
            "5\n"
          ],
          "name": "stdout"
        }
      ]
    },
    {
      "cell_type": "markdown",
      "metadata": {
        "id": "CS4P5FQKWaqr"
      },
      "source": [
        "Si la condición que ponemos en el while es siempre cierta, el programa se va a clavar. Pueden probarlo! No van a romper nada, simplemente reinician y listo. Como dijimos al principio, nada de esto es irreversible."
      ]
    },
    {
      "cell_type": "markdown",
      "metadata": {
        "id": "qarVz_MbsNtP"
      },
      "source": [
        "# Ahora practiquemos..."
      ]
    },
    {
      "cell_type": "markdown",
      "metadata": {
        "id": "Twovbl7Pt13O"
      },
      "source": [
        "Armar la frase\n",
        "\n",
        "'Esto es un string armado a partir de la concatenación de algunas variables'\n",
        "\n",
        "A partir de la concatenación de las siguientes variables (sin modificar el valor de ninguna)"
      ]
    },
    {
      "cell_type": "code",
      "metadata": {
        "id": "baPPK4IbsUn0"
      },
      "source": [
        "txt1 = 'Esto '\n",
        "txt2 = ['string', 'es un']\n",
        "tet3 = {\n",
        "    'txt_3_key_1': 'a partir',\n",
        "    'txt_3_key_2': 'concatenacion',\n",
        "}\n",
        "txt4 = ('armado', 'de la', 's')\n",
        "txt5 = 'de alguna'\n",
        "txt6 = 'variable'\n",
        "txt7 = ' '\n",
        "\n",
        "# Tener en cuenta espacios, palabras en plural y singular\n",
        "\n",
        "frase = #COMPLETAR\n",
        "print(frase)"
      ],
      "execution_count": null,
      "outputs": []
    },
    {
      "cell_type": "markdown",
      "metadata": {
        "id": "Wx3elq1KVnwu"
      },
      "source": [
        "Genere una lista llamada `al_cuadrado` que contenga el cuadrado de cada elemento en la lista `numeros`."
      ]
    },
    {
      "cell_type": "code",
      "metadata": {
        "id": "XLL1N2exVnMO"
      },
      "source": [
        "numeros = [3,1,5,7,12,10,17,4,22]\n",
        "\n",
        "al_cuadrado = []\n",
        "\n",
        "for n in numeros:\n",
        "    # COMPLETAR     \n",
        "print(numeros)"
      ],
      "execution_count": null,
      "outputs": []
    },
    {
      "cell_type": "markdown",
      "metadata": {
        "id": "lX_GYug6bqqT"
      },
      "source": [
        "Investigar el operador de módulo (%) en python (Google).\n",
        "\n",
        "Utilizando dicho operador, contar la cantidad de números pares e impares en la siguiente lista:"
      ]
    },
    {
      "cell_type": "code",
      "metadata": {
        "id": "YegVJu1qbtfD"
      },
      "source": [
        "numeros = [2,4,6,7,8,9,10,12,14,17,21]\n",
        "n_pares = 0\n",
        "n_impares = 0\n",
        "#COMPLETAR\n",
        "\n",
        "print(f\"Cantidad de números pares: {n_pares}\\nCantidad de números impares: {n_impares}\")"
      ],
      "execution_count": null,
      "outputs": []
    },
    {
      "cell_type": "markdown",
      "metadata": {
        "id": "cCj5Uflu-mDC"
      },
      "source": [
        "Escribir un for para buscar el máximo de la lista e imprimir su _posición_"
      ]
    },
    {
      "cell_type": "code",
      "metadata": {
        "id": "GGiIRmpz-Zra"
      },
      "source": [
        "lista=[44,11,15,29,53,12,30]\n",
        "posicion=0\n",
        "# IMPLEMENTAR\n",
        "\n",
        "#debe imprimir 4\n",
        "print(\"- La posición del máximo es:\")\n",
        "print(posicion)"
      ],
      "execution_count": null,
      "outputs": []
    },
    {
      "cell_type": "markdown",
      "metadata": {
        "id": "IPmi-ba1-nUU"
      },
      "source": [
        "Por cada elemento de la siguiente lista, imprimir si el elemento es divisible sobre 3 o no.\n",
        "\n",
        "TIP: %"
      ]
    },
    {
      "cell_type": "code",
      "metadata": {
        "id": "KNficdrZ-neB"
      },
      "source": [
        "lista = [1,2,3,4,10,13,16,20,22,27,30]\n",
        "\n",
        "# Implementar"
      ],
      "execution_count": null,
      "outputs": []
    },
    {
      "cell_type": "markdown",
      "metadata": {
        "id": "0Zpt6bYM-4TF"
      },
      "source": [
        ""
      ]
    }
  ]
}