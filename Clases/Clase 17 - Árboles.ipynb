{
  "nbformat": 4,
  "nbformat_minor": 0,
  "metadata": {
    "colab": {
      "name": "arboles.ipynb",
      "provenance": [],
      "collapsed_sections": []
    },
    "kernelspec": {
      "name": "python3",
      "display_name": "Python 3"
    },
    "language_info": {
      "name": "python"
    }
  },
  "cells": [
    {
      "cell_type": "markdown",
      "metadata": {
        "id": "bhJYmkn7hqb9"
      },
      "source": [
        "# Árboles de decisión\n",
        "\n",
        "La clase pasada vimos como implementar un árbol de decisión con sklearn. Ahora que conocemos el procedimiento para armar las condiciones mediante el criterio Gini, armemos nuestro propio árbol...\n",
        "\n",
        "Hay que tener en cuenta que esto es simplemente para tener una idea de como funcionan estos algoritmos por detrás, pero en la práctica no tiene sentido crear una nueva implementación de árboles de decisión ya que sklearn lo hace muy bien y tiene una gran comunidad que está constantemente desarrollando nuevas soluciones que seguramente funcionen mejor de lo que podemos crear nosotros solos desde cero.\n"
      ]
    },
    {
      "cell_type": "code",
      "metadata": {
        "id": "QEbwTU29iSIP"
      },
      "source": [
        "import pandas as pd\n",
        "import numpy as np\n",
        "import seaborn as sns\n",
        "import matplotlib.pyplot as plt\n",
        "from sklearn.metrics import accuracy_score"
      ],
      "execution_count": 3,
      "outputs": []
    },
    {
      "cell_type": "markdown",
      "metadata": {
        "id": "4PL2QI40iuC7"
      },
      "source": [
        "Vamos a trabajar con el dataset de titanic (mismo que la clase pasada). Buscaremos predecir si una persona sobrevivió o no.\n",
        "\n",
        "Vamos a utilizar como punto de partida la siguiente función (que tendrán que editar ustedes):"
      ]
    },
    {
      "cell_type": "code",
      "metadata": {
        "id": "_ls8Yvaxijd3"
      },
      "source": [
        "def predict(x):\n",
        "    prediction = 0 # MODIFICAR\n",
        "    \n",
        "    #### EJEMPLO\n",
        "    if x[\"Age\"] < 5:\n",
        "        prediction = 1\n",
        "    else:\n",
        "        prediction = 0\n",
        "    \n",
        "    return prediction"
      ],
      "execution_count": 6,
      "outputs": []
    },
    {
      "cell_type": "markdown",
      "metadata": {
        "id": "bYcGhk1xjRot"
      },
      "source": [
        "Leer el dataset de titanic:\n"
      ]
    },
    {
      "cell_type": "code",
      "metadata": {
        "id": "tuc5Bd6AjHm-"
      },
      "source": [
        "df = # COMPLETAR"
      ],
      "execution_count": 8,
      "outputs": []
    },
    {
      "cell_type": "code",
      "metadata": {
        "colab": {
          "base_uri": "https://localhost:8080/",
          "height": 204
        },
        "id": "8TGOEBuGkh60",
        "outputId": "eaf6dc6c-c357-406c-fa50-e507332c22c4"
      },
      "source": [
        "df.head()"
      ],
      "execution_count": 9,
      "outputs": [
        {
          "output_type": "execute_result",
          "data": {
            "text/html": [
              "<div>\n",
              "<style scoped>\n",
              "    .dataframe tbody tr th:only-of-type {\n",
              "        vertical-align: middle;\n",
              "    }\n",
              "\n",
              "    .dataframe tbody tr th {\n",
              "        vertical-align: top;\n",
              "    }\n",
              "\n",
              "    .dataframe thead th {\n",
              "        text-align: right;\n",
              "    }\n",
              "</style>\n",
              "<table border=\"1\" class=\"dataframe\">\n",
              "  <thead>\n",
              "    <tr style=\"text-align: right;\">\n",
              "      <th></th>\n",
              "      <th>PassengerId</th>\n",
              "      <th>Survived</th>\n",
              "      <th>Pclass</th>\n",
              "      <th>Name</th>\n",
              "      <th>Sex</th>\n",
              "      <th>Age</th>\n",
              "      <th>SibSp</th>\n",
              "      <th>Parch</th>\n",
              "      <th>Ticket</th>\n",
              "      <th>Fare</th>\n",
              "      <th>Cabin</th>\n",
              "      <th>Embarked</th>\n",
              "    </tr>\n",
              "  </thead>\n",
              "  <tbody>\n",
              "    <tr>\n",
              "      <th>0</th>\n",
              "      <td>1</td>\n",
              "      <td>0</td>\n",
              "      <td>3</td>\n",
              "      <td>Braund, Mr. Owen Harris</td>\n",
              "      <td>male</td>\n",
              "      <td>22.0</td>\n",
              "      <td>1</td>\n",
              "      <td>0</td>\n",
              "      <td>A/5 21171</td>\n",
              "      <td>7.2500</td>\n",
              "      <td>NaN</td>\n",
              "      <td>S</td>\n",
              "    </tr>\n",
              "    <tr>\n",
              "      <th>1</th>\n",
              "      <td>2</td>\n",
              "      <td>1</td>\n",
              "      <td>1</td>\n",
              "      <td>Cumings, Mrs. John Bradley (Florence Briggs Th...</td>\n",
              "      <td>female</td>\n",
              "      <td>38.0</td>\n",
              "      <td>1</td>\n",
              "      <td>0</td>\n",
              "      <td>PC 17599</td>\n",
              "      <td>71.2833</td>\n",
              "      <td>C85</td>\n",
              "      <td>C</td>\n",
              "    </tr>\n",
              "    <tr>\n",
              "      <th>2</th>\n",
              "      <td>3</td>\n",
              "      <td>1</td>\n",
              "      <td>3</td>\n",
              "      <td>Heikkinen, Miss. Laina</td>\n",
              "      <td>female</td>\n",
              "      <td>26.0</td>\n",
              "      <td>0</td>\n",
              "      <td>0</td>\n",
              "      <td>STON/O2. 3101282</td>\n",
              "      <td>7.9250</td>\n",
              "      <td>NaN</td>\n",
              "      <td>S</td>\n",
              "    </tr>\n",
              "    <tr>\n",
              "      <th>3</th>\n",
              "      <td>4</td>\n",
              "      <td>1</td>\n",
              "      <td>1</td>\n",
              "      <td>Futrelle, Mrs. Jacques Heath (Lily May Peel)</td>\n",
              "      <td>female</td>\n",
              "      <td>35.0</td>\n",
              "      <td>1</td>\n",
              "      <td>0</td>\n",
              "      <td>113803</td>\n",
              "      <td>53.1000</td>\n",
              "      <td>C123</td>\n",
              "      <td>S</td>\n",
              "    </tr>\n",
              "    <tr>\n",
              "      <th>4</th>\n",
              "      <td>5</td>\n",
              "      <td>0</td>\n",
              "      <td>3</td>\n",
              "      <td>Allen, Mr. William Henry</td>\n",
              "      <td>male</td>\n",
              "      <td>35.0</td>\n",
              "      <td>0</td>\n",
              "      <td>0</td>\n",
              "      <td>373450</td>\n",
              "      <td>8.0500</td>\n",
              "      <td>NaN</td>\n",
              "      <td>S</td>\n",
              "    </tr>\n",
              "  </tbody>\n",
              "</table>\n",
              "</div>"
            ],
            "text/plain": [
              "   PassengerId  Survived  Pclass  ...     Fare Cabin  Embarked\n",
              "0            1         0       3  ...   7.2500   NaN         S\n",
              "1            2         1       1  ...  71.2833   C85         C\n",
              "2            3         1       3  ...   7.9250   NaN         S\n",
              "3            4         1       1  ...  53.1000  C123         S\n",
              "4            5         0       3  ...   8.0500   NaN         S\n",
              "\n",
              "[5 rows x 12 columns]"
            ]
          },
          "metadata": {},
          "execution_count": 9
        }
      ]
    },
    {
      "cell_type": "markdown",
      "metadata": {
        "id": "oCs_kPl0kn_m"
      },
      "source": [
        "Separar en una variable \"X\" las features que utilizaremos para predecir y en una variable \"y\" el target que queremos predecir (sobrevivió o no)"
      ]
    },
    {
      "cell_type": "code",
      "metadata": {
        "id": "CubIxqueklDR"
      },
      "source": [
        "X = #COMPLETAR\n",
        "y = #COMPLETAR"
      ],
      "execution_count": 15,
      "outputs": []
    },
    {
      "cell_type": "code",
      "metadata": {
        "colab": {
          "base_uri": "https://localhost:8080/",
          "height": 204
        },
        "id": "_5CvQ8Lak3GH",
        "outputId": "338794a8-43b5-4689-d217-69c684f5deec"
      },
      "source": [
        "X.head()"
      ],
      "execution_count": 12,
      "outputs": [
        {
          "output_type": "execute_result",
          "data": {
            "text/html": [
              "<div>\n",
              "<style scoped>\n",
              "    .dataframe tbody tr th:only-of-type {\n",
              "        vertical-align: middle;\n",
              "    }\n",
              "\n",
              "    .dataframe tbody tr th {\n",
              "        vertical-align: top;\n",
              "    }\n",
              "\n",
              "    .dataframe thead th {\n",
              "        text-align: right;\n",
              "    }\n",
              "</style>\n",
              "<table border=\"1\" class=\"dataframe\">\n",
              "  <thead>\n",
              "    <tr style=\"text-align: right;\">\n",
              "      <th></th>\n",
              "      <th>PassengerId</th>\n",
              "      <th>Pclass</th>\n",
              "      <th>Name</th>\n",
              "      <th>Sex</th>\n",
              "      <th>Age</th>\n",
              "      <th>SibSp</th>\n",
              "      <th>Parch</th>\n",
              "      <th>Ticket</th>\n",
              "      <th>Fare</th>\n",
              "      <th>Cabin</th>\n",
              "      <th>Embarked</th>\n",
              "    </tr>\n",
              "  </thead>\n",
              "  <tbody>\n",
              "    <tr>\n",
              "      <th>0</th>\n",
              "      <td>1</td>\n",
              "      <td>3</td>\n",
              "      <td>Braund, Mr. Owen Harris</td>\n",
              "      <td>male</td>\n",
              "      <td>22.0</td>\n",
              "      <td>1</td>\n",
              "      <td>0</td>\n",
              "      <td>A/5 21171</td>\n",
              "      <td>7.2500</td>\n",
              "      <td>NaN</td>\n",
              "      <td>S</td>\n",
              "    </tr>\n",
              "    <tr>\n",
              "      <th>1</th>\n",
              "      <td>2</td>\n",
              "      <td>1</td>\n",
              "      <td>Cumings, Mrs. John Bradley (Florence Briggs Th...</td>\n",
              "      <td>female</td>\n",
              "      <td>38.0</td>\n",
              "      <td>1</td>\n",
              "      <td>0</td>\n",
              "      <td>PC 17599</td>\n",
              "      <td>71.2833</td>\n",
              "      <td>C85</td>\n",
              "      <td>C</td>\n",
              "    </tr>\n",
              "    <tr>\n",
              "      <th>2</th>\n",
              "      <td>3</td>\n",
              "      <td>3</td>\n",
              "      <td>Heikkinen, Miss. Laina</td>\n",
              "      <td>female</td>\n",
              "      <td>26.0</td>\n",
              "      <td>0</td>\n",
              "      <td>0</td>\n",
              "      <td>STON/O2. 3101282</td>\n",
              "      <td>7.9250</td>\n",
              "      <td>NaN</td>\n",
              "      <td>S</td>\n",
              "    </tr>\n",
              "    <tr>\n",
              "      <th>3</th>\n",
              "      <td>4</td>\n",
              "      <td>1</td>\n",
              "      <td>Futrelle, Mrs. Jacques Heath (Lily May Peel)</td>\n",
              "      <td>female</td>\n",
              "      <td>35.0</td>\n",
              "      <td>1</td>\n",
              "      <td>0</td>\n",
              "      <td>113803</td>\n",
              "      <td>53.1000</td>\n",
              "      <td>C123</td>\n",
              "      <td>S</td>\n",
              "    </tr>\n",
              "    <tr>\n",
              "      <th>4</th>\n",
              "      <td>5</td>\n",
              "      <td>3</td>\n",
              "      <td>Allen, Mr. William Henry</td>\n",
              "      <td>male</td>\n",
              "      <td>35.0</td>\n",
              "      <td>0</td>\n",
              "      <td>0</td>\n",
              "      <td>373450</td>\n",
              "      <td>8.0500</td>\n",
              "      <td>NaN</td>\n",
              "      <td>S</td>\n",
              "    </tr>\n",
              "  </tbody>\n",
              "</table>\n",
              "</div>"
            ],
            "text/plain": [
              "   PassengerId  Pclass  ... Cabin Embarked\n",
              "0            1       3  ...   NaN        S\n",
              "1            2       1  ...   C85        C\n",
              "2            3       3  ...   NaN        S\n",
              "3            4       1  ...  C123        S\n",
              "4            5       3  ...   NaN        S\n",
              "\n",
              "[5 rows x 11 columns]"
            ]
          },
          "metadata": {},
          "execution_count": 12
        }
      ]
    },
    {
      "cell_type": "code",
      "metadata": {
        "colab": {
          "base_uri": "https://localhost:8080/"
        },
        "id": "Edweg1Ntk6uF",
        "outputId": "2a39e7ff-7b99-4b44-b071-88ccb09f4a6c"
      },
      "source": [
        "y.head()"
      ],
      "execution_count": 13,
      "outputs": [
        {
          "output_type": "execute_result",
          "data": {
            "text/plain": [
              "0    0\n",
              "1    1\n",
              "2    1\n",
              "3    1\n",
              "4    0\n",
              "Name: Survived, dtype: int64"
            ]
          },
          "metadata": {},
          "execution_count": 13
        }
      ]
    },
    {
      "cell_type": "markdown",
      "metadata": {
        "id": "kgQadIVPlGJt"
      },
      "source": [
        "Ahora, con la función predict que creamos, predecimos para todas las instancias:"
      ]
    },
    {
      "cell_type": "code",
      "metadata": {
        "colab": {
          "base_uri": "https://localhost:8080/"
        },
        "id": "ht-oOv5bk7RC",
        "outputId": "facfac81-2619-40ef-b058-f4191f4f4446"
      },
      "source": [
        "y_predicted = []\n",
        "\n",
        "for x in X.itertuples(): \n",
        "    y_i = predict(x) \n",
        "    y_predicted.append(y_i)\n",
        "\n",
        "print(y_predicted)"
      ],
      "execution_count": 19,
      "outputs": [
        {
          "output_type": "stream",
          "name": "stdout",
          "text": [
            "[0, 0, 0, 0, 0, 0, 0, 1, 0, 0, 1, 0, 0, 0, 0, 0, 1, 0, 0, 0, 0, 0, 0, 0, 0, 0, 0, 0, 0, 0, 0, 0, 0, 0, 0, 0, 0, 0, 0, 0, 0, 0, 0, 1, 0, 0, 0, 0, 0, 0, 0, 0, 0, 0, 0, 0, 0, 0, 0, 0, 0, 0, 0, 1, 0, 0, 0, 0, 0, 0, 0, 0, 0, 0, 0, 0, 0, 0, 1, 0, 0, 0, 0, 0, 0, 0, 0, 0, 0, 0, 0, 0, 0, 0, 0, 0, 0, 0, 0, 0, 0, 0, 0, 0, 0, 0, 0, 0, 0, 0, 0, 0, 0, 0, 0, 0, 0, 0, 0, 1, 0, 0, 0, 0, 0, 0, 0, 0, 0, 0, 0, 0, 0, 0, 0, 0, 0, 0, 0, 0, 0, 0, 0, 0, 0, 0, 0, 0, 0, 0, 0, 0, 0, 0, 0, 0, 0, 0, 0, 0, 0, 0, 0, 0, 1, 0, 0, 0, 0, 0, 0, 1, 1, 0, 0, 0, 0, 0, 0, 0, 0, 0, 0, 1, 1, 0, 0, 0, 0, 0, 0, 0, 0, 1, 0, 0, 0, 0, 0, 0, 0, 0, 0, 0, 0, 1, 0, 0, 0, 0, 0, 0, 0, 0, 0, 0, 0, 0, 0, 0, 0, 0, 0, 0, 0, 0, 0, 0, 0, 0, 0, 0, 0, 0, 0, 0, 0, 0, 0, 0, 0, 0, 0, 0, 0, 0, 0, 0, 0, 0, 0, 0, 0, 0, 0, 0, 0, 0, 0, 0, 0, 1, 0, 0, 0, 0, 0, 0, 0, 0, 0, 0, 0, 0, 0, 0, 0, 0, 0, 0, 0, 0, 0, 0, 0, 0, 0, 0, 0, 0, 0, 0, 0, 0, 0, 0, 0, 1, 0, 0, 0, 0, 0, 0, 0, 1, 0, 0, 0, 0, 0, 0, 0, 0, 0, 0, 0, 0, 0, 0, 0, 0, 0, 0, 0, 0, 0, 0, 0, 0, 0, 0, 0, 0, 0, 0, 0, 0, 0, 0, 1, 0, 0, 0, 0, 0, 0, 0, 1, 0, 0, 0, 0, 0, 0, 0, 0, 0, 0, 0, 0, 0, 0, 0, 0, 0, 0, 0, 0, 0, 0, 0, 0, 0, 1, 0, 0, 0, 0, 0, 0, 1, 0, 0, 0, 0, 1, 0, 0, 0, 0, 0, 0, 0, 0, 0, 0, 0, 0, 0, 0, 0, 0, 0, 0, 0, 0, 1, 0, 0, 0, 0, 0, 0, 0, 0, 0, 0, 0, 0, 0, 0, 0, 0, 0, 0, 0, 0, 0, 0, 0, 0, 0, 0, 0, 0, 0, 0, 0, 0, 0, 0, 0, 0, 0, 1, 0, 0, 0, 0, 0, 0, 0, 0, 0, 0, 0, 0, 0, 0, 0, 0, 0, 0, 0, 0, 0, 0, 0, 1, 0, 0, 0, 0, 0, 0, 0, 0, 0, 1, 0, 0, 0, 0, 0, 0, 0, 0, 0, 0, 0, 0, 0, 0, 0, 0, 0, 0, 0, 0, 0, 0, 0, 0, 0, 0, 0, 0, 0, 0, 0, 0, 0, 0, 0, 0, 0, 0, 0, 0, 0, 0, 0, 0, 0, 0, 0, 0, 0, 0, 1, 0, 0, 0, 0, 0, 0, 0, 0, 0, 0, 0, 0, 0, 0, 0, 0, 0, 0, 0, 0, 0, 0, 0, 0, 0, 0, 0, 0, 0, 0, 0, 0, 0, 0, 0, 0, 0, 0, 0, 0, 0, 0, 0, 0, 0, 0, 0, 0, 0, 0, 0, 0, 0, 0, 0, 0, 0, 0, 0, 0, 0, 0, 0, 0, 0, 0, 0, 0, 0, 0, 0, 0, 0, 0, 0, 0, 0, 0, 0, 0, 0, 0, 0, 0, 0, 0, 0, 1, 0, 0, 0, 0, 0, 0, 0, 0, 0, 0, 0, 0, 0, 0, 0, 0, 0, 0, 0, 0, 0, 0, 0, 1, 0, 1, 0, 0, 0, 0, 0, 0, 0, 0, 0, 0, 0, 0, 0, 0, 0, 0, 0, 0, 0, 0, 0, 0, 0, 0, 0, 0, 0, 0, 0, 0, 0, 0, 0, 0, 0, 0, 0, 0, 0, 0, 0, 0, 0, 0, 0, 0, 1, 0, 0, 0, 0, 0, 0, 0, 0, 0, 0, 0, 0, 0, 0, 0, 0, 0, 0, 0, 0, 0, 0, 0, 0, 0, 0, 0, 0, 0, 0, 0, 0, 0, 0, 0, 0, 0, 0, 0, 0, 0, 0, 0, 0, 0, 0, 0, 0, 0, 0, 0, 0, 0, 0, 0, 0, 0, 0, 1, 0, 0, 0, 0, 1, 0, 0, 0, 0, 0, 0, 0, 0, 0, 0, 0, 0, 0, 0, 0, 0, 0, 0, 0, 0, 0, 0, 0, 0, 0, 0, 0, 0, 0, 0, 0, 0, 1, 0, 0, 0, 0, 0, 0, 0, 0, 0, 0, 0, 0, 0, 0, 1, 0, 0, 0, 0, 0, 0, 0, 0, 0, 0, 0, 0, 0, 0, 0, 0, 0, 0, 0, 0, 1, 0, 0, 1, 0, 0, 0, 1, 0, 0, 0, 0, 0, 0, 0, 0, 0, 0, 0, 0, 0, 0, 0, 0, 0, 0, 1, 0, 0, 0, 0, 0, 0, 0, 0, 0, 0, 0, 0, 0, 0, 0, 0, 0, 0, 1, 0, 0, 0, 0, 0, 0, 0, 0, 0, 0, 0, 0, 0, 0, 0, 0, 0, 0, 0, 0, 0]\n"
          ]
        }
      ]
    },
    {
      "cell_type": "markdown",
      "metadata": {
        "id": "iu54UP1vlp_R"
      },
      "source": [
        "Poner el código de la celda anterior en una función que se llame predict_all, reciba como parámetro X y retorne la lista y_predicted"
      ]
    },
    {
      "cell_type": "code",
      "metadata": {
        "id": "ItQnjlK_lk0W"
      },
      "source": [
        "# COMPLETAR"
      ],
      "execution_count": 20,
      "outputs": []
    },
    {
      "cell_type": "markdown",
      "metadata": {
        "id": "FtRcXl2hl5gO"
      },
      "source": [
        "Calculamos el accuracy de nuestro árbol de decisión (que hasta ahora simplemente predice 1 si la edad es menor a 5):"
      ]
    },
    {
      "cell_type": "code",
      "metadata": {
        "colab": {
          "base_uri": "https://localhost:8080/"
        },
        "id": "wa--JyxHlxYE",
        "outputId": "af9e9afc-33f0-4505-e904-00c51dc25ae6"
      },
      "source": [
        "print(\"Accuracy: \", round(accuracy_score(y_predicted, y), 3))"
      ],
      "execution_count": 23,
      "outputs": [
        {
          "output_type": "stream",
          "name": "stdout",
          "text": [
            "Accuracy:  0.632\n"
          ]
        }
      ]
    },
    {
      "cell_type": "markdown",
      "metadata": {
        "id": "2gm6OTiTmPrm"
      },
      "source": [
        "Ahora, para mejorar este simple modelo baseline, utilizaremos lo que aprendimos en la teoría sobre impureza Gini para crear mejores condiciones en nuestra función predict.\n",
        "\n",
        "### Impureza Gini\n",
        "\n",
        "Vamos a calcular que tan buenas son las condiciones por Género y Clase para predecir si los pasajeros sobrevivieron o no.\n",
        "\n",
        "\n",
        "1) Calcular la impureza Gini luego de separar por género.\n",
        "\n",
        "Recuerden los pasos:\n",
        "\n",
        "- Calcular la impureza correspondiente al género masculino\n",
        "- Calcular la impureza correspondiente al género femenino\n",
        "- Hacer un promedio ponderado\n",
        "\n",
        "Utilizando una máscara, almacenamos en las variables y_female, y_male la columna survived correspondiente a cada género:"
      ]
    },
    {
      "cell_type": "code",
      "metadata": {
        "id": "-FuHyPtPmHPa"
      },
      "source": [
        "y_female = df[COMPLETAR].Survived\n",
        "y_male = df[COMPLETAR].Survived"
      ],
      "execution_count": 24,
      "outputs": []
    },
    {
      "cell_type": "code",
      "metadata": {
        "colab": {
          "base_uri": "https://localhost:8080/"
        },
        "id": "4DyR9LuXnJhW",
        "outputId": "68fae0fa-5056-4257-d569-e84c3b11c21e"
      },
      "source": [
        "y_female"
      ],
      "execution_count": 25,
      "outputs": [
        {
          "output_type": "execute_result",
          "data": {
            "text/plain": [
              "1      1\n",
              "2      1\n",
              "3      1\n",
              "8      1\n",
              "9      1\n",
              "      ..\n",
              "880    1\n",
              "882    0\n",
              "885    0\n",
              "887    1\n",
              "888    0\n",
              "Name: Survived, Length: 314, dtype: int64"
            ]
          },
          "metadata": {},
          "execution_count": 25
        }
      ]
    },
    {
      "cell_type": "code",
      "metadata": {
        "colab": {
          "base_uri": "https://localhost:8080/"
        },
        "id": "sjhMB4F3nNpA",
        "outputId": "e75649fb-5197-492f-8c52-accb040aef25"
      },
      "source": [
        "y_male"
      ],
      "execution_count": 26,
      "outputs": [
        {
          "output_type": "execute_result",
          "data": {
            "text/plain": [
              "0      0\n",
              "4      0\n",
              "5      0\n",
              "6      0\n",
              "7      0\n",
              "      ..\n",
              "883    0\n",
              "884    0\n",
              "886    0\n",
              "889    1\n",
              "890    0\n",
              "Name: Survived, Length: 577, dtype: int64"
            ]
          },
          "metadata": {},
          "execution_count": 26
        }
      ]
    },
    {
      "cell_type": "markdown",
      "metadata": {
        "id": "ZLrweHx3o50v"
      },
      "source": [
        "Ahora, recuenden la fórmula:\n",
        "\n",
        "![image.png](data:image/png;base64,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)\n",
        "\n"
      ]
    },
    {
      "cell_type": "markdown",
      "metadata": {
        "id": "m068Tq46pJSK"
      },
      "source": [
        "Tenemos que contar para y_female, y_male, la cantidad de muestras positivas y negativas (1s y 0s).\n",
        "\n",
        "Arranquemos por y_female"
      ]
    },
    {
      "cell_type": "code",
      "metadata": {
        "id": "YkU-NkJ_pTRe"
      },
      "source": [
        "muestras_neg = #COMPLETAR\n",
        "muestras_pos = #COMPLETAR"
      ],
      "execution_count": null,
      "outputs": []
    },
    {
      "cell_type": "markdown",
      "metadata": {
        "id": "2UMnnUdupY-9"
      },
      "source": [
        "Necesitamos N (el largo total de la muestra) para poder calcular las probabilidades. N de y_female va a ser igual a el tamaño de y_female:"
      ]
    },
    {
      "cell_type": "code",
      "metadata": {
        "id": "O_xaF2sIpm7c"
      },
      "source": [
        "N = #COMPLETAR"
      ],
      "execution_count": null,
      "outputs": []
    },
    {
      "cell_type": "markdown",
      "metadata": {
        "id": "bfsrYhJapqp4"
      },
      "source": [
        "Ahora estamos listos para aplicar la fórmula:"
      ]
    },
    {
      "cell_type": "code",
      "metadata": {
        "id": "OsqKEbQ-pycb"
      },
      "source": [
        "gini_female = #COMPLETAR"
      ],
      "execution_count": 2,
      "outputs": []
    },
    {
      "cell_type": "code",
      "metadata": {
        "id": "zQeKvHQhp4Ix"
      },
      "source": [
        "print(gini_female)"
      ],
      "execution_count": null,
      "outputs": []
    },
    {
      "cell_type": "markdown",
      "metadata": {
        "id": "ZJ1SWKx1qE_l"
      },
      "source": [
        "Ahora tenemos que hacer lo mismo para y_male.\n",
        "\n",
        "Calcular gini_male:"
      ]
    },
    {
      "cell_type": "code",
      "metadata": {
        "id": "_gsN2Cxop-HS"
      },
      "source": [
        "# COMPLETAR"
      ],
      "execution_count": 3,
      "outputs": []
    },
    {
      "cell_type": "markdown",
      "metadata": {
        "id": "z_ZchpmfqN3_"
      },
      "source": [
        "Finalmente, podemos calcular la impureza Gini al separar por género. (Promedio ponderado).\n",
        "\n",
        "Siguiendo lo que vimos en la teoría, calcular la impureza gini al separar por género:"
      ]
    },
    {
      "cell_type": "markdown",
      "metadata": {
        "id": "UyiIlHNRqxLQ"
      },
      "source": [
        "Pueden guiarse con el ejemplo de la teoría:\n",
        "![image.png](data:image/png;base64,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)"
      ]
    },
    {
      "cell_type": "code",
      "metadata": {
        "colab": {
          "base_uri": "https://localhost:8080/"
        },
        "id": "v2-1iQmmnSAN",
        "outputId": "e571f6a3-23e0-4136-9a3b-35c868bc2cc6"
      },
      "source": [
        "gini_genero = #COMPLETAR FORMULA\n",
        "print(f'Impureza Gini al separar por Genero: {gini_genero}')"
      ],
      "execution_count": 29,
      "outputs": [
        {
          "output_type": "stream",
          "name": "stdout",
          "text": [
            "Impureza Gini al separar por Genero: 0.13760148246050435\n"
          ]
        }
      ]
    },
    {
      "cell_type": "markdown",
      "metadata": {
        "id": "pP1OcQOErU6I"
      },
      "source": [
        "Ahora, hacer lo mismo para la variable Clase.\n",
        "\n",
        "Recuerden que la variable clase tiene 3 categorías, por lo que van a tener 3 hojas y tienen que hacer el cálculo para cada una de ellas."
      ]
    },
    {
      "cell_type": "code",
      "metadata": {
        "id": "MAh6Ye6onTm5"
      },
      "source": [
        "# COMPLETAR GINI CLASE"
      ],
      "execution_count": 4,
      "outputs": []
    },
    {
      "cell_type": "markdown",
      "metadata": {
        "id": "aZb_rtCvr2Be"
      },
      "source": [
        "## Volvamos a sklearn\n",
        "\n",
        "Ya vimos como se arma un árbol \"a mano\". Ahora, volvamos a sklearn 🙌🏻.\n",
        "\n",
        "La clase pasada entrenamos un modelo para clasificar sobre este mismo dataset.\n",
        "\n",
        "Vamos a basarnos en el mismo modelo pero haciendo un train - test split."
      ]
    },
    {
      "cell_type": "markdown",
      "metadata": {
        "id": "80s21BxRrmYw"
      },
      "source": [
        "1) Basandonos en la documentación https://scikit-learn.org/stable/modules/generated/sklearn.model_selection.train_test_split.html\n",
        "\n",
        "Vemos que uno de los atributos más importantes en train-test split es test_size. Con este parámetro, podemos aclarar que porcentaje de los datos queremos que queden como test.\n",
        "\n",
        "Otro atributo importante es stratify. \n",
        "\n",
        "¿ Para qué sirve stratify ? En la documentación no está muy explicado, pero siempre podemos googlear. Por ejemplo, aca hay una buena respuesta: https://stackoverflow.com/questions/34842405/parameter-stratify-from-method-train-test-split-scikit-learn"
      ]
    },
    {
      "cell_type": "code",
      "metadata": {
        "id": "HCqWWgNwrlx_"
      },
      "source": [
        "# IMPORTAR train_test_split de sklearn"
      ],
      "execution_count": 5,
      "outputs": []
    },
    {
      "cell_type": "markdown",
      "metadata": {
        "id": "98kLmsLxvDjL"
      },
      "source": [
        "Ahora, aplicamos el train_test_split:"
      ]
    },
    {
      "cell_type": "code",
      "metadata": {
        "id": "3WHpwqdfvRis"
      },
      "source": [
        "X = df.drop([COLUMNAS], axis=1)# Basarse en las columnas que eligieron para su modelo la clase pasada\n",
        "y = df[\"Survived\"]"
      ],
      "execution_count": null,
      "outputs": []
    },
    {
      "cell_type": "code",
      "metadata": {
        "id": "WPeo2_DhvAcE"
      },
      "source": [
        "X_train, X_test, y_train, y_test = train_test_split(X, y, test_size=0.2)"
      ],
      "execution_count": null,
      "outputs": []
    },
    {
      "cell_type": "code",
      "metadata": {
        "id": "DIubTLFEvFdg"
      },
      "source": [
        "X_train.shape"
      ],
      "execution_count": null,
      "outputs": []
    },
    {
      "cell_type": "code",
      "metadata": {
        "id": "QY7FOQkovZlU"
      },
      "source": [
        "X_test.shape"
      ],
      "execution_count": null,
      "outputs": []
    },
    {
      "cell_type": "code",
      "metadata": {
        "id": "mjlrhMi3vZnl"
      },
      "source": [
        "y_train.shape"
      ],
      "execution_count": null,
      "outputs": []
    },
    {
      "cell_type": "code",
      "metadata": {
        "id": "ZlH-d4mXvZpt"
      },
      "source": [
        "y_test.shape"
      ],
      "execution_count": null,
      "outputs": []
    },
    {
      "cell_type": "markdown",
      "metadata": {
        "id": "dv-BusXLvc4v"
      },
      "source": [
        "Ya tenemos nuestros datos divididos en train - test.\n",
        "\n",
        "Ahora, hay que aplicar todo el preprocesamiento que decidieron hacer la última clase (copiar y pegar) sobre el set de train.\n"
      ]
    },
    {
      "cell_type": "code",
      "metadata": {
        "id": "leqcUfr_vZsP"
      },
      "source": [
        "# COMPLETAR PREPROCESSING TRAIN"
      ],
      "execution_count": 8,
      "outputs": []
    },
    {
      "cell_type": "markdown",
      "metadata": {
        "id": "Vmb-wVmhvrKT"
      },
      "source": [
        "Entrenamos nuestro decision tree"
      ]
    },
    {
      "cell_type": "code",
      "metadata": {
        "id": "alCBbAsFvqUJ"
      },
      "source": [
        "# Entrenar decision tree"
      ],
      "execution_count": null,
      "outputs": []
    },
    {
      "cell_type": "markdown",
      "metadata": {
        "id": "A6h0IvLrvvzB"
      },
      "source": [
        "Y ahora lo queremos evaluar.\n",
        "\n",
        "Para esto, vamos a medir el accuracy score con el set de train (X_train, y_train) y con el set de test (X_test, y_test).\n",
        "\n",
        "Para poder generar predicciones sobre X_test, tenemos que aplicar el mismo preprocesamiento que hicimos sobre el set de train, pero esta vez al set de test.\n",
        "\n",
        "Para esto, tenemos que utilizar los mismos objetos que utilizamos para transformar los datos en train; es decir, que si utilizaron un OneHotEncoder al cual le hicieron fit con datos de train, cuando vayan a aplicar la transformación a los datos de test NO tienen que volver a hacer el fit. Simplemente hacen un transform. Esto es para que se aplique sobre test la misma transformación que se aplico en train.\n",
        "\n",
        "Siempre hacemos fit sobre los datos de train y luego solo utilizamos transform.\n",
        "\n",
        "Aplicar las transformaciones sobre el set de test:"
      ]
    },
    {
      "cell_type": "code",
      "metadata": {
        "id": "eIR1EQWk2WOW"
      },
      "source": [
        "# COMPLETAR"
      ],
      "execution_count": 9,
      "outputs": []
    },
    {
      "cell_type": "markdown",
      "metadata": {
        "id": "lSAfH_IR2X_w"
      },
      "source": [
        "Generar las predicciones para train y para test:"
      ]
    },
    {
      "cell_type": "code",
      "metadata": {
        "id": "UIcETg1X2XNc"
      },
      "source": [
        "train_preds = MODELO.predict(X_train)\n",
        "test_preds = MODELO.predict(X_test)"
      ],
      "execution_count": null,
      "outputs": []
    },
    {
      "cell_type": "markdown",
      "metadata": {
        "id": "rA1GJzEL2fmw"
      },
      "source": [
        "Y calcular el accuracy score para ambos:"
      ]
    },
    {
      "cell_type": "code",
      "metadata": {
        "id": "8YAW38fg2hiF"
      },
      "source": [
        "accuracy_score(y_train, train_preds)"
      ],
      "execution_count": null,
      "outputs": []
    },
    {
      "cell_type": "code",
      "metadata": {
        "id": "VABzpzBw2mZC"
      },
      "source": [
        "accuracy_score(y_test, test_preds)"
      ],
      "execution_count": null,
      "outputs": []
    },
    {
      "cell_type": "markdown",
      "metadata": {
        "id": "ooUy8yQu2oo6"
      },
      "source": [
        "¿ Qué conclusiones pueden sacar de estos resultados ?\n",
        "\n",
        "¿ El modelo es bueno para predecir sobre datos nuevos ?\n",
        "\n",
        "¿ Les dio mejor la métrica en train o en test ? ¿ Por qué ?\n",
        "\n",
        "Un modelo que nos de métricas muy buenas sobre el set de train (por ejemplo 98% de accuracy score) pero malas sobre test. ¿ Qué problema tiene ?"
      ]
    },
    {
      "cell_type": "markdown",
      "metadata": {
        "id": "Nqb7Xp2n_F7x"
      },
      "source": [
        "# Visualizando decision trees\n",
        "\n",
        "SKlearn nos permite ver como se armó un arbol de decisión.\n",
        "\n",
        "Para esto podemos utilizar: https://scikit-learn.org/stable/modules/generated/sklearn.tree.plot_tree.html\n",
        "\n",
        "Primero que nada vamos a importar el dataset de iris desde sklearn y dividirlo en X e y para entrenar un árbol (por simplicidad le ponemos max_depth=2):"
      ]
    },
    {
      "cell_type": "code",
      "metadata": {
        "colab": {
          "base_uri": "https://localhost:8080/"
        },
        "id": "x-I-r0ui5Ekm",
        "outputId": "c69c15b3-2164-487f-bc87-50c12d0e0ef8"
      },
      "source": [
        "from sklearn.datasets import load_iris\n",
        "from sklearn.tree import DecisionTreeClassifier\n",
        "\n",
        "iris = load_iris()\n",
        "X = pd.DataFrame(iris.data[:, :], columns = iris.feature_names[:])\n",
        "y = pd.DataFrame(iris.target, columns =[\"Species\"])\n",
        "\n",
        "tree = DecisionTreeClassifier(max_depth = 2)\n",
        "tree.fit(X,y)"
      ],
      "execution_count": 8,
      "outputs": [
        {
          "output_type": "execute_result",
          "data": {
            "text/plain": [
              "DecisionTreeClassifier(ccp_alpha=0.0, class_weight=None, criterion='gini',\n",
              "                       max_depth=2, max_features=None, max_leaf_nodes=None,\n",
              "                       min_impurity_decrease=0.0, min_impurity_split=None,\n",
              "                       min_samples_leaf=1, min_samples_split=2,\n",
              "                       min_weight_fraction_leaf=0.0, presort='deprecated',\n",
              "                       random_state=None, splitter='best')"
            ]
          },
          "metadata": {},
          "execution_count": 8
        }
      ]
    },
    {
      "cell_type": "code",
      "metadata": {
        "colab": {
          "base_uri": "https://localhost:8080/",
          "height": 204
        },
        "id": "xfj2aM2c7gE1",
        "outputId": "6d1b8ef8-0c87-44ff-cd24-3d3fc034464b"
      },
      "source": [
        "X.head()"
      ],
      "execution_count": 12,
      "outputs": [
        {
          "output_type": "execute_result",
          "data": {
            "text/html": [
              "<div>\n",
              "<style scoped>\n",
              "    .dataframe tbody tr th:only-of-type {\n",
              "        vertical-align: middle;\n",
              "    }\n",
              "\n",
              "    .dataframe tbody tr th {\n",
              "        vertical-align: top;\n",
              "    }\n",
              "\n",
              "    .dataframe thead th {\n",
              "        text-align: right;\n",
              "    }\n",
              "</style>\n",
              "<table border=\"1\" class=\"dataframe\">\n",
              "  <thead>\n",
              "    <tr style=\"text-align: right;\">\n",
              "      <th></th>\n",
              "      <th>sepal length (cm)</th>\n",
              "      <th>sepal width (cm)</th>\n",
              "      <th>petal length (cm)</th>\n",
              "      <th>petal width (cm)</th>\n",
              "    </tr>\n",
              "  </thead>\n",
              "  <tbody>\n",
              "    <tr>\n",
              "      <th>0</th>\n",
              "      <td>5.1</td>\n",
              "      <td>3.5</td>\n",
              "      <td>1.4</td>\n",
              "      <td>0.2</td>\n",
              "    </tr>\n",
              "    <tr>\n",
              "      <th>1</th>\n",
              "      <td>4.9</td>\n",
              "      <td>3.0</td>\n",
              "      <td>1.4</td>\n",
              "      <td>0.2</td>\n",
              "    </tr>\n",
              "    <tr>\n",
              "      <th>2</th>\n",
              "      <td>4.7</td>\n",
              "      <td>3.2</td>\n",
              "      <td>1.3</td>\n",
              "      <td>0.2</td>\n",
              "    </tr>\n",
              "    <tr>\n",
              "      <th>3</th>\n",
              "      <td>4.6</td>\n",
              "      <td>3.1</td>\n",
              "      <td>1.5</td>\n",
              "      <td>0.2</td>\n",
              "    </tr>\n",
              "    <tr>\n",
              "      <th>4</th>\n",
              "      <td>5.0</td>\n",
              "      <td>3.6</td>\n",
              "      <td>1.4</td>\n",
              "      <td>0.2</td>\n",
              "    </tr>\n",
              "  </tbody>\n",
              "</table>\n",
              "</div>"
            ],
            "text/plain": [
              "   sepal length (cm)  sepal width (cm)  petal length (cm)  petal width (cm)\n",
              "0                5.1               3.5                1.4               0.2\n",
              "1                4.9               3.0                1.4               0.2\n",
              "2                4.7               3.2                1.3               0.2\n",
              "3                4.6               3.1                1.5               0.2\n",
              "4                5.0               3.6                1.4               0.2"
            ]
          },
          "metadata": {},
          "execution_count": 12
        }
      ]
    },
    {
      "cell_type": "code",
      "metadata": {
        "colab": {
          "base_uri": "https://localhost:8080/",
          "height": 204
        },
        "id": "QfLjkFhu7hwE",
        "outputId": "9c11ed0f-81d8-491e-878c-3db9266003e5"
      },
      "source": [
        "y.head()"
      ],
      "execution_count": 13,
      "outputs": [
        {
          "output_type": "execute_result",
          "data": {
            "text/html": [
              "<div>\n",
              "<style scoped>\n",
              "    .dataframe tbody tr th:only-of-type {\n",
              "        vertical-align: middle;\n",
              "    }\n",
              "\n",
              "    .dataframe tbody tr th {\n",
              "        vertical-align: top;\n",
              "    }\n",
              "\n",
              "    .dataframe thead th {\n",
              "        text-align: right;\n",
              "    }\n",
              "</style>\n",
              "<table border=\"1\" class=\"dataframe\">\n",
              "  <thead>\n",
              "    <tr style=\"text-align: right;\">\n",
              "      <th></th>\n",
              "      <th>Species</th>\n",
              "    </tr>\n",
              "  </thead>\n",
              "  <tbody>\n",
              "    <tr>\n",
              "      <th>0</th>\n",
              "      <td>0</td>\n",
              "    </tr>\n",
              "    <tr>\n",
              "      <th>1</th>\n",
              "      <td>0</td>\n",
              "    </tr>\n",
              "    <tr>\n",
              "      <th>2</th>\n",
              "      <td>0</td>\n",
              "    </tr>\n",
              "    <tr>\n",
              "      <th>3</th>\n",
              "      <td>0</td>\n",
              "    </tr>\n",
              "    <tr>\n",
              "      <th>4</th>\n",
              "      <td>0</td>\n",
              "    </tr>\n",
              "  </tbody>\n",
              "</table>\n",
              "</div>"
            ],
            "text/plain": [
              "   Species\n",
              "0        0\n",
              "1        0\n",
              "2        0\n",
              "3        0\n",
              "4        0"
            ]
          },
          "metadata": {},
          "execution_count": 13
        }
      ]
    },
    {
      "cell_type": "markdown",
      "metadata": {
        "id": "bunc8dOd6nmu"
      },
      "source": [
        "Ahora, con plot_tree de sklearn, podemos visualizar nuestro árbol para entender como toma decisiones para clasificar:"
      ]
    },
    {
      "cell_type": "code",
      "metadata": {
        "colab": {
          "base_uri": "https://localhost:8080/",
          "height": 248
        },
        "id": "VY1hi3bQ5WOk",
        "outputId": "1965bee4-1b07-4f01-fcdb-c2a1d6af7dac"
      },
      "source": [
        "from sklearn.tree import plot_tree\n",
        "\n",
        "plot_tree(tree)\n",
        "plt.show()"
      ],
      "execution_count": 10,
      "outputs": [
        {
          "output_type": "display_data",
          "data": {
            "image/png": "[encoded data removed]",
            "text/plain": [
              "<Figure size 432x288 with 1 Axes>"
            ]
          },
          "metadata": {
            "needs_background": "light"
          }
        }
      ]
    }
  ]
}