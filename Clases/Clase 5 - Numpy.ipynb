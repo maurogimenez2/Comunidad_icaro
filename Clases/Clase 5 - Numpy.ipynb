{
  "nbformat": 4,
  "nbformat_minor": 0,
  "metadata": {
    "colab": {
      "name": "clase 5 - ejercicios numpy.ipynb",
      "provenance": []
    },
    "kernelspec": {
      "name": "python3",
      "display_name": "Python 3"
    },
    "language_info": {
      "name": "python"
    }
  },
  "cells": [
    {
      "cell_type": "markdown",
      "metadata": {
        "id": "9xv35hKO1MsK"
      },
      "source": [
        "Importar numpy con el alias **np**"
      ]
    },
    {
      "cell_type": "code",
      "metadata": {
        "id": "ZfOsZFw41Haq"
      },
      "source": [
        "# Importar en esta celda"
      ],
      "execution_count": 1,
      "outputs": []
    },
    {
      "cell_type": "markdown",
      "metadata": {
        "id": "ajfwO4gA1R5V"
      },
      "source": [
        "# 1) \n",
        "\n",
        "Crear un array de 3x3 en el que todos sus valores sean `True` de la forma más simple posible"
      ]
    },
    {
      "cell_type": "code",
      "metadata": {
        "id": "LpgmE0jg1RQC"
      },
      "source": [
        "trues_array = #COMPLETAR\n",
        "trues_array"
      ],
      "execution_count": null,
      "outputs": []
    },
    {
      "cell_type": "markdown",
      "metadata": {
        "id": "lPLdDLJb1bWg"
      },
      "source": [
        "# 2)\n",
        "\n",
        "Reemplazar todos los números impares del siguiente array por el valor -1"
      ]
    },
    {
      "cell_type": "code",
      "metadata": {
        "id": "dV015luF1W4F"
      },
      "source": [
        "arr = np.array([0, 1, 2, 3, 4, 5, 6, 7, 8, 9])\n",
        "mask = # COMPLETAR\n",
        "#COMPLETAR"
      ],
      "execution_count": null,
      "outputs": []
    },
    {
      "cell_type": "markdown",
      "metadata": {
        "id": "4yLHXpb41gf1"
      },
      "source": [
        "# 3)\n",
        "\n",
        "Investigar las funciones vstack y hstack de numpy.\n",
        "\n",
        "1) Concatenar los arrays a y b horizontalmente\n",
        "\n",
        "2) Concatenar los arrays a y b verticalmente\n",
        "\n",
        "Resultado esperado:\n",
        "\n",
        "1)\n",
        "```\n",
        "array([[0, 1, 2, 3, 4],\n",
        "       [5, 6, 7, 8, 9],\n",
        "       [1, 1, 1, 1, 1],\n",
        "       [1, 1, 1, 1, 1]])\n",
        "```\n",
        "\n",
        "2)\n",
        "```\n",
        "array([[0, 1, 2, 3, 4, 1, 1, 1, 1, 1],\n",
        "      [5, 6, 7, 8, 9, 1, 1, 1, 1, 1]])\n",
        "```\n"
      ]
    },
    {
      "cell_type": "code",
      "metadata": {
        "id": "GwkAllP81kqm"
      },
      "source": [
        "a = np.arange(10).reshape(2,5)\n",
        "b = np.repeat(1, 10).reshape(2,5) "
      ],
      "execution_count": null,
      "outputs": []
    },
    {
      "cell_type": "code",
      "metadata": {
        "id": "0vkQH8Fb1mgu"
      },
      "source": [
        "print(a)"
      ],
      "execution_count": null,
      "outputs": []
    },
    {
      "cell_type": "code",
      "metadata": {
        "id": "_5YL1OU41n2L"
      },
      "source": [
        "print(b)"
      ],
      "execution_count": null,
      "outputs": []
    },
    {
      "cell_type": "markdown",
      "metadata": {
        "id": "w24iLQVw1pH6"
      },
      "source": [
        "# 4)\n",
        "Como podemos obtener la intersección entre dos arrays? \n",
        "\n",
        "Investigar la función `intersect1d` y utilizarla para los siguientes arrays:"
      ]
    },
    {
      "cell_type": "code",
      "metadata": {
        "id": "V1bvbhO-1sZT"
      },
      "source": [
        "a = np.array([1,2,3,2,3,4,3,4,5,6])\n",
        "b = np.array([7,2,10,2,7,4,9,4,9,8])"
      ],
      "execution_count": null,
      "outputs": []
    },
    {
      "cell_type": "code",
      "metadata": {
        "id": "ci7zEKXR1vC2"
      },
      "source": [
        "# COMPLETAR"
      ],
      "execution_count": null,
      "outputs": []
    },
    {
      "cell_type": "code",
      "metadata": {
        "id": "v3XsvXUd1vF-"
      },
      "source": [
        "# Salida esperada: array([2, 4])"
      ],
      "execution_count": null,
      "outputs": []
    },
    {
      "cell_type": "markdown",
      "metadata": {
        "id": "93bCI4AC1xfY"
      },
      "source": [
        "# 5)\n",
        "\n",
        "Crear un array con valores en el rango 10 a 49 y luego invertirlo. (Numpy tiene una función para esto)"
      ]
    },
    {
      "cell_type": "code",
      "metadata": {
        "id": "_b2VkTEC17NC"
      },
      "source": [
        "# COMPLETAR"
      ],
      "execution_count": 3,
      "outputs": []
    }
  ]
}