{
  "nbformat": 4,
  "nbformat_minor": 0,
  "metadata": {
    "colab": {
      "name": "POO.ipynb",
      "provenance": []
    },
    "kernelspec": {
      "name": "python3",
      "display_name": "Python 3"
    },
    "language_info": {
      "name": "python"
    }
  },
  "cells": [
    {
      "cell_type": "markdown",
      "metadata": {
        "id": "IZqAjLMQ5JHo"
      },
      "source": [
        "# Programación orientada a objetos\n",
        "\n",
        "Vimos que las clases son como plantillas para instanciar objetos. Estos objetos van a tener atributos y métodos.\n",
        "\n",
        "¿ Cómo definimos todo esto en python ?"
      ]
    },
    {
      "cell_type": "markdown",
      "metadata": {
        "id": "MI_50Naj5b-Q"
      },
      "source": [
        "## Definimos una clase\n",
        "\n",
        "Para definir clases se utiliza la palabra reservada ``class``.\n",
        "\n",
        "Los nombres de las clases, suelen ponerse con la primer letra en mayúsculas (no nos va a fallar nada si no lo hacemos, pero esta bueno si lo respetamos)\n",
        "\n",
        "Las clases tienen un **mètodo** que se llama ``__init__ ``. Este método es el que inicializa una clase. También es conocido como \"constructor\"\n",
        "\n",
        "En los parámetros que recibe el método ``__init__``, podemos definir los elementos que son necesarios para crear un objeto de nuestra clase. En el caso de la clase Persona vamos a usar Nombre y Edad.\n",
        "\n",
        "``self``: Cuando nos querramos referir a un atributo propio de nuestra clase, debemos utilizar la palabra reservada ``self``.\n",
        "\n",
        "\n",
        "Veamos un ejemplo:\n"
      ]
    },
    {
      "cell_type": "code",
      "metadata": {
        "id": "0BDAIPCS5F91"
      },
      "source": [
        "class Persona:\n",
        "  \"\"\"\n",
        "  Definición de una Persona.\n",
        "  \"\"\"\n",
        "  def __init__(self, nombre, edad):\n",
        "    self.nombre = nombre\n",
        "    self.edad = edad\n"
      ],
      "execution_count": null,
      "outputs": []
    },
    {
      "cell_type": "markdown",
      "metadata": {
        "id": "mTg_eg0N6zrF"
      },
      "source": [
        "Ya definimos nuestra Clase! Ahora, instanciemos un objeto de la misma.\n",
        "\n",
        "Para instanciar un objeto de esta clase vamos a tener que pasarle un nombre y edad."
      ]
    },
    {
      "cell_type": "code",
      "metadata": {
        "id": "ZwBQuCqO6y6Z"
      },
      "source": [
        "persona_1 = Persona(\"Jose\", 44)"
      ],
      "execution_count": null,
      "outputs": []
    },
    {
      "cell_type": "code",
      "metadata": {
        "colab": {
          "base_uri": "https://localhost:8080/"
        },
        "id": "TGaImZtD7DAm",
        "outputId": "ead2b174-09f5-4e0c-bf3e-119daa21d940"
      },
      "source": [
        "persona_1"
      ],
      "execution_count": null,
      "outputs": [
        {
          "output_type": "execute_result",
          "data": {
            "text/plain": [
              "<__main__.Persona at 0x7f65136e8590>"
            ]
          },
          "metadata": {
            "tags": []
          },
          "execution_count": 5
        }
      ]
    },
    {
      "cell_type": "markdown",
      "metadata": {
        "id": "NNsvXnqG7OHS"
      },
      "source": [
        "Para acceder a los atributos de una clase se usa un punto ``.`` seguido por el nombre del atributo al que queremos acceder."
      ]
    },
    {
      "cell_type": "code",
      "metadata": {
        "colab": {
          "base_uri": "https://localhost:8080/",
          "height": 35
        },
        "id": "5cCFvV9F7Lfc",
        "outputId": "5989aea5-815a-4582-b172-fba5f160ee55"
      },
      "source": [
        "persona_1.nombre"
      ],
      "execution_count": null,
      "outputs": [
        {
          "output_type": "execute_result",
          "data": {
            "application/vnd.google.colaboratory.intrinsic+json": {
              "type": "string"
            },
            "text/plain": [
              "'Jose'"
            ]
          },
          "metadata": {
            "tags": []
          },
          "execution_count": 6
        }
      ]
    },
    {
      "cell_type": "code",
      "metadata": {
        "colab": {
          "base_uri": "https://localhost:8080/"
        },
        "id": "b9yxAsID7VKw",
        "outputId": "906f3772-ea49-4741-aadf-da005049e848"
      },
      "source": [
        "persona_1.edad"
      ],
      "execution_count": null,
      "outputs": [
        {
          "output_type": "execute_result",
          "data": {
            "text/plain": [
              "44"
            ]
          },
          "metadata": {
            "tags": []
          },
          "execution_count": 7
        }
      ]
    },
    {
      "cell_type": "markdown",
      "metadata": {
        "id": "SIXe0lWD7bXE"
      },
      "source": [
        "Si miramos el type de el objeto persona_1:"
      ]
    },
    {
      "cell_type": "code",
      "metadata": {
        "colab": {
          "base_uri": "https://localhost:8080/"
        },
        "id": "tgjxgc9h7WeM",
        "outputId": "12cca7cc-56b0-4c8f-88ca-3f66ac8c774c"
      },
      "source": [
        "type(persona_1)"
      ],
      "execution_count": null,
      "outputs": [
        {
          "output_type": "execute_result",
          "data": {
            "text/plain": [
              "__main__.Persona"
            ]
          },
          "metadata": {
            "tags": []
          },
          "execution_count": 8
        }
      ]
    },
    {
      "cell_type": "markdown",
      "metadata": {
        "id": "KzJhLEt3-ELk"
      },
      "source": [
        "El valor de los atributos de los objetos se puede modificar como cualquier variable"
      ]
    },
    {
      "cell_type": "code",
      "metadata": {
        "id": "UfPyJXvn7etb"
      },
      "source": [
        "persona_1.edad = 45"
      ],
      "execution_count": null,
      "outputs": []
    },
    {
      "cell_type": "code",
      "metadata": {
        "colab": {
          "base_uri": "https://localhost:8080/"
        },
        "id": "Jjr1kicx-KEZ",
        "outputId": "e3dc51e1-69d8-4362-e410-c01061eaaff3"
      },
      "source": [
        "persona_1.edad"
      ],
      "execution_count": null,
      "outputs": [
        {
          "output_type": "execute_result",
          "data": {
            "text/plain": [
              "45"
            ]
          },
          "metadata": {
            "tags": []
          },
          "execution_count": 10
        }
      ]
    },
    {
      "cell_type": "markdown",
      "metadata": {
        "id": "X4INma0b-QuI"
      },
      "source": [
        "## Métodos\n",
        "\n",
        "Vimos que en una clase podemos definir métodos (funciones).\n",
        "\n",
        "Los métodos pueden actuar sobre los valores de otros atributos de esa instancia, pueden devolver algun output a traves de return o pueden hacer ambas cosas.\n",
        "\n",
        "Para llamar a un método, utilizamos el . seguido por el nombre del mismo.\n",
        "\n",
        "Vamos a darle un método a la clase persona:"
      ]
    },
    {
      "cell_type": "code",
      "metadata": {
        "id": "ZsTD34z--Ljz"
      },
      "source": [
        "class Persona:\n",
        "  \"\"\"\n",
        "  Definición de una Persona.\n",
        "  \"\"\"\n",
        "  def __init__(self, nombre, edad):\n",
        "    self.nombre = nombre\n",
        "    self.edad = edad\n",
        "\n",
        "  def digo_mi_nombre(self):\n",
        "    print(f\"Me llamo {self.nombre}.\")"
      ],
      "execution_count": null,
      "outputs": []
    },
    {
      "cell_type": "code",
      "metadata": {
        "colab": {
          "base_uri": "https://localhost:8080/"
        },
        "id": "C9aS-leC-rnx",
        "outputId": "dd06ce76-c616-4d82-b63d-5eea8a24d9ba"
      },
      "source": [
        "persona_2 = Persona(\"Juan\", 20)\n",
        "persona_2.digo_mi_nombre()"
      ],
      "execution_count": null,
      "outputs": [
        {
          "output_type": "stream",
          "text": [
            "Me llamo Juan.\n"
          ],
          "name": "stdout"
        }
      ]
    },
    {
      "cell_type": "markdown",
      "metadata": {
        "id": "XU2_pUf8-8Xa"
      },
      "source": [
        "Como ya dijimos, los métodos tambien pueden modificar el valor de ciertos atributos de una instancia. Vamos a crear un método para la clase persona, que haga cumplir un año a la persona y al mismo tiempo nos devuelva el valor de su edad:"
      ]
    },
    {
      "cell_type": "code",
      "metadata": {
        "id": "w4ocMBvb-xKy"
      },
      "source": [
        "class Persona:\n",
        "  \"\"\"\n",
        "  Definición de una Persona.\n",
        "  \"\"\"\n",
        "  def __init__(self, nombre, edad):\n",
        "    self.nombre = nombre\n",
        "    self.edad = edad\n",
        "\n",
        "  def digo_mi_nombre(self):\n",
        "    print(f\"Me llamo {self.nombre}.\")\n",
        "    \n",
        "  def cumplo_anios(self):\n",
        "      self.edad = self.edad + 1\n",
        "      return self.edad"
      ],
      "execution_count": null,
      "outputs": []
    },
    {
      "cell_type": "code",
      "metadata": {
        "colab": {
          "base_uri": "https://localhost:8080/"
        },
        "id": "NsFDNofD_GCM",
        "outputId": "57b6e3d3-3211-4c27-8792-dcd0ad2abbd8"
      },
      "source": [
        "persona_3 = Persona(\"Carolina\", 40)\n",
        "persona_3.edad"
      ],
      "execution_count": null,
      "outputs": [
        {
          "output_type": "execute_result",
          "data": {
            "text/plain": [
              "40"
            ]
          },
          "metadata": {
            "tags": []
          },
          "execution_count": 14
        }
      ]
    },
    {
      "cell_type": "code",
      "metadata": {
        "colab": {
          "base_uri": "https://localhost:8080/"
        },
        "id": "pivJXIWX_LBm",
        "outputId": "bbab75c5-6164-4395-8010-7e49164ad388"
      },
      "source": [
        "persona_3.cumplo_anios()"
      ],
      "execution_count": null,
      "outputs": [
        {
          "output_type": "execute_result",
          "data": {
            "text/plain": [
              "41"
            ]
          },
          "metadata": {
            "tags": []
          },
          "execution_count": 16
        }
      ]
    },
    {
      "cell_type": "code",
      "metadata": {
        "colab": {
          "base_uri": "https://localhost:8080/"
        },
        "id": "oqZN569M_Mb6",
        "outputId": "01b0a556-613e-4897-f786-66b9266cd545"
      },
      "source": [
        "persona_3.edad"
      ],
      "execution_count": null,
      "outputs": [
        {
          "output_type": "execute_result",
          "data": {
            "text/plain": [
              "41"
            ]
          },
          "metadata": {
            "tags": []
          },
          "execution_count": 17
        }
      ]
    },
    {
      "cell_type": "markdown",
      "metadata": {
        "id": "Ke4CsSlS_Uxi"
      },
      "source": [
        "Estos nombres de métodos con doble guión-bajo a los costados indican que se trata de un método mágico. Son nombres especiales que Python se reserva para métodos que tienen una función específica. Por ejemplo, el método mágico ``__init__`` se correrá automáticamente cuando creemos una instancia de la clase."
      ]
    },
    {
      "cell_type": "code",
      "metadata": {
        "id": "4h6ci7m2_OCM"
      },
      "source": [
        "class Persona:\n",
        "  \"\"\"\n",
        "  Definición de una Persona.\n",
        "  \"\"\"\n",
        "  def __init__(self, nombre, edad):\n",
        "    self.nombre = nombre\n",
        "    self.edad = edad\n",
        "    print(\"SE EJECUTA EL MÉTODO INIT PORQUE CREAMOS UNA NUEVA INSTANCIA!\")\n",
        "\n",
        "  def digo_mi_nombre(self):\n",
        "    print(f\"Me llamo {self.nombre}.\")\n",
        "    \n",
        "  def cumplo_anios(self):\n",
        "      self.edad = self.edad + 1\n",
        "      return self.edad"
      ],
      "execution_count": null,
      "outputs": []
    },
    {
      "cell_type": "code",
      "metadata": {
        "colab": {
          "base_uri": "https://localhost:8080/"
        },
        "id": "GlAba3wN_f6E",
        "outputId": "31fe6432-b2a9-4560-ebe9-5758387dcd21"
      },
      "source": [
        "persona_4 = Persona('Florencia', 24)"
      ],
      "execution_count": null,
      "outputs": [
        {
          "output_type": "stream",
          "text": [
            "SE EJECUTA EL MÉTODO INIT PORQUE CREAMOS UNA NUEVA INSTANCIA!\n"
          ],
          "name": "stdout"
        }
      ]
    },
    {
      "cell_type": "markdown",
      "metadata": {
        "id": "QMONfyH3_nnb"
      },
      "source": [
        "## Consistencia\n",
        "\n",
        "Uno de los beneficios de trabajar con clases es el hecho de poder chequear la consistencia de los distintos atributos pertenecientes a una misma instancia de esa clase.\n",
        "\n",
        "Por ejemplo, imaginen que tenemos una clase llamada Casa que representa una casa. Esta clase puede tener atributos como \"superficie_total\" y \"superficie_cubierta\". Sabemos que la superficie cubierta nunca podría ser mayor a la total, y podemos validar esto en el método init de la clase:"
      ]
    },
    {
      "cell_type": "code",
      "metadata": {
        "id": "nvRLQRaC_jHU"
      },
      "source": [
        "class Casa:\n",
        "    def __init__(self, calle, altura, superficie_total, superficie_cubierta):\n",
        "        self.calle = calle\n",
        "        self.altura = altura\n",
        "        self.superficie_total = superficie_total\n",
        "        if superficie_cubierta < superficie_total:\n",
        "            self.superficie_cubierta = self.superficie_cubierta\n",
        "        else:\n",
        "            print(\"El valor de superficie cubierta no puede ser mayor a el de superficie total. Se asigna superficie cubierta = superficie total\")\n",
        "            self.superficie_cubierta = self.superficie_total"
      ],
      "execution_count": null,
      "outputs": []
    },
    {
      "cell_type": "code",
      "metadata": {
        "colab": {
          "base_uri": "https://localhost:8080/"
        },
        "id": "e8u8FNmoAU-K",
        "outputId": "1d414bb5-a29b-4842-8ead-9e294cc52685"
      },
      "source": [
        "casa_1 = Casa(calle='Colón', altura=2000, superficie_total=100, superficie_cubierta=106)"
      ],
      "execution_count": null,
      "outputs": [
        {
          "output_type": "stream",
          "text": [
            "El valor de superficie cubierta no puede ser mayor a el de superficie total. Se asigna superficie cubierta = superficie total\n"
          ],
          "name": "stdout"
        }
      ]
    },
    {
      "cell_type": "code",
      "metadata": {
        "colab": {
          "base_uri": "https://localhost:8080/"
        },
        "id": "lF4mNXVnAfgC",
        "outputId": "14648f8e-8d5a-4293-9d0b-bc4b78b70827"
      },
      "source": [
        "casa_1.superficie_cubierta"
      ],
      "execution_count": null,
      "outputs": [
        {
          "output_type": "execute_result",
          "data": {
            "text/plain": [
              "100"
            ]
          },
          "metadata": {
            "tags": []
          },
          "execution_count": 23
        }
      ]
    },
    {
      "cell_type": "code",
      "metadata": {
        "colab": {
          "base_uri": "https://localhost:8080/"
        },
        "id": "OAGzfL1HAjPJ",
        "outputId": "168cfea5-06c9-43d0-da55-42b641c9067a"
      },
      "source": [
        "casa_1.superficie_total"
      ],
      "execution_count": null,
      "outputs": [
        {
          "output_type": "execute_result",
          "data": {
            "text/plain": [
              "100"
            ]
          },
          "metadata": {
            "tags": []
          },
          "execution_count": 24
        }
      ]
    },
    {
      "cell_type": "markdown",
      "metadata": {
        "id": "YdQCqi8VAqEk"
      },
      "source": [
        "Otro de los beneficios de trabajar con objetos consiste en tener todas las variables relevantes agrupadas en un mismo objeto. De esta forma se nos facilita la tarea a la hora de mover esta información.\n",
        "\n",
        "Por ejemplo, si tenemos una función que calcula el precio de una casa en base a distintas propiedades de la misma, sería mucho más fácil para nosotros pasarle a esa función un único argumento (el objeto casa), y no cada uno de sus atributos:"
      ]
    },
    {
      "cell_type": "code",
      "metadata": {
        "id": "eCKGjw-NAkaO"
      },
      "source": [
        "def CalculaPrecios(casa):\n",
        "    precio = 7 * casa.superficie_total + 3 * casa.superficie_cubierta\n",
        "    return precio"
      ],
      "execution_count": null,
      "outputs": []
    },
    {
      "cell_type": "markdown",
      "metadata": {
        "id": "FyUfczazBo9p"
      },
      "source": [
        "# Ejercicios\n",
        "\n",
        "### Ejercicio 1\n",
        "\n",
        "Vamos a crear una clase llamada Persona. Sus atributos son: nombre, edad y DNI. Construye los siguientes métodos para la clase:\n",
        "\n",
        "- Un constructor (init), donde los datos pueden estar vacíos.\n",
        "- Un método set_ por cada atributo (set_nombre, set_edad y set_dni) en el que antes de setear un valor a los atributos se validen los mismos. Validar:\n",
        "  - Nombre tiene que ser str\n",
        "  - Edad tiene que ser int\n",
        "  - Dni tiene que ser str\n",
        "\n",
        "- Un método mostrar(): Muestra los datos de la persona.\n",
        "- Un método es_mayor_de_edad(): Devuelve un valor lógico indicando si es mayor de edad.\n",
        "\n",
        "\n",
        "### Ejercicio 2\n",
        "\n",
        "Crea una clase llamada Cuenta que tendrá los siguientes atributos: \n",
        "- titular (que es de el tipo Persona, la clase que creamos recién)\n",
        "- cantidad (puede tener decimales).\n",
        "El titular será obligatorio y la cantidad es opcional. Construye los siguientes métodos para la clase:\n",
        "\n",
        "- Un constructor, donde los datos pueden estar vacíos.\n",
        "- mostrar(): Muestra los datos de la cuenta.\n",
        "- ingresar(cantidad): se ingresa una cantidad a la cuenta, si la cantidad introducida es negativa, no se hará nada.\n",
        "- retirar(cantidad): se retira una cantidad a la cuenta. La cuenta puede estar en números negativos.\n",
        "\n",
        "\n",
        "\n"
      ]
    },
    {
      "cell_type": "code",
      "metadata": {
        "id": "l5CR6qkbA1em"
      },
      "source": [
        ""
      ],
      "execution_count": null,
      "outputs": []
    }
  ]
}