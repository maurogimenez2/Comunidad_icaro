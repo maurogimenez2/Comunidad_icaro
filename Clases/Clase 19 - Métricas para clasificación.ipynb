{
  "cells": [
    {
      "cell_type": "markdown",
      "metadata": {
        "id": "c6nvJIE7HloA"
      },
      "source": [
        "# Métricas clasificación\n",
        "\n",
        "Vamos a entrenar un modelo simple para clasificar sobre Iris dataset y calcular las métricas utilizando sklearn"
      ]
    },
    {
      "cell_type": "code",
      "execution_count": 49,
      "metadata": {
        "id": "ih6xm9_SIsn7"
      },
      "outputs": [],
      "source": [
        "import pandas as pd\n",
        "import seaborn as sns\n",
        "import matplotlib.pyplot as plt\n",
        "import numpy as np"
      ]
    },
    {
      "cell_type": "code",
      "execution_count": 50,
      "metadata": {
        "colab": {
          "base_uri": "https://localhost:8080/",
          "height": 204
        },
        "id": "KYykEqgFHftX",
        "outputId": "c47273e8-877d-4bdb-d26c-71459508bd22"
      },
      "outputs": [
        {
          "data": {
            "text/html": [
              "<div>\n",
              "<style scoped>\n",
              "    .dataframe tbody tr th:only-of-type {\n",
              "        vertical-align: middle;\n",
              "    }\n",
              "\n",
              "    .dataframe tbody tr th {\n",
              "        vertical-align: top;\n",
              "    }\n",
              "\n",
              "    .dataframe thead th {\n",
              "        text-align: right;\n",
              "    }\n",
              "</style>\n",
              "<table border=\"1\" class=\"dataframe\">\n",
              "  <thead>\n",
              "    <tr style=\"text-align: right;\">\n",
              "      <th></th>\n",
              "      <th>sepal_length</th>\n",
              "      <th>sepal_width</th>\n",
              "      <th>petal_length</th>\n",
              "      <th>petal_width</th>\n",
              "      <th>species</th>\n",
              "    </tr>\n",
              "  </thead>\n",
              "  <tbody>\n",
              "    <tr>\n",
              "      <th>0</th>\n",
              "      <td>5.1</td>\n",
              "      <td>3.5</td>\n",
              "      <td>1.4</td>\n",
              "      <td>0.2</td>\n",
              "      <td>setosa</td>\n",
              "    </tr>\n",
              "    <tr>\n",
              "      <th>1</th>\n",
              "      <td>4.9</td>\n",
              "      <td>3.0</td>\n",
              "      <td>1.4</td>\n",
              "      <td>0.2</td>\n",
              "      <td>setosa</td>\n",
              "    </tr>\n",
              "    <tr>\n",
              "      <th>2</th>\n",
              "      <td>4.7</td>\n",
              "      <td>3.2</td>\n",
              "      <td>1.3</td>\n",
              "      <td>0.2</td>\n",
              "      <td>setosa</td>\n",
              "    </tr>\n",
              "    <tr>\n",
              "      <th>3</th>\n",
              "      <td>4.6</td>\n",
              "      <td>3.1</td>\n",
              "      <td>1.5</td>\n",
              "      <td>0.2</td>\n",
              "      <td>setosa</td>\n",
              "    </tr>\n",
              "    <tr>\n",
              "      <th>4</th>\n",
              "      <td>5.0</td>\n",
              "      <td>3.6</td>\n",
              "      <td>1.4</td>\n",
              "      <td>0.2</td>\n",
              "      <td>setosa</td>\n",
              "    </tr>\n",
              "  </tbody>\n",
              "</table>\n",
              "</div>"
            ],
            "text/plain": [
              "   sepal_length  sepal_width  petal_length  petal_width species\n",
              "0           5.1          3.5           1.4          0.2  setosa\n",
              "1           4.9          3.0           1.4          0.2  setosa\n",
              "2           4.7          3.2           1.3          0.2  setosa\n",
              "3           4.6          3.1           1.5          0.2  setosa\n",
              "4           5.0          3.6           1.4          0.2  setosa"
            ]
          },
          "execution_count": 50,
          "metadata": {},
          "output_type": "execute_result"
        }
      ],
      "source": [
        "iris = sns.load_dataset(\"iris\")\n",
        "iris.head()"
      ]
    },
    {
      "cell_type": "markdown",
      "metadata": {
        "id": "81b3KFerJHhB"
      },
      "source": [
        "# Modelo simple de clasificación"
      ]
    },
    {
      "cell_type": "code",
      "execution_count": 51,
      "metadata": {
        "id": "VUhSgKk0IwRO"
      },
      "outputs": [],
      "source": [
        "X = iris.drop(\"species\", axis=1)\n",
        "y = iris.species"
      ]
    },
    {
      "cell_type": "code",
      "execution_count": 52,
      "metadata": {
        "id": "IYrnNc3xJQmK"
      },
      "outputs": [],
      "source": [
        "from sklearn.model_selection import train_test_split\n",
        "X_train, X_test, y_train, y_test = train_test_split(X, y, test_size=0.2, random_state=42)"
      ]
    },
    {
      "cell_type": "code",
      "execution_count": 53,
      "metadata": {
        "id": "8EBINpzMJUbT"
      },
      "outputs": [],
      "source": [
        "from sklearn.preprocessing import StandardScaler\n",
        "scaler = StandardScaler()\n",
        "X_train = scaler.fit_transform(X_train)\n",
        "X_test = scaler.fit_transform(X_test)"
      ]
    },
    {
      "cell_type": "code",
      "execution_count": 54,
      "metadata": {
        "id": "58ejTEBVJWMH"
      },
      "outputs": [],
      "source": [
        "from sklearn.neighbors import KNeighborsClassifier\n",
        "knn = KNeighborsClassifier(n_neighbors=5, weights='uniform')"
      ]
    },
    {
      "cell_type": "code",
      "execution_count": 55,
      "metadata": {
        "id": "DMgpmFOlJYVa"
      },
      "outputs": [],
      "source": [
        "knn.fit(X_train, y_train)\n",
        "\n",
        "y_train_pred = knn.predict(X_train)\n",
        "y_test_pred = knn.predict(X_test)"
      ]
    },
    {
      "cell_type": "code",
      "execution_count": 56,
      "metadata": {
        "id": "uzOHninHJZj4"
      },
      "outputs": [],
      "source": [
        "from sklearn.metrics import accuracy_score"
      ]
    },
    {
      "cell_type": "code",
      "execution_count": 57,
      "metadata": {
        "colab": {
          "base_uri": "https://localhost:8080/"
        },
        "id": "gqNlE2PNJbP5",
        "outputId": "8917acfd-e878-47af-9d0c-4a2778a80131"
      },
      "outputs": [
        {
          "name": "stdout",
          "output_type": "stream",
          "text": [
            "Porcentaje de aceirtos sobre el set de entrenamiento: 0.9583333333333334\n",
            "Porcentaje de aceirtos sobre el set de evaluación: 0.9666666666666667\n"
          ]
        }
      ],
      "source": [
        "train_acc = accuracy_score(y_train, y_train_pred)\n",
        "test_acc = accuracy_score(y_test, y_test_pred)\n",
        "\n",
        "print('Porcentaje de aceirtos sobre el set de entrenamiento:', train_acc)\n",
        "print('Porcentaje de aceirtos sobre el set de evaluación:',test_acc)"
      ]
    },
    {
      "cell_type": "markdown",
      "metadata": {
        "id": "8s6V-CPlnbVn"
      },
      "source": [
        "## Matriz de confusión"
      ]
    },
    {
      "cell_type": "code",
      "execution_count": 58,
      "metadata": {
        "id": "P5mjN7j0Pg__"
      },
      "outputs": [],
      "source": [
        "from sklearn.metrics import confusion_matrix"
      ]
    },
    {
      "cell_type": "code",
      "execution_count": 59,
      "metadata": {
        "colab": {
          "base_uri": "https://localhost:8080/"
        },
        "id": "Jo-AOb30QMXR",
        "outputId": "84a6d2bc-86f8-43b5-f053-6ad0cec8b292"
      },
      "outputs": [
        {
          "data": {
            "text/plain": [
              "array([[10,  0,  0],\n",
              "       [ 0,  9,  0],\n",
              "       [ 0,  1, 10]], dtype=int64)"
            ]
          },
          "execution_count": 59,
          "metadata": {},
          "output_type": "execute_result"
        }
      ],
      "source": [
        "confusion_matrix(y_test, y_test_pred)"
      ]
    },
    {
      "cell_type": "code",
      "execution_count": 60,
      "metadata": {
        "id": "v3xG50R0RpdL"
      },
      "outputs": [],
      "source": [
        "from sklearn.metrics import plot_confusion_matrix"
      ]
    },
    {
      "cell_type": "code",
      "execution_count": 61,
      "metadata": {
        "colab": {
          "base_uri": "https://localhost:8080/",
          "height": 300
        },
        "id": "5dOKij59Rpiz",
        "outputId": "dba4c56e-d2f4-405b-8de3-096f0cf60f3b"
      },
      "outputs": [
        {
          "name": "stderr",
          "output_type": "stream",
          "text": [
            "C:\\Users\\Tmk\\AppData\\Local\\Programs\\Python\\Python39\\lib\\site-packages\\sklearn\\utils\\deprecation.py:87: FutureWarning: Function plot_confusion_matrix is deprecated; Function `plot_confusion_matrix` is deprecated in 1.0 and will be removed in 1.2. Use one of the class methods: ConfusionMatrixDisplay.from_predictions or ConfusionMatrixDisplay.from_estimator.\n",
            "  warnings.warn(msg, category=FutureWarning)\n"
          ]
        },
        {
          "data": {
            "text/plain": [
              "<sklearn.metrics._plot.confusion_matrix.ConfusionMatrixDisplay at 0x21f752868e0>"
            ]
          },
          "execution_count": 61,
          "metadata": {},
          "output_type": "execute_result"
        },
        {
          "data": {
            "image/png": "[encoded data removed]",
            "text/plain": [
              "<Figure size 432x288 with 2 Axes>"
            ]
          },
          "metadata": {
            "needs_background": "light"
          },
          "output_type": "display_data"
        }
      ],
      "source": [
        "plot_confusion_matrix(knn, X_test, y_test)"
      ]
    },
    {
      "cell_type": "markdown",
      "metadata": {
        "id": "tJqRoN5kndxA"
      },
      "source": [
        "## Precision, recall y f1score"
      ]
    },
    {
      "cell_type": "code",
      "execution_count": 62,
      "metadata": {
        "id": "pqQ0TB3fQQNM"
      },
      "outputs": [],
      "source": [
        "from sklearn.metrics import classification_report"
      ]
    },
    {
      "cell_type": "code",
      "execution_count": 63,
      "metadata": {
        "colab": {
          "base_uri": "https://localhost:8080/"
        },
        "id": "RR0QbgsOQVSQ",
        "outputId": "54138375-d3fe-4278-b18a-053e7e6a752a"
      },
      "outputs": [
        {
          "name": "stdout",
          "output_type": "stream",
          "text": [
            "              precision    recall  f1-score   support\n",
            "\n",
            "      setosa       1.00      1.00      1.00        10\n",
            "  versicolor       0.90      1.00      0.95         9\n",
            "   virginica       1.00      0.91      0.95        11\n",
            "\n",
            "    accuracy                           0.97        30\n",
            "   macro avg       0.97      0.97      0.97        30\n",
            "weighted avg       0.97      0.97      0.97        30\n",
            "\n"
          ]
        }
      ],
      "source": [
        "print(classification_report(y_test, y_test_pred))"
      ]
    },
    {
      "cell_type": "markdown",
      "metadata": {
        "id": "9gaszQ-4Qvsn"
      },
      "source": [
        "Support: Support is the number of actual occurrences of the class in the specified dataset.\n",
        "\n",
        "macro and wighted avg: https://datascience.stackexchange.com/questions/65839/macro-average-and-weighted-average-meaning-in-classification-report"
      ]
    },
    {
      "cell_type": "markdown",
      "metadata": {
        "id": "ilmcMQqzngjk"
      },
      "source": [
        "# Práctica\n",
        "\n",
        "Vamos a trabajar con un dataset que contiene información sobre jugadores de basket. El objetivo es predecir si el jugador va a durar al menos 5 años en la liga.\n",
        "\n",
        "La siguiente linea les va a descargar el csv de un link de drive para que puedan importarlo directamente:"
      ]
    },
    {
      "cell_type": "code",
      "execution_count": 64,
      "metadata": {
        "colab": {
          "base_uri": "https://localhost:8080/"
        },
        "id": "O5CwV2jNrN3N",
        "outputId": "96d31141-75a9-4d08-b5d5-857812c6fc2c"
      },
      "outputs": [
        {
          "name": "stderr",
          "output_type": "stream",
          "text": [
            "\"wget\" no se reconoce como un comando interno o externo,\n",
            "programa o archivo por lotes ejecutable.\n",
            "\"id\" no se reconoce como un comando interno o externo,\n",
            "programa o archivo por lotes ejecutable.\n"
          ]
        }
      ],
      "source": [
        "!wget --no-check-certificate 'https://docs.google.com/uc?export=download&id=1jeY3fh6ifqk0ESm8IKvI1nyJoKzTAzMX' -O nba.csv"
      ]
    },
    {
      "cell_type": "markdown",
      "metadata": {
        "id": "zE29ac4FYhDD"
      },
      "source": [
        "## Análisis exploratiorio de los datos (EDA)\n",
        "\n",
        "Comencemos explorando el dataset"
      ]
    },
    {
      "cell_type": "markdown",
      "metadata": {
        "id": "O9JsbaIIq240"
      },
      "source": [
        "Leemos el csv"
      ]
    },
    {
      "cell_type": "code",
      "execution_count": 65,
      "metadata": {
        "id": "9OCLfZ7woqhK"
      },
      "outputs": [],
      "source": [
        "df = pd.read_csv(\"nba.csv\")"
      ]
    },
    {
      "cell_type": "code",
      "execution_count": 66,
      "metadata": {
        "colab": {
          "base_uri": "https://localhost:8080/",
          "height": 204
        },
        "id": "JAOniizbouzh",
        "outputId": "12d28785-8737-4882-ebf0-d559ec1ba3d1"
      },
      "outputs": [
        {
          "data": {
            "text/html": [
              "<div>\n",
              "<style scoped>\n",
              "    .dataframe tbody tr th:only-of-type {\n",
              "        vertical-align: middle;\n",
              "    }\n",
              "\n",
              "    .dataframe tbody tr th {\n",
              "        vertical-align: top;\n",
              "    }\n",
              "\n",
              "    .dataframe thead th {\n",
              "        text-align: right;\n",
              "    }\n",
              "</style>\n",
              "<table border=\"1\" class=\"dataframe\">\n",
              "  <thead>\n",
              "    <tr style=\"text-align: right;\">\n",
              "      <th></th>\n",
              "      <th>Name</th>\n",
              "      <th>GP</th>\n",
              "      <th>MIN</th>\n",
              "      <th>PTS</th>\n",
              "      <th>FGM</th>\n",
              "      <th>FGA</th>\n",
              "      <th>FG%</th>\n",
              "      <th>3P Made</th>\n",
              "      <th>3PA</th>\n",
              "      <th>3P%</th>\n",
              "      <th>...</th>\n",
              "      <th>FTA</th>\n",
              "      <th>FT%</th>\n",
              "      <th>OREB</th>\n",
              "      <th>DREB</th>\n",
              "      <th>REB</th>\n",
              "      <th>AST</th>\n",
              "      <th>STL</th>\n",
              "      <th>BLK</th>\n",
              "      <th>TOV</th>\n",
              "      <th>TARGET_5Yrs</th>\n",
              "    </tr>\n",
              "  </thead>\n",
              "  <tbody>\n",
              "    <tr>\n",
              "      <th>0</th>\n",
              "      <td>Brandon Ingram</td>\n",
              "      <td>36</td>\n",
              "      <td>27.4</td>\n",
              "      <td>7.4</td>\n",
              "      <td>2.6</td>\n",
              "      <td>7.6</td>\n",
              "      <td>34.7</td>\n",
              "      <td>0.5</td>\n",
              "      <td>2.1</td>\n",
              "      <td>25.0</td>\n",
              "      <td>...</td>\n",
              "      <td>2.3</td>\n",
              "      <td>69.9</td>\n",
              "      <td>0.7</td>\n",
              "      <td>3.4</td>\n",
              "      <td>4.1</td>\n",
              "      <td>1.9</td>\n",
              "      <td>0.4</td>\n",
              "      <td>0.4</td>\n",
              "      <td>1.3</td>\n",
              "      <td>0.0</td>\n",
              "    </tr>\n",
              "    <tr>\n",
              "      <th>1</th>\n",
              "      <td>Andrew Harrison</td>\n",
              "      <td>35</td>\n",
              "      <td>26.9</td>\n",
              "      <td>7.2</td>\n",
              "      <td>2.0</td>\n",
              "      <td>6.7</td>\n",
              "      <td>29.6</td>\n",
              "      <td>0.7</td>\n",
              "      <td>2.8</td>\n",
              "      <td>23.5</td>\n",
              "      <td>...</td>\n",
              "      <td>3.4</td>\n",
              "      <td>76.5</td>\n",
              "      <td>0.5</td>\n",
              "      <td>2.0</td>\n",
              "      <td>2.4</td>\n",
              "      <td>3.7</td>\n",
              "      <td>1.1</td>\n",
              "      <td>0.5</td>\n",
              "      <td>1.6</td>\n",
              "      <td>0.0</td>\n",
              "    </tr>\n",
              "    <tr>\n",
              "      <th>2</th>\n",
              "      <td>JaKarr Sampson</td>\n",
              "      <td>74</td>\n",
              "      <td>15.3</td>\n",
              "      <td>5.2</td>\n",
              "      <td>2.0</td>\n",
              "      <td>4.7</td>\n",
              "      <td>42.2</td>\n",
              "      <td>0.4</td>\n",
              "      <td>1.7</td>\n",
              "      <td>24.4</td>\n",
              "      <td>...</td>\n",
              "      <td>1.3</td>\n",
              "      <td>67.0</td>\n",
              "      <td>0.5</td>\n",
              "      <td>1.7</td>\n",
              "      <td>2.2</td>\n",
              "      <td>1.0</td>\n",
              "      <td>0.5</td>\n",
              "      <td>0.3</td>\n",
              "      <td>1.0</td>\n",
              "      <td>0.0</td>\n",
              "    </tr>\n",
              "    <tr>\n",
              "      <th>3</th>\n",
              "      <td>Malik Sealy</td>\n",
              "      <td>58</td>\n",
              "      <td>11.6</td>\n",
              "      <td>5.7</td>\n",
              "      <td>2.3</td>\n",
              "      <td>5.5</td>\n",
              "      <td>42.6</td>\n",
              "      <td>0.1</td>\n",
              "      <td>0.5</td>\n",
              "      <td>22.6</td>\n",
              "      <td>...</td>\n",
              "      <td>1.3</td>\n",
              "      <td>68.9</td>\n",
              "      <td>1.0</td>\n",
              "      <td>0.9</td>\n",
              "      <td>1.9</td>\n",
              "      <td>0.8</td>\n",
              "      <td>0.6</td>\n",
              "      <td>0.1</td>\n",
              "      <td>1.0</td>\n",
              "      <td>1.0</td>\n",
              "    </tr>\n",
              "    <tr>\n",
              "      <th>4</th>\n",
              "      <td>Matt Geiger</td>\n",
              "      <td>48</td>\n",
              "      <td>11.5</td>\n",
              "      <td>4.5</td>\n",
              "      <td>1.6</td>\n",
              "      <td>3.0</td>\n",
              "      <td>52.4</td>\n",
              "      <td>0.0</td>\n",
              "      <td>0.1</td>\n",
              "      <td>0.0</td>\n",
              "      <td>...</td>\n",
              "      <td>1.9</td>\n",
              "      <td>67.4</td>\n",
              "      <td>1.0</td>\n",
              "      <td>1.5</td>\n",
              "      <td>2.5</td>\n",
              "      <td>0.3</td>\n",
              "      <td>0.3</td>\n",
              "      <td>0.4</td>\n",
              "      <td>0.8</td>\n",
              "      <td>1.0</td>\n",
              "    </tr>\n",
              "  </tbody>\n",
              "</table>\n",
              "<p>5 rows × 21 columns</p>\n",
              "</div>"
            ],
            "text/plain": [
              "              Name  GP   MIN  PTS  FGM  FGA   FG%  3P Made  3PA   3P%  ...  \\\n",
              "0   Brandon Ingram  36  27.4  7.4  2.6  7.6  34.7      0.5  2.1  25.0  ...   \n",
              "1  Andrew Harrison  35  26.9  7.2  2.0  6.7  29.6      0.7  2.8  23.5  ...   \n",
              "2   JaKarr Sampson  74  15.3  5.2  2.0  4.7  42.2      0.4  1.7  24.4  ...   \n",
              "3      Malik Sealy  58  11.6  5.7  2.3  5.5  42.6      0.1  0.5  22.6  ...   \n",
              "4      Matt Geiger  48  11.5  4.5  1.6  3.0  52.4      0.0  0.1   0.0  ...   \n",
              "\n",
              "   FTA   FT%  OREB  DREB  REB  AST  STL  BLK  TOV  TARGET_5Yrs  \n",
              "0  2.3  69.9   0.7   3.4  4.1  1.9  0.4  0.4  1.3          0.0  \n",
              "1  3.4  76.5   0.5   2.0  2.4  3.7  1.1  0.5  1.6          0.0  \n",
              "2  1.3  67.0   0.5   1.7  2.2  1.0  0.5  0.3  1.0          0.0  \n",
              "3  1.3  68.9   1.0   0.9  1.9  0.8  0.6  0.1  1.0          1.0  \n",
              "4  1.9  67.4   1.0   1.5  2.5  0.3  0.3  0.4  0.8          1.0  \n",
              "\n",
              "[5 rows x 21 columns]"
            ]
          },
          "execution_count": 66,
          "metadata": {},
          "output_type": "execute_result"
        }
      ],
      "source": [
        "df.head()"
      ]
    },
    {
      "cell_type": "markdown",
      "metadata": {
        "id": "NkqX3JU1r3JE"
      },
      "source": [
        "Diccionario de datos:\n",
        "\n",
        "- Name: name\n",
        "- GP: games played = partidos jugados\n",
        "- MIN: minutes played = minutos jugados\n",
        "- PTS: points per game = puntos por partido\n",
        "- FGM: Field goals Made = Goles hechos\n",
        "- FGA: Field goal attempts = Goles intentados\n",
        "- FG% Field goal percent = Porcentaje de goles hechos\n",
        "- 3P Made: 3 point made = Triples hechos\n",
        "- 3PA: 3 point attempts = Triples intentados\n",
        "- 3P%: 3 point attempts = Porcentaje de triples hechos\n",
        "- FTM: Free throw made = Tiros libres hechos\n",
        "- FTA: Free throw attempts = Tiros libres intentados\n",
        "- FT%: Free throw percent = Porcentaje de tiros libres\n",
        "- OREB: Offensive rebounds = Rebotes ofensivos\n",
        "- DREB: Defensive rebounds = Rebotes defensivos\n",
        "- REB: Rebounds = Rebotes\n",
        "- AST: Assists = Asistencias\n",
        "- STL: Steals = Robos\n",
        "- BLK: Blocks = Bloqueos\n",
        "- TOV: Turnovers = Pierde la posesión de la pelota\n",
        "- TARGET_5Yrs: Outcome: 1 if career length >= 5 yrs, 0 if < 5"
      ]
    },
    {
      "cell_type": "markdown",
      "metadata": {
        "id": "CDkZAYZcrqcE"
      },
      "source": [
        "¿ Cuántas filas y columnas tiene el dataset ?"
      ]
    },
    {
      "cell_type": "code",
      "execution_count": 67,
      "metadata": {
        "id": "ySbPsvBsrpyb"
      },
      "outputs": [
        {
          "data": {
            "text/plain": [
              "(1294, 21)"
            ]
          },
          "execution_count": 67,
          "metadata": {},
          "output_type": "execute_result"
        }
      ],
      "source": [
        "df.shape"
      ]
    },
    {
      "cell_type": "markdown",
      "metadata": {
        "id": "NfwaHV14rknL"
      },
      "source": [
        "¿ Cúantos jugadores (nombres distintos) hay ?"
      ]
    },
    {
      "cell_type": "code",
      "execution_count": 68,
      "metadata": {
        "id": "YtdCzn7NriBk"
      },
      "outputs": [
        {
          "data": {
            "text/plain": [
              "1294"
            ]
          },
          "execution_count": 68,
          "metadata": {},
          "output_type": "execute_result"
        }
      ],
      "source": [
        "len(df[\"Name\"].unique())"
      ]
    },
    {
      "cell_type": "markdown",
      "metadata": {
        "id": "ZOGO5dbOYpI_"
      },
      "source": [
        "### Nulos"
      ]
    },
    {
      "cell_type": "markdown",
      "metadata": {
        "id": "u2JlzlNWs4ig"
      },
      "source": [
        "Hay nulos?"
      ]
    },
    {
      "cell_type": "code",
      "execution_count": 69,
      "metadata": {
        "id": "aJnl8bGfroga"
      },
      "outputs": [
        {
          "data": {
            "text/plain": [
              "Name            0\n",
              "GP              0\n",
              "MIN             0\n",
              "PTS             0\n",
              "FGM             0\n",
              "FGA             0\n",
              "FG%             0\n",
              "3P Made         0\n",
              "3PA             0\n",
              "3P%            10\n",
              "FTM             0\n",
              "FTA             0\n",
              "FT%             0\n",
              "OREB            0\n",
              "DREB            0\n",
              "REB             0\n",
              "AST             0\n",
              "STL             0\n",
              "BLK             0\n",
              "TOV             0\n",
              "TARGET_5Yrs     0\n",
              "dtype: int64"
            ]
          },
          "execution_count": 69,
          "metadata": {},
          "output_type": "execute_result"
        }
      ],
      "source": [
        "df.isna().sum()"
      ]
    },
    {
      "cell_type": "markdown",
      "metadata": {
        "id": "EtkNhLX0TvGG"
      },
      "source": [
        "Imprimir las filas del dataframe en donde la columna 3P% tiene nulos (usando una máscara)"
      ]
    },
    {
      "cell_type": "code",
      "execution_count": 70,
      "metadata": {
        "id": "-2kfcfOCT3Hk"
      },
      "outputs": [
        {
          "data": {
            "text/html": [
              "<div>\n",
              "<style scoped>\n",
              "    .dataframe tbody tr th:only-of-type {\n",
              "        vertical-align: middle;\n",
              "    }\n",
              "\n",
              "    .dataframe tbody tr th {\n",
              "        vertical-align: top;\n",
              "    }\n",
              "\n",
              "    .dataframe thead th {\n",
              "        text-align: right;\n",
              "    }\n",
              "</style>\n",
              "<table border=\"1\" class=\"dataframe\">\n",
              "  <thead>\n",
              "    <tr style=\"text-align: right;\">\n",
              "      <th></th>\n",
              "      <th>Name</th>\n",
              "      <th>GP</th>\n",
              "      <th>MIN</th>\n",
              "      <th>PTS</th>\n",
              "      <th>FGM</th>\n",
              "      <th>FGA</th>\n",
              "      <th>FG%</th>\n",
              "      <th>3P Made</th>\n",
              "      <th>3PA</th>\n",
              "      <th>3P%</th>\n",
              "      <th>...</th>\n",
              "      <th>FTA</th>\n",
              "      <th>FT%</th>\n",
              "      <th>OREB</th>\n",
              "      <th>DREB</th>\n",
              "      <th>REB</th>\n",
              "      <th>AST</th>\n",
              "      <th>STL</th>\n",
              "      <th>BLK</th>\n",
              "      <th>TOV</th>\n",
              "      <th>TARGET_5Yrs</th>\n",
              "    </tr>\n",
              "  </thead>\n",
              "  <tbody>\n",
              "    <tr>\n",
              "      <th>314</th>\n",
              "      <td>Ken Johnson</td>\n",
              "      <td>64</td>\n",
              "      <td>12.7</td>\n",
              "      <td>4.1</td>\n",
              "      <td>1.8</td>\n",
              "      <td>3.3</td>\n",
              "      <td>52.8</td>\n",
              "      <td>0.0</td>\n",
              "      <td>0.0</td>\n",
              "      <td>NaN</td>\n",
              "      <td>...</td>\n",
              "      <td>1.3</td>\n",
              "      <td>43.5</td>\n",
              "      <td>1.4</td>\n",
              "      <td>2.4</td>\n",
              "      <td>3.8</td>\n",
              "      <td>0.3</td>\n",
              "      <td>0.2</td>\n",
              "      <td>0.3</td>\n",
              "      <td>0.9</td>\n",
              "      <td>0.0</td>\n",
              "    </tr>\n",
              "    <tr>\n",
              "      <th>315</th>\n",
              "      <td>Pete Williams</td>\n",
              "      <td>53</td>\n",
              "      <td>10.8</td>\n",
              "      <td>2.8</td>\n",
              "      <td>1.3</td>\n",
              "      <td>2.1</td>\n",
              "      <td>60.4</td>\n",
              "      <td>0.0</td>\n",
              "      <td>0.0</td>\n",
              "      <td>NaN</td>\n",
              "      <td>...</td>\n",
              "      <td>0.8</td>\n",
              "      <td>42.5</td>\n",
              "      <td>0.9</td>\n",
              "      <td>1.9</td>\n",
              "      <td>2.8</td>\n",
              "      <td>0.3</td>\n",
              "      <td>0.4</td>\n",
              "      <td>0.4</td>\n",
              "      <td>0.4</td>\n",
              "      <td>0.0</td>\n",
              "    </tr>\n",
              "    <tr>\n",
              "      <th>333</th>\n",
              "      <td>Melvin Turpin</td>\n",
              "      <td>79</td>\n",
              "      <td>24.7</td>\n",
              "      <td>10.6</td>\n",
              "      <td>4.6</td>\n",
              "      <td>9.0</td>\n",
              "      <td>51.1</td>\n",
              "      <td>0.0</td>\n",
              "      <td>0.0</td>\n",
              "      <td>NaN</td>\n",
              "      <td>...</td>\n",
              "      <td>1.8</td>\n",
              "      <td>78.4</td>\n",
              "      <td>2.0</td>\n",
              "      <td>3.8</td>\n",
              "      <td>5.7</td>\n",
              "      <td>0.5</td>\n",
              "      <td>0.5</td>\n",
              "      <td>1.1</td>\n",
              "      <td>1.5</td>\n",
              "      <td>1.0</td>\n",
              "    </tr>\n",
              "    <tr>\n",
              "      <th>356</th>\n",
              "      <td>Jim Petersen</td>\n",
              "      <td>60</td>\n",
              "      <td>11.9</td>\n",
              "      <td>3.2</td>\n",
              "      <td>1.2</td>\n",
              "      <td>2.4</td>\n",
              "      <td>48.6</td>\n",
              "      <td>0.0</td>\n",
              "      <td>0.0</td>\n",
              "      <td>NaN</td>\n",
              "      <td>...</td>\n",
              "      <td>1.1</td>\n",
              "      <td>75.8</td>\n",
              "      <td>0.7</td>\n",
              "      <td>1.7</td>\n",
              "      <td>2.5</td>\n",
              "      <td>0.5</td>\n",
              "      <td>0.2</td>\n",
              "      <td>0.5</td>\n",
              "      <td>1.2</td>\n",
              "      <td>1.0</td>\n",
              "    </tr>\n",
              "    <tr>\n",
              "      <th>367</th>\n",
              "      <td>Tom Scheffler</td>\n",
              "      <td>39</td>\n",
              "      <td>6.9</td>\n",
              "      <td>1.3</td>\n",
              "      <td>0.5</td>\n",
              "      <td>1.3</td>\n",
              "      <td>41.2</td>\n",
              "      <td>0.0</td>\n",
              "      <td>0.0</td>\n",
              "      <td>NaN</td>\n",
              "      <td>...</td>\n",
              "      <td>0.5</td>\n",
              "      <td>50.0</td>\n",
              "      <td>0.5</td>\n",
              "      <td>1.5</td>\n",
              "      <td>1.9</td>\n",
              "      <td>0.3</td>\n",
              "      <td>0.2</td>\n",
              "      <td>0.3</td>\n",
              "      <td>0.4</td>\n",
              "      <td>0.0</td>\n",
              "    </tr>\n",
              "    <tr>\n",
              "      <th>474</th>\n",
              "      <td>Sam Williams</td>\n",
              "      <td>59</td>\n",
              "      <td>18.2</td>\n",
              "      <td>6.1</td>\n",
              "      <td>2.6</td>\n",
              "      <td>4.7</td>\n",
              "      <td>55.6</td>\n",
              "      <td>0.0</td>\n",
              "      <td>0.0</td>\n",
              "      <td>NaN</td>\n",
              "      <td>...</td>\n",
              "      <td>1.5</td>\n",
              "      <td>55.1</td>\n",
              "      <td>1.5</td>\n",
              "      <td>3.7</td>\n",
              "      <td>5.2</td>\n",
              "      <td>0.6</td>\n",
              "      <td>0.8</td>\n",
              "      <td>1.3</td>\n",
              "      <td>1.1</td>\n",
              "      <td>0.0</td>\n",
              "    </tr>\n",
              "    <tr>\n",
              "      <th>476</th>\n",
              "      <td>Kurt Nimphius</td>\n",
              "      <td>63</td>\n",
              "      <td>17.2</td>\n",
              "      <td>5.3</td>\n",
              "      <td>2.2</td>\n",
              "      <td>4.7</td>\n",
              "      <td>46.1</td>\n",
              "      <td>0.0</td>\n",
              "      <td>0.0</td>\n",
              "      <td>NaN</td>\n",
              "      <td>...</td>\n",
              "      <td>1.7</td>\n",
              "      <td>58.3</td>\n",
              "      <td>1.5</td>\n",
              "      <td>3.2</td>\n",
              "      <td>4.7</td>\n",
              "      <td>1.0</td>\n",
              "      <td>0.3</td>\n",
              "      <td>1.3</td>\n",
              "      <td>0.9</td>\n",
              "      <td>1.0</td>\n",
              "    </tr>\n",
              "    <tr>\n",
              "      <th>477</th>\n",
              "      <td>Pete Verhoeven</td>\n",
              "      <td>71</td>\n",
              "      <td>17.0</td>\n",
              "      <td>4.9</td>\n",
              "      <td>2.1</td>\n",
              "      <td>4.2</td>\n",
              "      <td>50.3</td>\n",
              "      <td>0.0</td>\n",
              "      <td>0.0</td>\n",
              "      <td>NaN</td>\n",
              "      <td>...</td>\n",
              "      <td>1.0</td>\n",
              "      <td>70.8</td>\n",
              "      <td>1.5</td>\n",
              "      <td>2.1</td>\n",
              "      <td>3.6</td>\n",
              "      <td>0.7</td>\n",
              "      <td>0.6</td>\n",
              "      <td>0.3</td>\n",
              "      <td>0.8</td>\n",
              "      <td>1.0</td>\n",
              "    </tr>\n",
              "    <tr>\n",
              "      <th>488</th>\n",
              "      <td>Jim Smith</td>\n",
              "      <td>72</td>\n",
              "      <td>11.9</td>\n",
              "      <td>2.9</td>\n",
              "      <td>1.2</td>\n",
              "      <td>2.3</td>\n",
              "      <td>50.9</td>\n",
              "      <td>0.0</td>\n",
              "      <td>0.0</td>\n",
              "      <td>NaN</td>\n",
              "      <td>...</td>\n",
              "      <td>1.2</td>\n",
              "      <td>45.9</td>\n",
              "      <td>1.0</td>\n",
              "      <td>1.5</td>\n",
              "      <td>2.5</td>\n",
              "      <td>0.6</td>\n",
              "      <td>0.3</td>\n",
              "      <td>0.7</td>\n",
              "      <td>0.7</td>\n",
              "      <td>0.0</td>\n",
              "    </tr>\n",
              "    <tr>\n",
              "      <th>525</th>\n",
              "      <td>Jeff Wilkins</td>\n",
              "      <td>56</td>\n",
              "      <td>18.9</td>\n",
              "      <td>4.7</td>\n",
              "      <td>2.1</td>\n",
              "      <td>4.6</td>\n",
              "      <td>45.0</td>\n",
              "      <td>0.0</td>\n",
              "      <td>0.0</td>\n",
              "      <td>NaN</td>\n",
              "      <td>...</td>\n",
              "      <td>0.7</td>\n",
              "      <td>67.5</td>\n",
              "      <td>1.1</td>\n",
              "      <td>3.8</td>\n",
              "      <td>4.9</td>\n",
              "      <td>0.7</td>\n",
              "      <td>0.6</td>\n",
              "      <td>0.8</td>\n",
              "      <td>1.1</td>\n",
              "      <td>1.0</td>\n",
              "    </tr>\n",
              "  </tbody>\n",
              "</table>\n",
              "<p>10 rows × 21 columns</p>\n",
              "</div>"
            ],
            "text/plain": [
              "               Name  GP   MIN   PTS  FGM  FGA   FG%  3P Made  3PA  3P%  ...  \\\n",
              "314     Ken Johnson  64  12.7   4.1  1.8  3.3  52.8      0.0  0.0  NaN  ...   \n",
              "315   Pete Williams  53  10.8   2.8  1.3  2.1  60.4      0.0  0.0  NaN  ...   \n",
              "333   Melvin Turpin  79  24.7  10.6  4.6  9.0  51.1      0.0  0.0  NaN  ...   \n",
              "356    Jim Petersen  60  11.9   3.2  1.2  2.4  48.6      0.0  0.0  NaN  ...   \n",
              "367   Tom Scheffler  39   6.9   1.3  0.5  1.3  41.2      0.0  0.0  NaN  ...   \n",
              "474    Sam Williams  59  18.2   6.1  2.6  4.7  55.6      0.0  0.0  NaN  ...   \n",
              "476   Kurt Nimphius  63  17.2   5.3  2.2  4.7  46.1      0.0  0.0  NaN  ...   \n",
              "477  Pete Verhoeven  71  17.0   4.9  2.1  4.2  50.3      0.0  0.0  NaN  ...   \n",
              "488       Jim Smith  72  11.9   2.9  1.2  2.3  50.9      0.0  0.0  NaN  ...   \n",
              "525    Jeff Wilkins  56  18.9   4.7  2.1  4.6  45.0      0.0  0.0  NaN  ...   \n",
              "\n",
              "     FTA   FT%  OREB  DREB  REB  AST  STL  BLK  TOV  TARGET_5Yrs  \n",
              "314  1.3  43.5   1.4   2.4  3.8  0.3  0.2  0.3  0.9          0.0  \n",
              "315  0.8  42.5   0.9   1.9  2.8  0.3  0.4  0.4  0.4          0.0  \n",
              "333  1.8  78.4   2.0   3.8  5.7  0.5  0.5  1.1  1.5          1.0  \n",
              "356  1.1  75.8   0.7   1.7  2.5  0.5  0.2  0.5  1.2          1.0  \n",
              "367  0.5  50.0   0.5   1.5  1.9  0.3  0.2  0.3  0.4          0.0  \n",
              "474  1.5  55.1   1.5   3.7  5.2  0.6  0.8  1.3  1.1          0.0  \n",
              "476  1.7  58.3   1.5   3.2  4.7  1.0  0.3  1.3  0.9          1.0  \n",
              "477  1.0  70.8   1.5   2.1  3.6  0.7  0.6  0.3  0.8          1.0  \n",
              "488  1.2  45.9   1.0   1.5  2.5  0.6  0.3  0.7  0.7          0.0  \n",
              "525  0.7  67.5   1.1   3.8  4.9  0.7  0.6  0.8  1.1          1.0  \n",
              "\n",
              "[10 rows x 21 columns]"
            ]
          },
          "execution_count": 70,
          "metadata": {},
          "output_type": "execute_result"
        }
      ],
      "source": [
        "df[df[\"3P%\"].isna()]"
      ]
    },
    {
      "cell_type": "markdown",
      "metadata": {
        "id": "zdxVGVTcUBzb"
      },
      "source": [
        "Vemos que los nulos están justo donde 3PA y 3PMade son = 0. Por lo tanto, podemos completar los nulos de 3P% con 0s.\n",
        "\n",
        "Completar los nulos de 3p%:"
      ]
    },
    {
      "cell_type": "code",
      "execution_count": 71,
      "metadata": {
        "id": "LXiex3NJUKdd"
      },
      "outputs": [],
      "source": [
        "df.loc[(df[\"3PA\"] == 0) & (df[\"3P Made\"] == 0), \"3P%\"] = 0"
      ]
    },
    {
      "cell_type": "code",
      "execution_count": 72,
      "metadata": {},
      "outputs": [
        {
          "data": {
            "text/html": [
              "<div>\n",
              "<style scoped>\n",
              "    .dataframe tbody tr th:only-of-type {\n",
              "        vertical-align: middle;\n",
              "    }\n",
              "\n",
              "    .dataframe tbody tr th {\n",
              "        vertical-align: top;\n",
              "    }\n",
              "\n",
              "    .dataframe thead th {\n",
              "        text-align: right;\n",
              "    }\n",
              "</style>\n",
              "<table border=\"1\" class=\"dataframe\">\n",
              "  <thead>\n",
              "    <tr style=\"text-align: right;\">\n",
              "      <th></th>\n",
              "      <th>Name</th>\n",
              "      <th>GP</th>\n",
              "      <th>MIN</th>\n",
              "      <th>PTS</th>\n",
              "      <th>FGM</th>\n",
              "      <th>FGA</th>\n",
              "      <th>FG%</th>\n",
              "      <th>3P Made</th>\n",
              "      <th>3PA</th>\n",
              "      <th>3P%</th>\n",
              "      <th>...</th>\n",
              "      <th>FTA</th>\n",
              "      <th>FT%</th>\n",
              "      <th>OREB</th>\n",
              "      <th>DREB</th>\n",
              "      <th>REB</th>\n",
              "      <th>AST</th>\n",
              "      <th>STL</th>\n",
              "      <th>BLK</th>\n",
              "      <th>TOV</th>\n",
              "      <th>TARGET_5Yrs</th>\n",
              "    </tr>\n",
              "  </thead>\n",
              "  <tbody>\n",
              "  </tbody>\n",
              "</table>\n",
              "<p>0 rows × 21 columns</p>\n",
              "</div>"
            ],
            "text/plain": [
              "Empty DataFrame\n",
              "Columns: [Name, GP, MIN, PTS, FGM, FGA, FG%, 3P Made, 3PA, 3P%, FTM, FTA, FT%, OREB, DREB, REB, AST, STL, BLK, TOV, TARGET_5Yrs]\n",
              "Index: []\n",
              "\n",
              "[0 rows x 21 columns]"
            ]
          },
          "execution_count": 72,
          "metadata": {},
          "output_type": "execute_result"
        }
      ],
      "source": [
        "df[df[\"3P%\"].isna()]"
      ]
    },
    {
      "cell_type": "markdown",
      "metadata": {
        "id": "6oxt05KvYrhq"
      },
      "source": [
        "### Medidas de resumen"
      ]
    },
    {
      "cell_type": "markdown",
      "metadata": {
        "id": "EGtyTnh3u2uO"
      },
      "source": [
        "Imprimir un resumen de los datos (valores minimos, máximos, percentiles, media, etc)"
      ]
    },
    {
      "cell_type": "code",
      "execution_count": 73,
      "metadata": {
        "id": "pMjgq-OOB1s_"
      },
      "outputs": [
        {
          "data": {
            "text/html": [
              "<div>\n",
              "<style scoped>\n",
              "    .dataframe tbody tr th:only-of-type {\n",
              "        vertical-align: middle;\n",
              "    }\n",
              "\n",
              "    .dataframe tbody tr th {\n",
              "        vertical-align: top;\n",
              "    }\n",
              "\n",
              "    .dataframe thead th {\n",
              "        text-align: right;\n",
              "    }\n",
              "</style>\n",
              "<table border=\"1\" class=\"dataframe\">\n",
              "  <thead>\n",
              "    <tr style=\"text-align: right;\">\n",
              "      <th></th>\n",
              "      <th>GP</th>\n",
              "      <th>MIN</th>\n",
              "      <th>PTS</th>\n",
              "      <th>FGM</th>\n",
              "      <th>FGA</th>\n",
              "      <th>FG%</th>\n",
              "      <th>3P Made</th>\n",
              "      <th>3PA</th>\n",
              "      <th>3P%</th>\n",
              "      <th>FTM</th>\n",
              "      <th>FTA</th>\n",
              "      <th>FT%</th>\n",
              "      <th>OREB</th>\n",
              "      <th>DREB</th>\n",
              "      <th>REB</th>\n",
              "      <th>AST</th>\n",
              "      <th>STL</th>\n",
              "      <th>BLK</th>\n",
              "      <th>TOV</th>\n",
              "      <th>TARGET_5Yrs</th>\n",
              "    </tr>\n",
              "  </thead>\n",
              "  <tbody>\n",
              "    <tr>\n",
              "      <th>count</th>\n",
              "      <td>1294.000000</td>\n",
              "      <td>1294.000000</td>\n",
              "      <td>1294.000000</td>\n",
              "      <td>1294.000000</td>\n",
              "      <td>1294.000000</td>\n",
              "      <td>1294.000000</td>\n",
              "      <td>1294.000000</td>\n",
              "      <td>1294.000000</td>\n",
              "      <td>1294.000000</td>\n",
              "      <td>1294.000000</td>\n",
              "      <td>1294.000000</td>\n",
              "      <td>1294.000000</td>\n",
              "      <td>1294.000000</td>\n",
              "      <td>1294.000000</td>\n",
              "      <td>1294.000000</td>\n",
              "      <td>1294.000000</td>\n",
              "      <td>1294.000000</td>\n",
              "      <td>1294.000000</td>\n",
              "      <td>1294.000000</td>\n",
              "      <td>1294.000000</td>\n",
              "    </tr>\n",
              "    <tr>\n",
              "      <th>mean</th>\n",
              "      <td>60.404173</td>\n",
              "      <td>17.635162</td>\n",
              "      <td>6.803014</td>\n",
              "      <td>2.629753</td>\n",
              "      <td>5.888485</td>\n",
              "      <td>44.187172</td>\n",
              "      <td>0.249691</td>\n",
              "      <td>0.783076</td>\n",
              "      <td>18.398454</td>\n",
              "      <td>1.295440</td>\n",
              "      <td>1.816306</td>\n",
              "      <td>70.431607</td>\n",
              "      <td>1.007805</td>\n",
              "      <td>2.025193</td>\n",
              "      <td>3.032148</td>\n",
              "      <td>1.550309</td>\n",
              "      <td>0.617852</td>\n",
              "      <td>0.368779</td>\n",
              "      <td>1.191036</td>\n",
              "      <td>0.623648</td>\n",
              "    </tr>\n",
              "    <tr>\n",
              "      <th>std</th>\n",
              "      <td>17.415171</td>\n",
              "      <td>8.299320</td>\n",
              "      <td>4.334207</td>\n",
              "      <td>1.673617</td>\n",
              "      <td>3.576725</td>\n",
              "      <td>6.109734</td>\n",
              "      <td>0.387004</td>\n",
              "      <td>1.069495</td>\n",
              "      <td>15.460442</td>\n",
              "      <td>0.980807</td>\n",
              "      <td>1.314776</td>\n",
              "      <td>10.519306</td>\n",
              "      <td>0.774413</td>\n",
              "      <td>1.357611</td>\n",
              "      <td>2.050673</td>\n",
              "      <td>1.473860</td>\n",
              "      <td>0.410852</td>\n",
              "      <td>0.431654</td>\n",
              "      <td>0.722062</td>\n",
              "      <td>0.484657</td>\n",
              "    </tr>\n",
              "    <tr>\n",
              "      <th>min</th>\n",
              "      <td>11.000000</td>\n",
              "      <td>3.100000</td>\n",
              "      <td>0.700000</td>\n",
              "      <td>0.300000</td>\n",
              "      <td>0.800000</td>\n",
              "      <td>23.800000</td>\n",
              "      <td>0.000000</td>\n",
              "      <td>0.000000</td>\n",
              "      <td>0.000000</td>\n",
              "      <td>0.000000</td>\n",
              "      <td>0.000000</td>\n",
              "      <td>0.000000</td>\n",
              "      <td>0.000000</td>\n",
              "      <td>0.200000</td>\n",
              "      <td>0.300000</td>\n",
              "      <td>0.000000</td>\n",
              "      <td>0.000000</td>\n",
              "      <td>0.000000</td>\n",
              "      <td>0.100000</td>\n",
              "      <td>0.000000</td>\n",
              "    </tr>\n",
              "    <tr>\n",
              "      <th>25%</th>\n",
              "      <td>47.000000</td>\n",
              "      <td>10.900000</td>\n",
              "      <td>3.700000</td>\n",
              "      <td>1.400000</td>\n",
              "      <td>3.300000</td>\n",
              "      <td>40.225000</td>\n",
              "      <td>0.000000</td>\n",
              "      <td>0.000000</td>\n",
              "      <td>0.000000</td>\n",
              "      <td>0.600000</td>\n",
              "      <td>0.900000</td>\n",
              "      <td>64.900000</td>\n",
              "      <td>0.400000</td>\n",
              "      <td>1.000000</td>\n",
              "      <td>1.500000</td>\n",
              "      <td>0.600000</td>\n",
              "      <td>0.300000</td>\n",
              "      <td>0.100000</td>\n",
              "      <td>0.700000</td>\n",
              "      <td>0.000000</td>\n",
              "    </tr>\n",
              "    <tr>\n",
              "      <th>50%</th>\n",
              "      <td>63.000000</td>\n",
              "      <td>16.100000</td>\n",
              "      <td>5.600000</td>\n",
              "      <td>2.100000</td>\n",
              "      <td>4.800000</td>\n",
              "      <td>44.100000</td>\n",
              "      <td>0.100000</td>\n",
              "      <td>0.300000</td>\n",
              "      <td>21.400000</td>\n",
              "      <td>1.000000</td>\n",
              "      <td>1.500000</td>\n",
              "      <td>71.300000</td>\n",
              "      <td>0.800000</td>\n",
              "      <td>1.700000</td>\n",
              "      <td>2.500000</td>\n",
              "      <td>1.100000</td>\n",
              "      <td>0.500000</td>\n",
              "      <td>0.200000</td>\n",
              "      <td>1.000000</td>\n",
              "      <td>1.000000</td>\n",
              "    </tr>\n",
              "    <tr>\n",
              "      <th>75%</th>\n",
              "      <td>77.000000</td>\n",
              "      <td>22.900000</td>\n",
              "      <td>8.800000</td>\n",
              "      <td>3.400000</td>\n",
              "      <td>7.500000</td>\n",
              "      <td>47.800000</td>\n",
              "      <td>0.400000</td>\n",
              "      <td>1.200000</td>\n",
              "      <td>32.200000</td>\n",
              "      <td>1.600000</td>\n",
              "      <td>2.300000</td>\n",
              "      <td>77.600000</td>\n",
              "      <td>1.400000</td>\n",
              "      <td>2.600000</td>\n",
              "      <td>3.900000</td>\n",
              "      <td>2.000000</td>\n",
              "      <td>0.800000</td>\n",
              "      <td>0.500000</td>\n",
              "      <td>1.500000</td>\n",
              "      <td>1.000000</td>\n",
              "    </tr>\n",
              "    <tr>\n",
              "      <th>max</th>\n",
              "      <td>82.000000</td>\n",
              "      <td>40.900000</td>\n",
              "      <td>28.200000</td>\n",
              "      <td>10.200000</td>\n",
              "      <td>19.800000</td>\n",
              "      <td>73.700000</td>\n",
              "      <td>2.300000</td>\n",
              "      <td>6.500000</td>\n",
              "      <td>66.700000</td>\n",
              "      <td>7.700000</td>\n",
              "      <td>10.200000</td>\n",
              "      <td>100.000000</td>\n",
              "      <td>5.300000</td>\n",
              "      <td>9.600000</td>\n",
              "      <td>13.900000</td>\n",
              "      <td>10.600000</td>\n",
              "      <td>2.500000</td>\n",
              "      <td>3.900000</td>\n",
              "      <td>4.400000</td>\n",
              "      <td>1.000000</td>\n",
              "    </tr>\n",
              "  </tbody>\n",
              "</table>\n",
              "</div>"
            ],
            "text/plain": [
              "                GP          MIN          PTS          FGM          FGA  \\\n",
              "count  1294.000000  1294.000000  1294.000000  1294.000000  1294.000000   \n",
              "mean     60.404173    17.635162     6.803014     2.629753     5.888485   \n",
              "std      17.415171     8.299320     4.334207     1.673617     3.576725   \n",
              "min      11.000000     3.100000     0.700000     0.300000     0.800000   \n",
              "25%      47.000000    10.900000     3.700000     1.400000     3.300000   \n",
              "50%      63.000000    16.100000     5.600000     2.100000     4.800000   \n",
              "75%      77.000000    22.900000     8.800000     3.400000     7.500000   \n",
              "max      82.000000    40.900000    28.200000    10.200000    19.800000   \n",
              "\n",
              "               FG%      3P Made          3PA          3P%          FTM  \\\n",
              "count  1294.000000  1294.000000  1294.000000  1294.000000  1294.000000   \n",
              "mean     44.187172     0.249691     0.783076    18.398454     1.295440   \n",
              "std       6.109734     0.387004     1.069495    15.460442     0.980807   \n",
              "min      23.800000     0.000000     0.000000     0.000000     0.000000   \n",
              "25%      40.225000     0.000000     0.000000     0.000000     0.600000   \n",
              "50%      44.100000     0.100000     0.300000    21.400000     1.000000   \n",
              "75%      47.800000     0.400000     1.200000    32.200000     1.600000   \n",
              "max      73.700000     2.300000     6.500000    66.700000     7.700000   \n",
              "\n",
              "               FTA          FT%         OREB         DREB          REB  \\\n",
              "count  1294.000000  1294.000000  1294.000000  1294.000000  1294.000000   \n",
              "mean      1.816306    70.431607     1.007805     2.025193     3.032148   \n",
              "std       1.314776    10.519306     0.774413     1.357611     2.050673   \n",
              "min       0.000000     0.000000     0.000000     0.200000     0.300000   \n",
              "25%       0.900000    64.900000     0.400000     1.000000     1.500000   \n",
              "50%       1.500000    71.300000     0.800000     1.700000     2.500000   \n",
              "75%       2.300000    77.600000     1.400000     2.600000     3.900000   \n",
              "max      10.200000   100.000000     5.300000     9.600000    13.900000   \n",
              "\n",
              "               AST          STL          BLK          TOV  TARGET_5Yrs  \n",
              "count  1294.000000  1294.000000  1294.000000  1294.000000  1294.000000  \n",
              "mean      1.550309     0.617852     0.368779     1.191036     0.623648  \n",
              "std       1.473860     0.410852     0.431654     0.722062     0.484657  \n",
              "min       0.000000     0.000000     0.000000     0.100000     0.000000  \n",
              "25%       0.600000     0.300000     0.100000     0.700000     0.000000  \n",
              "50%       1.100000     0.500000     0.200000     1.000000     1.000000  \n",
              "75%       2.000000     0.800000     0.500000     1.500000     1.000000  \n",
              "max      10.600000     2.500000     3.900000     4.400000     1.000000  "
            ]
          },
          "execution_count": 73,
          "metadata": {},
          "output_type": "execute_result"
        }
      ],
      "source": [
        "df.describe()"
      ]
    },
    {
      "cell_type": "markdown",
      "metadata": {
        "id": "v3ezIZUNY0dr"
      },
      "source": [
        "### Distribución de variables"
      ]
    },
    {
      "cell_type": "markdown",
      "metadata": {
        "id": "usA9NSI7uIUe"
      },
      "source": [
        "¿ Cómo se distribuyen las variables ?\n",
        "\n",
        "Plotear la distribución de todas las variables excepto Name y TARGET_5yrs.\n",
        "\n",
        "El plot tiene que ser armado con subplots de 2 columnas. En la primera vamos a hacer un distplot y en la segunda un boxplot.\n",
        "\n",
        "En la clase 8 vimos esto. Pueden consultar el notebook de esa clase.\n",
        "\n",
        "Tener en cuenta:\n",
        "- Poner un titulo a cada subplot (cada ax)\n",
        "- En el subplot, setear un figsize de (20,60) como mínimo para poder visualizar bien todo\n",
        "- Si los subplots quedan muy juntos, pueden utilizar como indica [este link](https://www.geeksforgeeks.org/how-to-set-the-spacing-between-subplots-in-matplotlib-in-python/) el siguiente bloque de código al final de todo:\n",
        "\n",
        "\n",
        "```\n",
        "plt.subplots_adjust(left=0.1,\n",
        "                    bottom=0.1, \n",
        "                    right=0.9, \n",
        "                    top=1, \n",
        "                    wspace=0.4, \n",
        "                    hspace=0.4)\n",
        "plt.show()\n",
        "```"
      ]
    },
    {
      "cell_type": "code",
      "execution_count": 74,
      "metadata": {
        "id": "_jt_6pPnB3pk"
      },
      "outputs": [
        {
          "data": {
            "image/png": "[encoded data removed]",
            "text/plain": [
              "<Figure size 1440x4320 with 38 Axes>"
            ]
          },
          "metadata": {
            "needs_background": "light"
          },
          "output_type": "display_data"
        }
      ],
      "source": [
        "columns = df.drop([\"Name\", \"TARGET_5Yrs\"], axis=1).columns\n",
        "fig, axes = plt.subplots(nrows=len(columns), ncols=2, figsize=(20,60))\n",
        "\n",
        "for index, col in enumerate(columns):\n",
        "  axes[index][0].set_title(f\"Distribución de la variable {col}\")\n",
        "  sns.histplot(x=df[col], ax=axes[index][0])\n",
        "  axes[index][1].set_title(f\"Distribución de la variable {col}\")\n",
        "  sns.boxplot(x=df[col], ax=axes[index][1])\n",
        "\n",
        "plt.subplots_adjust(left=0.1,\n",
        "                    bottom=0.1, \n",
        "                    right=0.9, \n",
        "                    top=1, \n",
        "                    wspace=0.4, \n",
        "                    hspace=0.4)\n",
        "plt.show()"
      ]
    },
    {
      "cell_type": "markdown",
      "metadata": {
        "id": "h_zRDnGpY36P"
      },
      "source": [
        "### Distribución del target"
      ]
    },
    {
      "cell_type": "markdown",
      "metadata": {
        "id": "iiNDU4MoIT-u"
      },
      "source": [
        "¿ Cómo se distribuye el target ?\n",
        "\n",
        "Plotear la distribución de el target con el gráfico que les parezca más adecuado."
      ]
    },
    {
      "cell_type": "code",
      "execution_count": 75,
      "metadata": {
        "id": "QEcBmq_sIeNx"
      },
      "outputs": [
        {
          "name": "stderr",
          "output_type": "stream",
          "text": [
            "C:\\Users\\Tmk\\AppData\\Local\\Programs\\Python\\Python39\\lib\\site-packages\\seaborn\\_decorators.py:36: FutureWarning: Pass the following variable as a keyword arg: x. From version 0.12, the only valid positional argument will be `data`, and passing other arguments without an explicit keyword will result in an error or misinterpretation.\n",
            "  warnings.warn(\n"
          ]
        },
        {
          "data": {
            "text/plain": [
              "<AxesSubplot:xlabel='TARGET_5Yrs', ylabel='count'>"
            ]
          },
          "execution_count": 75,
          "metadata": {},
          "output_type": "execute_result"
        },
        {
          "data": {
            "image/png": "[encoded data removed]",
            "text/plain": [
              "<Figure size 432x288 with 1 Axes>"
            ]
          },
          "metadata": {
            "needs_background": "light"
          },
          "output_type": "display_data"
        }
      ],
      "source": [
        "sns.countplot(df[\"TARGET_5Yrs\"])"
      ]
    },
    {
      "cell_type": "markdown",
      "metadata": {
        "id": "DfjIhgCSIuX9"
      },
      "source": [
        "¿ Cuántos 1s y 0s hay en el target ?"
      ]
    },
    {
      "cell_type": "code",
      "execution_count": 76,
      "metadata": {
        "id": "vW6oQ9yFIyAt"
      },
      "outputs": [
        {
          "data": {
            "text/plain": [
              "1.0    807\n",
              "0.0    487\n",
              "Name: TARGET_5Yrs, dtype: int64"
            ]
          },
          "execution_count": 76,
          "metadata": {},
          "output_type": "execute_result"
        }
      ],
      "source": [
        "df[\"TARGET_5Yrs\"].value_counts()"
      ]
    },
    {
      "cell_type": "markdown",
      "metadata": {
        "id": "Md8TVXqTI0Uh"
      },
      "source": [
        "¿ En porcentajes ?"
      ]
    },
    {
      "cell_type": "code",
      "execution_count": 77,
      "metadata": {
        "id": "7Jh8KnDiI1_S"
      },
      "outputs": [
        {
          "data": {
            "text/plain": [
              "1.0    0.623648\n",
              "0.0    0.376352\n",
              "Name: TARGET_5Yrs, dtype: float64"
            ]
          },
          "execution_count": 77,
          "metadata": {},
          "output_type": "execute_result"
        }
      ],
      "source": [
        "df[\"TARGET_5Yrs\"].value_counts() / df[\"TARGET_5Yrs\"].count()"
      ]
    },
    {
      "cell_type": "markdown",
      "metadata": {
        "id": "lWy8v6aAY8Oh"
      },
      "source": [
        "### Outliers"
      ]
    },
    {
      "cell_type": "markdown",
      "metadata": {
        "id": "obtdOEnEuTh-"
      },
      "source": [
        "¿ Hay outliers ?\n",
        "\n",
        "En los boxplots se puede ver que hay outliers en la mayor parte de las variables. Sin embargo, para esta primer iteración del modelo, no haremos nada con ellos."
      ]
    },
    {
      "cell_type": "markdown",
      "metadata": {
        "id": "3elX4mrxY9vW"
      },
      "source": [
        "### Correlación"
      ]
    },
    {
      "cell_type": "markdown",
      "metadata": {
        "id": "Igh6QvssuToP"
      },
      "source": [
        "¿ Hay correlación entre las variables ?\n",
        "\n",
        "Tip: En el notebook de la clase 9 tenian un ejemplo para plotear un heatmap que solo muestra la mitad que nos interesa, con un buen tamaño y anotaciones."
      ]
    },
    {
      "cell_type": "code",
      "execution_count": 78,
      "metadata": {
        "id": "RqtHYX8QI9ca"
      },
      "outputs": [
        {
          "data": {
            "text/plain": [
              "<AxesSubplot:>"
            ]
          },
          "execution_count": 78,
          "metadata": {},
          "output_type": "execute_result"
        },
        {
          "data": {
            "image/png": "[encoded data removed]",
            "text/plain": [
              "<Figure size 1152x864 with 2 Axes>"
            ]
          },
          "metadata": {
            "needs_background": "light"
          },
          "output_type": "display_data"
        }
      ],
      "source": [
        "# Generate a mask for the upper triangle\n",
        "mask = np.triu(np.ones_like(df.drop(\"TARGET_5Yrs\", axis=1).corr(), dtype=bool))\n",
        "\n",
        "# Set up the matplotlib figure\n",
        "f, ax = plt.subplots(figsize=(16, 12))\n",
        "\n",
        "# Generate a custom diverging colormap\n",
        "cmap = sns.diverging_palette(230, 20, as_cmap=True)\n",
        "\n",
        "# Draw the heatmap with the mask and correct aspect ratio\n",
        "sns.heatmap(df.drop(\"TARGET_5Yrs\", axis=1).corr(), mask=mask, cmap=cmap, center=0,\n",
        "            square=True, linewidths=.5, annot= True)"
      ]
    },
    {
      "cell_type": "markdown",
      "metadata": {
        "id": "3lrcxxJmO-pf"
      },
      "source": [
        "El heatmap queda muy grande por la cantidad de variables que hay. \n",
        "\n",
        "Ahora, queremos analizar la correlación de las variables con el target. ¿Cómo podemos hacer esto?\n",
        "\n",
        "Plotear un heatmap que solo muestre la correlación entre las variables y el target (va a tener una única columna).\n",
        "\n",
        "Para esto, pueden guiarse con esta pregunta de stackoverflow: https://stackoverflow.com/questions/47585775/seaborn-heatmap-with-single-column"
      ]
    },
    {
      "cell_type": "code",
      "execution_count": 79,
      "metadata": {
        "id": "1qyNfjsaJ0TG"
      },
      "outputs": [
        {
          "data": {
            "image/png": "[encoded data removed]",
            "text/plain": [
              "<Figure size 720x720 with 2 Axes>"
            ]
          },
          "metadata": {
            "needs_background": "light"
          },
          "output_type": "display_data"
        }
      ],
      "source": [
        "plt.figure(figsize=(10,10))\n",
        "sns.heatmap(pd.DataFrame(df.corr()['TARGET_5Yrs'], index=df.corr().index), annot=True, cmap=\"viridis\")\n",
        "\n",
        "plt.show()"
      ]
    },
    {
      "cell_type": "markdown",
      "metadata": {
        "id": "LFtWtUOqZAMA"
      },
      "source": [
        "### Train test split"
      ]
    },
    {
      "cell_type": "markdown",
      "metadata": {
        "id": "XwHXsHYYuTq3"
      },
      "source": [
        "¿ Qué variables tomarían para entrenar un modelo ?\n",
        "\n",
        "En principio pueden ser todas, pueden descartar variables que estén muy correlacionadas entre si, o seleccionar algunas con el criterio que les parezca. Luego se puede iterar."
      ]
    },
    {
      "cell_type": "code",
      "execution_count": 80,
      "metadata": {
        "id": "6yexhUjwPwzH"
      },
      "outputs": [],
      "source": [
        "#Se descartan variables con correlación > 0.98\n",
        "columnas_modelo = [\"MIN\", \"PTS\",\"FGA\", \"FG%\", \"3PA\", \"3P%\", \"FTA\", \"FT%\", \"REB\", \"OREB\", \"AST\", \"STL\", \"BLK\", \"TOV\"]"
      ]
    },
    {
      "cell_type": "markdown",
      "metadata": {
        "id": "xCwLPRemvLNq"
      },
      "source": [
        "Definir baseline"
      ]
    },
    {
      "cell_type": "code",
      "execution_count": 81,
      "metadata": {},
      "outputs": [
        {
          "data": {
            "text/html": [
              "<div>\n",
              "<style scoped>\n",
              "    .dataframe tbody tr th:only-of-type {\n",
              "        vertical-align: middle;\n",
              "    }\n",
              "\n",
              "    .dataframe tbody tr th {\n",
              "        vertical-align: top;\n",
              "    }\n",
              "\n",
              "    .dataframe thead th {\n",
              "        text-align: right;\n",
              "    }\n",
              "</style>\n",
              "<table border=\"1\" class=\"dataframe\">\n",
              "  <thead>\n",
              "    <tr style=\"text-align: right;\">\n",
              "      <th></th>\n",
              "      <th>GP</th>\n",
              "      <th>MIN</th>\n",
              "      <th>PTS</th>\n",
              "      <th>FGM</th>\n",
              "      <th>FGA</th>\n",
              "      <th>FG%</th>\n",
              "      <th>3P Made</th>\n",
              "      <th>3PA</th>\n",
              "      <th>3P%</th>\n",
              "      <th>FTM</th>\n",
              "      <th>FTA</th>\n",
              "      <th>FT%</th>\n",
              "      <th>OREB</th>\n",
              "      <th>DREB</th>\n",
              "      <th>REB</th>\n",
              "      <th>AST</th>\n",
              "      <th>STL</th>\n",
              "      <th>BLK</th>\n",
              "      <th>TOV</th>\n",
              "    </tr>\n",
              "    <tr>\n",
              "      <th>TARGET_5Yrs</th>\n",
              "      <th></th>\n",
              "      <th></th>\n",
              "      <th></th>\n",
              "      <th></th>\n",
              "      <th></th>\n",
              "      <th></th>\n",
              "      <th></th>\n",
              "      <th></th>\n",
              "      <th></th>\n",
              "      <th></th>\n",
              "      <th></th>\n",
              "      <th></th>\n",
              "      <th></th>\n",
              "      <th></th>\n",
              "      <th></th>\n",
              "      <th></th>\n",
              "      <th></th>\n",
              "      <th></th>\n",
              "      <th></th>\n",
              "    </tr>\n",
              "  </thead>\n",
              "  <tbody>\n",
              "    <tr>\n",
              "      <th>0.0</th>\n",
              "      <td>51.106776</td>\n",
              "      <td>14.139836</td>\n",
              "      <td>5.000616</td>\n",
              "      <td>1.929774</td>\n",
              "      <td>4.517454</td>\n",
              "      <td>42.281109</td>\n",
              "      <td>0.232649</td>\n",
              "      <td>0.762628</td>\n",
              "      <td>18.969610</td>\n",
              "      <td>0.911088</td>\n",
              "      <td>1.298768</td>\n",
              "      <td>69.048255</td>\n",
              "      <td>0.707598</td>\n",
              "      <td>1.513552</td>\n",
              "      <td>2.219302</td>\n",
              "      <td>1.214990</td>\n",
              "      <td>0.492813</td>\n",
              "      <td>0.249076</td>\n",
              "      <td>0.932649</td>\n",
              "    </tr>\n",
              "    <tr>\n",
              "      <th>1.0</th>\n",
              "      <td>66.014870</td>\n",
              "      <td>19.744486</td>\n",
              "      <td>7.890706</td>\n",
              "      <td>3.052169</td>\n",
              "      <td>6.715861</td>\n",
              "      <td>45.337423</td>\n",
              "      <td>0.259975</td>\n",
              "      <td>0.795415</td>\n",
              "      <td>18.053779</td>\n",
              "      <td>1.527385</td>\n",
              "      <td>2.128625</td>\n",
              "      <td>71.266419</td>\n",
              "      <td>1.188971</td>\n",
              "      <td>2.333953</td>\n",
              "      <td>3.522677</td>\n",
              "      <td>1.752664</td>\n",
              "      <td>0.693309</td>\n",
              "      <td>0.441016</td>\n",
              "      <td>1.346964</td>\n",
              "    </tr>\n",
              "  </tbody>\n",
              "</table>\n",
              "</div>"
            ],
            "text/plain": [
              "                    GP        MIN       PTS       FGM       FGA        FG%  \\\n",
              "TARGET_5Yrs                                                                  \n",
              "0.0          51.106776  14.139836  5.000616  1.929774  4.517454  42.281109   \n",
              "1.0          66.014870  19.744486  7.890706  3.052169  6.715861  45.337423   \n",
              "\n",
              "              3P Made       3PA        3P%       FTM       FTA        FT%  \\\n",
              "TARGET_5Yrs                                                                 \n",
              "0.0          0.232649  0.762628  18.969610  0.911088  1.298768  69.048255   \n",
              "1.0          0.259975  0.795415  18.053779  1.527385  2.128625  71.266419   \n",
              "\n",
              "                 OREB      DREB       REB       AST       STL       BLK  \\\n",
              "TARGET_5Yrs                                                               \n",
              "0.0          0.707598  1.513552  2.219302  1.214990  0.492813  0.249076   \n",
              "1.0          1.188971  2.333953  3.522677  1.752664  0.693309  0.441016   \n",
              "\n",
              "                  TOV  \n",
              "TARGET_5Yrs            \n",
              "0.0          0.932649  \n",
              "1.0          1.346964  "
            ]
          },
          "execution_count": 81,
          "metadata": {},
          "output_type": "execute_result"
        }
      ],
      "source": [
        "df.groupby(\"TARGET_5Yrs\").mean()"
      ]
    },
    {
      "cell_type": "code",
      "execution_count": 82,
      "metadata": {},
      "outputs": [
        {
          "data": {
            "text/html": [
              "<div>\n",
              "<style scoped>\n",
              "    .dataframe tbody tr th:only-of-type {\n",
              "        vertical-align: middle;\n",
              "    }\n",
              "\n",
              "    .dataframe tbody tr th {\n",
              "        vertical-align: top;\n",
              "    }\n",
              "\n",
              "    .dataframe thead th {\n",
              "        text-align: right;\n",
              "    }\n",
              "</style>\n",
              "<table border=\"1\" class=\"dataframe\">\n",
              "  <thead>\n",
              "    <tr style=\"text-align: right;\">\n",
              "      <th></th>\n",
              "      <th>GP</th>\n",
              "      <th>MIN</th>\n",
              "      <th>PTS</th>\n",
              "      <th>FGM</th>\n",
              "      <th>FGA</th>\n",
              "      <th>FG%</th>\n",
              "      <th>3P Made</th>\n",
              "      <th>3PA</th>\n",
              "      <th>3P%</th>\n",
              "      <th>FTM</th>\n",
              "      <th>FTA</th>\n",
              "      <th>FT%</th>\n",
              "      <th>OREB</th>\n",
              "      <th>DREB</th>\n",
              "      <th>REB</th>\n",
              "      <th>AST</th>\n",
              "      <th>STL</th>\n",
              "      <th>BLK</th>\n",
              "      <th>TOV</th>\n",
              "    </tr>\n",
              "    <tr>\n",
              "      <th>TARGET_5Yrs</th>\n",
              "      <th></th>\n",
              "      <th></th>\n",
              "      <th></th>\n",
              "      <th></th>\n",
              "      <th></th>\n",
              "      <th></th>\n",
              "      <th></th>\n",
              "      <th></th>\n",
              "      <th></th>\n",
              "      <th></th>\n",
              "      <th></th>\n",
              "      <th></th>\n",
              "      <th></th>\n",
              "      <th></th>\n",
              "      <th></th>\n",
              "      <th></th>\n",
              "      <th></th>\n",
              "      <th></th>\n",
              "      <th></th>\n",
              "    </tr>\n",
              "  </thead>\n",
              "  <tbody>\n",
              "    <tr>\n",
              "      <th>0.0</th>\n",
              "      <td>0.328486</td>\n",
              "      <td>0.461875</td>\n",
              "      <td>0.616171</td>\n",
              "      <td>0.617294</td>\n",
              "      <td>0.571082</td>\n",
              "      <td>0.156724</td>\n",
              "      <td>1.385988</td>\n",
              "      <td>1.226321</td>\n",
              "      <td>0.785933</td>\n",
              "      <td>0.729656</td>\n",
              "      <td>0.679759</td>\n",
              "      <td>0.164473</td>\n",
              "      <td>0.763426</td>\n",
              "      <td>0.667063</td>\n",
              "      <td>0.657630</td>\n",
              "      <td>0.917197</td>\n",
              "      <td>0.654133</td>\n",
              "      <td>1.141933</td>\n",
              "      <td>0.586936</td>\n",
              "    </tr>\n",
              "    <tr>\n",
              "      <th>1.0</th>\n",
              "      <td>0.231153</td>\n",
              "      <td>0.432556</td>\n",
              "      <td>0.584391</td>\n",
              "      <td>0.582699</td>\n",
              "      <td>0.570670</td>\n",
              "      <td>0.120583</td>\n",
              "      <td>1.619617</td>\n",
              "      <td>1.437364</td>\n",
              "      <td>0.874228</td>\n",
              "      <td>0.697087</td>\n",
              "      <td>0.671587</td>\n",
              "      <td>0.138834</td>\n",
              "      <td>0.703080</td>\n",
              "      <td>0.619188</td>\n",
              "      <td>0.623339</td>\n",
              "      <td>0.924771</td>\n",
              "      <td>0.633625</td>\n",
              "      <td>1.102112</td>\n",
              "      <td>0.570754</td>\n",
              "    </tr>\n",
              "  </tbody>\n",
              "</table>\n",
              "</div>"
            ],
            "text/plain": [
              "                   GP       MIN       PTS       FGM       FGA       FG%  \\\n",
              "TARGET_5Yrs                                                               \n",
              "0.0          0.328486  0.461875  0.616171  0.617294  0.571082  0.156724   \n",
              "1.0          0.231153  0.432556  0.584391  0.582699  0.570670  0.120583   \n",
              "\n",
              "              3P Made       3PA       3P%       FTM       FTA       FT%  \\\n",
              "TARGET_5Yrs                                                               \n",
              "0.0          1.385988  1.226321  0.785933  0.729656  0.679759  0.164473   \n",
              "1.0          1.619617  1.437364  0.874228  0.697087  0.671587  0.138834   \n",
              "\n",
              "                 OREB      DREB       REB       AST       STL       BLK  \\\n",
              "TARGET_5Yrs                                                               \n",
              "0.0          0.763426  0.667063  0.657630  0.917197  0.654133  1.141933   \n",
              "1.0          0.703080  0.619188  0.623339  0.924771  0.633625  1.102112   \n",
              "\n",
              "                  TOV  \n",
              "TARGET_5Yrs            \n",
              "0.0          0.586936  \n",
              "1.0          0.570754  "
            ]
          },
          "execution_count": 82,
          "metadata": {},
          "output_type": "execute_result"
        }
      ],
      "source": [
        "df.groupby(\"TARGET_5Yrs\").std() / df.groupby(\"TARGET_5Yrs\").mean()"
      ]
    },
    {
      "cell_type": "code",
      "execution_count": 83,
      "metadata": {},
      "outputs": [],
      "source": [
        "y_baseline = [1 if p>= 6.5 else 0 for p in df[\"PTS\"]]"
      ]
    },
    {
      "cell_type": "markdown",
      "metadata": {
        "id": "EPu4VxBDvrWk"
      },
      "source": [
        "Train - test split\n",
        "\n",
        "Hacer un train - test split.\n",
        "\n",
        "Nos vamos a quedar con un 20% de los datos para evaluar el modelo.\n",
        "\n",
        "Primero que nada, recuerden dividir el df original en X e y.\n",
        "\n",
        "¿ Qué van a hacer con la variable Name ?"
      ]
    },
    {
      "cell_type": "code",
      "execution_count": 84,
      "metadata": {
        "id": "z8eLKJ8hP4qI"
      },
      "outputs": [],
      "source": [
        "X = df.drop([\"Name\", \"TARGET_5Yrs\"], axis=1)\n",
        "y = df[\"TARGET_5Yrs\"]"
      ]
    },
    {
      "cell_type": "code",
      "execution_count": 85,
      "metadata": {},
      "outputs": [],
      "source": [
        "X_train, X_test, y_train, y_test = train_test_split(X, y, test_size=0.2, random_state=42)"
      ]
    },
    {
      "cell_type": "markdown",
      "metadata": {
        "id": "aSjXy6lxZE76"
      },
      "source": [
        "### Decision tree"
      ]
    },
    {
      "cell_type": "markdown",
      "metadata": {
        "id": "OcKx1vLQuTtf"
      },
      "source": [
        "Vamos a arrancar entrenando un decision tree: https://scikit-learn.org/stable/modules/generated/sklearn.tree.DecisionTreeClassifier.html\n",
        "\n",
        "Vamos a definir un listado de max_depths, entrenar el arbol y generar predicciones con cada uno de estos valores y decidir cuál es el mejor valor según las métricas obtenidas.\n",
        "\n",
        "La métrica que vamos a medir es F1Score: https://scikit-learn.org/stable/modules/generated/sklearn.metrics.f1_score.html\n",
        "\n",
        "Primero, importar decision tree classifier y definir el listado de max depths:"
      ]
    },
    {
      "cell_type": "code",
      "execution_count": 86,
      "metadata": {
        "id": "W-MXoOqHQpNt"
      },
      "outputs": [],
      "source": [
        "from sklearn.tree import DecisionTreeClassifier\n",
        "\n",
        "max_depths = np.arange(1,15)"
      ]
    },
    {
      "cell_type": "markdown",
      "metadata": {
        "id": "vP5FKQsdRIb1"
      },
      "source": [
        "Ahora, por cada valor de max depth, debemos entrenar el arbol, generar predicciones de train, test y almacenarlas en 2 listas.\n",
        "\n",
        "Para esto, primero creemos las 2 listas vacias en las que vamos a ir almacenando las métricas obtenidas."
      ]
    },
    {
      "cell_type": "code",
      "execution_count": 87,
      "metadata": {
        "id": "QVr6GhiQRe6n"
      },
      "outputs": [],
      "source": [
        "train_fscores = []\n",
        "test_fscores = []"
      ]
    },
    {
      "cell_type": "markdown",
      "metadata": {
        "id": "bP2122kVRldD"
      },
      "source": [
        "Ahora, hacer el entrenamiento y predicciones para cada valor de max_depth. Calcular métrica y guardarla en la lista correspondiente.\n",
        "\n",
        "Recuerden importar F1score de sklearn"
      ]
    },
    {
      "cell_type": "code",
      "execution_count": 88,
      "metadata": {
        "id": "PTGudhdJSAo7"
      },
      "outputs": [],
      "source": [
        "from sklearn.metrics import f1_score"
      ]
    },
    {
      "cell_type": "code",
      "execution_count": 89,
      "metadata": {
        "id": "HrTXltNERkFV"
      },
      "outputs": [],
      "source": [
        "for i in max_depths:\n",
        "    tree = DecisionTreeClassifier(max_depth=i)\n",
        "\n",
        "    tree.fit(X_train, y_train)\n",
        "    train_pred = tree.predict(X_train)\n",
        "    test_pred = tree.predict(X_test)\n",
        "\n",
        "    train_fscores.append(f1_score(y_train, train_pred))\n",
        "    test_fscores.append(f1_score(y_test, test_pred))"
      ]
    },
    {
      "cell_type": "markdown",
      "metadata": {
        "id": "jZx1mcofUSLo"
      },
      "source": [
        "Imprimir las listas de scores:"
      ]
    },
    {
      "cell_type": "code",
      "execution_count": 90,
      "metadata": {
        "id": "VPQJt7_JRkOE"
      },
      "outputs": [
        {
          "data": {
            "text/plain": [
              "[0.7586206896551724,\n",
              " 0.7586206896551724,\n",
              " 0.7925650557620818,\n",
              " 0.8060781476121562,\n",
              " 0.8244958924570576,\n",
              " 0.8339538346984364,\n",
              " 0.8479755538579068,\n",
              " 0.8665620094191522,\n",
              " 0.9100609756097561,\n",
              " 0.9394409937888198,\n",
              " 0.960434445306439,\n",
              " 0.9755351681957186,\n",
              " 0.9836575875486381,\n",
              " 0.9907264296754251]"
            ]
          },
          "execution_count": 90,
          "metadata": {},
          "output_type": "execute_result"
        }
      ],
      "source": [
        "train_fscores"
      ]
    },
    {
      "cell_type": "code",
      "execution_count": 91,
      "metadata": {
        "id": "I3cCpxLJUT5z"
      },
      "outputs": [
        {
          "data": {
            "text/plain": [
              "[0.7307692307692307,\n",
              " 0.7307692307692307,\n",
              " 0.7710843373493976,\n",
              " 0.7719298245614035,\n",
              " 0.7582089552238807,\n",
              " 0.746268656716418,\n",
              " 0.7244582043343651,\n",
              " 0.7261146496815286,\n",
              " 0.7538940809968847,\n",
              " 0.7538940809968847,\n",
              " 0.732484076433121,\n",
              " 0.719242902208202,\n",
              " 0.7009646302250805,\n",
              " 0.7232704402515724]"
            ]
          },
          "execution_count": 91,
          "metadata": {},
          "output_type": "execute_result"
        }
      ],
      "source": [
        "test_fscores"
      ]
    },
    {
      "cell_type": "markdown",
      "metadata": {
        "id": "9hmh1IPiUXdT"
      },
      "source": [
        "Graficar un plot que contenga en el eje de las x max_depts y en el eje de las y las correspondientes métricas de train y test (2 lineas)"
      ]
    },
    {
      "cell_type": "code",
      "execution_count": 93,
      "metadata": {
        "id": "L1l-jyPGUdjB"
      },
      "outputs": [
        {
          "data": {
            "text/plain": [
              "<AxesSubplot:>"
            ]
          },
          "execution_count": 93,
          "metadata": {},
          "output_type": "execute_result"
        },
        {
          "data": {
            "image/png": "[encoded data removed]",
            "text/plain": [
              "<Figure size 432x288 with 1 Axes>"
            ]
          },
          "metadata": {
            "needs_background": "light"
          },
          "output_type": "display_data"
        }
      ],
      "source": [
        "sns.lineplot(x=max_depths, y = train_fscores)\n",
        "sns.lineplot(x=max_depths, y = test_fscores)"
      ]
    },
    {
      "cell_type": "markdown",
      "metadata": {
        "id": "V5kkKCbPVay6"
      },
      "source": [
        "¿ Conclusiones ?\n",
        "\n",
        "Basándose en el gráfico, seleccionar el max_depth optimo, entrenar el arbol y plotear la matriz de confusión:"
      ]
    },
    {
      "cell_type": "code",
      "execution_count": 94,
      "metadata": {
        "id": "LVAxbf0oVci4"
      },
      "outputs": [
        {
          "name": "stderr",
          "output_type": "stream",
          "text": [
            "C:\\Users\\Tmk\\AppData\\Local\\Programs\\Python\\Python39\\lib\\site-packages\\sklearn\\utils\\deprecation.py:87: FutureWarning: Function plot_confusion_matrix is deprecated; Function `plot_confusion_matrix` is deprecated in 1.0 and will be removed in 1.2. Use one of the class methods: ConfusionMatrixDisplay.from_predictions or ConfusionMatrixDisplay.from_estimator.\n",
            "  warnings.warn(msg, category=FutureWarning)\n"
          ]
        },
        {
          "data": {
            "text/plain": [
              "<sklearn.metrics._plot.confusion_matrix.ConfusionMatrixDisplay at 0x21f73920460>"
            ]
          },
          "execution_count": 94,
          "metadata": {},
          "output_type": "execute_result"
        },
        {
          "data": {
            "image/png": "[encoded data removed]",
            "text/plain": [
              "<Figure size 432x288 with 2 Axes>"
            ]
          },
          "metadata": {
            "needs_background": "light"
          },
          "output_type": "display_data"
        }
      ],
      "source": [
        "#El óptimo es 3 porque representa la mínima variación entre ambas funciones\n",
        "tree = DecisionTreeClassifier(max_depth=3)\n",
        "\n",
        "tree.fit(X_train, y_train)\n",
        "\n",
        "plot_confusion_matrix(tree, X_test, y_test)"
      ]
    },
    {
      "cell_type": "markdown",
      "metadata": {
        "id": "UrYNIT5sWO8i"
      },
      "source": [
        "Imprimir el classification report:"
      ]
    },
    {
      "cell_type": "code",
      "execution_count": 97,
      "metadata": {
        "id": "K2hJEFrSWQuk"
      },
      "outputs": [
        {
          "name": "stdout",
          "output_type": "stream",
          "text": [
            "              precision    recall  f1-score   support\n",
            "\n",
            "         0.0       0.61      0.57      0.59        96\n",
            "         1.0       0.76      0.79      0.77       163\n",
            "\n",
            "    accuracy                           0.71       259\n",
            "   macro avg       0.68      0.68      0.68       259\n",
            "weighted avg       0.70      0.71      0.70       259\n",
            "\n"
          ]
        }
      ],
      "source": [
        "print(classification_report(y_true= y_test, y_pred= tree.predict(X_test)))"
      ]
    },
    {
      "cell_type": "markdown",
      "metadata": {
        "id": "ea0ch7JDYTIU"
      },
      "source": [
        "¿ Cómo mejorarían el modelo ?"
      ]
    }
  ],
  "metadata": {
    "colab": {
      "collapsed_sections": [],
      "name": "Métricas_clasificación.ipynb",
      "provenance": []
    },
    "kernelspec": {
      "display_name": "Python 3",
      "name": "python3"
    },
    "language_info": {
      "codemirror_mode": {
        "name": "ipython",
        "version": 3
      },
      "file_extension": ".py",
      "mimetype": "text/x-python",
      "name": "python",
      "nbconvert_exporter": "python",
      "pygments_lexer": "ipython3",
      "version": "3.9.6"
    }
  },
  "nbformat": 4,
  "nbformat_minor": 0
}
