{
  "nbformat": 4,
  "nbformat_minor": 0,
  "metadata": {
    "colab": {
      "name": "Métricas_clasificación.ipynb",
      "provenance": [],
      "collapsed_sections": []
    },
    "kernelspec": {
      "name": "python3",
      "display_name": "Python 3"
    },
    "language_info": {
      "name": "python"
    }
  },
  "cells": [
    {
      "cell_type": "markdown",
      "metadata": {
        "id": "c6nvJIE7HloA"
      },
      "source": [
        "# Métricas clasificación\n",
        "\n",
        "Vamos a entrenar un modelo simple para clasificar sobre Iris dataset y calcular las métricas utilizando sklearn"
      ]
    },
    {
      "cell_type": "code",
      "metadata": {
        "id": "ih6xm9_SIsn7"
      },
      "source": [
        "import pandas as pd\n",
        "import seaborn as sns\n",
        "import matplotlib.pyplot as plt\n",
        "import numpy as np"
      ],
      "execution_count": null,
      "outputs": []
    },
    {
      "cell_type": "code",
      "metadata": {
        "colab": {
          "base_uri": "https://localhost:8080/",
          "height": 204
        },
        "id": "KYykEqgFHftX",
        "outputId": "c47273e8-877d-4bdb-d26c-71459508bd22"
      },
      "source": [
        "iris = sns.load_dataset(\"iris\")\n",
        "iris.head()"
      ],
      "execution_count": null,
      "outputs": [
        {
          "output_type": "execute_result",
          "data": {
            "text/html": [
              "<div>\n",
              "<style scoped>\n",
              "    .dataframe tbody tr th:only-of-type {\n",
              "        vertical-align: middle;\n",
              "    }\n",
              "\n",
              "    .dataframe tbody tr th {\n",
              "        vertical-align: top;\n",
              "    }\n",
              "\n",
              "    .dataframe thead th {\n",
              "        text-align: right;\n",
              "    }\n",
              "</style>\n",
              "<table border=\"1\" class=\"dataframe\">\n",
              "  <thead>\n",
              "    <tr style=\"text-align: right;\">\n",
              "      <th></th>\n",
              "      <th>sepal_length</th>\n",
              "      <th>sepal_width</th>\n",
              "      <th>petal_length</th>\n",
              "      <th>petal_width</th>\n",
              "      <th>species</th>\n",
              "    </tr>\n",
              "  </thead>\n",
              "  <tbody>\n",
              "    <tr>\n",
              "      <th>0</th>\n",
              "      <td>5.1</td>\n",
              "      <td>3.5</td>\n",
              "      <td>1.4</td>\n",
              "      <td>0.2</td>\n",
              "      <td>setosa</td>\n",
              "    </tr>\n",
              "    <tr>\n",
              "      <th>1</th>\n",
              "      <td>4.9</td>\n",
              "      <td>3.0</td>\n",
              "      <td>1.4</td>\n",
              "      <td>0.2</td>\n",
              "      <td>setosa</td>\n",
              "    </tr>\n",
              "    <tr>\n",
              "      <th>2</th>\n",
              "      <td>4.7</td>\n",
              "      <td>3.2</td>\n",
              "      <td>1.3</td>\n",
              "      <td>0.2</td>\n",
              "      <td>setosa</td>\n",
              "    </tr>\n",
              "    <tr>\n",
              "      <th>3</th>\n",
              "      <td>4.6</td>\n",
              "      <td>3.1</td>\n",
              "      <td>1.5</td>\n",
              "      <td>0.2</td>\n",
              "      <td>setosa</td>\n",
              "    </tr>\n",
              "    <tr>\n",
              "      <th>4</th>\n",
              "      <td>5.0</td>\n",
              "      <td>3.6</td>\n",
              "      <td>1.4</td>\n",
              "      <td>0.2</td>\n",
              "      <td>setosa</td>\n",
              "    </tr>\n",
              "  </tbody>\n",
              "</table>\n",
              "</div>"
            ],
            "text/plain": [
              "   sepal_length  sepal_width  petal_length  petal_width species\n",
              "0           5.1          3.5           1.4          0.2  setosa\n",
              "1           4.9          3.0           1.4          0.2  setosa\n",
              "2           4.7          3.2           1.3          0.2  setosa\n",
              "3           4.6          3.1           1.5          0.2  setosa\n",
              "4           5.0          3.6           1.4          0.2  setosa"
            ]
          },
          "metadata": {},
          "execution_count": 2
        }
      ]
    },
    {
      "cell_type": "markdown",
      "metadata": {
        "id": "81b3KFerJHhB"
      },
      "source": [
        "# Modelo simple de clasificación"
      ]
    },
    {
      "cell_type": "code",
      "metadata": {
        "id": "VUhSgKk0IwRO"
      },
      "source": [
        "X = iris.drop(\"species\", axis=1)\n",
        "y = iris.species"
      ],
      "execution_count": null,
      "outputs": []
    },
    {
      "cell_type": "code",
      "metadata": {
        "id": "IYrnNc3xJQmK"
      },
      "source": [
        "from sklearn.model_selection import train_test_split\n",
        "X_train, X_test, y_train, y_test = train_test_split(X, y, test_size=0.2, random_state=42)"
      ],
      "execution_count": null,
      "outputs": []
    },
    {
      "cell_type": "code",
      "metadata": {
        "id": "8EBINpzMJUbT"
      },
      "source": [
        "from sklearn.preprocessing import StandardScaler\n",
        "scaler = StandardScaler()\n",
        "X_train = scaler.fit_transform(X_train)\n",
        "X_test = scaler.fit_transform(X_test)"
      ],
      "execution_count": null,
      "outputs": []
    },
    {
      "cell_type": "code",
      "metadata": {
        "id": "58ejTEBVJWMH"
      },
      "source": [
        "from sklearn.neighbors import KNeighborsClassifier\n",
        "knn = KNeighborsClassifier(n_neighbors=5, weights='uniform')"
      ],
      "execution_count": null,
      "outputs": []
    },
    {
      "cell_type": "code",
      "metadata": {
        "id": "DMgpmFOlJYVa"
      },
      "source": [
        "knn.fit(X_train, y_train)\n",
        "\n",
        "y_train_pred = knn.predict(X_train)\n",
        "y_test_pred = knn.predict(X_test)"
      ],
      "execution_count": null,
      "outputs": []
    },
    {
      "cell_type": "code",
      "metadata": {
        "id": "uzOHninHJZj4"
      },
      "source": [
        "from sklearn.metrics import accuracy_score"
      ],
      "execution_count": null,
      "outputs": []
    },
    {
      "cell_type": "code",
      "metadata": {
        "colab": {
          "base_uri": "https://localhost:8080/"
        },
        "id": "gqNlE2PNJbP5",
        "outputId": "8917acfd-e878-47af-9d0c-4a2778a80131"
      },
      "source": [
        "train_acc = accuracy_score(y_train, y_train_pred)\n",
        "test_acc = accuracy_score(y_test, y_test_pred)\n",
        "\n",
        "print('Porcentaje de aceirtos sobre el set de entrenamiento:', train_acc)\n",
        "print('Porcentaje de aceirtos sobre el set de evaluación:',test_acc)"
      ],
      "execution_count": null,
      "outputs": [
        {
          "output_type": "stream",
          "name": "stdout",
          "text": [
            "Porcentaje de aceirtos sobre el set de entrenamiento: 0.9583333333333334\n",
            "Porcentaje de aceirtos sobre el set de evaluación: 0.9666666666666667\n"
          ]
        }
      ]
    },
    {
      "cell_type": "markdown",
      "metadata": {
        "id": "8s6V-CPlnbVn"
      },
      "source": [
        "## Matriz de confusión"
      ]
    },
    {
      "cell_type": "code",
      "metadata": {
        "id": "P5mjN7j0Pg__"
      },
      "source": [
        "from sklearn.metrics import confusion_matrix"
      ],
      "execution_count": null,
      "outputs": []
    },
    {
      "cell_type": "code",
      "metadata": {
        "colab": {
          "base_uri": "https://localhost:8080/"
        },
        "id": "Jo-AOb30QMXR",
        "outputId": "84a6d2bc-86f8-43b5-f053-6ad0cec8b292"
      },
      "source": [
        "confusion_matrix(y_test, y_test_pred)"
      ],
      "execution_count": null,
      "outputs": [
        {
          "output_type": "execute_result",
          "data": {
            "text/plain": [
              "array([[10,  0,  0],\n",
              "       [ 0,  9,  0],\n",
              "       [ 0,  1, 10]])"
            ]
          },
          "metadata": {},
          "execution_count": 11
        }
      ]
    },
    {
      "cell_type": "code",
      "metadata": {
        "id": "v3xG50R0RpdL"
      },
      "source": [
        "from sklearn.metrics import plot_confusion_matrix"
      ],
      "execution_count": null,
      "outputs": []
    },
    {
      "cell_type": "code",
      "metadata": {
        "colab": {
          "base_uri": "https://localhost:8080/",
          "height": 300
        },
        "id": "5dOKij59Rpiz",
        "outputId": "dba4c56e-d2f4-405b-8de3-096f0cf60f3b"
      },
      "source": [
        "plot_confusion_matrix(knn, X_test, y_test)"
      ],
      "execution_count": null,
      "outputs": [
        {
          "output_type": "execute_result",
          "data": {
            "text/plain": [
              "<sklearn.metrics._plot.confusion_matrix.ConfusionMatrixDisplay at 0x7f7e69b3efd0>"
            ]
          },
          "metadata": {},
          "execution_count": 13
        },
        {
          "output_type": "display_data",
          "data": {
            "image/png": "[encoded data removed]",
            "text/plain": [
              "<Figure size 432x288 with 2 Axes>"
            ]
          },
          "metadata": {
            "needs_background": "light"
          }
        }
      ]
    },
    {
      "cell_type": "markdown",
      "metadata": {
        "id": "tJqRoN5kndxA"
      },
      "source": [
        "## Precision, recall y f1score"
      ]
    },
    {
      "cell_type": "code",
      "metadata": {
        "id": "pqQ0TB3fQQNM"
      },
      "source": [
        "from sklearn.metrics import classification_report"
      ],
      "execution_count": null,
      "outputs": []
    },
    {
      "cell_type": "code",
      "metadata": {
        "colab": {
          "base_uri": "https://localhost:8080/"
        },
        "id": "RR0QbgsOQVSQ",
        "outputId": "54138375-d3fe-4278-b18a-053e7e6a752a"
      },
      "source": [
        "print(classification_report(y_test, y_test_pred))"
      ],
      "execution_count": null,
      "outputs": [
        {
          "output_type": "stream",
          "name": "stdout",
          "text": [
            "              precision    recall  f1-score   support\n",
            "\n",
            "      setosa       1.00      1.00      1.00        10\n",
            "  versicolor       0.90      1.00      0.95         9\n",
            "   virginica       1.00      0.91      0.95        11\n",
            "\n",
            "    accuracy                           0.97        30\n",
            "   macro avg       0.97      0.97      0.97        30\n",
            "weighted avg       0.97      0.97      0.97        30\n",
            "\n"
          ]
        }
      ]
    },
    {
      "cell_type": "markdown",
      "metadata": {
        "id": "9gaszQ-4Qvsn"
      },
      "source": [
        "Support: Support is the number of actual occurrences of the class in the specified dataset.\n",
        "\n",
        "macro and wighted avg: https://datascience.stackexchange.com/questions/65839/macro-average-and-weighted-average-meaning-in-classification-report"
      ]
    },
    {
      "cell_type": "markdown",
      "metadata": {
        "id": "ilmcMQqzngjk"
      },
      "source": [
        "# Práctica\n",
        "\n",
        "Vamos a trabajar con un dataset que contiene información sobre jugadores de basket. El objetivo es predecir si el jugador va a durar al menos 5 años en la liga.\n",
        "\n",
        "La siguiente linea les va a descargar el csv de un link de drive para que puedan importarlo directamente:"
      ]
    },
    {
      "cell_type": "code",
      "metadata": {
        "colab": {
          "base_uri": "https://localhost:8080/"
        },
        "id": "O5CwV2jNrN3N",
        "outputId": "96d31141-75a9-4d08-b5d5-857812c6fc2c"
      },
      "source": [
        "!wget --no-check-certificate 'https://docs.google.com/uc?export=download&id=1jeY3fh6ifqk0ESm8IKvI1nyJoKzTAzMX' -O nba.csv"
      ],
      "execution_count": null,
      "outputs": [
        {
          "output_type": "stream",
          "name": "stdout",
          "text": [
            "--2021-09-16 16:21:15--  https://docs.google.com/uc?export=download&id=1jeY3fh6ifqk0ESm8IKvI1nyJoKzTAzMX\n",
            "Resolving docs.google.com (docs.google.com)... 173.194.215.100, 173.194.215.101, 173.194.215.139, ...\n",
            "Connecting to docs.google.com (docs.google.com)|173.194.215.100|:443... connected.\n",
            "HTTP request sent, awaiting response... 302 Moved Temporarily\n",
            "Location: https://doc-00-74-docs.googleusercontent.com/docs/securesc/ha0ro937gcuc7l7deffksulhg5h7mbp1/2ibliot3u5tdhr6p59j1ngminb5qi8i0/1631809275000/14260194928165318342/*/1jeY3fh6ifqk0ESm8IKvI1nyJoKzTAzMX?e=download [following]\n",
            "Warning: wildcards not supported in HTTP.\n",
            "--2021-09-16 16:21:15--  https://doc-00-74-docs.googleusercontent.com/docs/securesc/ha0ro937gcuc7l7deffksulhg5h7mbp1/2ibliot3u5tdhr6p59j1ngminb5qi8i0/1631809275000/14260194928165318342/*/1jeY3fh6ifqk0ESm8IKvI1nyJoKzTAzMX?e=download\n",
            "Resolving doc-00-74-docs.googleusercontent.com (doc-00-74-docs.googleusercontent.com)... 173.194.216.132, 2607:f8b0:400c:c12::84\n",
            "Connecting to doc-00-74-docs.googleusercontent.com (doc-00-74-docs.googleusercontent.com)|173.194.216.132|:443... connected.\n",
            "HTTP request sent, awaiting response... 200 OK\n",
            "Length: 124945 (122K) [text/csv]\n",
            "Saving to: ‘nba.csv’\n",
            "\n",
            "nba.csv             100%[===================>] 122.02K  --.-KB/s    in 0.001s  \n",
            "\n",
            "2021-09-16 16:21:15 (118 MB/s) - ‘nba.csv’ saved [124945/124945]\n",
            "\n"
          ]
        }
      ]
    },
    {
      "cell_type": "markdown",
      "metadata": {
        "id": "zE29ac4FYhDD"
      },
      "source": [
        "## Análisis exploratiorio de los datos (EDA)\n",
        "\n",
        "Comencemos explorando el dataset"
      ]
    },
    {
      "cell_type": "markdown",
      "metadata": {
        "id": "O9JsbaIIq240"
      },
      "source": [
        "Leemos el csv"
      ]
    },
    {
      "cell_type": "code",
      "metadata": {
        "id": "9OCLfZ7woqhK"
      },
      "source": [
        "df = pd.read_csv(\"nba.csv\")"
      ],
      "execution_count": null,
      "outputs": []
    },
    {
      "cell_type": "code",
      "metadata": {
        "colab": {
          "base_uri": "https://localhost:8080/",
          "height": 204
        },
        "id": "JAOniizbouzh",
        "outputId": "12d28785-8737-4882-ebf0-d559ec1ba3d1"
      },
      "source": [
        "df.head()"
      ],
      "execution_count": null,
      "outputs": [
        {
          "output_type": "execute_result",
          "data": {
            "text/html": [
              "<div>\n",
              "<style scoped>\n",
              "    .dataframe tbody tr th:only-of-type {\n",
              "        vertical-align: middle;\n",
              "    }\n",
              "\n",
              "    .dataframe tbody tr th {\n",
              "        vertical-align: top;\n",
              "    }\n",
              "\n",
              "    .dataframe thead th {\n",
              "        text-align: right;\n",
              "    }\n",
              "</style>\n",
              "<table border=\"1\" class=\"dataframe\">\n",
              "  <thead>\n",
              "    <tr style=\"text-align: right;\">\n",
              "      <th></th>\n",
              "      <th>Name</th>\n",
              "      <th>GP</th>\n",
              "      <th>MIN</th>\n",
              "      <th>PTS</th>\n",
              "      <th>FGM</th>\n",
              "      <th>FGA</th>\n",
              "      <th>FG%</th>\n",
              "      <th>3P Made</th>\n",
              "      <th>3PA</th>\n",
              "      <th>3P%</th>\n",
              "      <th>FTM</th>\n",
              "      <th>FTA</th>\n",
              "      <th>FT%</th>\n",
              "      <th>OREB</th>\n",
              "      <th>DREB</th>\n",
              "      <th>REB</th>\n",
              "      <th>AST</th>\n",
              "      <th>STL</th>\n",
              "      <th>BLK</th>\n",
              "      <th>TOV</th>\n",
              "      <th>TARGET_5Yrs</th>\n",
              "    </tr>\n",
              "  </thead>\n",
              "  <tbody>\n",
              "    <tr>\n",
              "      <th>0</th>\n",
              "      <td>Brandon Ingram</td>\n",
              "      <td>36</td>\n",
              "      <td>27.4</td>\n",
              "      <td>7.4</td>\n",
              "      <td>2.6</td>\n",
              "      <td>7.6</td>\n",
              "      <td>34.7</td>\n",
              "      <td>0.5</td>\n",
              "      <td>2.1</td>\n",
              "      <td>25.0</td>\n",
              "      <td>1.6</td>\n",
              "      <td>2.3</td>\n",
              "      <td>69.9</td>\n",
              "      <td>0.7</td>\n",
              "      <td>3.4</td>\n",
              "      <td>4.1</td>\n",
              "      <td>1.9</td>\n",
              "      <td>0.4</td>\n",
              "      <td>0.4</td>\n",
              "      <td>1.3</td>\n",
              "      <td>0.0</td>\n",
              "    </tr>\n",
              "    <tr>\n",
              "      <th>1</th>\n",
              "      <td>Andrew Harrison</td>\n",
              "      <td>35</td>\n",
              "      <td>26.9</td>\n",
              "      <td>7.2</td>\n",
              "      <td>2.0</td>\n",
              "      <td>6.7</td>\n",
              "      <td>29.6</td>\n",
              "      <td>0.7</td>\n",
              "      <td>2.8</td>\n",
              "      <td>23.5</td>\n",
              "      <td>2.6</td>\n",
              "      <td>3.4</td>\n",
              "      <td>76.5</td>\n",
              "      <td>0.5</td>\n",
              "      <td>2.0</td>\n",
              "      <td>2.4</td>\n",
              "      <td>3.7</td>\n",
              "      <td>1.1</td>\n",
              "      <td>0.5</td>\n",
              "      <td>1.6</td>\n",
              "      <td>0.0</td>\n",
              "    </tr>\n",
              "    <tr>\n",
              "      <th>2</th>\n",
              "      <td>JaKarr Sampson</td>\n",
              "      <td>74</td>\n",
              "      <td>15.3</td>\n",
              "      <td>5.2</td>\n",
              "      <td>2.0</td>\n",
              "      <td>4.7</td>\n",
              "      <td>42.2</td>\n",
              "      <td>0.4</td>\n",
              "      <td>1.7</td>\n",
              "      <td>24.4</td>\n",
              "      <td>0.9</td>\n",
              "      <td>1.3</td>\n",
              "      <td>67.0</td>\n",
              "      <td>0.5</td>\n",
              "      <td>1.7</td>\n",
              "      <td>2.2</td>\n",
              "      <td>1.0</td>\n",
              "      <td>0.5</td>\n",
              "      <td>0.3</td>\n",
              "      <td>1.0</td>\n",
              "      <td>0.0</td>\n",
              "    </tr>\n",
              "    <tr>\n",
              "      <th>3</th>\n",
              "      <td>Malik Sealy</td>\n",
              "      <td>58</td>\n",
              "      <td>11.6</td>\n",
              "      <td>5.7</td>\n",
              "      <td>2.3</td>\n",
              "      <td>5.5</td>\n",
              "      <td>42.6</td>\n",
              "      <td>0.1</td>\n",
              "      <td>0.5</td>\n",
              "      <td>22.6</td>\n",
              "      <td>0.9</td>\n",
              "      <td>1.3</td>\n",
              "      <td>68.9</td>\n",
              "      <td>1.0</td>\n",
              "      <td>0.9</td>\n",
              "      <td>1.9</td>\n",
              "      <td>0.8</td>\n",
              "      <td>0.6</td>\n",
              "      <td>0.1</td>\n",
              "      <td>1.0</td>\n",
              "      <td>1.0</td>\n",
              "    </tr>\n",
              "    <tr>\n",
              "      <th>4</th>\n",
              "      <td>Matt Geiger</td>\n",
              "      <td>48</td>\n",
              "      <td>11.5</td>\n",
              "      <td>4.5</td>\n",
              "      <td>1.6</td>\n",
              "      <td>3.0</td>\n",
              "      <td>52.4</td>\n",
              "      <td>0.0</td>\n",
              "      <td>0.1</td>\n",
              "      <td>0.0</td>\n",
              "      <td>1.3</td>\n",
              "      <td>1.9</td>\n",
              "      <td>67.4</td>\n",
              "      <td>1.0</td>\n",
              "      <td>1.5</td>\n",
              "      <td>2.5</td>\n",
              "      <td>0.3</td>\n",
              "      <td>0.3</td>\n",
              "      <td>0.4</td>\n",
              "      <td>0.8</td>\n",
              "      <td>1.0</td>\n",
              "    </tr>\n",
              "  </tbody>\n",
              "</table>\n",
              "</div>"
            ],
            "text/plain": [
              "              Name  GP   MIN  PTS  FGM  ...  AST  STL  BLK  TOV  TARGET_5Yrs\n",
              "0   Brandon Ingram  36  27.4  7.4  2.6  ...  1.9  0.4  0.4  1.3          0.0\n",
              "1  Andrew Harrison  35  26.9  7.2  2.0  ...  3.7  1.1  0.5  1.6          0.0\n",
              "2   JaKarr Sampson  74  15.3  5.2  2.0  ...  1.0  0.5  0.3  1.0          0.0\n",
              "3      Malik Sealy  58  11.6  5.7  2.3  ...  0.8  0.6  0.1  1.0          1.0\n",
              "4      Matt Geiger  48  11.5  4.5  1.6  ...  0.3  0.3  0.4  0.8          1.0\n",
              "\n",
              "[5 rows x 21 columns]"
            ]
          },
          "metadata": {},
          "execution_count": 18
        }
      ]
    },
    {
      "cell_type": "markdown",
      "metadata": {
        "id": "NkqX3JU1r3JE"
      },
      "source": [
        "Diccionario de datos:\n",
        "\n",
        "- Name: name\n",
        "- GP: games played = partidos jugados\n",
        "- MIN: minutes played = minutos jugados\n",
        "- PTS: points per game = puntos por partido\n",
        "- FGM: Field goals Made = Goles hechos\n",
        "- FGA: Field goal attempts = Goles intentados\n",
        "- FG% Field goal percent = Porcentaje de goles hechos\n",
        "- 3P Made: 3 point made = Triples hechos\n",
        "- 3PA: 3 point attempts = Triples intentados\n",
        "- 3P%: 3 point attempts = Porcentaje de triples hechos\n",
        "- FTM: Free throw made = Tiros libres hechos\n",
        "- FTA: Free throw attempts = Tiros libres intentados\n",
        "- FT%: Free throw percent = Porcentaje de tiros libres\n",
        "- OREB: Offensive rebounds = Rebotes ofensivos\n",
        "- DREB: Defensive rebounds = Rebotes defensivos\n",
        "- REB: Rebounds = Rebotes\n",
        "- AST: Assists = Asistencias\n",
        "- STL: Steals = Robos\n",
        "- BLK: Blocks = Bloqueos\n",
        "- TOV: Turnovers = Pierde la posesión de la pelota\n",
        "- TARGET_5Yrs: Outcome: 1 if career length >= 5 yrs, 0 if < 5"
      ]
    },
    {
      "cell_type": "markdown",
      "metadata": {
        "id": "CDkZAYZcrqcE"
      },
      "source": [
        "¿ Cuántas filas y columnas tiene el dataset ?"
      ]
    },
    {
      "cell_type": "code",
      "metadata": {
        "id": "ySbPsvBsrpyb"
      },
      "source": [
        "#COMPLETAR"
      ],
      "execution_count": null,
      "outputs": []
    },
    {
      "cell_type": "markdown",
      "metadata": {
        "id": "NfwaHV14rknL"
      },
      "source": [
        "¿ Cúantos jugadores (nombres distintos) hay ?"
      ]
    },
    {
      "cell_type": "code",
      "metadata": {
        "id": "YtdCzn7NriBk"
      },
      "source": [
        "#COMPLETAR"
      ],
      "execution_count": null,
      "outputs": []
    },
    {
      "cell_type": "markdown",
      "metadata": {
        "id": "ZOGO5dbOYpI_"
      },
      "source": [
        "### Nulos"
      ]
    },
    {
      "cell_type": "markdown",
      "metadata": {
        "id": "u2JlzlNWs4ig"
      },
      "source": [
        "Hay nulos?"
      ]
    },
    {
      "cell_type": "code",
      "metadata": {
        "id": "aJnl8bGfroga"
      },
      "source": [
        "#COMPLETAR"
      ],
      "execution_count": null,
      "outputs": []
    },
    {
      "cell_type": "markdown",
      "metadata": {
        "id": "EtkNhLX0TvGG"
      },
      "source": [
        "Imprimir las filas del dataframe en donde la columna 3P% tiene nulos (usando una máscara)"
      ]
    },
    {
      "cell_type": "code",
      "metadata": {
        "id": "-2kfcfOCT3Hk"
      },
      "source": [
        "#COMPLETAR"
      ],
      "execution_count": null,
      "outputs": []
    },
    {
      "cell_type": "markdown",
      "metadata": {
        "id": "zdxVGVTcUBzb"
      },
      "source": [
        "Vemos que los nulos están justo donde 3PA y 3PMade son = 0. Por lo tanto, podemos completar los nulos de 3P% con 0s.\n",
        "\n",
        "Completar los nulos de 3p%:"
      ]
    },
    {
      "cell_type": "code",
      "metadata": {
        "id": "LXiex3NJUKdd"
      },
      "source": [
        "#COMPLETAR"
      ],
      "execution_count": null,
      "outputs": []
    },
    {
      "cell_type": "markdown",
      "metadata": {
        "id": "6oxt05KvYrhq"
      },
      "source": [
        "### Medidas de resumen"
      ]
    },
    {
      "cell_type": "markdown",
      "metadata": {
        "id": "EGtyTnh3u2uO"
      },
      "source": [
        "Imprimir un resumen de los datos (valores minimos, máximos, percentiles, media, etc)"
      ]
    },
    {
      "cell_type": "code",
      "metadata": {
        "id": "pMjgq-OOB1s_"
      },
      "source": [
        "#COMPLETAR"
      ],
      "execution_count": null,
      "outputs": []
    },
    {
      "cell_type": "markdown",
      "metadata": {
        "id": "v3ezIZUNY0dr"
      },
      "source": [
        "### Distribución de variables"
      ]
    },
    {
      "cell_type": "markdown",
      "metadata": {
        "id": "usA9NSI7uIUe"
      },
      "source": [
        "¿ Cómo se distribuyen las variables ?\n",
        "\n",
        "Plotear la distribución de todas las variables excepto Name y TARGET_5yrs.\n",
        "\n",
        "El plot tiene que ser armado con subplots de 2 columnas. En la primera vamos a hacer un distplot y en la segunda un boxplot.\n",
        "\n",
        "En la clase 8 vimos esto. Pueden consultar el notebook de esa clase.\n",
        "\n",
        "Tener en cuenta:\n",
        "- Poner un titulo a cada subplot (cada ax)\n",
        "- En el subplot, setear un figsize de (20,60) como mínimo para poder visualizar bien todo\n",
        "- Si los subplots quedan muy juntos, pueden utilizar como indica [este link](https://www.geeksforgeeks.org/how-to-set-the-spacing-between-subplots-in-matplotlib-in-python/) el siguiente bloque de código al final de todo:\n",
        "\n",
        "\n",
        "```\n",
        "plt.subplots_adjust(left=0.1,\n",
        "                    bottom=0.1, \n",
        "                    right=0.9, \n",
        "                    top=1, \n",
        "                    wspace=0.4, \n",
        "                    hspace=0.4)\n",
        "plt.show()\n",
        "```"
      ]
    },
    {
      "cell_type": "code",
      "metadata": {
        "id": "_jt_6pPnB3pk"
      },
      "source": [
        "#COMPLETAR"
      ],
      "execution_count": null,
      "outputs": []
    },
    {
      "cell_type": "markdown",
      "metadata": {
        "id": "h_zRDnGpY36P"
      },
      "source": [
        "### Distribución del target"
      ]
    },
    {
      "cell_type": "markdown",
      "metadata": {
        "id": "iiNDU4MoIT-u"
      },
      "source": [
        "¿ Cómo se distribuye el target ?\n",
        "\n",
        "Plotear la distribución de el target con el gráfico que les parezca más adecuado."
      ]
    },
    {
      "cell_type": "code",
      "metadata": {
        "id": "QEcBmq_sIeNx"
      },
      "source": [
        "#COMPLETAR"
      ],
      "execution_count": null,
      "outputs": []
    },
    {
      "cell_type": "markdown",
      "metadata": {
        "id": "DfjIhgCSIuX9"
      },
      "source": [
        "¿ Cuántos 1s y 0s hay en el target ?"
      ]
    },
    {
      "cell_type": "code",
      "metadata": {
        "id": "vW6oQ9yFIyAt"
      },
      "source": [
        "#COMPLETAR"
      ],
      "execution_count": null,
      "outputs": []
    },
    {
      "cell_type": "markdown",
      "metadata": {
        "id": "Md8TVXqTI0Uh"
      },
      "source": [
        "¿ En porcentajes ?"
      ]
    },
    {
      "cell_type": "code",
      "metadata": {
        "id": "7Jh8KnDiI1_S"
      },
      "source": [
        "#COMPLETAR"
      ],
      "execution_count": null,
      "outputs": []
    },
    {
      "cell_type": "markdown",
      "metadata": {
        "id": "lWy8v6aAY8Oh"
      },
      "source": [
        "### Outliers"
      ]
    },
    {
      "cell_type": "markdown",
      "metadata": {
        "id": "obtdOEnEuTh-"
      },
      "source": [
        "¿ Hay outliers ?\n",
        "\n",
        "En los boxplots se puede ver que hay outliers en la mayor parte de las variables. Sin embargo, para esta primer iteración del modelo, no haremos nada con ellos."
      ]
    },
    {
      "cell_type": "markdown",
      "metadata": {
        "id": "3elX4mrxY9vW"
      },
      "source": [
        "### Correlación"
      ]
    },
    {
      "cell_type": "markdown",
      "metadata": {
        "id": "Igh6QvssuToP"
      },
      "source": [
        "¿ Hay correlación entre las variables ?\n",
        "\n",
        "Tip: En el notebook de la clase 9 tenian un ejemplo para plotear un heatmap que solo muestra la mitad que nos interesa, con un buen tamaño y anotaciones."
      ]
    },
    {
      "cell_type": "code",
      "metadata": {
        "id": "RqtHYX8QI9ca"
      },
      "source": [
        "#COMPLETAR"
      ],
      "execution_count": null,
      "outputs": []
    },
    {
      "cell_type": "markdown",
      "metadata": {
        "id": "3lrcxxJmO-pf"
      },
      "source": [
        "El heatmap queda muy grande por la cantidad de variables que hay. \n",
        "\n",
        "Ahora, queremos analizar la correlación de las variables con el target. ¿Cómo podemos hacer esto?\n",
        "\n",
        "Plotear un heatmap que solo muestre la correlación entre las variables y el target (va a tener una única columna).\n",
        "\n",
        "Para esto, pueden guiarse con esta pregunta de stackoverflow: https://stackoverflow.com/questions/47585775/seaborn-heatmap-with-single-column"
      ]
    },
    {
      "cell_type": "code",
      "metadata": {
        "id": "1qyNfjsaJ0TG"
      },
      "source": [
        "#COMPLETAR"
      ],
      "execution_count": null,
      "outputs": []
    },
    {
      "cell_type": "markdown",
      "metadata": {
        "id": "LFtWtUOqZAMA"
      },
      "source": [
        "### Train test split"
      ]
    },
    {
      "cell_type": "markdown",
      "metadata": {
        "id": "XwHXsHYYuTq3"
      },
      "source": [
        "¿ Qué variables tomarían para entrenar un modelo ?\n",
        "\n",
        "En principio pueden ser todas, pueden descartar variables que estén muy correlacionadas entre si, o seleccionar algunas con el criterio que les parezca. Luego se puede iterar."
      ]
    },
    {
      "cell_type": "code",
      "metadata": {
        "id": "6yexhUjwPwzH"
      },
      "source": [
        "# COMPLETAR"
      ],
      "execution_count": null,
      "outputs": []
    },
    {
      "cell_type": "markdown",
      "metadata": {
        "id": "xCwLPRemvLNq"
      },
      "source": [
        "Definir baseline"
      ]
    },
    {
      "cell_type": "code",
      "metadata": {
        "id": "Vl5GcOAGP2kO"
      },
      "source": [
        "# Completar"
      ],
      "execution_count": null,
      "outputs": []
    },
    {
      "cell_type": "markdown",
      "metadata": {
        "id": "EPu4VxBDvrWk"
      },
      "source": [
        "Train - test split\n",
        "\n",
        "Hacer un train - test split.\n",
        "\n",
        "Nos vamos a quedar con un 20% de los datos para evaluar el modelo.\n",
        "\n",
        "Primero que nada, recuerden dividir el df original en X e y.\n",
        "\n",
        "¿ Qué van a hacer con la variable Name ?"
      ]
    },
    {
      "cell_type": "code",
      "metadata": {
        "id": "z8eLKJ8hP4qI"
      },
      "source": [
        "#COMPLETAR"
      ],
      "execution_count": null,
      "outputs": []
    },
    {
      "cell_type": "markdown",
      "metadata": {
        "id": "aSjXy6lxZE76"
      },
      "source": [
        "### Decision tree"
      ]
    },
    {
      "cell_type": "markdown",
      "metadata": {
        "id": "OcKx1vLQuTtf"
      },
      "source": [
        "Vamos a arrancar entrenando un decision tree: https://scikit-learn.org/stable/modules/generated/sklearn.tree.DecisionTreeClassifier.html\n",
        "\n",
        "Vamos a definir un listado de max_depths, entrenar el arbol y generar predicciones con cada uno de estos valores y decidir cuál es el mejor valor según las métricas obtenidas.\n",
        "\n",
        "La métrica que vamos a medir es F1Score: https://scikit-learn.org/stable/modules/generated/sklearn.metrics.f1_score.html\n",
        "\n",
        "Primero, importar decision tree classifier y definir el listado de max depths:"
      ]
    },
    {
      "cell_type": "code",
      "metadata": {
        "id": "W-MXoOqHQpNt"
      },
      "source": [
        "#COMPLETAR"
      ],
      "execution_count": null,
      "outputs": []
    },
    {
      "cell_type": "markdown",
      "metadata": {
        "id": "vP5FKQsdRIb1"
      },
      "source": [
        "Ahora, por cada valor de max depth, debemos entrenar el arbol, generar predicciones de train, test y almacenarlas en 2 listas.\n",
        "\n",
        "Para esto, primero creemos las 2 listas vacias en las que vamos a ir almacenando las métricas obtenidas."
      ]
    },
    {
      "cell_type": "code",
      "metadata": {
        "id": "QVr6GhiQRe6n"
      },
      "source": [
        "#COMPLETAR"
      ],
      "execution_count": null,
      "outputs": []
    },
    {
      "cell_type": "markdown",
      "metadata": {
        "id": "bP2122kVRldD"
      },
      "source": [
        "Ahora, hacer el entrenamiento y predicciones para cada valor de max_depth. Calcular métrica y guardarla en la lista correspondiente.\n",
        "\n",
        "Recuerden importar F1score de sklearn"
      ]
    },
    {
      "cell_type": "code",
      "metadata": {
        "id": "PTGudhdJSAo7"
      },
      "source": [
        "#COMPLETAR"
      ],
      "execution_count": null,
      "outputs": []
    },
    {
      "cell_type": "code",
      "metadata": {
        "id": "HrTXltNERkFV"
      },
      "source": [
        "#COMPLETAR"
      ],
      "execution_count": null,
      "outputs": []
    },
    {
      "cell_type": "markdown",
      "metadata": {
        "id": "jZx1mcofUSLo"
      },
      "source": [
        "Imprimir las listas de scores:"
      ]
    },
    {
      "cell_type": "code",
      "metadata": {
        "id": "VPQJt7_JRkOE"
      },
      "source": [
        "#COMPLETAR"
      ],
      "execution_count": null,
      "outputs": []
    },
    {
      "cell_type": "code",
      "metadata": {
        "id": "I3cCpxLJUT5z"
      },
      "source": [
        "#COMPLETAR"
      ],
      "execution_count": null,
      "outputs": []
    },
    {
      "cell_type": "markdown",
      "metadata": {
        "id": "9hmh1IPiUXdT"
      },
      "source": [
        "Graficar un plot que contenga en el eje de las x max_depts y en el eje de las y las correspondientes métricas de train y test (2 lineas)"
      ]
    },
    {
      "cell_type": "code",
      "metadata": {
        "id": "L1l-jyPGUdjB"
      },
      "source": [
        "#COMPLETAR"
      ],
      "execution_count": null,
      "outputs": []
    },
    {
      "cell_type": "markdown",
      "metadata": {
        "id": "V5kkKCbPVay6"
      },
      "source": [
        "¿ Conclusiones ?\n",
        "\n",
        "Basándose en el gráfico, seleccionar el max_depth optimo, entrenar el arbol y plotear la matriz de confusión:"
      ]
    },
    {
      "cell_type": "code",
      "metadata": {
        "id": "LVAxbf0oVci4"
      },
      "source": [
        "#COMPLETAR"
      ],
      "execution_count": null,
      "outputs": []
    },
    {
      "cell_type": "markdown",
      "metadata": {
        "id": "UrYNIT5sWO8i"
      },
      "source": [
        "Imprimir el classification report:"
      ]
    },
    {
      "cell_type": "code",
      "metadata": {
        "id": "K2hJEFrSWQuk"
      },
      "source": [
        "#COMPLETAR"
      ],
      "execution_count": null,
      "outputs": []
    },
    {
      "cell_type": "markdown",
      "metadata": {
        "id": "ea0ch7JDYTIU"
      },
      "source": [
        "¿ Cómo mejorarían el modelo ?"
      ]
    }
  ]
}