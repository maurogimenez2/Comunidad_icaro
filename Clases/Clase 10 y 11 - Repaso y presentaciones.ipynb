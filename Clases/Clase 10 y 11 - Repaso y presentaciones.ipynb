{
  "nbformat": 4,
  "nbformat_minor": 0,
  "metadata": {
    "colab": {
      "name": "Repaso-presentaciones.ipynb",
      "provenance": []
    },
    "kernelspec": {
      "name": "python3",
      "display_name": "Python 3"
    },
    "language_info": {
      "name": "python"
    }
  },
  "cells": [
    {
      "cell_type": "markdown",
      "metadata": {
        "id": "hFSjsk-KWCF7"
      },
      "source": [
        "na_values en read_csv de pandas\n",
        "Try Except para manejo de excepciones\n",
        "Replace\n",
        "Plotear la media en un lineplot"
      ]
    },
    {
      "cell_type": "markdown",
      "metadata": {
        "id": "pamGEP4WWJUI"
      },
      "source": [
        "# Repaso \n",
        "\n",
        "En las presentaciones surgieron los temas:\n",
        "\n",
        "- na_values en read_csv\n",
        "- Try Except\n",
        "- Replace"
      ]
    },
    {
      "cell_type": "code",
      "metadata": {
        "colab": {
          "base_uri": "https://localhost:8080/"
        },
        "id": "NmTMSYH7V_Wu",
        "outputId": "7203b0cc-7009-4621-8c88-8981f2ffcb54"
      },
      "source": [
        "from google.colab import drive # La usamos para montar nuestra unidad de Google Drive\n",
        "drive.mount('/content/drive') # Montamos nuestra unidad de Google Drive"
      ],
      "execution_count": 1,
      "outputs": [
        {
          "output_type": "stream",
          "text": [
            "Mounted at /content/drive\n"
          ],
          "name": "stdout"
        }
      ]
    },
    {
      "cell_type": "code",
      "metadata": {
        "id": "gyazt7XmWB24"
      },
      "source": [
        "import pandas as pd\n",
        "import matplotlib.pyplot as plt\n",
        "import seaborn as sns"
      ],
      "execution_count": 43,
      "outputs": []
    },
    {
      "cell_type": "markdown",
      "metadata": {
        "id": "goPlU9onFpch"
      },
      "source": [
        "## na_values"
      ]
    },
    {
      "cell_type": "code",
      "metadata": {
        "id": "WOC-ifViWB5l"
      },
      "source": [
        "df = pd.read_csv(\"/content/drive/MyDrive/ICARO/Datasets/datasets/airplane_crashes/Airplane_crashes_dataset_since_1908.csv\", encoding=\"ISO-8859-1\")"
      ],
      "execution_count": 14,
      "outputs": []
    },
    {
      "cell_type": "code",
      "metadata": {
        "colab": {
          "base_uri": "https://localhost:8080/",
          "height": 479
        },
        "id": "NU5zdc-FWB73",
        "outputId": "51fba675-4ce9-49b3-fc55-cce09f3b64c2"
      },
      "source": [
        "df.head()"
      ],
      "execution_count": 15,
      "outputs": [
        {
          "output_type": "execute_result",
          "data": {
            "text/html": [
              "<div>\n",
              "<style scoped>\n",
              "    .dataframe tbody tr th:only-of-type {\n",
              "        vertical-align: middle;\n",
              "    }\n",
              "\n",
              "    .dataframe tbody tr th {\n",
              "        vertical-align: top;\n",
              "    }\n",
              "\n",
              "    .dataframe thead th {\n",
              "        text-align: right;\n",
              "    }\n",
              "</style>\n",
              "<table border=\"1\" class=\"dataframe\">\n",
              "  <thead>\n",
              "    <tr style=\"text-align: right;\">\n",
              "      <th></th>\n",
              "      <th>date</th>\n",
              "      <th>time</th>\n",
              "      <th>location</th>\n",
              "      <th>operator</th>\n",
              "      <th>flight_no</th>\n",
              "      <th>route</th>\n",
              "      <th>ac_type</th>\n",
              "      <th>registration</th>\n",
              "      <th>cn_ln</th>\n",
              "      <th>all_aboard</th>\n",
              "      <th>passengers_aboard</th>\n",
              "      <th>crew_aboard</th>\n",
              "      <th>all_fatalities</th>\n",
              "      <th>passenger_fatalities</th>\n",
              "      <th>crew_fatalities</th>\n",
              "      <th>ground</th>\n",
              "      <th>summary</th>\n",
              "    </tr>\n",
              "  </thead>\n",
              "  <tbody>\n",
              "    <tr>\n",
              "      <th>0</th>\n",
              "      <td>September 17, 1908</td>\n",
              "      <td>1718</td>\n",
              "      <td>Fort Myer, Virginia</td>\n",
              "      <td>Military - U.S. Army</td>\n",
              "      <td>?</td>\n",
              "      <td>Demonstration</td>\n",
              "      <td>Wright Flyer III</td>\n",
              "      <td>?</td>\n",
              "      <td>1</td>\n",
              "      <td>2</td>\n",
              "      <td>1</td>\n",
              "      <td>1</td>\n",
              "      <td>1</td>\n",
              "      <td>1</td>\n",
              "      <td>0</td>\n",
              "      <td>0</td>\n",
              "      <td>During a demonstration flight, a U.S. Army fly...</td>\n",
              "    </tr>\n",
              "    <tr>\n",
              "      <th>1</th>\n",
              "      <td>September 07, 1909</td>\n",
              "      <td>?</td>\n",
              "      <td>Juvisy-sur-Orge, France</td>\n",
              "      <td>?</td>\n",
              "      <td>?</td>\n",
              "      <td>Air show</td>\n",
              "      <td>Wright Byplane</td>\n",
              "      <td>SC1</td>\n",
              "      <td>?</td>\n",
              "      <td>1</td>\n",
              "      <td>0</td>\n",
              "      <td>1</td>\n",
              "      <td>1</td>\n",
              "      <td>0</td>\n",
              "      <td>0</td>\n",
              "      <td>0</td>\n",
              "      <td>Eugene Lefebvre was the first pilot to ever be...</td>\n",
              "    </tr>\n",
              "    <tr>\n",
              "      <th>2</th>\n",
              "      <td>July 12, 1912</td>\n",
              "      <td>0630</td>\n",
              "      <td>Atlantic City, New Jersey</td>\n",
              "      <td>Military - U.S. Navy</td>\n",
              "      <td>?</td>\n",
              "      <td>Test flight</td>\n",
              "      <td>Dirigible</td>\n",
              "      <td>?</td>\n",
              "      <td>?</td>\n",
              "      <td>5</td>\n",
              "      <td>0</td>\n",
              "      <td>5</td>\n",
              "      <td>5</td>\n",
              "      <td>0</td>\n",
              "      <td>5</td>\n",
              "      <td>0</td>\n",
              "      <td>First U.S. dirigible Akron exploded just offsh...</td>\n",
              "    </tr>\n",
              "    <tr>\n",
              "      <th>3</th>\n",
              "      <td>August 06, 1913</td>\n",
              "      <td>?</td>\n",
              "      <td>Victoria, British Columbia, Canada</td>\n",
              "      <td>Private</td>\n",
              "      <td>?</td>\n",
              "      <td>?</td>\n",
              "      <td>Curtiss seaplane</td>\n",
              "      <td>?</td>\n",
              "      <td>?</td>\n",
              "      <td>1</td>\n",
              "      <td>0</td>\n",
              "      <td>1</td>\n",
              "      <td>1</td>\n",
              "      <td>0</td>\n",
              "      <td>1</td>\n",
              "      <td>0</td>\n",
              "      <td>The first fatal airplane accident in Canada oc...</td>\n",
              "    </tr>\n",
              "    <tr>\n",
              "      <th>4</th>\n",
              "      <td>September 09, 1913</td>\n",
              "      <td>1830</td>\n",
              "      <td>Over the North Sea</td>\n",
              "      <td>Military - German Navy</td>\n",
              "      <td>?</td>\n",
              "      <td>?</td>\n",
              "      <td>Zeppelin L-1 (airship)</td>\n",
              "      <td>?</td>\n",
              "      <td>?</td>\n",
              "      <td>20</td>\n",
              "      <td>?</td>\n",
              "      <td>?</td>\n",
              "      <td>14</td>\n",
              "      <td>?</td>\n",
              "      <td>?</td>\n",
              "      <td>0</td>\n",
              "      <td>The airship flew into a thunderstorm and encou...</td>\n",
              "    </tr>\n",
              "  </tbody>\n",
              "</table>\n",
              "</div>"
            ],
            "text/plain": [
              "                 date  ...                                            summary\n",
              "0  September 17, 1908  ...  During a demonstration flight, a U.S. Army fly...\n",
              "1  September 07, 1909  ...  Eugene Lefebvre was the first pilot to ever be...\n",
              "2       July 12, 1912  ...  First U.S. dirigible Akron exploded just offsh...\n",
              "3     August 06, 1913  ...  The first fatal airplane accident in Canada oc...\n",
              "4  September 09, 1913  ...  The airship flew into a thunderstorm and encou...\n",
              "\n",
              "[5 rows x 17 columns]"
            ]
          },
          "metadata": {},
          "execution_count": 15
        }
      ]
    },
    {
      "cell_type": "code",
      "metadata": {
        "colab": {
          "base_uri": "https://localhost:8080/"
        },
        "id": "_OaHyDu0Fm3J",
        "outputId": "4f39d444-b0b2-4c0f-a398-c9a6c97148f8"
      },
      "source": [
        "df.isna().sum()"
      ],
      "execution_count": 16,
      "outputs": [
        {
          "output_type": "execute_result",
          "data": {
            "text/plain": [
              "date                    0\n",
              "time                    0\n",
              "location                0\n",
              "operator                0\n",
              "flight_no               0\n",
              "route                   0\n",
              "ac_type                 0\n",
              "registration            0\n",
              "cn_ln                   0\n",
              "all_aboard              0\n",
              "passengers_aboard       0\n",
              "crew_aboard             0\n",
              "all_fatalities          0\n",
              "passenger_fatalities    0\n",
              "crew_fatalities         0\n",
              "ground                  0\n",
              "summary                 0\n",
              "dtype: int64"
            ]
          },
          "metadata": {},
          "execution_count": 16
        }
      ]
    },
    {
      "cell_type": "markdown",
      "metadata": {
        "id": "oRVO6pmeGdxL"
      },
      "source": [
        "No nos detecta nulos, sin embargo vemos que hay muchos \"?\". ¿ Cómo podemos resolverlo directamente el el read_csv? \n",
        "\n",
        "Leer la documentación de read_csv de pandas"
      ]
    },
    {
      "cell_type": "markdown",
      "metadata": {
        "id": "i1VassBuGnsG"
      },
      "source": [
        "# Try Except\n",
        "\n",
        "- Try: Nos permite testear un bloque de código.\n",
        "\n",
        "- Except: Nos permite \"capturar\" el error y hacer algo.\n",
        "\n",
        "- Finally: Este bloque se ejecuta al final de todo, sin importar si el try falló o no.\n",
        "\n",
        "Veamos un ejemplo, intento acceder a una variable \"a\" que no está definida previamente:"
      ]
    },
    {
      "cell_type": "code",
      "metadata": {
        "colab": {
          "base_uri": "https://localhost:8080/",
          "height": 164
        },
        "id": "KyFf3VixFn28",
        "outputId": "d5f3759c-d3c5-4f65-bf7a-98aed586df7d"
      },
      "source": [
        "print(a)"
      ],
      "execution_count": 17,
      "outputs": [
        {
          "output_type": "error",
          "ename": "NameError",
          "evalue": "ignored",
          "traceback": [
            "\u001b[0;31m---------------------------------------------------------------------------\u001b[0m",
            "\u001b[0;31mNameError\u001b[0m                                 Traceback (most recent call last)",
            "\u001b[0;32m<ipython-input-17-bca0e2660b9f>\u001b[0m in \u001b[0;36m<module>\u001b[0;34m()\u001b[0m\n\u001b[0;32m----> 1\u001b[0;31m \u001b[0mprint\u001b[0m\u001b[0;34m(\u001b[0m\u001b[0ma\u001b[0m\u001b[0;34m)\u001b[0m\u001b[0;34m\u001b[0m\u001b[0;34m\u001b[0m\u001b[0m\n\u001b[0m",
            "\u001b[0;31mNameError\u001b[0m: name 'a' is not defined"
          ]
        }
      ]
    },
    {
      "cell_type": "markdown",
      "metadata": {
        "id": "vnBpapqsHUB4"
      },
      "source": [
        "Vemos en el error el mensaje: *NameError: name 'a' is not defined*\n",
        "\n",
        "Esto significa que se levantó una exepción del tipo \"NameError\" con el mensaje: name 'a' is not defined.\n",
        "\n",
        "Si queremos capturar este error para hacer algo (por ejemplo, imprimir un mensaje de error nosotros) podemos utilizar try, except:"
      ]
    },
    {
      "cell_type": "code",
      "metadata": {
        "colab": {
          "base_uri": "https://localhost:8080/"
        },
        "id": "vM65mCWnHTUo",
        "outputId": "7b4163d3-668b-427e-83c7-3d9b4abe87b1"
      },
      "source": [
        "try:\n",
        "  print(a)\n",
        "except:\n",
        "  print(\"Error\")"
      ],
      "execution_count": 18,
      "outputs": [
        {
          "output_type": "stream",
          "text": [
            "Error\n"
          ],
          "name": "stdout"
        }
      ]
    },
    {
      "cell_type": "markdown",
      "metadata": {
        "id": "IOfPhugSHspe"
      },
      "source": [
        "Vemos que acá se imprime lo que nosotros definimos. También podemos darle un nombre a la excepción y directamente acceder a el mensaje de error:"
      ]
    },
    {
      "cell_type": "code",
      "metadata": {
        "colab": {
          "base_uri": "https://localhost:8080/"
        },
        "id": "1IRHVdEQHr5v",
        "outputId": "fb9baa0d-5e0b-44e7-d920-3b05a5ef9f48"
      },
      "source": [
        "try:\n",
        "  print(a)\n",
        "except Exception as e:\n",
        "  print(f\"Error: {e}\")"
      ],
      "execution_count": 20,
      "outputs": [
        {
          "output_type": "stream",
          "text": [
            "Error: name 'a' is not defined\n"
          ],
          "name": "stdout"
        }
      ]
    },
    {
      "cell_type": "markdown",
      "metadata": {
        "id": "VitauSANIAzp"
      },
      "source": [
        "De todas formas, esto no es una muy buena práctica ya que hay muchos tipos de excepciones, por ejemplo: NameError, ValueError, ZeroDivisionError y TypeError.\n",
        "\n",
        "En general, es mejor especificar que tipo de error queremos capturar en el except:"
      ]
    },
    {
      "cell_type": "code",
      "metadata": {
        "colab": {
          "base_uri": "https://localhost:8080/"
        },
        "id": "nGzCzh9SH558",
        "outputId": "a49e565a-3f8f-46ec-d535-d7632f04a773"
      },
      "source": [
        "try:\n",
        "  print(a)\n",
        "except ValueError as e:\n",
        "  print(f\"Value error: {e}\")\n",
        "except NameError as e:\n",
        "  print(f\"Name error: {e}\")"
      ],
      "execution_count": 21,
      "outputs": [
        {
          "output_type": "stream",
          "text": [
            "Name error: name 'a' is not defined\n"
          ],
          "name": "stdout"
        }
      ]
    },
    {
      "cell_type": "markdown",
      "metadata": {
        "id": "V8Cs4O1qIkpw"
      },
      "source": [
        "EJERCICIO: Buscar ValueError y armar un ejemplo como el anterior, pero capturando un ValueError."
      ]
    },
    {
      "cell_type": "code",
      "metadata": {
        "id": "2N20V3qzIRDq"
      },
      "source": [
        "#COMPLETAR"
      ],
      "execution_count": 23,
      "outputs": []
    },
    {
      "cell_type": "markdown",
      "metadata": {
        "id": "ViCT68aqIsmJ"
      },
      "source": [
        "Finally: Este bloque se ejecuta siempre al final, sin importar si hubo un error:"
      ]
    },
    {
      "cell_type": "code",
      "metadata": {
        "colab": {
          "base_uri": "https://localhost:8080/"
        },
        "id": "SlWGROT-Ii17",
        "outputId": "4388f6b5-91b4-4285-ebf4-6f57d2ca5cea"
      },
      "source": [
        "try:\n",
        "  print(a)\n",
        "except NameError as e:\n",
        "  print(f\"Name error: {e}\")\n",
        "finally:\n",
        "  print(\"Esto es el finally\")"
      ],
      "execution_count": 24,
      "outputs": [
        {
          "output_type": "stream",
          "text": [
            "Name error: name 'a' is not defined\n",
            "Esto es el finally\n"
          ],
          "name": "stdout"
        }
      ]
    },
    {
      "cell_type": "code",
      "metadata": {
        "colab": {
          "base_uri": "https://localhost:8080/"
        },
        "id": "am6BAeE2I2MW",
        "outputId": "a99e29fc-8d6f-43ff-ed02-7b59442d3bbd"
      },
      "source": [
        "a=10 # Definimos \"a\" para que no se dispare la excepción\n",
        "\n",
        "try:\n",
        "  print(a)\n",
        "except NameError as e:\n",
        "  print(f\"Name error: {e}\")\n",
        "finally:\n",
        "  print(\"Esto es el finally\")"
      ],
      "execution_count": 25,
      "outputs": [
        {
          "output_type": "stream",
          "text": [
            "10\n",
            "Esto es el finally\n"
          ],
          "name": "stdout"
        }
      ]
    },
    {
      "cell_type": "markdown",
      "metadata": {
        "id": "XqDgMkTII83w"
      },
      "source": [
        "Vemos que en ambos casos se imprime \"Esto es el finally\"\n",
        "\n",
        "### Raise\n",
        "\n",
        "Raise se utiliza para levantar una excepción. Nosotros podemos definir el tipo de error que queremos levantar y el mensaje de error que queremos mostrar.\n",
        "\n",
        "Veamos ejemplos: Vamos a definir una función \"suma_enteros\" que sume el primer parametro elemento más el segundo. Si esta función recibe un elemento distinto de int vamos a levantar un TypeError.\n"
      ]
    },
    {
      "cell_type": "code",
      "metadata": {
        "id": "RR54kFScI7xu"
      },
      "source": [
        "def suma_enteros(a, b):\n",
        "  if type(a) != int:\n",
        "    raise TypeError(f\"Error: {a} no es del tipo int\")\n",
        "  \n",
        "  if type(b) != int:\n",
        "    raise TypeError(f\"Error: {b} no es del tipo int\")\n",
        "\n",
        "  else:\n",
        "    return a + b"
      ],
      "execution_count": 29,
      "outputs": []
    },
    {
      "cell_type": "code",
      "metadata": {
        "colab": {
          "base_uri": "https://localhost:8080/"
        },
        "id": "09bG_Ti1Jq0X",
        "outputId": "2621c302-2e41-4db4-ef09-00eef7068500"
      },
      "source": [
        "suma_enteros(10, 20)"
      ],
      "execution_count": 30,
      "outputs": [
        {
          "output_type": "execute_result",
          "data": {
            "text/plain": [
              "30"
            ]
          },
          "metadata": {},
          "execution_count": 30
        }
      ]
    },
    {
      "cell_type": "code",
      "metadata": {
        "colab": {
          "base_uri": "https://localhost:8080/",
          "height": 283
        },
        "id": "rkrUr-9EKXlv",
        "outputId": "1b4808d3-6301-4a0c-ac7d-de09e7ae841e"
      },
      "source": [
        "suma_enteros(10.0, 20.0)"
      ],
      "execution_count": 31,
      "outputs": [
        {
          "output_type": "error",
          "ename": "TypeError",
          "evalue": "ignored",
          "traceback": [
            "\u001b[0;31m---------------------------------------------------------------------------\u001b[0m",
            "\u001b[0;31mTypeError\u001b[0m                                 Traceback (most recent call last)",
            "\u001b[0;32m<ipython-input-31-e47095eab48c>\u001b[0m in \u001b[0;36m<module>\u001b[0;34m()\u001b[0m\n\u001b[0;32m----> 1\u001b[0;31m \u001b[0msuma_enteros\u001b[0m\u001b[0;34m(\u001b[0m\u001b[0;36m10.0\u001b[0m\u001b[0;34m,\u001b[0m \u001b[0;36m20.0\u001b[0m\u001b[0;34m)\u001b[0m\u001b[0;34m\u001b[0m\u001b[0;34m\u001b[0m\u001b[0m\n\u001b[0m",
            "\u001b[0;32m<ipython-input-29-021ef09c36a7>\u001b[0m in \u001b[0;36msuma_enteros\u001b[0;34m(a, b)\u001b[0m\n\u001b[1;32m      1\u001b[0m \u001b[0;32mdef\u001b[0m \u001b[0msuma_enteros\u001b[0m\u001b[0;34m(\u001b[0m\u001b[0ma\u001b[0m\u001b[0;34m,\u001b[0m \u001b[0mb\u001b[0m\u001b[0;34m)\u001b[0m\u001b[0;34m:\u001b[0m\u001b[0;34m\u001b[0m\u001b[0;34m\u001b[0m\u001b[0m\n\u001b[1;32m      2\u001b[0m   \u001b[0;32mif\u001b[0m \u001b[0mtype\u001b[0m\u001b[0;34m(\u001b[0m\u001b[0ma\u001b[0m\u001b[0;34m)\u001b[0m \u001b[0;34m!=\u001b[0m \u001b[0mint\u001b[0m\u001b[0;34m:\u001b[0m\u001b[0;34m\u001b[0m\u001b[0;34m\u001b[0m\u001b[0m\n\u001b[0;32m----> 3\u001b[0;31m     \u001b[0;32mraise\u001b[0m \u001b[0mTypeError\u001b[0m\u001b[0;34m(\u001b[0m\u001b[0;34mf\"Error: {a} no es del tipo int\"\u001b[0m\u001b[0;34m)\u001b[0m\u001b[0;34m\u001b[0m\u001b[0;34m\u001b[0m\u001b[0m\n\u001b[0m\u001b[1;32m      4\u001b[0m \u001b[0;34m\u001b[0m\u001b[0m\n\u001b[1;32m      5\u001b[0m   \u001b[0;32mif\u001b[0m \u001b[0mtype\u001b[0m\u001b[0;34m(\u001b[0m\u001b[0mb\u001b[0m\u001b[0;34m)\u001b[0m \u001b[0;34m!=\u001b[0m \u001b[0mint\u001b[0m\u001b[0;34m:\u001b[0m\u001b[0;34m\u001b[0m\u001b[0;34m\u001b[0m\u001b[0m\n",
            "\u001b[0;31mTypeError\u001b[0m: Error: 10.0 no es del tipo int"
          ]
        }
      ]
    },
    {
      "cell_type": "markdown",
      "metadata": {
        "id": "TUZDb-oJKaNn"
      },
      "source": [
        "EJERCICIO: Capturar el error, si el tipo de dato es \"float\" transformarlo a int y hacer la suma de enteros. Si el tipo de dato no se puede convertir a int, imprimir el error."
      ]
    },
    {
      "cell_type": "code",
      "metadata": {
        "id": "w0VL9kLJKZEa"
      },
      "source": [
        "#COMPLETAR"
      ],
      "execution_count": 32,
      "outputs": []
    },
    {
      "cell_type": "markdown",
      "metadata": {
        "id": "wxTWFnkNbfh-"
      },
      "source": [
        "EJERCICIO: Queremos que al finalizar la función, se imprima el mensaje \"Operación finalizada\" sin importar si la función falló o no."
      ]
    },
    {
      "cell_type": "code",
      "metadata": {
        "id": "7NU5hfHGbvlo"
      },
      "source": [
        "#COMPLETAR"
      ],
      "execution_count": 48,
      "outputs": []
    },
    {
      "cell_type": "markdown",
      "metadata": {
        "id": "WKY4clS2W7DQ"
      },
      "source": [
        "# Replace\n",
        "\n",
        "https://pandas.pydata.org/docs/reference/api/pandas.DataFrame.replace.html\n",
        "\n"
      ]
    },
    {
      "cell_type": "code",
      "metadata": {
        "colab": {
          "base_uri": "https://localhost:8080/",
          "height": 204
        },
        "id": "U5mKsrBlKqVj",
        "outputId": "11dc2226-6721-4f53-9466-311845d2de1a"
      },
      "source": [
        "df[['route']].head()"
      ],
      "execution_count": 36,
      "outputs": [
        {
          "output_type": "execute_result",
          "data": {
            "text/html": [
              "<div>\n",
              "<style scoped>\n",
              "    .dataframe tbody tr th:only-of-type {\n",
              "        vertical-align: middle;\n",
              "    }\n",
              "\n",
              "    .dataframe tbody tr th {\n",
              "        vertical-align: top;\n",
              "    }\n",
              "\n",
              "    .dataframe thead th {\n",
              "        text-align: right;\n",
              "    }\n",
              "</style>\n",
              "<table border=\"1\" class=\"dataframe\">\n",
              "  <thead>\n",
              "    <tr style=\"text-align: right;\">\n",
              "      <th></th>\n",
              "      <th>route</th>\n",
              "    </tr>\n",
              "  </thead>\n",
              "  <tbody>\n",
              "    <tr>\n",
              "      <th>0</th>\n",
              "      <td>Demonstration</td>\n",
              "    </tr>\n",
              "    <tr>\n",
              "      <th>1</th>\n",
              "      <td>Air show</td>\n",
              "    </tr>\n",
              "    <tr>\n",
              "      <th>2</th>\n",
              "      <td>Test flight</td>\n",
              "    </tr>\n",
              "    <tr>\n",
              "      <th>3</th>\n",
              "      <td>?</td>\n",
              "    </tr>\n",
              "    <tr>\n",
              "      <th>4</th>\n",
              "      <td>?</td>\n",
              "    </tr>\n",
              "  </tbody>\n",
              "</table>\n",
              "</div>"
            ],
            "text/plain": [
              "           route\n",
              "0  Demonstration\n",
              "1       Air show\n",
              "2    Test flight\n",
              "3              ?\n",
              "4              ?"
            ]
          },
          "metadata": {},
          "execution_count": 36
        }
      ]
    },
    {
      "cell_type": "code",
      "metadata": {
        "id": "3FqVhbGCXLkK"
      },
      "source": [
        "df['route'] = df.route.replace({'Demonstration': 'remplazado'})"
      ],
      "execution_count": 37,
      "outputs": []
    },
    {
      "cell_type": "code",
      "metadata": {
        "colab": {
          "base_uri": "https://localhost:8080/",
          "height": 204
        },
        "id": "EABZuOd6XY6V",
        "outputId": "a1a6e894-771d-4402-ec7c-1863f625caff"
      },
      "source": [
        "df[['route']].head()"
      ],
      "execution_count": 38,
      "outputs": [
        {
          "output_type": "execute_result",
          "data": {
            "text/html": [
              "<div>\n",
              "<style scoped>\n",
              "    .dataframe tbody tr th:only-of-type {\n",
              "        vertical-align: middle;\n",
              "    }\n",
              "\n",
              "    .dataframe tbody tr th {\n",
              "        vertical-align: top;\n",
              "    }\n",
              "\n",
              "    .dataframe thead th {\n",
              "        text-align: right;\n",
              "    }\n",
              "</style>\n",
              "<table border=\"1\" class=\"dataframe\">\n",
              "  <thead>\n",
              "    <tr style=\"text-align: right;\">\n",
              "      <th></th>\n",
              "      <th>route</th>\n",
              "    </tr>\n",
              "  </thead>\n",
              "  <tbody>\n",
              "    <tr>\n",
              "      <th>0</th>\n",
              "      <td>remplazado</td>\n",
              "    </tr>\n",
              "    <tr>\n",
              "      <th>1</th>\n",
              "      <td>Air show</td>\n",
              "    </tr>\n",
              "    <tr>\n",
              "      <th>2</th>\n",
              "      <td>Test flight</td>\n",
              "    </tr>\n",
              "    <tr>\n",
              "      <th>3</th>\n",
              "      <td>?</td>\n",
              "    </tr>\n",
              "    <tr>\n",
              "      <th>4</th>\n",
              "      <td>?</td>\n",
              "    </tr>\n",
              "  </tbody>\n",
              "</table>\n",
              "</div>"
            ],
            "text/plain": [
              "         route\n",
              "0   remplazado\n",
              "1     Air show\n",
              "2  Test flight\n",
              "3            ?\n",
              "4            ?"
            ]
          },
          "metadata": {},
          "execution_count": 38
        }
      ]
    }
  ]
}