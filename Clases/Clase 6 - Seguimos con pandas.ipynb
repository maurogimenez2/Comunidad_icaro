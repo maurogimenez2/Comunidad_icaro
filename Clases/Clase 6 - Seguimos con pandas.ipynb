{
  "nbformat": 4,
  "nbformat_minor": 0,
  "metadata": {
    "colab": {
      "name": "Clase 6.ipynb",
      "provenance": [],
      "toc_visible": true
    },
    "kernelspec": {
      "name": "python3",
      "display_name": "Python 3"
    },
    "language_info": {
      "name": "python"
    }
  },
  "cells": [
    {
      "cell_type": "markdown",
      "metadata": {
        "id": "ATZwdlzUqSa1"
      },
      "source": [
        "# Pandas\n",
        "\n",
        "Sigamos con Pandas.\n",
        "\n",
        "## Valores faltantes\n",
        "\n",
        "Vimos que por lo general en los datasets tienen datos faltantes. Datos faltantes puede haber por muchas razones (errores, no tenemos el dato, perdimos el dato, etc).\n",
        "\n",
        "Muchas veces, necesitamos completar estos valores faltantes con alguna aproximación que no altere nuestros resultados.\n",
        "\n",
        "Existen muchas formas de imputar valores a datos faltantes:\n",
        "\n",
        "- Podemos usar la media o mediana (imputación univariante)\n",
        "- Podemos usar un valor fijo (imputación univariante)\n",
        "- Podemos descartar la fila con datos faltantes (observar que descartar sin ningún criterio puede hacer que perdamos muchos datos)\n",
        "- Podemos completar el valor faltante en función de los valores de otras columnas (imputación multivariante)\n",
        "\n",
        "Tenemos que tener en cuenta que siempre es importante entender el problema. En datascience vamos a ver que muchas decisiones que tomemos DEPENDEN DEL PROBLEMA y son muy importantes ya que pueden alterar nuestros resultados finales.\n",
        "\n",
        "En esta clase, vamos a trabajar con un dataset de review de vinos.\n",
        "\n",
        "Lo podemos descargar en: https://www.kaggle.com/zynicide/wine-reviews/ (nos tenemos que registrar)\n",
        "\n",
        "Si usan colab, recuerden subir el csv a drive y montar drive para poder leerlo con pandas."
      ]
    },
    {
      "cell_type": "code",
      "metadata": {
        "id": "hed9aVYwl85V"
      },
      "source": [
        "import pandas as pd"
      ],
      "execution_count": 2,
      "outputs": []
    },
    {
      "cell_type": "code",
      "metadata": {
        "id": "KwJptZ8DE-ny"
      },
      "source": [
        "wine_reviews_df = pd.read_csv('drive/MyDrive/ICARO/Curso_DS/Clases/Clase_5/winemag.csv')"
      ],
      "execution_count": 14,
      "outputs": []
    },
    {
      "cell_type": "markdown",
      "metadata": {
        "id": "vuspUdG5FbVT"
      },
      "source": [
        "Exploremos un poco el dataset.\n",
        "\n",
        "Imprimimos las primeras 5 filas:"
      ]
    },
    {
      "cell_type": "code",
      "metadata": {
        "colab": {
          "base_uri": "https://localhost:8080/",
          "height": 306
        },
        "id": "4JnNnssaE-p5",
        "outputId": "35241f4d-f772-47f9-f72a-34e8375a0dfb"
      },
      "source": [
        "wine_reviews_df.head()"
      ],
      "execution_count": 15,
      "outputs": [
        {
          "output_type": "execute_result",
          "data": {
            "text/html": [
              "<div>\n",
              "<style scoped>\n",
              "    .dataframe tbody tr th:only-of-type {\n",
              "        vertical-align: middle;\n",
              "    }\n",
              "\n",
              "    .dataframe tbody tr th {\n",
              "        vertical-align: top;\n",
              "    }\n",
              "\n",
              "    .dataframe thead th {\n",
              "        text-align: right;\n",
              "    }\n",
              "</style>\n",
              "<table border=\"1\" class=\"dataframe\">\n",
              "  <thead>\n",
              "    <tr style=\"text-align: right;\">\n",
              "      <th></th>\n",
              "      <th>Unnamed: 0</th>\n",
              "      <th>country</th>\n",
              "      <th>description</th>\n",
              "      <th>designation</th>\n",
              "      <th>points</th>\n",
              "      <th>price</th>\n",
              "      <th>province</th>\n",
              "      <th>region_1</th>\n",
              "      <th>region_2</th>\n",
              "      <th>variety</th>\n",
              "      <th>winery</th>\n",
              "    </tr>\n",
              "  </thead>\n",
              "  <tbody>\n",
              "    <tr>\n",
              "      <th>0</th>\n",
              "      <td>0</td>\n",
              "      <td>US</td>\n",
              "      <td>This tremendous 100% varietal wine hails from ...</td>\n",
              "      <td>Martha's Vineyard</td>\n",
              "      <td>96</td>\n",
              "      <td>235.0</td>\n",
              "      <td>California</td>\n",
              "      <td>Napa Valley</td>\n",
              "      <td>Napa</td>\n",
              "      <td>Cabernet Sauvignon</td>\n",
              "      <td>Heitz</td>\n",
              "    </tr>\n",
              "    <tr>\n",
              "      <th>1</th>\n",
              "      <td>1</td>\n",
              "      <td>Spain</td>\n",
              "      <td>Ripe aromas of fig, blackberry and cassis are ...</td>\n",
              "      <td>Carodorum Selección Especial Reserva</td>\n",
              "      <td>96</td>\n",
              "      <td>110.0</td>\n",
              "      <td>Northern Spain</td>\n",
              "      <td>Toro</td>\n",
              "      <td>NaN</td>\n",
              "      <td>Tinta de Toro</td>\n",
              "      <td>Bodega Carmen Rodríguez</td>\n",
              "    </tr>\n",
              "    <tr>\n",
              "      <th>2</th>\n",
              "      <td>2</td>\n",
              "      <td>US</td>\n",
              "      <td>Mac Watson honors the memory of a wine once ma...</td>\n",
              "      <td>Special Selected Late Harvest</td>\n",
              "      <td>96</td>\n",
              "      <td>90.0</td>\n",
              "      <td>California</td>\n",
              "      <td>Knights Valley</td>\n",
              "      <td>Sonoma</td>\n",
              "      <td>Sauvignon Blanc</td>\n",
              "      <td>Macauley</td>\n",
              "    </tr>\n",
              "    <tr>\n",
              "      <th>3</th>\n",
              "      <td>3</td>\n",
              "      <td>US</td>\n",
              "      <td>This spent 20 months in 30% new French oak, an...</td>\n",
              "      <td>Reserve</td>\n",
              "      <td>96</td>\n",
              "      <td>65.0</td>\n",
              "      <td>Oregon</td>\n",
              "      <td>Willamette Valley</td>\n",
              "      <td>Willamette Valley</td>\n",
              "      <td>Pinot Noir</td>\n",
              "      <td>Ponzi</td>\n",
              "    </tr>\n",
              "    <tr>\n",
              "      <th>4</th>\n",
              "      <td>4</td>\n",
              "      <td>France</td>\n",
              "      <td>This is the top wine from La Bégude, named aft...</td>\n",
              "      <td>La Brûlade</td>\n",
              "      <td>95</td>\n",
              "      <td>66.0</td>\n",
              "      <td>Provence</td>\n",
              "      <td>Bandol</td>\n",
              "      <td>NaN</td>\n",
              "      <td>Provence red blend</td>\n",
              "      <td>Domaine de la Bégude</td>\n",
              "    </tr>\n",
              "  </tbody>\n",
              "</table>\n",
              "</div>"
            ],
            "text/plain": [
              "   Unnamed: 0 country  ...             variety                   winery\n",
              "0           0      US  ...  Cabernet Sauvignon                    Heitz\n",
              "1           1   Spain  ...       Tinta de Toro  Bodega Carmen Rodríguez\n",
              "2           2      US  ...     Sauvignon Blanc                 Macauley\n",
              "3           3      US  ...          Pinot Noir                    Ponzi\n",
              "4           4  France  ...  Provence red blend     Domaine de la Bégude\n",
              "\n",
              "[5 rows x 11 columns]"
            ]
          },
          "metadata": {
            "tags": []
          },
          "execution_count": 15
        }
      ]
    },
    {
      "cell_type": "markdown",
      "metadata": {
        "id": "ib2DSjCKFkQ1"
      },
      "source": [
        "¿ Cuántas filas tiene el dataset? ¿ Y cuántas columnas ?\n",
        "\n",
        "Esta pregunta, podemos responderla utilizando `shape`\n",
        "\n"
      ]
    },
    {
      "cell_type": "code",
      "metadata": {
        "colab": {
          "base_uri": "https://localhost:8080/"
        },
        "id": "KOd19FjdE-r9",
        "outputId": "dfc5b7b4-7cd1-4825-abf1-328d0386ee30"
      },
      "source": [
        "wine_reviews_df.shape"
      ],
      "execution_count": 16,
      "outputs": [
        {
          "output_type": "execute_result",
          "data": {
            "text/plain": [
              "(150930, 11)"
            ]
          },
          "metadata": {
            "tags": []
          },
          "execution_count": 16
        }
      ]
    },
    {
      "cell_type": "markdown",
      "metadata": {
        "id": "lWa1q3NBFx55"
      },
      "source": [
        "Vemos que el dataset tiene 150930 filas y 11 columnas.\n",
        "\n",
        "¿ Cuántos valores faltantes tiene el dataset en cada columna ?"
      ]
    },
    {
      "cell_type": "code",
      "metadata": {
        "id": "vMSj8VjpE-uJ",
        "colab": {
          "base_uri": "https://localhost:8080/",
          "height": 130
        },
        "outputId": "b230c4a7-18c7-4824-f52a-2b881ef4ebf6"
      },
      "source": [
        "wine_reviews_df.#COMPLETAR"
      ],
      "execution_count": 17,
      "outputs": [
        {
          "output_type": "error",
          "ename": "SyntaxError",
          "evalue": "ignored",
          "traceback": [
            "\u001b[0;36m  File \u001b[0;32m\"<ipython-input-17-10c367252fdb>\"\u001b[0;36m, line \u001b[0;32m1\u001b[0m\n\u001b[0;31m    wine_reviews_df.#COMPLETAR\u001b[0m\n\u001b[0m                              ^\u001b[0m\n\u001b[0;31mSyntaxError\u001b[0m\u001b[0;31m:\u001b[0m invalid syntax\n"
          ]
        }
      ]
    },
    {
      "cell_type": "markdown",
      "metadata": {
        "id": "LEGqIUv5Ict3"
      },
      "source": [
        "Ahora, ¿Qué hacemos con los faltantes?\n",
        "\n",
        "Pandas tiene el método .fillna() para imputar valores faltantes y el método .dropna() para eliminar filas con valores faltantes.\n",
        "\n",
        "Veamos un poco de documentación:"
      ]
    },
    {
      "cell_type": "code",
      "metadata": {
        "colab": {
          "base_uri": "https://localhost:8080/"
        },
        "id": "nNHhePTQJLUl",
        "outputId": "6c8bbbf3-9499-462d-f6f5-e06c5e06874b"
      },
      "source": [
        "help(pd.DataFrame.dropna)"
      ],
      "execution_count": 18,
      "outputs": [
        {
          "output_type": "stream",
          "text": [
            "Help on function dropna in module pandas.core.frame:\n",
            "\n",
            "dropna(self, axis=0, how='any', thresh=None, subset=None, inplace=False)\n",
            "    Remove missing values.\n",
            "    \n",
            "    See the :ref:`User Guide <missing_data>` for more on which values are\n",
            "    considered missing, and how to work with missing data.\n",
            "    \n",
            "    Parameters\n",
            "    ----------\n",
            "    axis : {0 or 'index', 1 or 'columns'}, default 0\n",
            "        Determine if rows or columns which contain missing values are\n",
            "        removed.\n",
            "    \n",
            "        * 0, or 'index' : Drop rows which contain missing values.\n",
            "        * 1, or 'columns' : Drop columns which contain missing value.\n",
            "    \n",
            "        .. versionchanged:: 1.0.0\n",
            "    \n",
            "           Pass tuple or list to drop on multiple axes.\n",
            "           Only a single axis is allowed.\n",
            "    \n",
            "    how : {'any', 'all'}, default 'any'\n",
            "        Determine if row or column is removed from DataFrame, when we have\n",
            "        at least one NA or all NA.\n",
            "    \n",
            "        * 'any' : If any NA values are present, drop that row or column.\n",
            "        * 'all' : If all values are NA, drop that row or column.\n",
            "    \n",
            "    thresh : int, optional\n",
            "        Require that many non-NA values.\n",
            "    subset : array-like, optional\n",
            "        Labels along other axis to consider, e.g. if you are dropping rows\n",
            "        these would be a list of columns to include.\n",
            "    inplace : bool, default False\n",
            "        If True, do operation inplace and return None.\n",
            "    \n",
            "    Returns\n",
            "    -------\n",
            "    DataFrame\n",
            "        DataFrame with NA entries dropped from it.\n",
            "    \n",
            "    See Also\n",
            "    --------\n",
            "    DataFrame.isna: Indicate missing values.\n",
            "    DataFrame.notna : Indicate existing (non-missing) values.\n",
            "    DataFrame.fillna : Replace missing values.\n",
            "    Series.dropna : Drop missing values.\n",
            "    Index.dropna : Drop missing indices.\n",
            "    \n",
            "    Examples\n",
            "    --------\n",
            "    >>> df = pd.DataFrame({\"name\": ['Alfred', 'Batman', 'Catwoman'],\n",
            "    ...                    \"toy\": [np.nan, 'Batmobile', 'Bullwhip'],\n",
            "    ...                    \"born\": [pd.NaT, pd.Timestamp(\"1940-04-25\"),\n",
            "    ...                             pd.NaT]})\n",
            "    >>> df\n",
            "           name        toy       born\n",
            "    0    Alfred        NaN        NaT\n",
            "    1    Batman  Batmobile 1940-04-25\n",
            "    2  Catwoman   Bullwhip        NaT\n",
            "    \n",
            "    Drop the rows where at least one element is missing.\n",
            "    \n",
            "    >>> df.dropna()\n",
            "         name        toy       born\n",
            "    1  Batman  Batmobile 1940-04-25\n",
            "    \n",
            "    Drop the columns where at least one element is missing.\n",
            "    \n",
            "    >>> df.dropna(axis='columns')\n",
            "           name\n",
            "    0    Alfred\n",
            "    1    Batman\n",
            "    2  Catwoman\n",
            "    \n",
            "    Drop the rows where all elements are missing.\n",
            "    \n",
            "    >>> df.dropna(how='all')\n",
            "           name        toy       born\n",
            "    0    Alfred        NaN        NaT\n",
            "    1    Batman  Batmobile 1940-04-25\n",
            "    2  Catwoman   Bullwhip        NaT\n",
            "    \n",
            "    Keep only the rows with at least 2 non-NA values.\n",
            "    \n",
            "    >>> df.dropna(thresh=2)\n",
            "           name        toy       born\n",
            "    1    Batman  Batmobile 1940-04-25\n",
            "    2  Catwoman   Bullwhip        NaT\n",
            "    \n",
            "    Define in which columns to look for missing values.\n",
            "    \n",
            "    >>> df.dropna(subset=['name', 'born'])\n",
            "           name        toy       born\n",
            "    1    Batman  Batmobile 1940-04-25\n",
            "    \n",
            "    Keep the DataFrame with valid entries in the same variable.\n",
            "    \n",
            "    >>> df.dropna(inplace=True)\n",
            "    >>> df\n",
            "         name        toy       born\n",
            "    1  Batman  Batmobile 1940-04-25\n",
            "\n"
          ],
          "name": "stdout"
        }
      ]
    },
    {
      "cell_type": "code",
      "metadata": {
        "colab": {
          "base_uri": "https://localhost:8080/"
        },
        "id": "nBcfCvD5JUDE",
        "outputId": "a6c4a227-2940-496f-e25e-4aad145ced0e"
      },
      "source": [
        "help(pd.DataFrame.fillna)"
      ],
      "execution_count": 19,
      "outputs": [
        {
          "output_type": "stream",
          "text": [
            "Help on function fillna in module pandas.core.frame:\n",
            "\n",
            "fillna(self, value=None, method=None, axis=None, inplace=False, limit=None, downcast=None) -> Union[ForwardRef('DataFrame'), NoneType]\n",
            "    Fill NA/NaN values using the specified method.\n",
            "    \n",
            "    Parameters\n",
            "    ----------\n",
            "    value : scalar, dict, Series, or DataFrame\n",
            "        Value to use to fill holes (e.g. 0), alternately a\n",
            "        dict/Series/DataFrame of values specifying which value to use for\n",
            "        each index (for a Series) or column (for a DataFrame).  Values not\n",
            "        in the dict/Series/DataFrame will not be filled. This value cannot\n",
            "        be a list.\n",
            "    method : {'backfill', 'bfill', 'pad', 'ffill', None}, default None\n",
            "        Method to use for filling holes in reindexed Series\n",
            "        pad / ffill: propagate last valid observation forward to next valid\n",
            "        backfill / bfill: use next valid observation to fill gap.\n",
            "    axis : {0 or 'index', 1 or 'columns'}\n",
            "        Axis along which to fill missing values.\n",
            "    inplace : bool, default False\n",
            "        If True, fill in-place. Note: this will modify any\n",
            "        other views on this object (e.g., a no-copy slice for a column in a\n",
            "        DataFrame).\n",
            "    limit : int, default None\n",
            "        If method is specified, this is the maximum number of consecutive\n",
            "        NaN values to forward/backward fill. In other words, if there is\n",
            "        a gap with more than this number of consecutive NaNs, it will only\n",
            "        be partially filled. If method is not specified, this is the\n",
            "        maximum number of entries along the entire axis where NaNs will be\n",
            "        filled. Must be greater than 0 if not None.\n",
            "    downcast : dict, default is None\n",
            "        A dict of item->dtype of what to downcast if possible,\n",
            "        or the string 'infer' which will try to downcast to an appropriate\n",
            "        equal type (e.g. float64 to int64 if possible).\n",
            "    \n",
            "    Returns\n",
            "    -------\n",
            "    DataFrame or None\n",
            "        Object with missing values filled or None if ``inplace=True``.\n",
            "    \n",
            "    See Also\n",
            "    --------\n",
            "    interpolate : Fill NaN values using interpolation.\n",
            "    reindex : Conform object to new index.\n",
            "    asfreq : Convert TimeSeries to specified frequency.\n",
            "    \n",
            "    Examples\n",
            "    --------\n",
            "    >>> df = pd.DataFrame([[np.nan, 2, np.nan, 0],\n",
            "    ...                    [3, 4, np.nan, 1],\n",
            "    ...                    [np.nan, np.nan, np.nan, 5],\n",
            "    ...                    [np.nan, 3, np.nan, 4]],\n",
            "    ...                   columns=list('ABCD'))\n",
            "    >>> df\n",
            "         A    B   C  D\n",
            "    0  NaN  2.0 NaN  0\n",
            "    1  3.0  4.0 NaN  1\n",
            "    2  NaN  NaN NaN  5\n",
            "    3  NaN  3.0 NaN  4\n",
            "    \n",
            "    Replace all NaN elements with 0s.\n",
            "    \n",
            "    >>> df.fillna(0)\n",
            "        A   B   C   D\n",
            "    0   0.0 2.0 0.0 0\n",
            "    1   3.0 4.0 0.0 1\n",
            "    2   0.0 0.0 0.0 5\n",
            "    3   0.0 3.0 0.0 4\n",
            "    \n",
            "    We can also propagate non-null values forward or backward.\n",
            "    \n",
            "    >>> df.fillna(method='ffill')\n",
            "        A   B   C   D\n",
            "    0   NaN 2.0 NaN 0\n",
            "    1   3.0 4.0 NaN 1\n",
            "    2   3.0 4.0 NaN 5\n",
            "    3   3.0 3.0 NaN 4\n",
            "    \n",
            "    Replace all NaN elements in column 'A', 'B', 'C', and 'D', with 0, 1,\n",
            "    2, and 3 respectively.\n",
            "    \n",
            "    >>> values = {'A': 0, 'B': 1, 'C': 2, 'D': 3}\n",
            "    >>> df.fillna(value=values)\n",
            "        A   B   C   D\n",
            "    0   0.0 2.0 2.0 0\n",
            "    1   3.0 4.0 2.0 1\n",
            "    2   0.0 1.0 2.0 5\n",
            "    3   0.0 3.0 2.0 4\n",
            "    \n",
            "    Only replace the first NaN element.\n",
            "    \n",
            "    >>> df.fillna(value=values, limit=1)\n",
            "        A   B   C   D\n",
            "    0   0.0 2.0 2.0 0\n",
            "    1   3.0 4.0 NaN 1\n",
            "    2   NaN 1.0 NaN 5\n",
            "    3   NaN 3.0 NaN 4\n",
            "\n"
          ],
          "name": "stdout"
        }
      ]
    },
    {
      "cell_type": "markdown",
      "metadata": {
        "id": "vqUWxzsUJapc"
      },
      "source": [
        "Ahora, para no modificar nuestro dataset original, lo vamos a clonar"
      ]
    },
    {
      "cell_type": "code",
      "metadata": {
        "id": "hwv4LFcbJZ9z"
      },
      "source": [
        "df = wine_reviews_df.copy()"
      ],
      "execution_count": 20,
      "outputs": []
    },
    {
      "cell_type": "markdown",
      "metadata": {
        "id": "MS6CQbUFJmN3"
      },
      "source": [
        "Ahora vamos a trabajar sobre df."
      ]
    },
    {
      "cell_type": "code",
      "metadata": {
        "colab": {
          "base_uri": "https://localhost:8080/"
        },
        "id": "NbQzl4DpJkcf",
        "outputId": "c2589520-829e-4157-e473-f9406dd98a10"
      },
      "source": [
        "df.isna().sum()"
      ],
      "execution_count": 21,
      "outputs": [
        {
          "output_type": "execute_result",
          "data": {
            "text/plain": [
              "Unnamed: 0         0\n",
              "country            5\n",
              "description        0\n",
              "designation    45735\n",
              "points             0\n",
              "price          13695\n",
              "province           5\n",
              "region_1       25060\n",
              "region_2       89977\n",
              "variety            0\n",
              "winery             0\n",
              "dtype: int64"
            ]
          },
          "metadata": {
            "tags": []
          },
          "execution_count": 21
        }
      ]
    },
    {
      "cell_type": "code",
      "metadata": {
        "colab": {
          "base_uri": "https://localhost:8080/"
        },
        "id": "_GPD9qB6Lgam",
        "outputId": "7b11f4fd-3425-4ff7-821e-251ee480453a"
      },
      "source": [
        "df.info()"
      ],
      "execution_count": 22,
      "outputs": [
        {
          "output_type": "stream",
          "text": [
            "<class 'pandas.core.frame.DataFrame'>\n",
            "RangeIndex: 150930 entries, 0 to 150929\n",
            "Data columns (total 11 columns):\n",
            " #   Column       Non-Null Count   Dtype  \n",
            "---  ------       --------------   -----  \n",
            " 0   Unnamed: 0   150930 non-null  int64  \n",
            " 1   country      150925 non-null  object \n",
            " 2   description  150930 non-null  object \n",
            " 3   designation  105195 non-null  object \n",
            " 4   points       150930 non-null  int64  \n",
            " 5   price        137235 non-null  float64\n",
            " 6   province     150925 non-null  object \n",
            " 7   region_1     125870 non-null  object \n",
            " 8   region_2     60953 non-null   object \n",
            " 9   variety      150930 non-null  object \n",
            " 10  winery       150930 non-null  object \n",
            "dtypes: float64(1), int64(2), object(8)\n",
            "memory usage: 12.7+ MB\n"
          ],
          "name": "stdout"
        }
      ]
    },
    {
      "cell_type": "markdown",
      "metadata": {
        "id": "gWankpLXKyEI"
      },
      "source": [
        "Vemos que las columnas que tienen datos faltantes son designation, price, region_1 y region_2.\n",
        "\n",
        "Por ahora, como solo estamos aprendiendo Pandas, no vamos a explorar mucho los datos para tomar decisiones. Simplemente vamos a aprender como se usa pandas. En próximas clases vamos a empezar a explorar los datos con mas detalle para tomar buenas decisiones.\n",
        "\n",
        "Empecemos con el método fillna:\n",
        "\n",
        "Vamos a imputar los valores faltantes de la columna \"price\" con la media de la columna."
      ]
    },
    {
      "cell_type": "code",
      "metadata": {
        "id": "xL5Me4_kJ0jZ"
      },
      "source": [
        "mean_price = df['price'].mean()\n",
        "df['price'] = df['price'].fillna(mean_price)"
      ],
      "execution_count": 23,
      "outputs": []
    },
    {
      "cell_type": "markdown",
      "metadata": {
        "id": "rdVAym1dMZFR"
      },
      "source": [
        "Verificamos que no haya más nulos"
      ]
    },
    {
      "cell_type": "code",
      "metadata": {
        "colab": {
          "base_uri": "https://localhost:8080/"
        },
        "id": "Cov9KU7_MYEb",
        "outputId": "56a35c97-7dce-48f9-b35e-4f787f15c59d"
      },
      "source": [
        "df.isna().sum()"
      ],
      "execution_count": 24,
      "outputs": [
        {
          "output_type": "execute_result",
          "data": {
            "text/plain": [
              "Unnamed: 0         0\n",
              "country            5\n",
              "description        0\n",
              "designation    45735\n",
              "points             0\n",
              "price              0\n",
              "province           5\n",
              "region_1       25060\n",
              "region_2       89977\n",
              "variety            0\n",
              "winery             0\n",
              "dtype: int64"
            ]
          },
          "metadata": {
            "tags": []
          },
          "execution_count": 24
        }
      ]
    },
    {
      "cell_type": "markdown",
      "metadata": {
        "id": "8zD0VNfAMe1U"
      },
      "source": [
        "Vemos que ahora hay 0 null values en la columna price"
      ]
    },
    {
      "cell_type": "markdown",
      "metadata": {
        "id": "IF1Y4mkqMkCR"
      },
      "source": [
        "Ahora, completemos las columnas \"designation\", \"region_1\" y \"region_2\" con el valor por defecto: \"dato faltante\".\n",
        "\n",
        "Podemos hacerlo pasandole un diccionario como parametro:"
      ]
    },
    {
      "cell_type": "code",
      "metadata": {
        "id": "mWZxhyFdMuef"
      },
      "source": [
        "default_value = \"dato faltante\"\n",
        "df = df.fillna(value={'designation': default_value, \"region_1\": default_value, \"region_2\": default_value})"
      ],
      "execution_count": 25,
      "outputs": []
    },
    {
      "cell_type": "code",
      "metadata": {
        "colab": {
          "base_uri": "https://localhost:8080/"
        },
        "id": "-unccDKTNHVV",
        "outputId": "c011be2f-6b4d-4bd0-d5e5-3ee9376f54e1"
      },
      "source": [
        "df.isna().sum()"
      ],
      "execution_count": 26,
      "outputs": [
        {
          "output_type": "execute_result",
          "data": {
            "text/plain": [
              "Unnamed: 0     0\n",
              "country        5\n",
              "description    0\n",
              "designation    0\n",
              "points         0\n",
              "price          0\n",
              "province       5\n",
              "region_1       0\n",
              "region_2       0\n",
              "variety        0\n",
              "winery         0\n",
              "dtype: int64"
            ]
          },
          "metadata": {
            "tags": []
          },
          "execution_count": 26
        }
      ]
    },
    {
      "cell_type": "markdown",
      "metadata": {
        "id": "cA8kunDvNJip"
      },
      "source": [
        "Ahora nos queda la columna country. En este caso, lo que vamos a hacer es descartar las filas que tengan valores faltantes en esta columna.\n",
        "\n",
        "Para esto, vamos a usar el método dropna() y vamos a pasarle el parámetro axis=0\n",
        "\n",
        "Veamos cuantas filas tiene el dataset antes de borrar nulos:"
      ]
    },
    {
      "cell_type": "code",
      "metadata": {
        "colab": {
          "base_uri": "https://localhost:8080/"
        },
        "id": "Hx4TxbWqNcUf",
        "outputId": "5f69de10-ea66-4353-91bc-7e94d74e86c7"
      },
      "source": [
        "df.shape[0]"
      ],
      "execution_count": 27,
      "outputs": [
        {
          "output_type": "execute_result",
          "data": {
            "text/plain": [
              "150930"
            ]
          },
          "metadata": {
            "tags": []
          },
          "execution_count": 27
        }
      ]
    },
    {
      "cell_type": "markdown",
      "metadata": {
        "id": "PnnoOkdVNhH_"
      },
      "source": [
        "Borramos nulos:"
      ]
    },
    {
      "cell_type": "code",
      "metadata": {
        "id": "IPnXIc7NNiR8"
      },
      "source": [
        "df = df.dropna(axis=0)"
      ],
      "execution_count": 28,
      "outputs": []
    },
    {
      "cell_type": "markdown",
      "metadata": {
        "id": "_zQnuNp4NlBm"
      },
      "source": [
        "Y ahora debería haber 5 filas menos:"
      ]
    },
    {
      "cell_type": "code",
      "metadata": {
        "colab": {
          "base_uri": "https://localhost:8080/"
        },
        "id": "JwCyxVScNna5",
        "outputId": "51cfd696-825f-4577-d8b7-8ed818317dfb"
      },
      "source": [
        "df.shape[0]"
      ],
      "execution_count": 29,
      "outputs": [
        {
          "output_type": "execute_result",
          "data": {
            "text/plain": [
              "150925"
            ]
          },
          "metadata": {
            "tags": []
          },
          "execution_count": 29
        }
      ]
    },
    {
      "cell_type": "markdown",
      "metadata": {
        "id": "2kiI9tk4CwyS"
      },
      "source": [
        "## Filtro por máscara\n",
        "\n",
        "Vimos que en numpy podemos utilizar filtros. En pandas también podemos hacerlo y es algo que vamos utilizar mucho asique es importante aprender a usarlo bien!\n",
        "\n",
        "Los filtros se utilizan igual que en numpy.\n",
        "\n",
        "Seleccionemos todas las filas en las que country sea = 'US'"
      ]
    },
    {
      "cell_type": "code",
      "metadata": {
        "colab": {
          "base_uri": "https://localhost:8080/",
          "height": 606
        },
        "id": "KMmFT1AKCyxm",
        "outputId": "76791367-1514-40fc-d27f-ddf3c217b2a7"
      },
      "source": [
        "df[df['country'] == 'US']"
      ],
      "execution_count": 30,
      "outputs": [
        {
          "output_type": "execute_result",
          "data": {
            "text/html": [
              "<div>\n",
              "<style scoped>\n",
              "    .dataframe tbody tr th:only-of-type {\n",
              "        vertical-align: middle;\n",
              "    }\n",
              "\n",
              "    .dataframe tbody tr th {\n",
              "        vertical-align: top;\n",
              "    }\n",
              "\n",
              "    .dataframe thead th {\n",
              "        text-align: right;\n",
              "    }\n",
              "</style>\n",
              "<table border=\"1\" class=\"dataframe\">\n",
              "  <thead>\n",
              "    <tr style=\"text-align: right;\">\n",
              "      <th></th>\n",
              "      <th>Unnamed: 0</th>\n",
              "      <th>country</th>\n",
              "      <th>description</th>\n",
              "      <th>designation</th>\n",
              "      <th>points</th>\n",
              "      <th>price</th>\n",
              "      <th>province</th>\n",
              "      <th>region_1</th>\n",
              "      <th>region_2</th>\n",
              "      <th>variety</th>\n",
              "      <th>winery</th>\n",
              "    </tr>\n",
              "  </thead>\n",
              "  <tbody>\n",
              "    <tr>\n",
              "      <th>0</th>\n",
              "      <td>0</td>\n",
              "      <td>US</td>\n",
              "      <td>This tremendous 100% varietal wine hails from ...</td>\n",
              "      <td>Martha's Vineyard</td>\n",
              "      <td>96</td>\n",
              "      <td>235.0</td>\n",
              "      <td>California</td>\n",
              "      <td>Napa Valley</td>\n",
              "      <td>Napa</td>\n",
              "      <td>Cabernet Sauvignon</td>\n",
              "      <td>Heitz</td>\n",
              "    </tr>\n",
              "    <tr>\n",
              "      <th>2</th>\n",
              "      <td>2</td>\n",
              "      <td>US</td>\n",
              "      <td>Mac Watson honors the memory of a wine once ma...</td>\n",
              "      <td>Special Selected Late Harvest</td>\n",
              "      <td>96</td>\n",
              "      <td>90.0</td>\n",
              "      <td>California</td>\n",
              "      <td>Knights Valley</td>\n",
              "      <td>Sonoma</td>\n",
              "      <td>Sauvignon Blanc</td>\n",
              "      <td>Macauley</td>\n",
              "    </tr>\n",
              "    <tr>\n",
              "      <th>3</th>\n",
              "      <td>3</td>\n",
              "      <td>US</td>\n",
              "      <td>This spent 20 months in 30% new French oak, an...</td>\n",
              "      <td>Reserve</td>\n",
              "      <td>96</td>\n",
              "      <td>65.0</td>\n",
              "      <td>Oregon</td>\n",
              "      <td>Willamette Valley</td>\n",
              "      <td>Willamette Valley</td>\n",
              "      <td>Pinot Noir</td>\n",
              "      <td>Ponzi</td>\n",
              "    </tr>\n",
              "    <tr>\n",
              "      <th>8</th>\n",
              "      <td>8</td>\n",
              "      <td>US</td>\n",
              "      <td>This re-named vineyard was formerly bottled as...</td>\n",
              "      <td>Silice</td>\n",
              "      <td>95</td>\n",
              "      <td>65.0</td>\n",
              "      <td>Oregon</td>\n",
              "      <td>Chehalem Mountains</td>\n",
              "      <td>Willamette Valley</td>\n",
              "      <td>Pinot Noir</td>\n",
              "      <td>Bergström</td>\n",
              "    </tr>\n",
              "    <tr>\n",
              "      <th>9</th>\n",
              "      <td>9</td>\n",
              "      <td>US</td>\n",
              "      <td>The producer sources from two blocks of the vi...</td>\n",
              "      <td>Gap's Crown Vineyard</td>\n",
              "      <td>95</td>\n",
              "      <td>60.0</td>\n",
              "      <td>California</td>\n",
              "      <td>Sonoma Coast</td>\n",
              "      <td>Sonoma</td>\n",
              "      <td>Pinot Noir</td>\n",
              "      <td>Blue Farm</td>\n",
              "    </tr>\n",
              "    <tr>\n",
              "      <th>...</th>\n",
              "      <td>...</td>\n",
              "      <td>...</td>\n",
              "      <td>...</td>\n",
              "      <td>...</td>\n",
              "      <td>...</td>\n",
              "      <td>...</td>\n",
              "      <td>...</td>\n",
              "      <td>...</td>\n",
              "      <td>...</td>\n",
              "      <td>...</td>\n",
              "      <td>...</td>\n",
              "    </tr>\n",
              "    <tr>\n",
              "      <th>150892</th>\n",
              "      <td>150892</td>\n",
              "      <td>US</td>\n",
              "      <td>A light, earthy wine, with violet, berry and t...</td>\n",
              "      <td>Coastal</td>\n",
              "      <td>82</td>\n",
              "      <td>10.0</td>\n",
              "      <td>California</td>\n",
              "      <td>California</td>\n",
              "      <td>California Other</td>\n",
              "      <td>Merlot</td>\n",
              "      <td>Callaway</td>\n",
              "    </tr>\n",
              "    <tr>\n",
              "      <th>150896</th>\n",
              "      <td>150896</td>\n",
              "      <td>US</td>\n",
              "      <td>Some raspberry fruit in the aroma, but things ...</td>\n",
              "      <td>dato faltante</td>\n",
              "      <td>82</td>\n",
              "      <td>10.0</td>\n",
              "      <td>California</td>\n",
              "      <td>California</td>\n",
              "      <td>California Other</td>\n",
              "      <td>Pinot Noir</td>\n",
              "      <td>Camelot</td>\n",
              "    </tr>\n",
              "    <tr>\n",
              "      <th>150914</th>\n",
              "      <td>150914</td>\n",
              "      <td>US</td>\n",
              "      <td>Old-gold in color, and thick and syrupy. The a...</td>\n",
              "      <td>Late Harvest Cluster Select</td>\n",
              "      <td>94</td>\n",
              "      <td>25.0</td>\n",
              "      <td>California</td>\n",
              "      <td>Anderson Valley</td>\n",
              "      <td>Mendocino/Lake Counties</td>\n",
              "      <td>White Riesling</td>\n",
              "      <td>Navarro</td>\n",
              "    </tr>\n",
              "    <tr>\n",
              "      <th>150915</th>\n",
              "      <td>150915</td>\n",
              "      <td>US</td>\n",
              "      <td>Decades ago, Beringer’s then-winemaker Myron N...</td>\n",
              "      <td>Nightingale</td>\n",
              "      <td>93</td>\n",
              "      <td>30.0</td>\n",
              "      <td>California</td>\n",
              "      <td>North Coast</td>\n",
              "      <td>North Coast</td>\n",
              "      <td>White Blend</td>\n",
              "      <td>Beringer</td>\n",
              "    </tr>\n",
              "    <tr>\n",
              "      <th>150916</th>\n",
              "      <td>150916</td>\n",
              "      <td>US</td>\n",
              "      <td>An impressive wine that presents a full bouque...</td>\n",
              "      <td>J. Schram</td>\n",
              "      <td>93</td>\n",
              "      <td>65.0</td>\n",
              "      <td>California</td>\n",
              "      <td>Napa Valley</td>\n",
              "      <td>Napa</td>\n",
              "      <td>Champagne Blend</td>\n",
              "      <td>Schramsberg</td>\n",
              "    </tr>\n",
              "  </tbody>\n",
              "</table>\n",
              "<p>62397 rows × 11 columns</p>\n",
              "</div>"
            ],
            "text/plain": [
              "        Unnamed: 0 country  ...             variety       winery\n",
              "0                0      US  ...  Cabernet Sauvignon        Heitz\n",
              "2                2      US  ...     Sauvignon Blanc     Macauley\n",
              "3                3      US  ...          Pinot Noir        Ponzi\n",
              "8                8      US  ...          Pinot Noir    Bergström\n",
              "9                9      US  ...          Pinot Noir    Blue Farm\n",
              "...            ...     ...  ...                 ...          ...\n",
              "150892      150892      US  ...              Merlot     Callaway\n",
              "150896      150896      US  ...          Pinot Noir      Camelot\n",
              "150914      150914      US  ...      White Riesling      Navarro\n",
              "150915      150915      US  ...         White Blend     Beringer\n",
              "150916      150916      US  ...     Champagne Blend  Schramsberg\n",
              "\n",
              "[62397 rows x 11 columns]"
            ]
          },
          "metadata": {
            "tags": []
          },
          "execution_count": 30
        }
      ]
    },
    {
      "cell_type": "markdown",
      "metadata": {
        "id": "nME-svotWI60"
      },
      "source": [
        "## Correlación\n",
        "\n",
        "Pandas nos provee una función para medir la correlación entre variables numéricas"
      ]
    },
    {
      "cell_type": "code",
      "metadata": {
        "colab": {
          "base_uri": "https://localhost:8080/",
          "height": 111
        },
        "id": "cyUnbNUjWIbU",
        "outputId": "28bc9a78-b2da-438f-bde4-7fdfe99dbed9"
      },
      "source": [
        "df[['points', 'price']].corr()"
      ],
      "execution_count": 31,
      "outputs": [
        {
          "output_type": "execute_result",
          "data": {
            "text/html": [
              "<div>\n",
              "<style scoped>\n",
              "    .dataframe tbody tr th:only-of-type {\n",
              "        vertical-align: middle;\n",
              "    }\n",
              "\n",
              "    .dataframe tbody tr th {\n",
              "        vertical-align: top;\n",
              "    }\n",
              "\n",
              "    .dataframe thead th {\n",
              "        text-align: right;\n",
              "    }\n",
              "</style>\n",
              "<table border=\"1\" class=\"dataframe\">\n",
              "  <thead>\n",
              "    <tr style=\"text-align: right;\">\n",
              "      <th></th>\n",
              "      <th>points</th>\n",
              "      <th>price</th>\n",
              "    </tr>\n",
              "  </thead>\n",
              "  <tbody>\n",
              "    <tr>\n",
              "      <th>points</th>\n",
              "      <td>1.00000</td>\n",
              "      <td>0.43841</td>\n",
              "    </tr>\n",
              "    <tr>\n",
              "      <th>price</th>\n",
              "      <td>0.43841</td>\n",
              "      <td>1.00000</td>\n",
              "    </tr>\n",
              "  </tbody>\n",
              "</table>\n",
              "</div>"
            ],
            "text/plain": [
              "         points    price\n",
              "points  1.00000  0.43841\n",
              "price   0.43841  1.00000"
            ]
          },
          "metadata": {
            "tags": []
          },
          "execution_count": 31
        }
      ]
    },
    {
      "cell_type": "markdown",
      "metadata": {
        "id": "fAh57kcSPihx"
      },
      "source": [
        "#### Ejercicio\n",
        "\n",
        "Investigar las funciones:\n",
        "- value_counts\n",
        "- unique\n",
        "- nunique\n",
        "- max\n",
        "- min\n",
        "- sort_values\n",
        "\n",
        "Responder las siguientes preguntas utilizando lo que sabemos de pandas + lo que investigamos de las funciones de arriba (con la menor cantidad de funciones posibles):\n",
        "\n",
        "a) ¿ Qúe valores distintos (únicos) hay en la columna country ?\n",
        "\n",
        "b) ¿ Cuántos valores distintos hay en la columna country ?\n",
        "\n",
        "c) ¿ Con qué frecuencia (cuantas veces) aparece cada uno de los paises ?\n",
        "\n",
        "d) ¿ Cuál es el valor máximo de la columna price ?\n",
        "\n",
        "e) ¿ Cuál es el valor mínimo de la columna price ?\n",
        "\n",
        "f) ¿ Cuál es el vino más caro ?\n",
        "\n",
        "g) ¿ Cuántos vinos tienen un precio por encima de la media ?\n"
      ]
    },
    {
      "cell_type": "markdown",
      "metadata": {
        "id": "2OIHU4AS08Fj"
      },
      "source": [
        "# Apply\n",
        "\n",
        "El método apply de los dataframes de pandas, nos permite realizar una acción sobre cada fila o columna (sobre un \"axis\") del dataset.\n",
        "\n",
        "https://pandas.pydata.org/pandas-docs/stable/reference/api/pandas.DataFrame.apply.html\n",
        "\n",
        "Por ejemplo, queremos crear una nueva columna que se llame \"description_len\" y contenga la cantidad de caracteres que hay en cada fila de la columna \"description\".\n",
        "\n",
        "Primero: Definamos una función que cuente los caracteres de un string:"
      ]
    },
    {
      "cell_type": "code",
      "metadata": {
        "id": "eftxZzC63QV5"
      },
      "source": [
        "def count_string_len(string:str) -> int:\n",
        "  \"\"\"\n",
        "  La función tiene que retornar un número entero con la cantidad de caracteres del string.\n",
        "  \"\"\"\n",
        "  # COMPLETAR"
      ],
      "execution_count": 35,
      "outputs": []
    },
    {
      "cell_type": "code",
      "metadata": {
        "id": "Sdj3QZtS3QYo"
      },
      "source": [
        "df['description_len'] = df['description'].apply(count_string_len)"
      ],
      "execution_count": 36,
      "outputs": []
    },
    {
      "cell_type": "code",
      "metadata": {
        "colab": {
          "base_uri": "https://localhost:8080/",
          "height": 306
        },
        "id": "FQ4KQeHk5Dvd",
        "outputId": "113b7db0-7ff0-44f8-f516-80c68fe3233f"
      },
      "source": [
        "df.head()"
      ],
      "execution_count": 37,
      "outputs": [
        {
          "output_type": "execute_result",
          "data": {
            "text/html": [
              "<div>\n",
              "<style scoped>\n",
              "    .dataframe tbody tr th:only-of-type {\n",
              "        vertical-align: middle;\n",
              "    }\n",
              "\n",
              "    .dataframe tbody tr th {\n",
              "        vertical-align: top;\n",
              "    }\n",
              "\n",
              "    .dataframe thead th {\n",
              "        text-align: right;\n",
              "    }\n",
              "</style>\n",
              "<table border=\"1\" class=\"dataframe\">\n",
              "  <thead>\n",
              "    <tr style=\"text-align: right;\">\n",
              "      <th></th>\n",
              "      <th>Unnamed: 0</th>\n",
              "      <th>country</th>\n",
              "      <th>description</th>\n",
              "      <th>designation</th>\n",
              "      <th>points</th>\n",
              "      <th>price</th>\n",
              "      <th>province</th>\n",
              "      <th>region_1</th>\n",
              "      <th>region_2</th>\n",
              "      <th>variety</th>\n",
              "      <th>winery</th>\n",
              "      <th>description_len</th>\n",
              "    </tr>\n",
              "  </thead>\n",
              "  <tbody>\n",
              "    <tr>\n",
              "      <th>0</th>\n",
              "      <td>0</td>\n",
              "      <td>US</td>\n",
              "      <td>This tremendous 100% varietal wine hails from ...</td>\n",
              "      <td>Martha's Vineyard</td>\n",
              "      <td>96</td>\n",
              "      <td>235.0</td>\n",
              "      <td>California</td>\n",
              "      <td>Napa Valley</td>\n",
              "      <td>Napa</td>\n",
              "      <td>Cabernet Sauvignon</td>\n",
              "      <td>Heitz</td>\n",
              "      <td>355</td>\n",
              "    </tr>\n",
              "    <tr>\n",
              "      <th>1</th>\n",
              "      <td>1</td>\n",
              "      <td>Spain</td>\n",
              "      <td>Ripe aromas of fig, blackberry and cassis are ...</td>\n",
              "      <td>Carodorum Selección Especial Reserva</td>\n",
              "      <td>96</td>\n",
              "      <td>110.0</td>\n",
              "      <td>Northern Spain</td>\n",
              "      <td>Toro</td>\n",
              "      <td>dato faltante</td>\n",
              "      <td>Tinta de Toro</td>\n",
              "      <td>Bodega Carmen Rodríguez</td>\n",
              "      <td>318</td>\n",
              "    </tr>\n",
              "    <tr>\n",
              "      <th>2</th>\n",
              "      <td>2</td>\n",
              "      <td>US</td>\n",
              "      <td>Mac Watson honors the memory of a wine once ma...</td>\n",
              "      <td>Special Selected Late Harvest</td>\n",
              "      <td>96</td>\n",
              "      <td>90.0</td>\n",
              "      <td>California</td>\n",
              "      <td>Knights Valley</td>\n",
              "      <td>Sonoma</td>\n",
              "      <td>Sauvignon Blanc</td>\n",
              "      <td>Macauley</td>\n",
              "      <td>280</td>\n",
              "    </tr>\n",
              "    <tr>\n",
              "      <th>3</th>\n",
              "      <td>3</td>\n",
              "      <td>US</td>\n",
              "      <td>This spent 20 months in 30% new French oak, an...</td>\n",
              "      <td>Reserve</td>\n",
              "      <td>96</td>\n",
              "      <td>65.0</td>\n",
              "      <td>Oregon</td>\n",
              "      <td>Willamette Valley</td>\n",
              "      <td>Willamette Valley</td>\n",
              "      <td>Pinot Noir</td>\n",
              "      <td>Ponzi</td>\n",
              "      <td>386</td>\n",
              "    </tr>\n",
              "    <tr>\n",
              "      <th>4</th>\n",
              "      <td>4</td>\n",
              "      <td>France</td>\n",
              "      <td>This is the top wine from La Bégude, named aft...</td>\n",
              "      <td>La Brûlade</td>\n",
              "      <td>95</td>\n",
              "      <td>66.0</td>\n",
              "      <td>Provence</td>\n",
              "      <td>Bandol</td>\n",
              "      <td>dato faltante</td>\n",
              "      <td>Provence red blend</td>\n",
              "      <td>Domaine de la Bégude</td>\n",
              "      <td>376</td>\n",
              "    </tr>\n",
              "  </tbody>\n",
              "</table>\n",
              "</div>"
            ],
            "text/plain": [
              "   Unnamed: 0 country  ...                   winery description_len\n",
              "0           0      US  ...                    Heitz             355\n",
              "1           1   Spain  ...  Bodega Carmen Rodríguez             318\n",
              "2           2      US  ...                 Macauley             280\n",
              "3           3      US  ...                    Ponzi             386\n",
              "4           4  France  ...     Domaine de la Bégude             376\n",
              "\n",
              "[5 rows x 12 columns]"
            ]
          },
          "metadata": {
            "tags": []
          },
          "execution_count": 37
        }
      ]
    },
    {
      "cell_type": "markdown",
      "metadata": {
        "id": "rmFZUH5C5Kly"
      },
      "source": [
        "Para utilizar apply, no hace falta definir una función aparte. También podemos hacerlo directamente utilizando funciónes \"lambda\":"
      ]
    },
    {
      "cell_type": "code",
      "metadata": {
        "id": "SGlUbp6x5SX_"
      },
      "source": [
        "df['description_len'] = df['description'].apply(lambda x: len(x))"
      ],
      "execution_count": 38,
      "outputs": []
    },
    {
      "cell_type": "code",
      "metadata": {
        "colab": {
          "base_uri": "https://localhost:8080/",
          "height": 306
        },
        "id": "nEFYgf6f5VkD",
        "outputId": "4570cb29-40b4-4c29-fc1f-b151fcfd2bde"
      },
      "source": [
        "df.head()"
      ],
      "execution_count": 39,
      "outputs": [
        {
          "output_type": "execute_result",
          "data": {
            "text/html": [
              "<div>\n",
              "<style scoped>\n",
              "    .dataframe tbody tr th:only-of-type {\n",
              "        vertical-align: middle;\n",
              "    }\n",
              "\n",
              "    .dataframe tbody tr th {\n",
              "        vertical-align: top;\n",
              "    }\n",
              "\n",
              "    .dataframe thead th {\n",
              "        text-align: right;\n",
              "    }\n",
              "</style>\n",
              "<table border=\"1\" class=\"dataframe\">\n",
              "  <thead>\n",
              "    <tr style=\"text-align: right;\">\n",
              "      <th></th>\n",
              "      <th>Unnamed: 0</th>\n",
              "      <th>country</th>\n",
              "      <th>description</th>\n",
              "      <th>designation</th>\n",
              "      <th>points</th>\n",
              "      <th>price</th>\n",
              "      <th>province</th>\n",
              "      <th>region_1</th>\n",
              "      <th>region_2</th>\n",
              "      <th>variety</th>\n",
              "      <th>winery</th>\n",
              "      <th>description_len</th>\n",
              "    </tr>\n",
              "  </thead>\n",
              "  <tbody>\n",
              "    <tr>\n",
              "      <th>0</th>\n",
              "      <td>0</td>\n",
              "      <td>US</td>\n",
              "      <td>This tremendous 100% varietal wine hails from ...</td>\n",
              "      <td>Martha's Vineyard</td>\n",
              "      <td>96</td>\n",
              "      <td>235.0</td>\n",
              "      <td>California</td>\n",
              "      <td>Napa Valley</td>\n",
              "      <td>Napa</td>\n",
              "      <td>Cabernet Sauvignon</td>\n",
              "      <td>Heitz</td>\n",
              "      <td>355</td>\n",
              "    </tr>\n",
              "    <tr>\n",
              "      <th>1</th>\n",
              "      <td>1</td>\n",
              "      <td>Spain</td>\n",
              "      <td>Ripe aromas of fig, blackberry and cassis are ...</td>\n",
              "      <td>Carodorum Selección Especial Reserva</td>\n",
              "      <td>96</td>\n",
              "      <td>110.0</td>\n",
              "      <td>Northern Spain</td>\n",
              "      <td>Toro</td>\n",
              "      <td>dato faltante</td>\n",
              "      <td>Tinta de Toro</td>\n",
              "      <td>Bodega Carmen Rodríguez</td>\n",
              "      <td>318</td>\n",
              "    </tr>\n",
              "    <tr>\n",
              "      <th>2</th>\n",
              "      <td>2</td>\n",
              "      <td>US</td>\n",
              "      <td>Mac Watson honors the memory of a wine once ma...</td>\n",
              "      <td>Special Selected Late Harvest</td>\n",
              "      <td>96</td>\n",
              "      <td>90.0</td>\n",
              "      <td>California</td>\n",
              "      <td>Knights Valley</td>\n",
              "      <td>Sonoma</td>\n",
              "      <td>Sauvignon Blanc</td>\n",
              "      <td>Macauley</td>\n",
              "      <td>280</td>\n",
              "    </tr>\n",
              "    <tr>\n",
              "      <th>3</th>\n",
              "      <td>3</td>\n",
              "      <td>US</td>\n",
              "      <td>This spent 20 months in 30% new French oak, an...</td>\n",
              "      <td>Reserve</td>\n",
              "      <td>96</td>\n",
              "      <td>65.0</td>\n",
              "      <td>Oregon</td>\n",
              "      <td>Willamette Valley</td>\n",
              "      <td>Willamette Valley</td>\n",
              "      <td>Pinot Noir</td>\n",
              "      <td>Ponzi</td>\n",
              "      <td>386</td>\n",
              "    </tr>\n",
              "    <tr>\n",
              "      <th>4</th>\n",
              "      <td>4</td>\n",
              "      <td>France</td>\n",
              "      <td>This is the top wine from La Bégude, named aft...</td>\n",
              "      <td>La Brûlade</td>\n",
              "      <td>95</td>\n",
              "      <td>66.0</td>\n",
              "      <td>Provence</td>\n",
              "      <td>Bandol</td>\n",
              "      <td>dato faltante</td>\n",
              "      <td>Provence red blend</td>\n",
              "      <td>Domaine de la Bégude</td>\n",
              "      <td>376</td>\n",
              "    </tr>\n",
              "  </tbody>\n",
              "</table>\n",
              "</div>"
            ],
            "text/plain": [
              "   Unnamed: 0 country  ...                   winery description_len\n",
              "0           0      US  ...                    Heitz             355\n",
              "1           1   Spain  ...  Bodega Carmen Rodríguez             318\n",
              "2           2      US  ...                 Macauley             280\n",
              "3           3      US  ...                    Ponzi             386\n",
              "4           4  France  ...     Domaine de la Bégude             376\n",
              "\n",
              "[5 rows x 12 columns]"
            ]
          },
          "metadata": {
            "tags": []
          },
          "execution_count": 39
        }
      ]
    },
    {
      "cell_type": "markdown",
      "metadata": {
        "id": "n2yaEC8O5Z3r"
      },
      "source": [
        "#### Ejercicio: Utilizar una función lambda para crear una nueva columna que se llame float_point y contenga los mismos datos que la columna \"points\" pero en formato float"
      ]
    },
    {
      "cell_type": "code",
      "metadata": {
        "id": "dhzNhQvw5krr"
      },
      "source": [
        "# Completar"
      ],
      "execution_count": 40,
      "outputs": []
    },
    {
      "cell_type": "markdown",
      "metadata": {
        "id": "1j1oQFvz1KQo"
      },
      "source": [
        "# Group by\n",
        "\n",
        "\n",
        "La función group by de pandas, nos permite agrupar dataframes a partir de una o más columnas y mediante funciones de agregación obtener insights de cada grupo.\n",
        "\n",
        "Veamos ejemplos:"
      ]
    },
    {
      "cell_type": "code",
      "metadata": {
        "colab": {
          "base_uri": "https://localhost:8080/"
        },
        "id": "e4XJu0mj5ogm",
        "outputId": "797427d5-11f6-470a-a698-58bd9c42c2a7"
      },
      "source": [
        "group_by_country = df.groupby('country')\n",
        "group_by_country"
      ],
      "execution_count": 44,
      "outputs": [
        {
          "output_type": "execute_result",
          "data": {
            "text/plain": [
              "<pandas.core.groupby.generic.DataFrameGroupBy object at 0x7f5e8f764110>"
            ]
          },
          "metadata": {
            "tags": []
          },
          "execution_count": 44
        }
      ]
    },
    {
      "cell_type": "markdown",
      "metadata": {
        "id": "kaA3Qxj86iqu"
      },
      "source": [
        "Vemos que groupby nos devuelve un objeto pandas.core.groupby.generic.DataFrameGroupBy.\n",
        "\n",
        "Sobre este objeto, podemos aplicar directamente funciones de agregación como .count(), .sum(), .mean(), etcétera:"
      ]
    },
    {
      "cell_type": "code",
      "metadata": {
        "colab": {
          "base_uri": "https://localhost:8080/",
          "height": 235
        },
        "id": "xesUrobT6FsO",
        "outputId": "d9a969f2-97f9-4dc4-a2b7-4d07ab69888c"
      },
      "source": [
        "group_by_country.count().head()"
      ],
      "execution_count": 46,
      "outputs": [
        {
          "output_type": "execute_result",
          "data": {
            "text/html": [
              "<div>\n",
              "<style scoped>\n",
              "    .dataframe tbody tr th:only-of-type {\n",
              "        vertical-align: middle;\n",
              "    }\n",
              "\n",
              "    .dataframe tbody tr th {\n",
              "        vertical-align: top;\n",
              "    }\n",
              "\n",
              "    .dataframe thead th {\n",
              "        text-align: right;\n",
              "    }\n",
              "</style>\n",
              "<table border=\"1\" class=\"dataframe\">\n",
              "  <thead>\n",
              "    <tr style=\"text-align: right;\">\n",
              "      <th></th>\n",
              "      <th>Unnamed: 0</th>\n",
              "      <th>description</th>\n",
              "      <th>designation</th>\n",
              "      <th>points</th>\n",
              "      <th>price</th>\n",
              "      <th>province</th>\n",
              "      <th>region_1</th>\n",
              "      <th>region_2</th>\n",
              "      <th>variety</th>\n",
              "      <th>winery</th>\n",
              "      <th>description_len</th>\n",
              "    </tr>\n",
              "    <tr>\n",
              "      <th>country</th>\n",
              "      <th></th>\n",
              "      <th></th>\n",
              "      <th></th>\n",
              "      <th></th>\n",
              "      <th></th>\n",
              "      <th></th>\n",
              "      <th></th>\n",
              "      <th></th>\n",
              "      <th></th>\n",
              "      <th></th>\n",
              "      <th></th>\n",
              "    </tr>\n",
              "  </thead>\n",
              "  <tbody>\n",
              "    <tr>\n",
              "      <th>Albania</th>\n",
              "      <td>2</td>\n",
              "      <td>2</td>\n",
              "      <td>2</td>\n",
              "      <td>2</td>\n",
              "      <td>2</td>\n",
              "      <td>2</td>\n",
              "      <td>2</td>\n",
              "      <td>2</td>\n",
              "      <td>2</td>\n",
              "      <td>2</td>\n",
              "      <td>2</td>\n",
              "    </tr>\n",
              "    <tr>\n",
              "      <th>Argentina</th>\n",
              "      <td>5631</td>\n",
              "      <td>5631</td>\n",
              "      <td>5631</td>\n",
              "      <td>5631</td>\n",
              "      <td>5631</td>\n",
              "      <td>5631</td>\n",
              "      <td>5631</td>\n",
              "      <td>5631</td>\n",
              "      <td>5631</td>\n",
              "      <td>5631</td>\n",
              "      <td>5631</td>\n",
              "    </tr>\n",
              "    <tr>\n",
              "      <th>Australia</th>\n",
              "      <td>4957</td>\n",
              "      <td>4957</td>\n",
              "      <td>4957</td>\n",
              "      <td>4957</td>\n",
              "      <td>4957</td>\n",
              "      <td>4957</td>\n",
              "      <td>4957</td>\n",
              "      <td>4957</td>\n",
              "      <td>4957</td>\n",
              "      <td>4957</td>\n",
              "      <td>4957</td>\n",
              "    </tr>\n",
              "    <tr>\n",
              "      <th>Austria</th>\n",
              "      <td>3057</td>\n",
              "      <td>3057</td>\n",
              "      <td>3057</td>\n",
              "      <td>3057</td>\n",
              "      <td>3057</td>\n",
              "      <td>3057</td>\n",
              "      <td>3057</td>\n",
              "      <td>3057</td>\n",
              "      <td>3057</td>\n",
              "      <td>3057</td>\n",
              "      <td>3057</td>\n",
              "    </tr>\n",
              "    <tr>\n",
              "      <th>Bosnia and Herzegovina</th>\n",
              "      <td>4</td>\n",
              "      <td>4</td>\n",
              "      <td>4</td>\n",
              "      <td>4</td>\n",
              "      <td>4</td>\n",
              "      <td>4</td>\n",
              "      <td>4</td>\n",
              "      <td>4</td>\n",
              "      <td>4</td>\n",
              "      <td>4</td>\n",
              "      <td>4</td>\n",
              "    </tr>\n",
              "  </tbody>\n",
              "</table>\n",
              "</div>"
            ],
            "text/plain": [
              "                        Unnamed: 0  description  ...  winery  description_len\n",
              "country                                          ...                         \n",
              "Albania                          2            2  ...       2                2\n",
              "Argentina                     5631         5631  ...    5631             5631\n",
              "Australia                     4957         4957  ...    4957             4957\n",
              "Austria                       3057         3057  ...    3057             3057\n",
              "Bosnia and Herzegovina           4            4  ...       4                4\n",
              "\n",
              "[5 rows x 11 columns]"
            ]
          },
          "metadata": {
            "tags": []
          },
          "execution_count": 46
        }
      ]
    },
    {
      "cell_type": "code",
      "metadata": {
        "colab": {
          "base_uri": "https://localhost:8080/",
          "height": 235
        },
        "id": "nbUxLjii6Fuw",
        "outputId": "81a5294b-663b-4e38-8bb6-50145f80b448"
      },
      "source": [
        "group_by_country.mean().head()"
      ],
      "execution_count": 47,
      "outputs": [
        {
          "output_type": "execute_result",
          "data": {
            "text/html": [
              "<div>\n",
              "<style scoped>\n",
              "    .dataframe tbody tr th:only-of-type {\n",
              "        vertical-align: middle;\n",
              "    }\n",
              "\n",
              "    .dataframe tbody tr th {\n",
              "        vertical-align: top;\n",
              "    }\n",
              "\n",
              "    .dataframe thead th {\n",
              "        text-align: right;\n",
              "    }\n",
              "</style>\n",
              "<table border=\"1\" class=\"dataframe\">\n",
              "  <thead>\n",
              "    <tr style=\"text-align: right;\">\n",
              "      <th></th>\n",
              "      <th>Unnamed: 0</th>\n",
              "      <th>points</th>\n",
              "      <th>price</th>\n",
              "      <th>description_len</th>\n",
              "    </tr>\n",
              "    <tr>\n",
              "      <th>country</th>\n",
              "      <th></th>\n",
              "      <th></th>\n",
              "      <th></th>\n",
              "      <th></th>\n",
              "    </tr>\n",
              "  </thead>\n",
              "  <tbody>\n",
              "    <tr>\n",
              "      <th>Albania</th>\n",
              "      <td>4753.000000</td>\n",
              "      <td>88.000000</td>\n",
              "      <td>20.000000</td>\n",
              "      <td>221.000000</td>\n",
              "    </tr>\n",
              "    <tr>\n",
              "      <th>Argentina</th>\n",
              "      <td>80834.275617</td>\n",
              "      <td>85.996093</td>\n",
              "      <td>20.891278</td>\n",
              "      <td>259.176878</td>\n",
              "    </tr>\n",
              "    <tr>\n",
              "      <th>Australia</th>\n",
              "      <td>90585.526932</td>\n",
              "      <td>87.892475</td>\n",
              "      <td>31.282284</td>\n",
              "      <td>259.649788</td>\n",
              "    </tr>\n",
              "    <tr>\n",
              "      <th>Austria</th>\n",
              "      <td>70144.829899</td>\n",
              "      <td>89.276742</td>\n",
              "      <td>31.556255</td>\n",
              "      <td>218.728819</td>\n",
              "    </tr>\n",
              "    <tr>\n",
              "      <th>Bosnia and Herzegovina</th>\n",
              "      <td>56937.750000</td>\n",
              "      <td>84.750000</td>\n",
              "      <td>12.750000</td>\n",
              "      <td>204.250000</td>\n",
              "    </tr>\n",
              "  </tbody>\n",
              "</table>\n",
              "</div>"
            ],
            "text/plain": [
              "                          Unnamed: 0     points      price  description_len\n",
              "country                                                                    \n",
              "Albania                  4753.000000  88.000000  20.000000       221.000000\n",
              "Argentina               80834.275617  85.996093  20.891278       259.176878\n",
              "Australia               90585.526932  87.892475  31.282284       259.649788\n",
              "Austria                 70144.829899  89.276742  31.556255       218.728819\n",
              "Bosnia and Herzegovina  56937.750000  84.750000  12.750000       204.250000"
            ]
          },
          "metadata": {
            "tags": []
          },
          "execution_count": 47
        }
      ]
    },
    {
      "cell_type": "markdown",
      "metadata": {
        "id": "o92zQZfr61XD"
      },
      "source": [
        "¿ Por qué cuando aplicamos la función mean solo nos trae 4 columnas y el indice ?"
      ]
    },
    {
      "cell_type": "markdown",
      "metadata": {
        "id": "SHBe87z767Uf"
      },
      "source": [
        "También podemos agrupar por múltiples columnas:"
      ]
    },
    {
      "cell_type": "code",
      "metadata": {
        "colab": {
          "base_uri": "https://localhost:8080/",
          "height": 235
        },
        "id": "CDbU0ywe6FyV",
        "outputId": "71a8a876-9de7-4af9-d674-61a44bc549da"
      },
      "source": [
        "group_by_country_prov = df.groupby(['country', 'province'])\n",
        "group_by_country_prov.mean().head()"
      ],
      "execution_count": 49,
      "outputs": [
        {
          "output_type": "execute_result",
          "data": {
            "text/html": [
              "<div>\n",
              "<style scoped>\n",
              "    .dataframe tbody tr th:only-of-type {\n",
              "        vertical-align: middle;\n",
              "    }\n",
              "\n",
              "    .dataframe tbody tr th {\n",
              "        vertical-align: top;\n",
              "    }\n",
              "\n",
              "    .dataframe thead th {\n",
              "        text-align: right;\n",
              "    }\n",
              "</style>\n",
              "<table border=\"1\" class=\"dataframe\">\n",
              "  <thead>\n",
              "    <tr style=\"text-align: right;\">\n",
              "      <th></th>\n",
              "      <th></th>\n",
              "      <th>Unnamed: 0</th>\n",
              "      <th>points</th>\n",
              "      <th>price</th>\n",
              "      <th>description_len</th>\n",
              "    </tr>\n",
              "    <tr>\n",
              "      <th>country</th>\n",
              "      <th>province</th>\n",
              "      <th></th>\n",
              "      <th></th>\n",
              "      <th></th>\n",
              "      <th></th>\n",
              "    </tr>\n",
              "  </thead>\n",
              "  <tbody>\n",
              "    <tr>\n",
              "      <th>Albania</th>\n",
              "      <th>Mirditë</th>\n",
              "      <td>4753.000000</td>\n",
              "      <td>88.000000</td>\n",
              "      <td>20.000000</td>\n",
              "      <td>221.000000</td>\n",
              "    </tr>\n",
              "    <tr>\n",
              "      <th rowspan=\"2\" valign=\"top\">Argentina</th>\n",
              "      <th>Mendoza Province</th>\n",
              "      <td>80158.115141</td>\n",
              "      <td>86.108182</td>\n",
              "      <td>20.951441</td>\n",
              "      <td>260.281527</td>\n",
              "    </tr>\n",
              "    <tr>\n",
              "      <th>Other</th>\n",
              "      <td>84440.971879</td>\n",
              "      <td>85.398200</td>\n",
              "      <td>20.570362</td>\n",
              "      <td>253.284589</td>\n",
              "    </tr>\n",
              "    <tr>\n",
              "      <th rowspan=\"2\" valign=\"top\">Australia</th>\n",
              "      <th>Australia Other</th>\n",
              "      <td>92211.954792</td>\n",
              "      <td>84.813743</td>\n",
              "      <td>11.770819</td>\n",
              "      <td>216.408680</td>\n",
              "    </tr>\n",
              "    <tr>\n",
              "      <th>New South Wales</th>\n",
              "      <td>96444.069106</td>\n",
              "      <td>87.048780</td>\n",
              "      <td>22.139280</td>\n",
              "      <td>262.414634</td>\n",
              "    </tr>\n",
              "  </tbody>\n",
              "</table>\n",
              "</div>"
            ],
            "text/plain": [
              "                              Unnamed: 0     points      price  description_len\n",
              "country   province                                                             \n",
              "Albania   Mirditë            4753.000000  88.000000  20.000000       221.000000\n",
              "Argentina Mendoza Province  80158.115141  86.108182  20.951441       260.281527\n",
              "          Other             84440.971879  85.398200  20.570362       253.284589\n",
              "Australia Australia Other   92211.954792  84.813743  11.770819       216.408680\n",
              "          New South Wales   96444.069106  87.048780  22.139280       262.414634"
            ]
          },
          "metadata": {
            "tags": []
          },
          "execution_count": 49
        }
      ]
    },
    {
      "cell_type": "markdown",
      "metadata": {
        "id": "XwRVfQBM7Fr5"
      },
      "source": [
        "Y si no queremos que las variables por las que agrupamos se conviertan en indices y sean una columna más, podemos especificarlo en la función:"
      ]
    },
    {
      "cell_type": "code",
      "metadata": {
        "colab": {
          "base_uri": "https://localhost:8080/",
          "height": 204
        },
        "id": "o1bJs_kQ7LYh",
        "outputId": "d2bc795c-24d5-4a55-92e4-9c0a544387cf"
      },
      "source": [
        "group_by_country_prov = df.groupby(['country', 'province'], as_index=False)\n",
        "group_by_country_prov.mean().head()"
      ],
      "execution_count": 50,
      "outputs": [
        {
          "output_type": "execute_result",
          "data": {
            "text/html": [
              "<div>\n",
              "<style scoped>\n",
              "    .dataframe tbody tr th:only-of-type {\n",
              "        vertical-align: middle;\n",
              "    }\n",
              "\n",
              "    .dataframe tbody tr th {\n",
              "        vertical-align: top;\n",
              "    }\n",
              "\n",
              "    .dataframe thead th {\n",
              "        text-align: right;\n",
              "    }\n",
              "</style>\n",
              "<table border=\"1\" class=\"dataframe\">\n",
              "  <thead>\n",
              "    <tr style=\"text-align: right;\">\n",
              "      <th></th>\n",
              "      <th>country</th>\n",
              "      <th>province</th>\n",
              "      <th>Unnamed: 0</th>\n",
              "      <th>points</th>\n",
              "      <th>price</th>\n",
              "      <th>description_len</th>\n",
              "    </tr>\n",
              "  </thead>\n",
              "  <tbody>\n",
              "    <tr>\n",
              "      <th>0</th>\n",
              "      <td>Albania</td>\n",
              "      <td>Mirditë</td>\n",
              "      <td>4753.000000</td>\n",
              "      <td>88.000000</td>\n",
              "      <td>20.000000</td>\n",
              "      <td>221.000000</td>\n",
              "    </tr>\n",
              "    <tr>\n",
              "      <th>1</th>\n",
              "      <td>Argentina</td>\n",
              "      <td>Mendoza Province</td>\n",
              "      <td>80158.115141</td>\n",
              "      <td>86.108182</td>\n",
              "      <td>20.951441</td>\n",
              "      <td>260.281527</td>\n",
              "    </tr>\n",
              "    <tr>\n",
              "      <th>2</th>\n",
              "      <td>Argentina</td>\n",
              "      <td>Other</td>\n",
              "      <td>84440.971879</td>\n",
              "      <td>85.398200</td>\n",
              "      <td>20.570362</td>\n",
              "      <td>253.284589</td>\n",
              "    </tr>\n",
              "    <tr>\n",
              "      <th>3</th>\n",
              "      <td>Australia</td>\n",
              "      <td>Australia Other</td>\n",
              "      <td>92211.954792</td>\n",
              "      <td>84.813743</td>\n",
              "      <td>11.770819</td>\n",
              "      <td>216.408680</td>\n",
              "    </tr>\n",
              "    <tr>\n",
              "      <th>4</th>\n",
              "      <td>Australia</td>\n",
              "      <td>New South Wales</td>\n",
              "      <td>96444.069106</td>\n",
              "      <td>87.048780</td>\n",
              "      <td>22.139280</td>\n",
              "      <td>262.414634</td>\n",
              "    </tr>\n",
              "  </tbody>\n",
              "</table>\n",
              "</div>"
            ],
            "text/plain": [
              "     country          province  ...      price  description_len\n",
              "0    Albania           Mirditë  ...  20.000000       221.000000\n",
              "1  Argentina  Mendoza Province  ...  20.951441       260.281527\n",
              "2  Argentina             Other  ...  20.570362       253.284589\n",
              "3  Australia   Australia Other  ...  11.770819       216.408680\n",
              "4  Australia   New South Wales  ...  22.139280       262.414634\n",
              "\n",
              "[5 rows x 6 columns]"
            ]
          },
          "metadata": {
            "tags": []
          },
          "execution_count": 50
        }
      ]
    },
    {
      "cell_type": "markdown",
      "metadata": {
        "id": "IyvJElzB7P-K"
      },
      "source": [
        "Finalmente, también podemos aplicar distintas funciones de agregación a cada columna.\n",
        "\n",
        "EJERCICIO: Averiguar como podemos aplicar una función de agregación distinta a cada columna y:\n",
        "\n",
        "1) Agrupar el dataset por pais\n",
        "2) Obtener una columna que tenga el precio medio por país y otra que contenga la sumatoria de puntos. (.mean() y .sum() )."
      ]
    },
    {
      "cell_type": "code",
      "metadata": {
        "id": "5OTsij0u7o9Q"
      },
      "source": [
        "# COMPLETAR"
      ],
      "execution_count": 51,
      "outputs": []
    },
    {
      "cell_type": "markdown",
      "metadata": {
        "id": "RV59nFtG1LxT"
      },
      "source": [
        "# Sort values\n",
        "\n",
        "Para ordenar un dataframe de pandas, podemos utilizar la función sort_values()\n",
        "\n",
        "EJERCICIO:\n",
        "\n",
        "Ordenar el dataset por \"points\" de manera descendente."
      ]
    },
    {
      "cell_type": "code",
      "metadata": {
        "id": "0astsl4L7p_0"
      },
      "source": [
        "# Completar"
      ],
      "execution_count": 52,
      "outputs": []
    }
  ]
}