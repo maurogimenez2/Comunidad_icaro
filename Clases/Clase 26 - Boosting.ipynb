{
  "nbformat": 4,
  "nbformat_minor": 0,
  "metadata": {
    "colab": {
      "name": "boosting.ipynb",
      "provenance": [],
      "collapsed_sections": []
    },
    "kernelspec": {
      "name": "python3",
      "display_name": "Python 3"
    },
    "language_info": {
      "name": "python"
    }
  },
  "cells": [
    {
      "cell_type": "markdown",
      "metadata": {
        "id": "UdTEF8c0s98b"
      },
      "source": [
        "# Bagging\n",
        "\n",
        "Vamos a utilizar el siguiente dataset: https://www.kaggle.com/jsphyg/weather-dataset-rattle-package\n",
        "\n",
        "Las siguientes celdas lo descargan e importan:"
      ]
    },
    {
      "cell_type": "code",
      "metadata": {
        "id": "IA4ODblEsGQd"
      },
      "source": [
        "import pandas as pd\n",
        "import numpy as np\n",
        "import seaborn as sns\n",
        "import matplotlib.pyplot as plt"
      ],
      "execution_count": null,
      "outputs": []
    },
    {
      "cell_type": "code",
      "metadata": {
        "colab": {
          "base_uri": "https://localhost:8080/"
        },
        "id": "28Y0QXqYveF6",
        "outputId": "c8d1a35c-3883-4421-a05a-60f6de86d984"
      },
      "source": [
        "!wget --no-check-certificate 'https://docs.google.com/uc?export=download&id=1X0MT5YFVOduVogJ9cZKjCJ7fs-OdVuAT' -O weather.csv"
      ],
      "execution_count": null,
      "outputs": [
        {
          "output_type": "stream",
          "name": "stdout",
          "text": [
            "--2021-10-19 15:17:44--  https://docs.google.com/uc?export=download&id=1X0MT5YFVOduVogJ9cZKjCJ7fs-OdVuAT\n",
            "Resolving docs.google.com (docs.google.com)... 142.251.45.110, 2607:f8b0:4004:83f::200e\n",
            "Connecting to docs.google.com (docs.google.com)|142.251.45.110|:443... connected.\n",
            "HTTP request sent, awaiting response... 302 Moved Temporarily\n",
            "Location: https://doc-08-74-docs.googleusercontent.com/docs/securesc/ha0ro937gcuc7l7deffksulhg5h7mbp1/5uh0u2hbevdl6asu0qsm1q93g3desa1b/1634656650000/14260194928165318342/*/1X0MT5YFVOduVogJ9cZKjCJ7fs-OdVuAT?e=download [following]\n",
            "Warning: wildcards not supported in HTTP.\n",
            "--2021-10-19 15:17:45--  https://doc-08-74-docs.googleusercontent.com/docs/securesc/ha0ro937gcuc7l7deffksulhg5h7mbp1/5uh0u2hbevdl6asu0qsm1q93g3desa1b/1634656650000/14260194928165318342/*/1X0MT5YFVOduVogJ9cZKjCJ7fs-OdVuAT?e=download\n",
            "Resolving doc-08-74-docs.googleusercontent.com (doc-08-74-docs.googleusercontent.com)... 172.217.12.225, 2607:f8b0:4004:807::2001\n",
            "Connecting to doc-08-74-docs.googleusercontent.com (doc-08-74-docs.googleusercontent.com)|172.217.12.225|:443... connected.\n",
            "HTTP request sent, awaiting response... 200 OK\n",
            "Length: 14094055 (13M) [text/csv]\n",
            "Saving to: ‘weather.csv’\n",
            "\n",
            "weather.csv         100%[===================>]  13.44M  43.5MB/s    in 0.3s    \n",
            "\n",
            "2021-10-19 15:17:46 (43.5 MB/s) - ‘weather.csv’ saved [14094055/14094055]\n",
            "\n"
          ]
        }
      ]
    },
    {
      "cell_type": "code",
      "metadata": {
        "id": "TN3sDPrBveIX"
      },
      "source": [
        "df = pd.read_csv(\"/content/weather.csv\")"
      ],
      "execution_count": null,
      "outputs": []
    },
    {
      "cell_type": "code",
      "metadata": {
        "colab": {
          "base_uri": "https://localhost:8080/",
          "height": 313
        },
        "id": "QdYkK-fqwx5Z",
        "outputId": "e05f73d7-2624-4190-9efc-7e52ea19a802"
      },
      "source": [
        "df.head()"
      ],
      "execution_count": null,
      "outputs": [
        {
          "output_type": "execute_result",
          "data": {
            "text/html": [
              "<div>\n",
              "<style scoped>\n",
              "    .dataframe tbody tr th:only-of-type {\n",
              "        vertical-align: middle;\n",
              "    }\n",
              "\n",
              "    .dataframe tbody tr th {\n",
              "        vertical-align: top;\n",
              "    }\n",
              "\n",
              "    .dataframe thead th {\n",
              "        text-align: right;\n",
              "    }\n",
              "</style>\n",
              "<table border=\"1\" class=\"dataframe\">\n",
              "  <thead>\n",
              "    <tr style=\"text-align: right;\">\n",
              "      <th></th>\n",
              "      <th>Date</th>\n",
              "      <th>Location</th>\n",
              "      <th>MinTemp</th>\n",
              "      <th>MaxTemp</th>\n",
              "      <th>Rainfall</th>\n",
              "      <th>Evaporation</th>\n",
              "      <th>Sunshine</th>\n",
              "      <th>WindGustDir</th>\n",
              "      <th>WindGustSpeed</th>\n",
              "      <th>WindDir9am</th>\n",
              "      <th>WindDir3pm</th>\n",
              "      <th>WindSpeed9am</th>\n",
              "      <th>WindSpeed3pm</th>\n",
              "      <th>Humidity9am</th>\n",
              "      <th>Humidity3pm</th>\n",
              "      <th>Pressure9am</th>\n",
              "      <th>Pressure3pm</th>\n",
              "      <th>Cloud9am</th>\n",
              "      <th>Cloud3pm</th>\n",
              "      <th>Temp9am</th>\n",
              "      <th>Temp3pm</th>\n",
              "      <th>RainToday</th>\n",
              "      <th>RainTomorrow</th>\n",
              "    </tr>\n",
              "  </thead>\n",
              "  <tbody>\n",
              "    <tr>\n",
              "      <th>0</th>\n",
              "      <td>2008-12-01</td>\n",
              "      <td>Albury</td>\n",
              "      <td>13.4</td>\n",
              "      <td>22.9</td>\n",
              "      <td>0.6</td>\n",
              "      <td>NaN</td>\n",
              "      <td>NaN</td>\n",
              "      <td>W</td>\n",
              "      <td>44.0</td>\n",
              "      <td>W</td>\n",
              "      <td>WNW</td>\n",
              "      <td>20.0</td>\n",
              "      <td>24.0</td>\n",
              "      <td>71.0</td>\n",
              "      <td>22.0</td>\n",
              "      <td>1007.7</td>\n",
              "      <td>1007.1</td>\n",
              "      <td>8.0</td>\n",
              "      <td>NaN</td>\n",
              "      <td>16.9</td>\n",
              "      <td>21.8</td>\n",
              "      <td>No</td>\n",
              "      <td>No</td>\n",
              "    </tr>\n",
              "    <tr>\n",
              "      <th>1</th>\n",
              "      <td>2008-12-02</td>\n",
              "      <td>Albury</td>\n",
              "      <td>7.4</td>\n",
              "      <td>25.1</td>\n",
              "      <td>0.0</td>\n",
              "      <td>NaN</td>\n",
              "      <td>NaN</td>\n",
              "      <td>WNW</td>\n",
              "      <td>44.0</td>\n",
              "      <td>NNW</td>\n",
              "      <td>WSW</td>\n",
              "      <td>4.0</td>\n",
              "      <td>22.0</td>\n",
              "      <td>44.0</td>\n",
              "      <td>25.0</td>\n",
              "      <td>1010.6</td>\n",
              "      <td>1007.8</td>\n",
              "      <td>NaN</td>\n",
              "      <td>NaN</td>\n",
              "      <td>17.2</td>\n",
              "      <td>24.3</td>\n",
              "      <td>No</td>\n",
              "      <td>No</td>\n",
              "    </tr>\n",
              "    <tr>\n",
              "      <th>2</th>\n",
              "      <td>2008-12-03</td>\n",
              "      <td>Albury</td>\n",
              "      <td>12.9</td>\n",
              "      <td>25.7</td>\n",
              "      <td>0.0</td>\n",
              "      <td>NaN</td>\n",
              "      <td>NaN</td>\n",
              "      <td>WSW</td>\n",
              "      <td>46.0</td>\n",
              "      <td>W</td>\n",
              "      <td>WSW</td>\n",
              "      <td>19.0</td>\n",
              "      <td>26.0</td>\n",
              "      <td>38.0</td>\n",
              "      <td>30.0</td>\n",
              "      <td>1007.6</td>\n",
              "      <td>1008.7</td>\n",
              "      <td>NaN</td>\n",
              "      <td>2.0</td>\n",
              "      <td>21.0</td>\n",
              "      <td>23.2</td>\n",
              "      <td>No</td>\n",
              "      <td>No</td>\n",
              "    </tr>\n",
              "    <tr>\n",
              "      <th>3</th>\n",
              "      <td>2008-12-04</td>\n",
              "      <td>Albury</td>\n",
              "      <td>9.2</td>\n",
              "      <td>28.0</td>\n",
              "      <td>0.0</td>\n",
              "      <td>NaN</td>\n",
              "      <td>NaN</td>\n",
              "      <td>NE</td>\n",
              "      <td>24.0</td>\n",
              "      <td>SE</td>\n",
              "      <td>E</td>\n",
              "      <td>11.0</td>\n",
              "      <td>9.0</td>\n",
              "      <td>45.0</td>\n",
              "      <td>16.0</td>\n",
              "      <td>1017.6</td>\n",
              "      <td>1012.8</td>\n",
              "      <td>NaN</td>\n",
              "      <td>NaN</td>\n",
              "      <td>18.1</td>\n",
              "      <td>26.5</td>\n",
              "      <td>No</td>\n",
              "      <td>No</td>\n",
              "    </tr>\n",
              "    <tr>\n",
              "      <th>4</th>\n",
              "      <td>2008-12-05</td>\n",
              "      <td>Albury</td>\n",
              "      <td>17.5</td>\n",
              "      <td>32.3</td>\n",
              "      <td>1.0</td>\n",
              "      <td>NaN</td>\n",
              "      <td>NaN</td>\n",
              "      <td>W</td>\n",
              "      <td>41.0</td>\n",
              "      <td>ENE</td>\n",
              "      <td>NW</td>\n",
              "      <td>7.0</td>\n",
              "      <td>20.0</td>\n",
              "      <td>82.0</td>\n",
              "      <td>33.0</td>\n",
              "      <td>1010.8</td>\n",
              "      <td>1006.0</td>\n",
              "      <td>7.0</td>\n",
              "      <td>8.0</td>\n",
              "      <td>17.8</td>\n",
              "      <td>29.7</td>\n",
              "      <td>No</td>\n",
              "      <td>No</td>\n",
              "    </tr>\n",
              "  </tbody>\n",
              "</table>\n",
              "</div>"
            ],
            "text/plain": [
              "         Date Location  MinTemp  ...  Temp3pm  RainToday  RainTomorrow\n",
              "0  2008-12-01   Albury     13.4  ...     21.8         No            No\n",
              "1  2008-12-02   Albury      7.4  ...     24.3         No            No\n",
              "2  2008-12-03   Albury     12.9  ...     23.2         No            No\n",
              "3  2008-12-04   Albury      9.2  ...     26.5         No            No\n",
              "4  2008-12-05   Albury     17.5  ...     29.7         No            No\n",
              "\n",
              "[5 rows x 23 columns]"
            ]
          },
          "metadata": {},
          "execution_count": 4
        }
      ]
    },
    {
      "cell_type": "markdown",
      "metadata": {
        "id": "peV7w-Ruva8E"
      },
      "source": [
        "Vamos a descartar las columnas:\n",
        "\n",
        "- Sunshine          \n",
        "- Evaporation       \n",
        "- Cloud3pm          \n",
        "- Cloud9am  \n",
        "- Location\n",
        "- Date       \n",
        "- WindGustDir\n",
        "- WindDir9am "
      ]
    },
    {
      "cell_type": "code",
      "metadata": {
        "colab": {
          "base_uri": "https://localhost:8080/",
          "height": 206
        },
        "id": "ETsN25nkvbEQ",
        "outputId": "6b2b8dfc-c908-4003-92ab-2ba7c8c5e7b4"
      },
      "source": [
        "to_drop = ['Sunshine','Evaporation','Cloud3pm','Cloud9am','Location','Date', 'WindGustDir', 'WindDir9am']\n",
        "df = df.drop(columns=to_drop)\n",
        "df.head()"
      ],
      "execution_count": null,
      "outputs": [
        {
          "output_type": "execute_result",
          "data": {
            "text/html": [
              "<div>\n",
              "<style scoped>\n",
              "    .dataframe tbody tr th:only-of-type {\n",
              "        vertical-align: middle;\n",
              "    }\n",
              "\n",
              "    .dataframe tbody tr th {\n",
              "        vertical-align: top;\n",
              "    }\n",
              "\n",
              "    .dataframe thead th {\n",
              "        text-align: right;\n",
              "    }\n",
              "</style>\n",
              "<table border=\"1\" class=\"dataframe\">\n",
              "  <thead>\n",
              "    <tr style=\"text-align: right;\">\n",
              "      <th></th>\n",
              "      <th>MinTemp</th>\n",
              "      <th>MaxTemp</th>\n",
              "      <th>Rainfall</th>\n",
              "      <th>WindGustSpeed</th>\n",
              "      <th>WindDir3pm</th>\n",
              "      <th>WindSpeed9am</th>\n",
              "      <th>WindSpeed3pm</th>\n",
              "      <th>Humidity9am</th>\n",
              "      <th>Humidity3pm</th>\n",
              "      <th>Pressure9am</th>\n",
              "      <th>Pressure3pm</th>\n",
              "      <th>Temp9am</th>\n",
              "      <th>Temp3pm</th>\n",
              "      <th>RainToday</th>\n",
              "      <th>RainTomorrow</th>\n",
              "    </tr>\n",
              "  </thead>\n",
              "  <tbody>\n",
              "    <tr>\n",
              "      <th>0</th>\n",
              "      <td>13.4</td>\n",
              "      <td>22.9</td>\n",
              "      <td>0.6</td>\n",
              "      <td>44.0</td>\n",
              "      <td>WNW</td>\n",
              "      <td>20.0</td>\n",
              "      <td>24.0</td>\n",
              "      <td>71.0</td>\n",
              "      <td>22.0</td>\n",
              "      <td>1007.7</td>\n",
              "      <td>1007.1</td>\n",
              "      <td>16.9</td>\n",
              "      <td>21.8</td>\n",
              "      <td>No</td>\n",
              "      <td>No</td>\n",
              "    </tr>\n",
              "    <tr>\n",
              "      <th>1</th>\n",
              "      <td>7.4</td>\n",
              "      <td>25.1</td>\n",
              "      <td>0.0</td>\n",
              "      <td>44.0</td>\n",
              "      <td>WSW</td>\n",
              "      <td>4.0</td>\n",
              "      <td>22.0</td>\n",
              "      <td>44.0</td>\n",
              "      <td>25.0</td>\n",
              "      <td>1010.6</td>\n",
              "      <td>1007.8</td>\n",
              "      <td>17.2</td>\n",
              "      <td>24.3</td>\n",
              "      <td>No</td>\n",
              "      <td>No</td>\n",
              "    </tr>\n",
              "    <tr>\n",
              "      <th>2</th>\n",
              "      <td>12.9</td>\n",
              "      <td>25.7</td>\n",
              "      <td>0.0</td>\n",
              "      <td>46.0</td>\n",
              "      <td>WSW</td>\n",
              "      <td>19.0</td>\n",
              "      <td>26.0</td>\n",
              "      <td>38.0</td>\n",
              "      <td>30.0</td>\n",
              "      <td>1007.6</td>\n",
              "      <td>1008.7</td>\n",
              "      <td>21.0</td>\n",
              "      <td>23.2</td>\n",
              "      <td>No</td>\n",
              "      <td>No</td>\n",
              "    </tr>\n",
              "    <tr>\n",
              "      <th>3</th>\n",
              "      <td>9.2</td>\n",
              "      <td>28.0</td>\n",
              "      <td>0.0</td>\n",
              "      <td>24.0</td>\n",
              "      <td>E</td>\n",
              "      <td>11.0</td>\n",
              "      <td>9.0</td>\n",
              "      <td>45.0</td>\n",
              "      <td>16.0</td>\n",
              "      <td>1017.6</td>\n",
              "      <td>1012.8</td>\n",
              "      <td>18.1</td>\n",
              "      <td>26.5</td>\n",
              "      <td>No</td>\n",
              "      <td>No</td>\n",
              "    </tr>\n",
              "    <tr>\n",
              "      <th>4</th>\n",
              "      <td>17.5</td>\n",
              "      <td>32.3</td>\n",
              "      <td>1.0</td>\n",
              "      <td>41.0</td>\n",
              "      <td>NW</td>\n",
              "      <td>7.0</td>\n",
              "      <td>20.0</td>\n",
              "      <td>82.0</td>\n",
              "      <td>33.0</td>\n",
              "      <td>1010.8</td>\n",
              "      <td>1006.0</td>\n",
              "      <td>17.8</td>\n",
              "      <td>29.7</td>\n",
              "      <td>No</td>\n",
              "      <td>No</td>\n",
              "    </tr>\n",
              "  </tbody>\n",
              "</table>\n",
              "</div>"
            ],
            "text/plain": [
              "   MinTemp  MaxTemp  Rainfall  ...  Temp3pm RainToday  RainTomorrow\n",
              "0     13.4     22.9       0.6  ...     21.8        No            No\n",
              "1      7.4     25.1       0.0  ...     24.3        No            No\n",
              "2     12.9     25.7       0.0  ...     23.2        No            No\n",
              "3      9.2     28.0       0.0  ...     26.5        No            No\n",
              "4     17.5     32.3       1.0  ...     29.7        No            No\n",
              "\n",
              "[5 rows x 15 columns]"
            ]
          },
          "metadata": {},
          "execution_count": 5
        }
      ]
    },
    {
      "cell_type": "code",
      "metadata": {
        "colab": {
          "base_uri": "https://localhost:8080/"
        },
        "id": "Adjx6kDP0btk",
        "outputId": "39668cae-4ce2-48f9-9f72-7c585d122943"
      },
      "source": [
        "df.shape"
      ],
      "execution_count": null,
      "outputs": [
        {
          "output_type": "execute_result",
          "data": {
            "text/plain": [
              "(145460, 15)"
            ]
          },
          "metadata": {},
          "execution_count": 6
        }
      ]
    },
    {
      "cell_type": "markdown",
      "metadata": {
        "id": "_NfAg7W5y8sZ"
      },
      "source": [
        "Descartar todas las filas que tengan nulos:"
      ]
    },
    {
      "cell_type": "code",
      "metadata": {
        "id": "kM48U2kVy6gU"
      },
      "source": [
        "df = df.dropna()"
      ],
      "execution_count": null,
      "outputs": []
    },
    {
      "cell_type": "code",
      "metadata": {
        "colab": {
          "base_uri": "https://localhost:8080/"
        },
        "id": "eG4NRJq60dPh",
        "outputId": "fc40b148-922c-4b1b-fe73-d0859967c9df"
      },
      "source": [
        "df.shape"
      ],
      "execution_count": null,
      "outputs": [
        {
          "output_type": "execute_result",
          "data": {
            "text/plain": [
              "(119016, 15)"
            ]
          },
          "metadata": {},
          "execution_count": 8
        }
      ]
    },
    {
      "cell_type": "markdown",
      "metadata": {
        "id": "wuCbQHIx0Cto"
      },
      "source": [
        "Separamos en X e y. Nuestro objetivo es predecir si va a llover mañana."
      ]
    },
    {
      "cell_type": "code",
      "metadata": {
        "id": "cEy2cO030HOP"
      },
      "source": [
        "X = df.drop(\"RainTomorrow\", axis=1).copy()\n",
        "y = df.RainTomorrow.copy()"
      ],
      "execution_count": null,
      "outputs": []
    },
    {
      "cell_type": "markdown",
      "metadata": {
        "id": "pI4FcCgk0MVP"
      },
      "source": [
        "Aplicamos train test split. El set de test tendrá un 20% de los datos con un random state de 42 y stratify."
      ]
    },
    {
      "cell_type": "code",
      "metadata": {
        "id": "1f5sMDvu0gmD"
      },
      "source": [
        "from sklearn.model_selection import train_test_split"
      ],
      "execution_count": null,
      "outputs": []
    },
    {
      "cell_type": "code",
      "metadata": {
        "id": "RLSgIp0V0gpI"
      },
      "source": [
        "X_train, X_test, y_train, y_test = train_test_split(X, y, test_size=0.2, random_state=42, stratify=y)"
      ],
      "execution_count": null,
      "outputs": []
    },
    {
      "cell_type": "markdown",
      "metadata": {
        "id": "7caaR3hmzgM3"
      },
      "source": [
        "Aplicar one hot encoder a las variables categóricas.\n",
        "\n",
        "Recuerden hacer fit en train y luego en test solo transform."
      ]
    },
    {
      "cell_type": "code",
      "metadata": {
        "id": "pR0ti_CKzGe6"
      },
      "source": [
        "from sklearn.preprocessing import OneHotEncoder\n",
        "\n",
        "ohe = OneHotEncoder(sparse=False).fit(X_train[[\"WindDir3pm\", \"RainToday\"]])\n",
        "\n",
        "# Train\n",
        "\n",
        "encoded = ohe.transform(X_train[[\"WindDir3pm\", \"RainToday\"]])\n",
        "encoded_df = pd.DataFrame(columns=ohe.get_feature_names(), data= encoded, index=X_train.index)\n",
        "\n",
        "X_train = pd.concat([X_train, encoded_df],  axis='columns')\n",
        "\n",
        "# Test\n",
        "\n",
        "encoded_test = ohe.transform(X_test[[\"WindDir3pm\", \"RainToday\"]])\n",
        "encoded_test_df = pd.DataFrame(columns=ohe.get_feature_names(), data= encoded_test, index=X_test.index)\n",
        "\n",
        "X_test = pd.concat([X_test, encoded_test_df],  axis='columns')\n",
        "\n"
      ],
      "execution_count": null,
      "outputs": []
    },
    {
      "cell_type": "markdown",
      "metadata": {
        "id": "cAn60UY836E3"
      },
      "source": [
        "Dropear las columnas originales:"
      ]
    },
    {
      "cell_type": "code",
      "metadata": {
        "id": "psxJ2f5j3yyE"
      },
      "source": [
        "X_train = X_train.drop([\"WindDir3pm\", \"RainToday\"], axis=1)\n",
        "X_test = X_test.drop([\"WindDir3pm\", \"RainToday\"], axis=1)"
      ],
      "execution_count": null,
      "outputs": []
    },
    {
      "cell_type": "markdown",
      "metadata": {
        "id": "mwLP3oWz4O_X"
      },
      "source": [
        "Llevar el target a una variable numérica:\n",
        "\n",
        "- 1 si va a llover mañana\n",
        "- 0 si no va a llover mañana"
      ]
    },
    {
      "cell_type": "code",
      "metadata": {
        "id": "dGaynYDy4FQm"
      },
      "source": [
        "y_train = y_train.map({'Yes':1,'No':0})\n",
        "y_test = y_test.map({'Yes':1,'No':0})"
      ],
      "execution_count": null,
      "outputs": []
    },
    {
      "cell_type": "markdown",
      "metadata": {
        "id": "U2BxhFGD4owN"
      },
      "source": [
        "Entrenar un arbol de decision con:\n",
        "- max_depth=10\n",
        "- random_state=0\n",
        "\n",
        "y obtener el classification report para train y test."
      ]
    },
    {
      "cell_type": "code",
      "metadata": {
        "colab": {
          "base_uri": "https://localhost:8080/"
        },
        "id": "B38wQkmd5cvQ",
        "outputId": "c1df58eb-ecb1-4c07-8080-d2c5dcf20d40"
      },
      "source": [
        "from sklearn.tree import DecisionTreeClassifier\n",
        "\n",
        "clf = DecisionTreeClassifier(max_depth=10, random_state=0).fit(X_train, y_train)\n",
        "train_pred = clf.predict(X_train)\n",
        "test_pred = clf.predict(X_test)\n",
        "\n",
        "from sklearn.metrics import classification_report\n",
        "\n",
        "print(classification_report(y_train, train_pred))\n",
        "print(classification_report(y_test, test_pred))"
      ],
      "execution_count": null,
      "outputs": [
        {
          "output_type": "stream",
          "name": "stdout",
          "text": [
            "              precision    recall  f1-score   support\n",
            "\n",
            "           0       0.89      0.96      0.92     74409\n",
            "           1       0.79      0.56      0.65     20803\n",
            "\n",
            "    accuracy                           0.87     95212\n",
            "   macro avg       0.84      0.76      0.79     95212\n",
            "weighted avg       0.86      0.87      0.86     95212\n",
            "\n",
            "              precision    recall  f1-score   support\n",
            "\n",
            "           0       0.87      0.94      0.90     18603\n",
            "           1       0.70      0.49      0.58      5201\n",
            "\n",
            "    accuracy                           0.84     23804\n",
            "   macro avg       0.78      0.72      0.74     23804\n",
            "weighted avg       0.83      0.84      0.83     23804\n",
            "\n"
          ]
        }
      ]
    },
    {
      "cell_type": "markdown",
      "metadata": {
        "id": "Wddvfxu-6V4k"
      },
      "source": [
        "Ahora, usar un Bagging Classifier armado con árboles de decisión: \n",
        "https://scikit-learn.org/stable/modules/generated/sklearn.ensemble.BaggingClassifier.html\n",
        "\n",
        "Los árboles que usemos en este clasificador, deberán tener la misma profundidad máxima (max_depth) que el árbol que entrenamos recién.\n",
        "\n",
        "Además usar: \n",
        "\n",
        "- n_estimators = 200\n",
        "- n_jobs = -1 -> ¿Qué pasa si sacamos esto?\n",
        "- random_state = 0 -> En el arbol y en el BaggingClassifier"
      ]
    },
    {
      "cell_type": "code",
      "metadata": {
        "colab": {
          "base_uri": "https://localhost:8080/"
        },
        "id": "wN7aU8ut6FmM",
        "outputId": "3658b69b-6d22-409d-c2d6-870b2c79d36d"
      },
      "source": [
        "%%time\n",
        "from sklearn.ensemble import BaggingClassifier\n",
        "\n",
        "clf = BaggingClassifier(base_estimator=DecisionTreeClassifier(max_depth=10, random_state=0), n_estimators = 200, n_jobs = -1, random_state=0)\n",
        "clf.fit(X_train, y_train)\n",
        "\n",
        "y_train_pred = clf.predict(X_train)\n",
        "y_test_pred = clf.predict(X_test)\n",
        "\n",
        "print(classification_report(y_train, y_train_pred))\n",
        "print(classification_report(y_test, y_test_pred))"
      ],
      "execution_count": null,
      "outputs": [
        {
          "output_type": "stream",
          "name": "stdout",
          "text": [
            "              precision    recall  f1-score   support\n",
            "\n",
            "           0       0.89      0.97      0.93     74409\n",
            "           1       0.85      0.56      0.67     20803\n",
            "\n",
            "    accuracy                           0.88     95212\n",
            "   macro avg       0.87      0.76      0.80     95212\n",
            "weighted avg       0.88      0.88      0.87     95212\n",
            "\n",
            "              precision    recall  f1-score   support\n",
            "\n",
            "           0       0.87      0.96      0.91     18603\n",
            "           1       0.76      0.50      0.61      5201\n",
            "\n",
            "    accuracy                           0.86     23804\n",
            "   macro avg       0.82      0.73      0.76     23804\n",
            "weighted avg       0.85      0.86      0.85     23804\n",
            "\n",
            "CPU times: user 1.23 s, sys: 186 ms, total: 1.42 s\n",
            "Wall time: 1min 37s\n"
          ]
        }
      ]
    },
    {
      "cell_type": "markdown",
      "metadata": {
        "id": "HRuIFiB354t_"
      },
      "source": [
        "Ahora, probar con un RandomForestClassifier. \n",
        "\n",
        "Los hiperparámetros serán igual que los anteriores:\n",
        "\n",
        "- max_depth=10\n",
        "- n_estimators=200\n",
        "- n_jobs=-1\n",
        "- random_state=0"
      ]
    },
    {
      "cell_type": "code",
      "metadata": {
        "colab": {
          "base_uri": "https://localhost:8080/"
        },
        "id": "ZE2HuDmM5cxy",
        "outputId": "b9d9c101-4ff0-4e76-8958-a58d57f70ea4"
      },
      "source": [
        "%%time\n",
        "from sklearn.ensemble import RandomForestClassifier\n",
        "\n",
        "clf = RandomForestClassifier(max_depth=10, n_estimators = 200, n_jobs = -1, random_state=0)\n",
        "clf.fit(X_train, y_train)\n",
        "\n",
        "y_train_pred = clf.predict(X_train)\n",
        "y_test_pred = clf.predict(X_test)\n",
        "\n",
        "print(classification_report(y_train, y_train_pred))\n",
        "print(classification_report(y_test, y_test_pred))"
      ],
      "execution_count": null,
      "outputs": [
        {
          "output_type": "stream",
          "name": "stdout",
          "text": [
            "              precision    recall  f1-score   support\n",
            "\n",
            "           0       0.87      0.97      0.92     74409\n",
            "           1       0.84      0.49      0.62     20803\n",
            "\n",
            "    accuracy                           0.87     95212\n",
            "   macro avg       0.85      0.73      0.77     95212\n",
            "weighted avg       0.86      0.87      0.85     95212\n",
            "\n",
            "              precision    recall  f1-score   support\n",
            "\n",
            "           0       0.86      0.96      0.91     18603\n",
            "           1       0.78      0.46      0.58      5201\n",
            "\n",
            "    accuracy                           0.85     23804\n",
            "   macro avg       0.82      0.71      0.74     23804\n",
            "weighted avg       0.85      0.85      0.84     23804\n",
            "\n",
            "CPU times: user 38.9 s, sys: 188 ms, total: 39.1 s\n",
            "Wall time: 20.3 s\n"
          ]
        }
      ]
    },
    {
      "cell_type": "markdown",
      "metadata": {
        "id": "iVRvC0Rs98oz"
      },
      "source": [
        "Ahora, en el random forest, imprimir la importancia de las features:"
      ]
    },
    {
      "cell_type": "code",
      "metadata": {
        "colab": {
          "base_uri": "https://localhost:8080/"
        },
        "id": "aYGP-ibZ5c0z",
        "outputId": "244bd8e9-c8ef-4daa-f3fc-397354eb0beb"
      },
      "source": [
        "clf.feature_importances_"
      ],
      "execution_count": null,
      "outputs": [
        {
          "output_type": "execute_result",
          "data": {
            "text/plain": [
              "array([0.02881054, 0.02850598, 0.09102755, 0.06873099, 0.01320222,\n",
              "       0.01649553, 0.0752408 , 0.36632465, 0.05386588, 0.07170833,\n",
              "       0.02159009, 0.04216529, 0.00063554, 0.00066353, 0.00059856,\n",
              "       0.00303354, 0.00157787, 0.00178885, 0.00224139, 0.0018103 ,\n",
              "       0.00123713, 0.00080913, 0.00097969, 0.00115743, 0.00114065,\n",
              "       0.00120665, 0.00156089, 0.00092983, 0.04669038, 0.0542708 ])"
            ]
          },
          "metadata": {},
          "execution_count": 18
        }
      ]
    },
    {
      "cell_type": "code",
      "metadata": {
        "id": "p0Q2MklH-3K5"
      },
      "source": [
        "fi = pd.DataFrame(columns=[\"FEATURE\", \"IMPORTANCE\"])\n",
        "fi[\"FEATURE\"] = X_train.columns\n",
        "fi[\"IMPORTANCE\"] = clf.feature_importances_\n",
        "fi = fi.sort_values(\"IMPORTANCE\", ascending=False)"
      ],
      "execution_count": null,
      "outputs": []
    },
    {
      "cell_type": "code",
      "metadata": {
        "colab": {
          "base_uri": "https://localhost:8080/",
          "height": 877
        },
        "id": "eKGff94uvbG4",
        "outputId": "fa540595-f710-46a1-babc-718ce91e0c13"
      },
      "source": [
        "plt.figure(figsize=(5, 15))\n",
        "sns.barplot(y=fi.FEATURE, x=fi.IMPORTANCE)\n",
        "plt.show()"
      ],
      "execution_count": null,
      "outputs": [
        {
          "output_type": "display_data",
          "data": {
            "image/png": "[encoded data removed]",
            "text/plain": [
              "<Figure size 360x1080 with 1 Axes>"
            ]
          },
          "metadata": {
            "needs_background": "light"
          }
        }
      ]
    },
    {
      "cell_type": "markdown",
      "metadata": {
        "id": "cELEcpTsAIm5"
      },
      "source": [
        "Ahora, aplicar random forest en su proyecto del primer sprint.\n",
        "\n",
        "Buscar los mejores hiperparámetros con grid search y finalmente imprimir el feature importance de las variables que utilizaron para entrenar."
      ]
    },
    {
      "cell_type": "markdown",
      "metadata": {
        "id": "yCNVAe-UBQkB"
      },
      "source": [
        "# Boosting\n",
        "\n",
        "Ahora, vamos a trabajar sobre los mismos datos que ya pre-procesamos pero vamos a entrenar modelos de boosting.\n",
        "\n",
        "Arrancamos por Adaboost.\n",
        "\n",
        "### Adaboost \n",
        "\n",
        "https://scikit-learn.org/stable/modules/generated/sklearn.ensemble.AdaBoostClassifier.html\n",
        "\n",
        "En general, en Adaboost se utilizan como estimadores \"débiles\", árboles de decision con max_depth = 1.\n",
        "\n",
        "Vamos a entrenar Adaboost utilizando:\n",
        "\n",
        "- n_estimators = 200\n",
        "- random_state = 0\n",
        "\n",
        "Y evaluarlo. Imprimir el classification_report de train y de test.\n",
        "\n",
        "Medir el tiempo que demora en entrenar Adaboost con %%time"
      ]
    },
    {
      "cell_type": "code",
      "metadata": {
        "id": "_P_AeqfGBZoH"
      },
      "source": [
        "from sklearn.ensemble import AdaBoostClassifier"
      ],
      "execution_count": null,
      "outputs": []
    },
    {
      "cell_type": "code",
      "metadata": {
        "id": "p5svSDoxIMdk"
      },
      "source": [
        "#COMPLETAR"
      ],
      "execution_count": 1,
      "outputs": []
    },
    {
      "cell_type": "markdown",
      "metadata": {
        "id": "zNSyVIqIIfjB"
      },
      "source": [
        "Imprimir feature importances de adaboost y graficar"
      ]
    },
    {
      "cell_type": "code",
      "metadata": {
        "id": "nCCYBcILIe8B"
      },
      "source": [
        "#COMPLETAR"
      ],
      "execution_count": null,
      "outputs": []
    },
    {
      "cell_type": "markdown",
      "metadata": {
        "id": "p5jB-oKKImf_"
      },
      "source": [
        "### XGBOOST\n",
        "\n",
        "Ahora probaremos XGBOOST: [https://xgboost.readthedocs.io/en/latest/python/index.html](https://xgboost.readthedocs.io/en/latest/python/index.html).\n",
        "\n",
        "En google colab, xgboost ya está instalado por lo que no es necesario instalarlo. Si utilizan otro entorno, probablemente tengan que instalarlo con pip."
      ]
    },
    {
      "cell_type": "code",
      "metadata": {
        "id": "PEulvLlJJXol"
      },
      "source": [
        "from xgboost import XGBClassifier"
      ],
      "execution_count": null,
      "outputs": []
    },
    {
      "cell_type": "markdown",
      "metadata": {
        "id": "CnQOIX_-JZnd"
      },
      "source": [
        "Entrenar el classifier y generar las predicciones junto al classification report.\n",
        "\n",
        "Podemos explorar sus hiperparámetros en: https://xgboost.readthedocs.io/en/latest/parameter.html\n",
        "\n",
        "Utilizar como **n_estimators=200.**\n",
        "\n",
        "Midan el tiempo con %%time y lo comparemos con Adaboost"
      ]
    },
    {
      "cell_type": "code",
      "metadata": {
        "id": "JfQOdvT9IlMm"
      },
      "source": [
        "#COMPLETAR"
      ],
      "execution_count": null,
      "outputs": []
    },
    {
      "cell_type": "markdown",
      "metadata": {
        "id": "9d_Q1y3vKmts"
      },
      "source": [
        "En xgboost también podemos acceder a feature_importances. Graficar:"
      ]
    },
    {
      "cell_type": "code",
      "metadata": {
        "id": "A5wogMu8KTJy"
      },
      "source": [
        "#COMPLETAR"
      ],
      "execution_count": null,
      "outputs": []
    },
    {
      "cell_type": "markdown",
      "metadata": {
        "id": "Q344LUFKLYZ-"
      },
      "source": [
        "### LIGHT GBM\n",
        "\n",
        "Otra librería que implementa un modelo de boosting muy eficiente es LightGBM: https://lightgbm.readthedocs.io/en/latest/pythonapi/lightgbm.LGBMClassifier.html\n",
        "\n",
        "Vamos a probarla en nuestro conjunto de datos.\n",
        "\n",
        "Entrenar, medir métricas y graficar feature importance.\n",
        "\n",
        "Recuerden medir el tiempo que tarda en entrenar para comparar con los anteriores.\n",
        "\n",
        "Vamos a utilizar 200 como n_estimators nuevamente, para comparar los resultados de todos los modelos."
      ]
    },
    {
      "cell_type": "code",
      "metadata": {
        "id": "da_mctNpKzkA"
      },
      "source": [
        "from lightgbm import LGBMClassifier"
      ],
      "execution_count": null,
      "outputs": []
    },
    {
      "cell_type": "code",
      "metadata": {
        "id": "VDesomrOPV0-"
      },
      "source": [
        "#COMPLETAR"
      ],
      "execution_count": null,
      "outputs": []
    },
    {
      "cell_type": "markdown",
      "metadata": {
        "id": "0FHYVcyWP4Z1"
      },
      "source": [
        "### Stacking\n",
        "\n",
        "Finalmente, armaremos un stacking de modelos utilizando sklearn.\n",
        "\n",
        "https://scikit-learn.org/stable/modules/generated/sklearn.ensemble.StackingClassifier.html\n",
        "\n",
        "En este caso, los estimadores los tenemos que pasar en el parámetro \"estimators\" y el final estimator, en \"final_estimator\".\n",
        "\n",
        "Utilizaremos los estimadores:\n",
        "\n",
        "- random forest: RandomForestClassifier(max_depth=10, n_estimators = 200, n_jobs = -1, random_state=0)\n",
        "\n",
        "- xgbooost: XGBClassifier(n_estimators=200)\n",
        "\n",
        "- Ligth gbm: LGBMClassifier(n_estimators=200)\n",
        "\n",
        "y como final estimator un DecisionTreeClassifier(max_depth=5)\n",
        "\n",
        "Armar el modelo de stacking:\n"
      ]
    },
    {
      "cell_type": "code",
      "metadata": {
        "id": "YSGh_d2JP2PO"
      },
      "source": [
        "from sklearn.ensemble import StackingClassifier\n",
        "\n",
        "estimators = [#COMPLETAR]\n",
        "\n",
        "clf = #COMPLETAR\n"
      ],
      "execution_count": null,
      "outputs": []
    },
    {
      "cell_type": "markdown",
      "metadata": {
        "id": "BGs3NTX5RRQ1"
      },
      "source": [
        "Entrenarlo e imprimir classification report (recuerden medir el tiempo).\n",
        "\n",
        "Va a tardar unos minutos."
      ]
    },
    {
      "cell_type": "code",
      "metadata": {
        "id": "gCabdT41RBY1"
      },
      "source": [
        "#COMPLETAR"
      ],
      "execution_count": 2,
      "outputs": []
    }
  ]
}