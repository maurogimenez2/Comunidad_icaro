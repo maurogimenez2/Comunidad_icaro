{
  "cells": [
    {
      "cell_type": "markdown",
      "metadata": {
        "id": "uGqd4WF7RgSB"
      },
      "source": [
        "# Variables categóricas\n",
        "\n",
        "En esta clase vamos a ver como utilizar pandas y scikit learn para transformar variables categóricas en algo que los modelos de machine learning puedan entender.\n",
        "\n",
        "Vamos a utilizar un dataset armado a mano y bastante simple para aprender a utilizar scikit learn y pandas.\n",
        "\n",
        "Luego, tendrán que aplicar lo aprendido sobre el dataset de la clase pasada (ecommerce)."
      ]
    },
    {
      "cell_type": "code",
      "execution_count": 1,
      "metadata": {
        "colab": {
          "base_uri": "https://localhost:8080/",
          "height": 528
        },
        "id": "Sg6aAB0oHSCh",
        "outputId": "75f5a410-8848-4c62-e1e3-4231ad5b56d8"
      },
      "outputs": [],
      "source": [
        "#from google.colab import drive # La usamos para montar nuestra unidad de Google Drive\n",
        "#drive.mount('/content/drive') # Montamos nuestra unidad de Google Drive"
      ]
    },
    {
      "cell_type": "code",
      "execution_count": 2,
      "metadata": {
        "id": "DMZlzvmGTumU"
      },
      "outputs": [],
      "source": [
        "import pandas as pd\n",
        "import numpy as np\n",
        "import matplotlib.pyplot as plt\n",
        "import seaborn as sns"
      ]
    },
    {
      "cell_type": "code",
      "execution_count": 3,
      "metadata": {
        "id": "npsckmOZT_-a"
      },
      "outputs": [],
      "source": [
        "data = {'Temperature': ['Hot', 'Cold', 'Very Hot', 'Warm', 'Hot', 'Warm', 'Warm', 'Hot', 'Hot', 'Cold'],\n",
        "        'Color': ['Red', 'Yellow','Blue', 'Blue', 'Red', 'Yellow', 'Red', 'Yellow', 'Yellow', 'Blue']}\n",
        "\n",
        "df = pd.DataFrame(data)"
      ]
    },
    {
      "cell_type": "code",
      "execution_count": 4,
      "metadata": {
        "colab": {
          "base_uri": "https://localhost:8080/",
          "height": 359
        },
        "id": "OdevnbQEVLEE",
        "outputId": "3f37f67b-0679-4730-99c9-a467efe4654e"
      },
      "outputs": [
        {
          "data": {
            "text/html": [
              "<div>\n",
              "<style scoped>\n",
              "    .dataframe tbody tr th:only-of-type {\n",
              "        vertical-align: middle;\n",
              "    }\n",
              "\n",
              "    .dataframe tbody tr th {\n",
              "        vertical-align: top;\n",
              "    }\n",
              "\n",
              "    .dataframe thead th {\n",
              "        text-align: right;\n",
              "    }\n",
              "</style>\n",
              "<table border=\"1\" class=\"dataframe\">\n",
              "  <thead>\n",
              "    <tr style=\"text-align: right;\">\n",
              "      <th></th>\n",
              "      <th>Temperature</th>\n",
              "      <th>Color</th>\n",
              "    </tr>\n",
              "  </thead>\n",
              "  <tbody>\n",
              "    <tr>\n",
              "      <th>0</th>\n",
              "      <td>Hot</td>\n",
              "      <td>Red</td>\n",
              "    </tr>\n",
              "    <tr>\n",
              "      <th>1</th>\n",
              "      <td>Cold</td>\n",
              "      <td>Yellow</td>\n",
              "    </tr>\n",
              "    <tr>\n",
              "      <th>2</th>\n",
              "      <td>Very Hot</td>\n",
              "      <td>Blue</td>\n",
              "    </tr>\n",
              "    <tr>\n",
              "      <th>3</th>\n",
              "      <td>Warm</td>\n",
              "      <td>Blue</td>\n",
              "    </tr>\n",
              "    <tr>\n",
              "      <th>4</th>\n",
              "      <td>Hot</td>\n",
              "      <td>Red</td>\n",
              "    </tr>\n",
              "    <tr>\n",
              "      <th>5</th>\n",
              "      <td>Warm</td>\n",
              "      <td>Yellow</td>\n",
              "    </tr>\n",
              "    <tr>\n",
              "      <th>6</th>\n",
              "      <td>Warm</td>\n",
              "      <td>Red</td>\n",
              "    </tr>\n",
              "    <tr>\n",
              "      <th>7</th>\n",
              "      <td>Hot</td>\n",
              "      <td>Yellow</td>\n",
              "    </tr>\n",
              "    <tr>\n",
              "      <th>8</th>\n",
              "      <td>Hot</td>\n",
              "      <td>Yellow</td>\n",
              "    </tr>\n",
              "    <tr>\n",
              "      <th>9</th>\n",
              "      <td>Cold</td>\n",
              "      <td>Blue</td>\n",
              "    </tr>\n",
              "  </tbody>\n",
              "</table>\n",
              "</div>"
            ],
            "text/plain": [
              "  Temperature   Color\n",
              "0         Hot     Red\n",
              "1        Cold  Yellow\n",
              "2    Very Hot    Blue\n",
              "3        Warm    Blue\n",
              "4         Hot     Red\n",
              "5        Warm  Yellow\n",
              "6        Warm     Red\n",
              "7         Hot  Yellow\n",
              "8         Hot  Yellow\n",
              "9        Cold    Blue"
            ]
          },
          "execution_count": 4,
          "metadata": {},
          "output_type": "execute_result"
        }
      ],
      "source": [
        "df"
      ]
    },
    {
      "cell_type": "markdown",
      "metadata": {
        "id": "qRwUif9lUDm-"
      },
      "source": [
        "## One hot encoding\n",
        "\n",
        "En este simple caso, vemos que la variable Temperature puede ser considerada ordinal porque la temperatura va desde cold hasta very hot.\n",
        "\n",
        "Por otro lado, en la variable color no vemos ningún orden, no podemos considerarla ordinal.\n",
        "\n",
        "Vamos a aplicar one hot encoding en la variable color.\n",
        "\n",
        "Esto se puede hacer con pandas o con el OneHotEncoder de scikit learn.\n",
        "\n",
        "Comencemos con pandas.\n",
        "\n",
        "Pandas nos brinda la funcion get_dummies():"
      ]
    },
    {
      "cell_type": "code",
      "execution_count": 5,
      "metadata": {
        "colab": {
          "base_uri": "https://localhost:8080/",
          "height": 359
        },
        "id": "WVmcJRWwUFHf",
        "outputId": "c0ddae99-c552-470e-d1db-3bb1fa686871"
      },
      "outputs": [
        {
          "data": {
            "text/html": [
              "<div>\n",
              "<style scoped>\n",
              "    .dataframe tbody tr th:only-of-type {\n",
              "        vertical-align: middle;\n",
              "    }\n",
              "\n",
              "    .dataframe tbody tr th {\n",
              "        vertical-align: top;\n",
              "    }\n",
              "\n",
              "    .dataframe thead th {\n",
              "        text-align: right;\n",
              "    }\n",
              "</style>\n",
              "<table border=\"1\" class=\"dataframe\">\n",
              "  <thead>\n",
              "    <tr style=\"text-align: right;\">\n",
              "      <th></th>\n",
              "      <th>Blue</th>\n",
              "      <th>Red</th>\n",
              "      <th>Yellow</th>\n",
              "    </tr>\n",
              "  </thead>\n",
              "  <tbody>\n",
              "    <tr>\n",
              "      <th>0</th>\n",
              "      <td>0</td>\n",
              "      <td>1</td>\n",
              "      <td>0</td>\n",
              "    </tr>\n",
              "    <tr>\n",
              "      <th>1</th>\n",
              "      <td>0</td>\n",
              "      <td>0</td>\n",
              "      <td>1</td>\n",
              "    </tr>\n",
              "    <tr>\n",
              "      <th>2</th>\n",
              "      <td>1</td>\n",
              "      <td>0</td>\n",
              "      <td>0</td>\n",
              "    </tr>\n",
              "    <tr>\n",
              "      <th>3</th>\n",
              "      <td>1</td>\n",
              "      <td>0</td>\n",
              "      <td>0</td>\n",
              "    </tr>\n",
              "    <tr>\n",
              "      <th>4</th>\n",
              "      <td>0</td>\n",
              "      <td>1</td>\n",
              "      <td>0</td>\n",
              "    </tr>\n",
              "    <tr>\n",
              "      <th>5</th>\n",
              "      <td>0</td>\n",
              "      <td>0</td>\n",
              "      <td>1</td>\n",
              "    </tr>\n",
              "    <tr>\n",
              "      <th>6</th>\n",
              "      <td>0</td>\n",
              "      <td>1</td>\n",
              "      <td>0</td>\n",
              "    </tr>\n",
              "    <tr>\n",
              "      <th>7</th>\n",
              "      <td>0</td>\n",
              "      <td>0</td>\n",
              "      <td>1</td>\n",
              "    </tr>\n",
              "    <tr>\n",
              "      <th>8</th>\n",
              "      <td>0</td>\n",
              "      <td>0</td>\n",
              "      <td>1</td>\n",
              "    </tr>\n",
              "    <tr>\n",
              "      <th>9</th>\n",
              "      <td>1</td>\n",
              "      <td>0</td>\n",
              "      <td>0</td>\n",
              "    </tr>\n",
              "  </tbody>\n",
              "</table>\n",
              "</div>"
            ],
            "text/plain": [
              "   Blue  Red  Yellow\n",
              "0     0    1       0\n",
              "1     0    0       1\n",
              "2     1    0       0\n",
              "3     1    0       0\n",
              "4     0    1       0\n",
              "5     0    0       1\n",
              "6     0    1       0\n",
              "7     0    0       1\n",
              "8     0    0       1\n",
              "9     1    0       0"
            ]
          },
          "execution_count": 5,
          "metadata": {},
          "output_type": "execute_result"
        }
      ],
      "source": [
        "pd.get_dummies(df.Color)"
      ]
    },
    {
      "cell_type": "markdown",
      "metadata": {
        "id": "pYFKc2jMVsjc"
      },
      "source": [
        "¿ Cómo agregamos estas columnas a nuestro dataset ?\n",
        "\n",
        "Podemos concatenar horizontalmente este dataset de variables dummies a el original:\n",
        "\n",
        "La próxima clase veremos en más detalle los métodos concat, merge, etcétera."
      ]
    },
    {
      "cell_type": "code",
      "execution_count": 6,
      "metadata": {
        "colab": {
          "base_uri": "https://localhost:8080/",
          "height": 359
        },
        "id": "I9LYRwWsVlxh",
        "outputId": "a2a04725-de75-4947-b0c4-924750d2642d"
      },
      "outputs": [
        {
          "data": {
            "text/html": [
              "<div>\n",
              "<style scoped>\n",
              "    .dataframe tbody tr th:only-of-type {\n",
              "        vertical-align: middle;\n",
              "    }\n",
              "\n",
              "    .dataframe tbody tr th {\n",
              "        vertical-align: top;\n",
              "    }\n",
              "\n",
              "    .dataframe thead th {\n",
              "        text-align: right;\n",
              "    }\n",
              "</style>\n",
              "<table border=\"1\" class=\"dataframe\">\n",
              "  <thead>\n",
              "    <tr style=\"text-align: right;\">\n",
              "      <th></th>\n",
              "      <th>Temperature</th>\n",
              "      <th>Color</th>\n",
              "      <th>Blue</th>\n",
              "      <th>Red</th>\n",
              "      <th>Yellow</th>\n",
              "    </tr>\n",
              "  </thead>\n",
              "  <tbody>\n",
              "    <tr>\n",
              "      <th>0</th>\n",
              "      <td>Hot</td>\n",
              "      <td>Red</td>\n",
              "      <td>0</td>\n",
              "      <td>1</td>\n",
              "      <td>0</td>\n",
              "    </tr>\n",
              "    <tr>\n",
              "      <th>1</th>\n",
              "      <td>Cold</td>\n",
              "      <td>Yellow</td>\n",
              "      <td>0</td>\n",
              "      <td>0</td>\n",
              "      <td>1</td>\n",
              "    </tr>\n",
              "    <tr>\n",
              "      <th>2</th>\n",
              "      <td>Very Hot</td>\n",
              "      <td>Blue</td>\n",
              "      <td>1</td>\n",
              "      <td>0</td>\n",
              "      <td>0</td>\n",
              "    </tr>\n",
              "    <tr>\n",
              "      <th>3</th>\n",
              "      <td>Warm</td>\n",
              "      <td>Blue</td>\n",
              "      <td>1</td>\n",
              "      <td>0</td>\n",
              "      <td>0</td>\n",
              "    </tr>\n",
              "    <tr>\n",
              "      <th>4</th>\n",
              "      <td>Hot</td>\n",
              "      <td>Red</td>\n",
              "      <td>0</td>\n",
              "      <td>1</td>\n",
              "      <td>0</td>\n",
              "    </tr>\n",
              "    <tr>\n",
              "      <th>5</th>\n",
              "      <td>Warm</td>\n",
              "      <td>Yellow</td>\n",
              "      <td>0</td>\n",
              "      <td>0</td>\n",
              "      <td>1</td>\n",
              "    </tr>\n",
              "    <tr>\n",
              "      <th>6</th>\n",
              "      <td>Warm</td>\n",
              "      <td>Red</td>\n",
              "      <td>0</td>\n",
              "      <td>1</td>\n",
              "      <td>0</td>\n",
              "    </tr>\n",
              "    <tr>\n",
              "      <th>7</th>\n",
              "      <td>Hot</td>\n",
              "      <td>Yellow</td>\n",
              "      <td>0</td>\n",
              "      <td>0</td>\n",
              "      <td>1</td>\n",
              "    </tr>\n",
              "    <tr>\n",
              "      <th>8</th>\n",
              "      <td>Hot</td>\n",
              "      <td>Yellow</td>\n",
              "      <td>0</td>\n",
              "      <td>0</td>\n",
              "      <td>1</td>\n",
              "    </tr>\n",
              "    <tr>\n",
              "      <th>9</th>\n",
              "      <td>Cold</td>\n",
              "      <td>Blue</td>\n",
              "      <td>1</td>\n",
              "      <td>0</td>\n",
              "      <td>0</td>\n",
              "    </tr>\n",
              "  </tbody>\n",
              "</table>\n",
              "</div>"
            ],
            "text/plain": [
              "  Temperature   Color  Blue  Red  Yellow\n",
              "0         Hot     Red     0    1       0\n",
              "1        Cold  Yellow     0    0       1\n",
              "2    Very Hot    Blue     1    0       0\n",
              "3        Warm    Blue     1    0       0\n",
              "4         Hot     Red     0    1       0\n",
              "5        Warm  Yellow     0    0       1\n",
              "6        Warm     Red     0    1       0\n",
              "7         Hot  Yellow     0    0       1\n",
              "8         Hot  Yellow     0    0       1\n",
              "9        Cold    Blue     1    0       0"
            ]
          },
          "execution_count": 6,
          "metadata": {},
          "output_type": "execute_result"
        }
      ],
      "source": [
        "dummies = pd.get_dummies(df.Color) # Obtenemos dummies\n",
        "df_encoded = pd.concat([df, dummies], axis=1) # Concatenamos horizontalmente con axis=1\n",
        "\n",
        "df_encoded"
      ]
    },
    {
      "cell_type": "markdown",
      "metadata": {
        "id": "Em2nedKXWApk"
      },
      "source": [
        "Ahora podemos eliminar la columna original"
      ]
    },
    {
      "cell_type": "code",
      "execution_count": 7,
      "metadata": {
        "id": "IeYQiasfV_g1"
      },
      "outputs": [],
      "source": [
        "df_encoded = df_encoded.drop('Color', axis=1)"
      ]
    },
    {
      "cell_type": "code",
      "execution_count": 8,
      "metadata": {
        "colab": {
          "base_uri": "https://localhost:8080/",
          "height": 359
        },
        "id": "ZTeC8zkyWEQG",
        "outputId": "92923fc6-3dee-45df-c4a4-37c1f18cb8ed"
      },
      "outputs": [
        {
          "data": {
            "text/html": [
              "<div>\n",
              "<style scoped>\n",
              "    .dataframe tbody tr th:only-of-type {\n",
              "        vertical-align: middle;\n",
              "    }\n",
              "\n",
              "    .dataframe tbody tr th {\n",
              "        vertical-align: top;\n",
              "    }\n",
              "\n",
              "    .dataframe thead th {\n",
              "        text-align: right;\n",
              "    }\n",
              "</style>\n",
              "<table border=\"1\" class=\"dataframe\">\n",
              "  <thead>\n",
              "    <tr style=\"text-align: right;\">\n",
              "      <th></th>\n",
              "      <th>Temperature</th>\n",
              "      <th>Blue</th>\n",
              "      <th>Red</th>\n",
              "      <th>Yellow</th>\n",
              "    </tr>\n",
              "  </thead>\n",
              "  <tbody>\n",
              "    <tr>\n",
              "      <th>0</th>\n",
              "      <td>Hot</td>\n",
              "      <td>0</td>\n",
              "      <td>1</td>\n",
              "      <td>0</td>\n",
              "    </tr>\n",
              "    <tr>\n",
              "      <th>1</th>\n",
              "      <td>Cold</td>\n",
              "      <td>0</td>\n",
              "      <td>0</td>\n",
              "      <td>1</td>\n",
              "    </tr>\n",
              "    <tr>\n",
              "      <th>2</th>\n",
              "      <td>Very Hot</td>\n",
              "      <td>1</td>\n",
              "      <td>0</td>\n",
              "      <td>0</td>\n",
              "    </tr>\n",
              "    <tr>\n",
              "      <th>3</th>\n",
              "      <td>Warm</td>\n",
              "      <td>1</td>\n",
              "      <td>0</td>\n",
              "      <td>0</td>\n",
              "    </tr>\n",
              "    <tr>\n",
              "      <th>4</th>\n",
              "      <td>Hot</td>\n",
              "      <td>0</td>\n",
              "      <td>1</td>\n",
              "      <td>0</td>\n",
              "    </tr>\n",
              "    <tr>\n",
              "      <th>5</th>\n",
              "      <td>Warm</td>\n",
              "      <td>0</td>\n",
              "      <td>0</td>\n",
              "      <td>1</td>\n",
              "    </tr>\n",
              "    <tr>\n",
              "      <th>6</th>\n",
              "      <td>Warm</td>\n",
              "      <td>0</td>\n",
              "      <td>1</td>\n",
              "      <td>0</td>\n",
              "    </tr>\n",
              "    <tr>\n",
              "      <th>7</th>\n",
              "      <td>Hot</td>\n",
              "      <td>0</td>\n",
              "      <td>0</td>\n",
              "      <td>1</td>\n",
              "    </tr>\n",
              "    <tr>\n",
              "      <th>8</th>\n",
              "      <td>Hot</td>\n",
              "      <td>0</td>\n",
              "      <td>0</td>\n",
              "      <td>1</td>\n",
              "    </tr>\n",
              "    <tr>\n",
              "      <th>9</th>\n",
              "      <td>Cold</td>\n",
              "      <td>1</td>\n",
              "      <td>0</td>\n",
              "      <td>0</td>\n",
              "    </tr>\n",
              "  </tbody>\n",
              "</table>\n",
              "</div>"
            ],
            "text/plain": [
              "  Temperature  Blue  Red  Yellow\n",
              "0         Hot     0    1       0\n",
              "1        Cold     0    0       1\n",
              "2    Very Hot     1    0       0\n",
              "3        Warm     1    0       0\n",
              "4         Hot     0    1       0\n",
              "5        Warm     0    0       1\n",
              "6        Warm     0    1       0\n",
              "7         Hot     0    0       1\n",
              "8         Hot     0    0       1\n",
              "9        Cold     1    0       0"
            ]
          },
          "execution_count": 8,
          "metadata": {},
          "output_type": "execute_result"
        }
      ],
      "source": [
        "df_encoded"
      ]
    },
    {
      "cell_type": "markdown",
      "metadata": {
        "id": "B44n6WehYfTb"
      },
      "source": [
        "¿ Cómo hacemos lo mismo con scikit learn ?\n",
        "\n",
        "Tenemos el OneHotEncoder en el módulo de preprocessing:\n",
        "\n",
        "https://scikit-learn.org/stable/modules/generated/sklearn.preprocessing.OneHotEncoder.html#sklearn.preprocessing.OneHotEncoder\n",
        "\n"
      ]
    },
    {
      "cell_type": "code",
      "execution_count": 9,
      "metadata": {
        "id": "DsWcSDydYe5i"
      },
      "outputs": [],
      "source": [
        "from sklearn.preprocessing import OneHotEncoder"
      ]
    },
    {
      "cell_type": "code",
      "execution_count": 10,
      "metadata": {
        "id": "5cLJ-4okYtoZ"
      },
      "outputs": [],
      "source": [
        "enc = OneHotEncoder(handle_unknown='ignore', sparse=False)"
      ]
    },
    {
      "cell_type": "markdown",
      "metadata": {
        "id": "Jl9-3OXZY0SX"
      },
      "source": [
        "Averiguar en la documentación: \n",
        "- ¿ Qué significa el `handle_unknown='ignore'` ?\n",
        "- Que es \"sparse\" ?\n",
        "- Que sucede si ponemos sparse = True?\n",
        "\n",
        "Hacemos fit:"
      ]
    },
    {
      "cell_type": "code",
      "execution_count": 11,
      "metadata": {
        "colab": {
          "base_uri": "https://localhost:8080/"
        },
        "id": "2VhBGf1aYtqt",
        "outputId": "36ecf1b2-d24f-4ca8-fea5-046b45e2a68c"
      },
      "outputs": [
        {
          "data": {
            "text/plain": [
              "OneHotEncoder(handle_unknown='ignore', sparse=False)"
            ]
          },
          "execution_count": 11,
          "metadata": {},
          "output_type": "execute_result"
        }
      ],
      "source": [
        "enc.fit(df.Color.values.reshape(-1,1))"
      ]
    },
    {
      "cell_type": "markdown",
      "metadata": {
        "id": "R1PCTJgrZQGh"
      },
      "source": [
        "- ¿ Qué pasa si sacamos el .reshape(-1, 1) ?\n",
        "\n",
        "- ¿ Qué otra forma se les ocurre para solucionar el error sin usar reshape ?"
      ]
    },
    {
      "cell_type": "code",
      "execution_count": 15,
      "metadata": {
        "colab": {
          "base_uri": "https://localhost:8080/"
        },
        "id": "rdJwgyn0ZUhg",
        "outputId": "c38f3783-d3a9-4ea1-b240-e1f406748dad"
      },
      "outputs": [
        {
          "data": {
            "text/plain": [
              "array([[0., 1., 0.],\n",
              "       [0., 0., 1.],\n",
              "       [1., 0., 0.],\n",
              "       [1., 0., 0.],\n",
              "       [0., 1., 0.],\n",
              "       [0., 0., 1.],\n",
              "       [0., 1., 0.],\n",
              "       [0., 0., 1.],\n",
              "       [0., 0., 1.],\n",
              "       [1., 0., 0.]])"
            ]
          },
          "execution_count": 15,
          "metadata": {},
          "output_type": "execute_result"
        }
      ],
      "source": [
        "encoded_color = enc.transform(df.Color.values.reshape(-1, 1))\n",
        "encoded_color"
      ]
    },
    {
      "cell_type": "markdown",
      "metadata": {
        "id": "Jr5pBBvcZzh9"
      },
      "source": [
        "Ahora, como agregamos esto a nuestro dataframe?\n",
        "\n",
        "El método get_feature_names nos da los nombres de las nuevas features creadas:"
      ]
    },
    {
      "cell_type": "code",
      "execution_count": 16,
      "metadata": {
        "colab": {
          "base_uri": "https://localhost:8080/"
        },
        "id": "i9GKkD2wYts7",
        "outputId": "6ef59b3e-4676-404e-9fd6-ed3c8a22d3a5"
      },
      "outputs": [
        {
          "name": "stderr",
          "output_type": "stream",
          "text": [
            "C:\\Users\\Tmk\\AppData\\Local\\Programs\\Python\\Python39\\lib\\site-packages\\sklearn\\utils\\deprecation.py:87: FutureWarning: Function get_feature_names is deprecated; get_feature_names is deprecated in 1.0 and will be removed in 1.2. Please use get_feature_names_out instead.\n",
            "  warnings.warn(msg, category=FutureWarning)\n"
          ]
        },
        {
          "data": {
            "text/plain": [
              "array(['Color_Blue', 'Color_Red', 'Color_Yellow'], dtype=object)"
            ]
          },
          "execution_count": 16,
          "metadata": {},
          "output_type": "execute_result"
        }
      ],
      "source": [
        "enc.get_feature_names(['Color'])"
      ]
    },
    {
      "cell_type": "code",
      "execution_count": 17,
      "metadata": {
        "id": "2ep0-FUnaAGm"
      },
      "outputs": [],
      "source": [
        "encoded_color_columns = enc.get_feature_names(['Color'])"
      ]
    },
    {
      "cell_type": "code",
      "execution_count": 18,
      "metadata": {
        "colab": {
          "base_uri": "https://localhost:8080/",
          "height": 359
        },
        "id": "QC7wFsWRaAMn",
        "outputId": "4cae6291-83b0-4bd9-e952-9366cb3851ae"
      },
      "outputs": [
        {
          "data": {
            "text/html": [
              "<div>\n",
              "<style scoped>\n",
              "    .dataframe tbody tr th:only-of-type {\n",
              "        vertical-align: middle;\n",
              "    }\n",
              "\n",
              "    .dataframe tbody tr th {\n",
              "        vertical-align: top;\n",
              "    }\n",
              "\n",
              "    .dataframe thead th {\n",
              "        text-align: right;\n",
              "    }\n",
              "</style>\n",
              "<table border=\"1\" class=\"dataframe\">\n",
              "  <thead>\n",
              "    <tr style=\"text-align: right;\">\n",
              "      <th></th>\n",
              "      <th>Color_Blue</th>\n",
              "      <th>Color_Red</th>\n",
              "      <th>Color_Yellow</th>\n",
              "    </tr>\n",
              "  </thead>\n",
              "  <tbody>\n",
              "    <tr>\n",
              "      <th>0</th>\n",
              "      <td>0.0</td>\n",
              "      <td>1.0</td>\n",
              "      <td>0.0</td>\n",
              "    </tr>\n",
              "    <tr>\n",
              "      <th>1</th>\n",
              "      <td>0.0</td>\n",
              "      <td>0.0</td>\n",
              "      <td>1.0</td>\n",
              "    </tr>\n",
              "    <tr>\n",
              "      <th>2</th>\n",
              "      <td>1.0</td>\n",
              "      <td>0.0</td>\n",
              "      <td>0.0</td>\n",
              "    </tr>\n",
              "    <tr>\n",
              "      <th>3</th>\n",
              "      <td>1.0</td>\n",
              "      <td>0.0</td>\n",
              "      <td>0.0</td>\n",
              "    </tr>\n",
              "    <tr>\n",
              "      <th>4</th>\n",
              "      <td>0.0</td>\n",
              "      <td>1.0</td>\n",
              "      <td>0.0</td>\n",
              "    </tr>\n",
              "    <tr>\n",
              "      <th>5</th>\n",
              "      <td>0.0</td>\n",
              "      <td>0.0</td>\n",
              "      <td>1.0</td>\n",
              "    </tr>\n",
              "    <tr>\n",
              "      <th>6</th>\n",
              "      <td>0.0</td>\n",
              "      <td>1.0</td>\n",
              "      <td>0.0</td>\n",
              "    </tr>\n",
              "    <tr>\n",
              "      <th>7</th>\n",
              "      <td>0.0</td>\n",
              "      <td>0.0</td>\n",
              "      <td>1.0</td>\n",
              "    </tr>\n",
              "    <tr>\n",
              "      <th>8</th>\n",
              "      <td>0.0</td>\n",
              "      <td>0.0</td>\n",
              "      <td>1.0</td>\n",
              "    </tr>\n",
              "    <tr>\n",
              "      <th>9</th>\n",
              "      <td>1.0</td>\n",
              "      <td>0.0</td>\n",
              "      <td>0.0</td>\n",
              "    </tr>\n",
              "  </tbody>\n",
              "</table>\n",
              "</div>"
            ],
            "text/plain": [
              "   Color_Blue  Color_Red  Color_Yellow\n",
              "0         0.0        1.0           0.0\n",
              "1         0.0        0.0           1.0\n",
              "2         1.0        0.0           0.0\n",
              "3         1.0        0.0           0.0\n",
              "4         0.0        1.0           0.0\n",
              "5         0.0        0.0           1.0\n",
              "6         0.0        1.0           0.0\n",
              "7         0.0        0.0           1.0\n",
              "8         0.0        0.0           1.0\n",
              "9         1.0        0.0           0.0"
            ]
          },
          "execution_count": 18,
          "metadata": {},
          "output_type": "execute_result"
        }
      ],
      "source": [
        "encoded_color_df = pd.DataFrame(data=encoded_color, columns= encoded_color_columns)\n",
        "encoded_color_df"
      ]
    },
    {
      "cell_type": "markdown",
      "metadata": {
        "id": "Ks8M5eK1aTLL"
      },
      "source": [
        "Ahora, como hicimos antes, podemos concatenar y eliminar la columna original:"
      ]
    },
    {
      "cell_type": "code",
      "execution_count": 19,
      "metadata": {
        "colab": {
          "base_uri": "https://localhost:8080/",
          "height": 359
        },
        "id": "GSpECBMQaStw",
        "outputId": "a88fd198-9ba0-40b8-e770-23e77830898e"
      },
      "outputs": [
        {
          "name": "stderr",
          "output_type": "stream",
          "text": [
            "C:\\Users\\Tmk\\AppData\\Local\\Temp/ipykernel_8776/2099358544.py:1: FutureWarning: In a future version of pandas all arguments of DataFrame.drop except for the argument 'labels' will be keyword-only\n",
            "  pd.concat([df, encoded_color_df], axis=1).drop('Color', 1)\n"
          ]
        },
        {
          "data": {
            "text/html": [
              "<div>\n",
              "<style scoped>\n",
              "    .dataframe tbody tr th:only-of-type {\n",
              "        vertical-align: middle;\n",
              "    }\n",
              "\n",
              "    .dataframe tbody tr th {\n",
              "        vertical-align: top;\n",
              "    }\n",
              "\n",
              "    .dataframe thead th {\n",
              "        text-align: right;\n",
              "    }\n",
              "</style>\n",
              "<table border=\"1\" class=\"dataframe\">\n",
              "  <thead>\n",
              "    <tr style=\"text-align: right;\">\n",
              "      <th></th>\n",
              "      <th>Temperature</th>\n",
              "      <th>Color_Blue</th>\n",
              "      <th>Color_Red</th>\n",
              "      <th>Color_Yellow</th>\n",
              "    </tr>\n",
              "  </thead>\n",
              "  <tbody>\n",
              "    <tr>\n",
              "      <th>0</th>\n",
              "      <td>Hot</td>\n",
              "      <td>0.0</td>\n",
              "      <td>1.0</td>\n",
              "      <td>0.0</td>\n",
              "    </tr>\n",
              "    <tr>\n",
              "      <th>1</th>\n",
              "      <td>Cold</td>\n",
              "      <td>0.0</td>\n",
              "      <td>0.0</td>\n",
              "      <td>1.0</td>\n",
              "    </tr>\n",
              "    <tr>\n",
              "      <th>2</th>\n",
              "      <td>Very Hot</td>\n",
              "      <td>1.0</td>\n",
              "      <td>0.0</td>\n",
              "      <td>0.0</td>\n",
              "    </tr>\n",
              "    <tr>\n",
              "      <th>3</th>\n",
              "      <td>Warm</td>\n",
              "      <td>1.0</td>\n",
              "      <td>0.0</td>\n",
              "      <td>0.0</td>\n",
              "    </tr>\n",
              "    <tr>\n",
              "      <th>4</th>\n",
              "      <td>Hot</td>\n",
              "      <td>0.0</td>\n",
              "      <td>1.0</td>\n",
              "      <td>0.0</td>\n",
              "    </tr>\n",
              "    <tr>\n",
              "      <th>5</th>\n",
              "      <td>Warm</td>\n",
              "      <td>0.0</td>\n",
              "      <td>0.0</td>\n",
              "      <td>1.0</td>\n",
              "    </tr>\n",
              "    <tr>\n",
              "      <th>6</th>\n",
              "      <td>Warm</td>\n",
              "      <td>0.0</td>\n",
              "      <td>1.0</td>\n",
              "      <td>0.0</td>\n",
              "    </tr>\n",
              "    <tr>\n",
              "      <th>7</th>\n",
              "      <td>Hot</td>\n",
              "      <td>0.0</td>\n",
              "      <td>0.0</td>\n",
              "      <td>1.0</td>\n",
              "    </tr>\n",
              "    <tr>\n",
              "      <th>8</th>\n",
              "      <td>Hot</td>\n",
              "      <td>0.0</td>\n",
              "      <td>0.0</td>\n",
              "      <td>1.0</td>\n",
              "    </tr>\n",
              "    <tr>\n",
              "      <th>9</th>\n",
              "      <td>Cold</td>\n",
              "      <td>1.0</td>\n",
              "      <td>0.0</td>\n",
              "      <td>0.0</td>\n",
              "    </tr>\n",
              "  </tbody>\n",
              "</table>\n",
              "</div>"
            ],
            "text/plain": [
              "  Temperature  Color_Blue  Color_Red  Color_Yellow\n",
              "0         Hot         0.0        1.0           0.0\n",
              "1        Cold         0.0        0.0           1.0\n",
              "2    Very Hot         1.0        0.0           0.0\n",
              "3        Warm         1.0        0.0           0.0\n",
              "4         Hot         0.0        1.0           0.0\n",
              "5        Warm         0.0        0.0           1.0\n",
              "6        Warm         0.0        1.0           0.0\n",
              "7         Hot         0.0        0.0           1.0\n",
              "8         Hot         0.0        0.0           1.0\n",
              "9        Cold         1.0        0.0           0.0"
            ]
          },
          "execution_count": 19,
          "metadata": {},
          "output_type": "execute_result"
        }
      ],
      "source": [
        "pd.concat([df, encoded_color_df], axis=1).drop('Color', 1)"
      ]
    },
    {
      "cell_type": "markdown",
      "metadata": {
        "id": "_Q6NhdDPabf0"
      },
      "source": [
        "Muchas veces, en lugar de crear todas las columnas, se utiliza el atributo `drop='first'`.\n",
        "\n",
        "Esto crea todas las columnas menos la primera (en nuestro caso no se crearía color_blue), esto es porque si ninguna de las otras es 1, significa que blue es 1. Sirve para ahorrarnos una columna.\n",
        "\n",
        "En el caso de variables binarias, podemos crear una única columna utilizando:\n",
        "\n",
        "`drop='if_binary'`"
      ]
    },
    {
      "cell_type": "markdown",
      "metadata": {
        "id": "e8ix-z6mWFVY"
      },
      "source": [
        "## Label encoder\n",
        "\n",
        "Se utiliza de una forma muy similar a el OneHotEncoder de scikit learn."
      ]
    },
    {
      "cell_type": "code",
      "execution_count": 20,
      "metadata": {
        "colab": {
          "base_uri": "https://localhost:8080/",
          "height": 359
        },
        "id": "wjij-SQVWEn1",
        "outputId": "5eb02b49-208f-4fb8-91ac-63c525dfadb8"
      },
      "outputs": [
        {
          "data": {
            "text/html": [
              "<div>\n",
              "<style scoped>\n",
              "    .dataframe tbody tr th:only-of-type {\n",
              "        vertical-align: middle;\n",
              "    }\n",
              "\n",
              "    .dataframe tbody tr th {\n",
              "        vertical-align: top;\n",
              "    }\n",
              "\n",
              "    .dataframe thead th {\n",
              "        text-align: right;\n",
              "    }\n",
              "</style>\n",
              "<table border=\"1\" class=\"dataframe\">\n",
              "  <thead>\n",
              "    <tr style=\"text-align: right;\">\n",
              "      <th></th>\n",
              "      <th>Temperature</th>\n",
              "      <th>Color</th>\n",
              "      <th>Temperature_label_encoded</th>\n",
              "    </tr>\n",
              "  </thead>\n",
              "  <tbody>\n",
              "    <tr>\n",
              "      <th>0</th>\n",
              "      <td>Hot</td>\n",
              "      <td>Red</td>\n",
              "      <td>1</td>\n",
              "    </tr>\n",
              "    <tr>\n",
              "      <th>1</th>\n",
              "      <td>Cold</td>\n",
              "      <td>Yellow</td>\n",
              "      <td>0</td>\n",
              "    </tr>\n",
              "    <tr>\n",
              "      <th>2</th>\n",
              "      <td>Very Hot</td>\n",
              "      <td>Blue</td>\n",
              "      <td>2</td>\n",
              "    </tr>\n",
              "    <tr>\n",
              "      <th>3</th>\n",
              "      <td>Warm</td>\n",
              "      <td>Blue</td>\n",
              "      <td>3</td>\n",
              "    </tr>\n",
              "    <tr>\n",
              "      <th>4</th>\n",
              "      <td>Hot</td>\n",
              "      <td>Red</td>\n",
              "      <td>1</td>\n",
              "    </tr>\n",
              "    <tr>\n",
              "      <th>5</th>\n",
              "      <td>Warm</td>\n",
              "      <td>Yellow</td>\n",
              "      <td>3</td>\n",
              "    </tr>\n",
              "    <tr>\n",
              "      <th>6</th>\n",
              "      <td>Warm</td>\n",
              "      <td>Red</td>\n",
              "      <td>3</td>\n",
              "    </tr>\n",
              "    <tr>\n",
              "      <th>7</th>\n",
              "      <td>Hot</td>\n",
              "      <td>Yellow</td>\n",
              "      <td>1</td>\n",
              "    </tr>\n",
              "    <tr>\n",
              "      <th>8</th>\n",
              "      <td>Hot</td>\n",
              "      <td>Yellow</td>\n",
              "      <td>1</td>\n",
              "    </tr>\n",
              "    <tr>\n",
              "      <th>9</th>\n",
              "      <td>Cold</td>\n",
              "      <td>Blue</td>\n",
              "      <td>0</td>\n",
              "    </tr>\n",
              "  </tbody>\n",
              "</table>\n",
              "</div>"
            ],
            "text/plain": [
              "  Temperature   Color  Temperature_label_encoded\n",
              "0         Hot     Red                          1\n",
              "1        Cold  Yellow                          0\n",
              "2    Very Hot    Blue                          2\n",
              "3        Warm    Blue                          3\n",
              "4         Hot     Red                          1\n",
              "5        Warm  Yellow                          3\n",
              "6        Warm     Red                          3\n",
              "7         Hot  Yellow                          1\n",
              "8         Hot  Yellow                          1\n",
              "9        Cold    Blue                          0"
            ]
          },
          "execution_count": 20,
          "metadata": {},
          "output_type": "execute_result"
        }
      ],
      "source": [
        "from sklearn import preprocessing\n",
        "le = preprocessing.LabelEncoder()\n",
        "df['Temperature_label_encoded'] = le.fit_transform(df.Temperature)\n",
        "df"
      ]
    },
    {
      "cell_type": "markdown",
      "metadata": {
        "id": "IuYEuTYTbXTk"
      },
      "source": [
        "No se utiliza para datos ordinales ya que scikit learn le asigna un valor numérico pero sin tener en cuenta que nosotros queremos que cold sea menor que hot.\n",
        "\n",
        "Cuando queremos especificar nosotros los valores numéricos para cada valor de la variable categórica, podemos utilizar la función .replace() de pandas.\n",
        "\n",
        "Esta función recibe un diccionario en el que la key tiene que ser el valor que queremos transformar y el value el valor resultante que queremos.\n",
        "\n",
        "Veamos un ejemplo:"
      ]
    },
    {
      "cell_type": "code",
      "execution_count": 21,
      "metadata": {
        "colab": {
          "base_uri": "https://localhost:8080/"
        },
        "id": "X_RjAXRPbuwT",
        "outputId": "2bec24e1-48cb-44c4-b871-0aa0b9ab12d0"
      },
      "outputs": [
        {
          "data": {
            "text/plain": [
              "array(['Hot', 'Cold', 'Very Hot', 'Warm'], dtype=object)"
            ]
          },
          "execution_count": 21,
          "metadata": {},
          "output_type": "execute_result"
        }
      ],
      "source": [
        "df.Temperature.unique()"
      ]
    },
    {
      "cell_type": "code",
      "execution_count": 22,
      "metadata": {
        "colab": {
          "base_uri": "https://localhost:8080/"
        },
        "id": "anlCXv0_bVgt",
        "outputId": "e07ea64e-585b-4d02-a469-51264a00fa11"
      },
      "outputs": [
        {
          "data": {
            "text/plain": [
              "0    3\n",
              "1    1\n",
              "2    4\n",
              "3    2\n",
              "4    3\n",
              "5    2\n",
              "6    2\n",
              "7    3\n",
              "8    3\n",
              "9    1\n",
              "Name: Temperature, dtype: int64"
            ]
          },
          "execution_count": 22,
          "metadata": {},
          "output_type": "execute_result"
        }
      ],
      "source": [
        "mapping_dict = {\n",
        "    'Cold': 1,\n",
        "    'Warm': 2,\n",
        "    'Hot': 3,\n",
        "    'Very Hot': 4\n",
        "}\n",
        "\n",
        "temperature_ordinal = df.Temperature.replace(mapping_dict)\n",
        "temperature_ordinal"
      ]
    },
    {
      "cell_type": "code",
      "execution_count": 23,
      "metadata": {
        "colab": {
          "base_uri": "https://localhost:8080/",
          "height": 359
        },
        "id": "wjDcSwBOb5Ml",
        "outputId": "4b6beae0-fdb3-4e6b-f0a6-aa0cebcfd252"
      },
      "outputs": [
        {
          "data": {
            "text/html": [
              "<div>\n",
              "<style scoped>\n",
              "    .dataframe tbody tr th:only-of-type {\n",
              "        vertical-align: middle;\n",
              "    }\n",
              "\n",
              "    .dataframe tbody tr th {\n",
              "        vertical-align: top;\n",
              "    }\n",
              "\n",
              "    .dataframe thead th {\n",
              "        text-align: right;\n",
              "    }\n",
              "</style>\n",
              "<table border=\"1\" class=\"dataframe\">\n",
              "  <thead>\n",
              "    <tr style=\"text-align: right;\">\n",
              "      <th></th>\n",
              "      <th>Temperature</th>\n",
              "      <th>Color</th>\n",
              "      <th>Temperature_label_encoded</th>\n",
              "      <th>Temperature_ordinal</th>\n",
              "    </tr>\n",
              "  </thead>\n",
              "  <tbody>\n",
              "    <tr>\n",
              "      <th>0</th>\n",
              "      <td>Hot</td>\n",
              "      <td>Red</td>\n",
              "      <td>1</td>\n",
              "      <td>3</td>\n",
              "    </tr>\n",
              "    <tr>\n",
              "      <th>1</th>\n",
              "      <td>Cold</td>\n",
              "      <td>Yellow</td>\n",
              "      <td>0</td>\n",
              "      <td>1</td>\n",
              "    </tr>\n",
              "    <tr>\n",
              "      <th>2</th>\n",
              "      <td>Very Hot</td>\n",
              "      <td>Blue</td>\n",
              "      <td>2</td>\n",
              "      <td>4</td>\n",
              "    </tr>\n",
              "    <tr>\n",
              "      <th>3</th>\n",
              "      <td>Warm</td>\n",
              "      <td>Blue</td>\n",
              "      <td>3</td>\n",
              "      <td>2</td>\n",
              "    </tr>\n",
              "    <tr>\n",
              "      <th>4</th>\n",
              "      <td>Hot</td>\n",
              "      <td>Red</td>\n",
              "      <td>1</td>\n",
              "      <td>3</td>\n",
              "    </tr>\n",
              "    <tr>\n",
              "      <th>5</th>\n",
              "      <td>Warm</td>\n",
              "      <td>Yellow</td>\n",
              "      <td>3</td>\n",
              "      <td>2</td>\n",
              "    </tr>\n",
              "    <tr>\n",
              "      <th>6</th>\n",
              "      <td>Warm</td>\n",
              "      <td>Red</td>\n",
              "      <td>3</td>\n",
              "      <td>2</td>\n",
              "    </tr>\n",
              "    <tr>\n",
              "      <th>7</th>\n",
              "      <td>Hot</td>\n",
              "      <td>Yellow</td>\n",
              "      <td>1</td>\n",
              "      <td>3</td>\n",
              "    </tr>\n",
              "    <tr>\n",
              "      <th>8</th>\n",
              "      <td>Hot</td>\n",
              "      <td>Yellow</td>\n",
              "      <td>1</td>\n",
              "      <td>3</td>\n",
              "    </tr>\n",
              "    <tr>\n",
              "      <th>9</th>\n",
              "      <td>Cold</td>\n",
              "      <td>Blue</td>\n",
              "      <td>0</td>\n",
              "      <td>1</td>\n",
              "    </tr>\n",
              "  </tbody>\n",
              "</table>\n",
              "</div>"
            ],
            "text/plain": [
              "  Temperature   Color  Temperature_label_encoded  Temperature_ordinal\n",
              "0         Hot     Red                          1                    3\n",
              "1        Cold  Yellow                          0                    1\n",
              "2    Very Hot    Blue                          2                    4\n",
              "3        Warm    Blue                          3                    2\n",
              "4         Hot     Red                          1                    3\n",
              "5        Warm  Yellow                          3                    2\n",
              "6        Warm     Red                          3                    2\n",
              "7         Hot  Yellow                          1                    3\n",
              "8         Hot  Yellow                          1                    3\n",
              "9        Cold    Blue                          0                    1"
            ]
          },
          "execution_count": 23,
          "metadata": {},
          "output_type": "execute_result"
        }
      ],
      "source": [
        "df['Temperature_ordinal'] = temperature_ordinal\n",
        "df"
      ]
    },
    {
      "cell_type": "markdown",
      "metadata": {
        "id": "VlJlEuy0cEig"
      },
      "source": [
        "# Discretización\n",
        "\n",
        "Vamos a ver como hacerlo con sklearn. Para este caso vamos a utilizar otro dataset con una variable continua:"
      ]
    },
    {
      "cell_type": "markdown",
      "metadata": {
        "id": "mFJVX9vbgkKC"
      },
      "source": [
        "Creamos el dataset:"
      ]
    },
    {
      "cell_type": "code",
      "execution_count": 25,
      "metadata": {
        "id": "P-SKDz02glcV"
      },
      "outputs": [],
      "source": [
        "variable_continua = np.arange(200)\n",
        "df_cont = pd.DataFrame({'X': variable_continua})"
      ]
    },
    {
      "cell_type": "code",
      "execution_count": 26,
      "metadata": {
        "colab": {
          "base_uri": "https://localhost:8080/",
          "height": 204
        },
        "id": "7aXIGK31gtEN",
        "outputId": "bd5dd113-3329-4440-9159-31a27e646560"
      },
      "outputs": [
        {
          "data": {
            "text/html": [
              "<div>\n",
              "<style scoped>\n",
              "    .dataframe tbody tr th:only-of-type {\n",
              "        vertical-align: middle;\n",
              "    }\n",
              "\n",
              "    .dataframe tbody tr th {\n",
              "        vertical-align: top;\n",
              "    }\n",
              "\n",
              "    .dataframe thead th {\n",
              "        text-align: right;\n",
              "    }\n",
              "</style>\n",
              "<table border=\"1\" class=\"dataframe\">\n",
              "  <thead>\n",
              "    <tr style=\"text-align: right;\">\n",
              "      <th></th>\n",
              "      <th>X</th>\n",
              "    </tr>\n",
              "  </thead>\n",
              "  <tbody>\n",
              "    <tr>\n",
              "      <th>0</th>\n",
              "      <td>0</td>\n",
              "    </tr>\n",
              "    <tr>\n",
              "      <th>1</th>\n",
              "      <td>1</td>\n",
              "    </tr>\n",
              "    <tr>\n",
              "      <th>2</th>\n",
              "      <td>2</td>\n",
              "    </tr>\n",
              "    <tr>\n",
              "      <th>3</th>\n",
              "      <td>3</td>\n",
              "    </tr>\n",
              "    <tr>\n",
              "      <th>4</th>\n",
              "      <td>4</td>\n",
              "    </tr>\n",
              "  </tbody>\n",
              "</table>\n",
              "</div>"
            ],
            "text/plain": [
              "   X\n",
              "0  0\n",
              "1  1\n",
              "2  2\n",
              "3  3\n",
              "4  4"
            ]
          },
          "execution_count": 26,
          "metadata": {},
          "output_type": "execute_result"
        }
      ],
      "source": [
        "df_cont.head()"
      ]
    },
    {
      "cell_type": "markdown",
      "metadata": {
        "id": "u01hbNoHgvu1"
      },
      "source": [
        "Aplicamos KBinsDiscretizer.\n",
        "\n",
        "Tenemos que pasarle la cantidad de bins, encode y strategy.\n",
        "\n",
        "Averiguar que significan estos parametros:\n",
        "\n",
        "https://scikit-learn.org/stable/modules/generated/sklearn.preprocessing.KBinsDiscretizer.html"
      ]
    },
    {
      "cell_type": "code",
      "execution_count": 27,
      "metadata": {
        "id": "LL3BQnyPb_Nx"
      },
      "outputs": [],
      "source": [
        "from sklearn.preprocessing import KBinsDiscretizer\n",
        "est = KBinsDiscretizer(n_bins=5, encode='ordinal', strategy = 'uniform')"
      ]
    },
    {
      "cell_type": "markdown",
      "metadata": {
        "id": "2C6M_KbchLup"
      },
      "source": [
        "En scikit learn siempre estuvimos aplicando el método fit y transform por separado. Scikit lern nos permite aplicar los dos en una linea con el método fit_transform:"
      ]
    },
    {
      "cell_type": "code",
      "execution_count": 28,
      "metadata": {
        "id": "uzAMEra-hJqD"
      },
      "outputs": [],
      "source": [
        "df_cont['discretized'] = est.fit_transform(df_cont[['X']]) # Acá en lugar de hacer reshape(-1, 1) utilizamos doble [[]]"
      ]
    },
    {
      "cell_type": "code",
      "execution_count": 29,
      "metadata": {
        "colab": {
          "base_uri": "https://localhost:8080/",
          "height": 419
        },
        "id": "rF_fl0PFhYzS",
        "outputId": "f7a589c7-b472-4c70-8983-3dc7f9c46e04"
      },
      "outputs": [
        {
          "data": {
            "text/html": [
              "<div>\n",
              "<style scoped>\n",
              "    .dataframe tbody tr th:only-of-type {\n",
              "        vertical-align: middle;\n",
              "    }\n",
              "\n",
              "    .dataframe tbody tr th {\n",
              "        vertical-align: top;\n",
              "    }\n",
              "\n",
              "    .dataframe thead th {\n",
              "        text-align: right;\n",
              "    }\n",
              "</style>\n",
              "<table border=\"1\" class=\"dataframe\">\n",
              "  <thead>\n",
              "    <tr style=\"text-align: right;\">\n",
              "      <th></th>\n",
              "      <th>X</th>\n",
              "      <th>discretized</th>\n",
              "    </tr>\n",
              "  </thead>\n",
              "  <tbody>\n",
              "    <tr>\n",
              "      <th>0</th>\n",
              "      <td>0</td>\n",
              "      <td>0.0</td>\n",
              "    </tr>\n",
              "    <tr>\n",
              "      <th>1</th>\n",
              "      <td>1</td>\n",
              "      <td>0.0</td>\n",
              "    </tr>\n",
              "    <tr>\n",
              "      <th>2</th>\n",
              "      <td>2</td>\n",
              "      <td>0.0</td>\n",
              "    </tr>\n",
              "    <tr>\n",
              "      <th>3</th>\n",
              "      <td>3</td>\n",
              "      <td>0.0</td>\n",
              "    </tr>\n",
              "    <tr>\n",
              "      <th>4</th>\n",
              "      <td>4</td>\n",
              "      <td>0.0</td>\n",
              "    </tr>\n",
              "    <tr>\n",
              "      <th>...</th>\n",
              "      <td>...</td>\n",
              "      <td>...</td>\n",
              "    </tr>\n",
              "    <tr>\n",
              "      <th>195</th>\n",
              "      <td>195</td>\n",
              "      <td>4.0</td>\n",
              "    </tr>\n",
              "    <tr>\n",
              "      <th>196</th>\n",
              "      <td>196</td>\n",
              "      <td>4.0</td>\n",
              "    </tr>\n",
              "    <tr>\n",
              "      <th>197</th>\n",
              "      <td>197</td>\n",
              "      <td>4.0</td>\n",
              "    </tr>\n",
              "    <tr>\n",
              "      <th>198</th>\n",
              "      <td>198</td>\n",
              "      <td>4.0</td>\n",
              "    </tr>\n",
              "    <tr>\n",
              "      <th>199</th>\n",
              "      <td>199</td>\n",
              "      <td>4.0</td>\n",
              "    </tr>\n",
              "  </tbody>\n",
              "</table>\n",
              "<p>200 rows × 2 columns</p>\n",
              "</div>"
            ],
            "text/plain": [
              "       X  discretized\n",
              "0      0          0.0\n",
              "1      1          0.0\n",
              "2      2          0.0\n",
              "3      3          0.0\n",
              "4      4          0.0\n",
              "..   ...          ...\n",
              "195  195          4.0\n",
              "196  196          4.0\n",
              "197  197          4.0\n",
              "198  198          4.0\n",
              "199  199          4.0\n",
              "\n",
              "[200 rows x 2 columns]"
            ]
          },
          "execution_count": 29,
          "metadata": {},
          "output_type": "execute_result"
        }
      ],
      "source": [
        "df_cont"
      ]
    },
    {
      "cell_type": "code",
      "execution_count": 30,
      "metadata": {
        "colab": {
          "base_uri": "https://localhost:8080/"
        },
        "id": "0cRdyEWIhfuu",
        "outputId": "8d255071-9ddd-47bd-b3cf-d40f2ba8f467"
      },
      "outputs": [
        {
          "data": {
            "text/plain": [
              "0.0    40\n",
              "1.0    40\n",
              "2.0    40\n",
              "3.0    40\n",
              "4.0    40\n",
              "Name: discretized, dtype: int64"
            ]
          },
          "execution_count": 30,
          "metadata": {},
          "output_type": "execute_result"
        }
      ],
      "source": [
        "df_cont.discretized.value_counts()"
      ]
    },
    {
      "cell_type": "markdown",
      "metadata": {
        "id": "m1vFyDgGh0U2"
      },
      "source": [
        "# Ejercicio\n",
        "\n",
        "Vamos a levantar el dataset de la clase pasada (esta vez sin nulos) y transformar las variables categóricas.\n",
        "\n",
        "Tienen que utilizar su criterio para decidir cuando conviene ordinal, one hot, etc.\n",
        "\n",
        "Recuerden que las columnas del dataset son:\n",
        "\n",
        "\n",
        "- id: Id del usuario \n",
        "- administrative: Número de veces que el usuario visito la sección \"administrative\"\n",
        "- administrative_duration: Tiempo que el usuario paso en la sección administrative\n",
        "- informational: Número de veces que el usuario visitó la sección \"informational\"\n",
        "- informational_duration: Tiempo que el usuario paso en la sección informational\n",
        "- productrelated: Número de veces que el usuario visitó la sección \"products related\"\n",
        "- productrelated_duration: Tiempo que el usuario pasó en la sección \n",
        "- bouncerates: Porcentaje de visitantes que entran a la página e inmediatamente la dejan sin interactuar con la misma. Esta metrica solo se tiene en cuenta si es la primer página que se visitó del sitio web.\n",
        "- exitrates: De la cantidad total de visitas a las páginas del sitio web, el porcentage de usuarios que lo abandonaron en esta página. Esto es, el  porcentaje de usuarios que su última visita al sitio fué en esta página.\n",
        "- pagevalues: Este es el valor promedio del sitio web, indica la contribución que este sitio web hizo al visitante que llega a la página o sección de compra final.\n",
        "-  specialday: Es una fecha especial o no (1 o 0)\n",
        "- operatingsystems: Sistema operativo\n",
        "- browser: Nombre del navegador\n",
        "- region: Region geográfica del usuario\n",
        "- traffictype: Tipo de tráfico web\n",
        "- visitortype: Nuevo o uno que retorno al sitio\n",
        "- Weekend: 1 si es fin de semana y 0 en otro caso\n",
        "- revenue: 1 si el usuario hizo una compra y 0 en otro caso"
      ]
    },
    {
      "cell_type": "code",
      "execution_count": 32,
      "metadata": {
        "id": "bYurF0m_hjQr"
      },
      "outputs": [],
      "source": [
        "df = pd.read_csv('online-shoppers-intention-sin-nulos.csv')"
      ]
    },
    {
      "cell_type": "code",
      "execution_count": 33,
      "metadata": {
        "colab": {
          "base_uri": "https://localhost:8080/",
          "height": 224
        },
        "id": "jJQVxvwZiax7",
        "outputId": "7ae25170-f146-4a97-a292-0ba5b65876e3"
      },
      "outputs": [
        {
          "data": {
            "text/html": [
              "<div>\n",
              "<style scoped>\n",
              "    .dataframe tbody tr th:only-of-type {\n",
              "        vertical-align: middle;\n",
              "    }\n",
              "\n",
              "    .dataframe tbody tr th {\n",
              "        vertical-align: top;\n",
              "    }\n",
              "\n",
              "    .dataframe thead th {\n",
              "        text-align: right;\n",
              "    }\n",
              "</style>\n",
              "<table border=\"1\" class=\"dataframe\">\n",
              "  <thead>\n",
              "    <tr style=\"text-align: right;\">\n",
              "      <th></th>\n",
              "      <th>Unnamed: 0</th>\n",
              "      <th>id</th>\n",
              "      <th>Administrative</th>\n",
              "      <th>Administrative_Duration</th>\n",
              "      <th>Informational</th>\n",
              "      <th>Informational_Duration</th>\n",
              "      <th>ProductRelated</th>\n",
              "      <th>ProductRelated_Duration</th>\n",
              "      <th>BounceRates</th>\n",
              "      <th>ExitRates</th>\n",
              "      <th>PageValues</th>\n",
              "      <th>SpecialDay</th>\n",
              "      <th>Month</th>\n",
              "      <th>OperatingSystems</th>\n",
              "      <th>Browser</th>\n",
              "      <th>Region</th>\n",
              "      <th>TrafficType</th>\n",
              "      <th>VisitorType</th>\n",
              "      <th>Weekend</th>\n",
              "      <th>revenue</th>\n",
              "    </tr>\n",
              "  </thead>\n",
              "  <tbody>\n",
              "    <tr>\n",
              "      <th>0</th>\n",
              "      <td>0</td>\n",
              "      <td>1.0</td>\n",
              "      <td>0.0</td>\n",
              "      <td>0.0</td>\n",
              "      <td>0.0</td>\n",
              "      <td>0.0</td>\n",
              "      <td>5.0</td>\n",
              "      <td>81.083333</td>\n",
              "      <td>0.040000</td>\n",
              "      <td>0.157839</td>\n",
              "      <td>0.0</td>\n",
              "      <td>0.0</td>\n",
              "      <td>Dec</td>\n",
              "      <td>-0.144760</td>\n",
              "      <td>2.0</td>\n",
              "      <td>-0.892079</td>\n",
              "      <td>2.0</td>\n",
              "      <td>New_Visitor</td>\n",
              "      <td>0.0</td>\n",
              "      <td>0.0</td>\n",
              "    </tr>\n",
              "    <tr>\n",
              "      <th>1</th>\n",
              "      <td>1</td>\n",
              "      <td>2.0</td>\n",
              "      <td>0.0</td>\n",
              "      <td>0.0</td>\n",
              "      <td>0.0</td>\n",
              "      <td>0.0</td>\n",
              "      <td>3.0</td>\n",
              "      <td>189.000000</td>\n",
              "      <td>0.003073</td>\n",
              "      <td>0.507080</td>\n",
              "      <td>0.0</td>\n",
              "      <td>0.0</td>\n",
              "      <td>Mar</td>\n",
              "      <td>-0.144760</td>\n",
              "      <td>2.0</td>\n",
              "      <td>2.012326</td>\n",
              "      <td>1.0</td>\n",
              "      <td>Returning_Visitor</td>\n",
              "      <td>0.0</td>\n",
              "      <td>0.0</td>\n",
              "    </tr>\n",
              "    <tr>\n",
              "      <th>2</th>\n",
              "      <td>2</td>\n",
              "      <td>3.0</td>\n",
              "      <td>0.0</td>\n",
              "      <td>0.0</td>\n",
              "      <td>1.0</td>\n",
              "      <td>132.0</td>\n",
              "      <td>8.0</td>\n",
              "      <td>445.000000</td>\n",
              "      <td>0.000000</td>\n",
              "      <td>-0.590534</td>\n",
              "      <td>0.0</td>\n",
              "      <td>0.0</td>\n",
              "      <td>Mar</td>\n",
              "      <td>-0.144760</td>\n",
              "      <td>2.0</td>\n",
              "      <td>0.352666</td>\n",
              "      <td>14.0</td>\n",
              "      <td>Returning_Visitor</td>\n",
              "      <td>1.0</td>\n",
              "      <td>0.0</td>\n",
              "    </tr>\n",
              "    <tr>\n",
              "      <th>3</th>\n",
              "      <td>3</td>\n",
              "      <td>4.0</td>\n",
              "      <td>0.0</td>\n",
              "      <td>0.0</td>\n",
              "      <td>0.0</td>\n",
              "      <td>0.0</td>\n",
              "      <td>3.0</td>\n",
              "      <td>0.000000</td>\n",
              "      <td>0.200000</td>\n",
              "      <td>3.301007</td>\n",
              "      <td>0.0</td>\n",
              "      <td>0.0</td>\n",
              "      <td>Mar</td>\n",
              "      <td>-0.144760</td>\n",
              "      <td>8.0</td>\n",
              "      <td>-0.477164</td>\n",
              "      <td>1.0</td>\n",
              "      <td>Returning_Visitor</td>\n",
              "      <td>0.0</td>\n",
              "      <td>0.0</td>\n",
              "    </tr>\n",
              "    <tr>\n",
              "      <th>4</th>\n",
              "      <td>4</td>\n",
              "      <td>5.0</td>\n",
              "      <td>0.0</td>\n",
              "      <td>0.0</td>\n",
              "      <td>0.0</td>\n",
              "      <td>0.0</td>\n",
              "      <td>4.0</td>\n",
              "      <td>14.000000</td>\n",
              "      <td>0.100000</td>\n",
              "      <td>2.253284</td>\n",
              "      <td>0.0</td>\n",
              "      <td>0.0</td>\n",
              "      <td>Mar</td>\n",
              "      <td>0.965712</td>\n",
              "      <td>2.0</td>\n",
              "      <td>-0.892079</td>\n",
              "      <td>1.0</td>\n",
              "      <td>Returning_Visitor</td>\n",
              "      <td>0.0</td>\n",
              "      <td>0.0</td>\n",
              "    </tr>\n",
              "  </tbody>\n",
              "</table>\n",
              "</div>"
            ],
            "text/plain": [
              "   Unnamed: 0   id  Administrative  Administrative_Duration  Informational  \\\n",
              "0           0  1.0             0.0                      0.0            0.0   \n",
              "1           1  2.0             0.0                      0.0            0.0   \n",
              "2           2  3.0             0.0                      0.0            1.0   \n",
              "3           3  4.0             0.0                      0.0            0.0   \n",
              "4           4  5.0             0.0                      0.0            0.0   \n",
              "\n",
              "   Informational_Duration  ProductRelated  ProductRelated_Duration  \\\n",
              "0                     0.0             5.0                81.083333   \n",
              "1                     0.0             3.0               189.000000   \n",
              "2                   132.0             8.0               445.000000   \n",
              "3                     0.0             3.0                 0.000000   \n",
              "4                     0.0             4.0                14.000000   \n",
              "\n",
              "   BounceRates  ExitRates  PageValues  SpecialDay Month  OperatingSystems  \\\n",
              "0     0.040000   0.157839         0.0         0.0   Dec         -0.144760   \n",
              "1     0.003073   0.507080         0.0         0.0   Mar         -0.144760   \n",
              "2     0.000000  -0.590534         0.0         0.0   Mar         -0.144760   \n",
              "3     0.200000   3.301007         0.0         0.0   Mar         -0.144760   \n",
              "4     0.100000   2.253284         0.0         0.0   Mar          0.965712   \n",
              "\n",
              "   Browser    Region  TrafficType        VisitorType  Weekend  revenue  \n",
              "0      2.0 -0.892079          2.0        New_Visitor      0.0      0.0  \n",
              "1      2.0  2.012326          1.0  Returning_Visitor      0.0      0.0  \n",
              "2      2.0  0.352666         14.0  Returning_Visitor      1.0      0.0  \n",
              "3      8.0 -0.477164          1.0  Returning_Visitor      0.0      0.0  \n",
              "4      2.0 -0.892079          1.0  Returning_Visitor      0.0      0.0  "
            ]
          },
          "execution_count": 33,
          "metadata": {},
          "output_type": "execute_result"
        }
      ],
      "source": [
        "df.head()"
      ]
    },
    {
      "cell_type": "markdown",
      "metadata": {
        "id": "bWMC3-hiicf4"
      },
      "source": [
        "Transformar las variables:\n",
        "\n",
        "- Month\n",
        "- Visitor type\n",
        "- weekend\n",
        "\n",
        "Con los métodos que aprendimos.\n",
        "\n",
        "Discretizar:\n",
        "- ExitRates\n",
        "- BounceRates\n",
        "\n",
        "\n",
        "Investigar:\n",
        "\n",
        "- ¿Cómo puedo saber desde que valor hasta que valor van cada uno de los \"bins\" en KBinsDiscretizer? (buscar los atributos del discretizer en la documentación)\n",
        "- ¿ Qué pasa si en lugar de usar encode=\"ordinal\" uso encode=‘onehot’ o ‘onehot-dense’?\n",
        "- ¿Cuál es la diferencia entre strategy=‘uniform’ y strategy=‘quantile’ ?"
      ]
    },
    {
      "cell_type": "code",
      "execution_count": 34,
      "metadata": {},
      "outputs": [
        {
          "data": {
            "text/plain": [
              "array(['Dec', 'Mar', 'Oct', 'May', 'Nov', 'Aug', 'Jul', 'Sep', 'Feb',\n",
              "       'June'], dtype=object)"
            ]
          },
          "execution_count": 34,
          "metadata": {},
          "output_type": "execute_result"
        }
      ],
      "source": [
        "df[\"Month\"].unique()"
      ]
    },
    {
      "cell_type": "code",
      "execution_count": 35,
      "metadata": {},
      "outputs": [
        {
          "data": {
            "text/plain": [
              "array(['New_Visitor', 'Returning_Visitor', 'Other'], dtype=object)"
            ]
          },
          "execution_count": 35,
          "metadata": {},
          "output_type": "execute_result"
        }
      ],
      "source": [
        "df[\"VisitorType\"].unique()"
      ]
    },
    {
      "cell_type": "code",
      "execution_count": 40,
      "metadata": {},
      "outputs": [],
      "source": [
        "month_mapping_dict = {\"Jan\": 1, \"Feb\": 2, \"Mar\": 3, \"Apr\": 4, \"May\": 5, \"Jun\": 6, \"Jul\": 7, \"Aug\": 8, \"Sep\": 9, \"Oct\": 10, \"Nov\": 11, \"Dec\":12}"
      ]
    },
    {
      "cell_type": "code",
      "execution_count": 42,
      "metadata": {},
      "outputs": [],
      "source": [
        "df[\"Month\"] = df[\"Month\"].replace(month_mapping_dict)"
      ]
    },
    {
      "cell_type": "code",
      "execution_count": 45,
      "metadata": {},
      "outputs": [],
      "source": [
        "one_hot_visitor = pd.DataFrame(enc.fit_transform(df[[\"VisitorType\"]]), columns= [\"New_visitor\", \"Other_visitor\", \"Returning_visitor\"])"
      ]
    },
    {
      "cell_type": "code",
      "execution_count": 50,
      "metadata": {},
      "outputs": [],
      "source": [
        "df = pd.concat([df, one_hot_visitor], axis=1).drop([\"Unnamed: 0\", \"VisitorType\"], axis=1)\n"
      ]
    },
    {
      "cell_type": "code",
      "execution_count": 55,
      "metadata": {},
      "outputs": [],
      "source": [
        "df[\"ExitRates\"] = est.fit_transform(df[[\"ExitRates\"]])"
      ]
    },
    {
      "cell_type": "code",
      "execution_count": 57,
      "metadata": {},
      "outputs": [],
      "source": [
        "df[\"BounceRates\"] = est.fit_transform(df[[\"BounceRates\"]])"
      ]
    },
    {
      "cell_type": "code",
      "execution_count": 63,
      "metadata": {},
      "outputs": [
        {
          "data": {
            "text/plain": [
              "array([array([0.  , 0.04, 0.08, 0.12, 0.16, 0.2 ])], dtype=object)"
            ]
          },
          "execution_count": 63,
          "metadata": {},
          "output_type": "execute_result"
        }
      ],
      "source": [
        "est.bin_edges_"
      ]
    },
    {
      "cell_type": "code",
      "execution_count": 58,
      "metadata": {},
      "outputs": [
        {
          "data": {
            "text/html": [
              "<div>\n",
              "<style scoped>\n",
              "    .dataframe tbody tr th:only-of-type {\n",
              "        vertical-align: middle;\n",
              "    }\n",
              "\n",
              "    .dataframe tbody tr th {\n",
              "        vertical-align: top;\n",
              "    }\n",
              "\n",
              "    .dataframe thead th {\n",
              "        text-align: right;\n",
              "    }\n",
              "</style>\n",
              "<table border=\"1\" class=\"dataframe\">\n",
              "  <thead>\n",
              "    <tr style=\"text-align: right;\">\n",
              "      <th></th>\n",
              "      <th>id</th>\n",
              "      <th>Administrative</th>\n",
              "      <th>Administrative_Duration</th>\n",
              "      <th>Informational</th>\n",
              "      <th>Informational_Duration</th>\n",
              "      <th>ProductRelated</th>\n",
              "      <th>ProductRelated_Duration</th>\n",
              "      <th>BounceRates</th>\n",
              "      <th>ExitRates</th>\n",
              "      <th>PageValues</th>\n",
              "      <th>...</th>\n",
              "      <th>Month</th>\n",
              "      <th>OperatingSystems</th>\n",
              "      <th>Browser</th>\n",
              "      <th>Region</th>\n",
              "      <th>TrafficType</th>\n",
              "      <th>Weekend</th>\n",
              "      <th>revenue</th>\n",
              "      <th>New_visitor</th>\n",
              "      <th>Other_visitor</th>\n",
              "      <th>Returning_visitor</th>\n",
              "    </tr>\n",
              "  </thead>\n",
              "  <tbody>\n",
              "    <tr>\n",
              "      <th>0</th>\n",
              "      <td>1.0</td>\n",
              "      <td>0.0</td>\n",
              "      <td>0.000000</td>\n",
              "      <td>0.0</td>\n",
              "      <td>0.0</td>\n",
              "      <td>5.0</td>\n",
              "      <td>81.083333</td>\n",
              "      <td>1.0</td>\n",
              "      <td>1.0</td>\n",
              "      <td>0.000</td>\n",
              "      <td>...</td>\n",
              "      <td>12</td>\n",
              "      <td>-0.144760</td>\n",
              "      <td>2.0</td>\n",
              "      <td>-0.892079</td>\n",
              "      <td>2.0</td>\n",
              "      <td>0.0</td>\n",
              "      <td>0.0</td>\n",
              "      <td>1.0</td>\n",
              "      <td>0.0</td>\n",
              "      <td>0.0</td>\n",
              "    </tr>\n",
              "    <tr>\n",
              "      <th>1</th>\n",
              "      <td>2.0</td>\n",
              "      <td>0.0</td>\n",
              "      <td>0.000000</td>\n",
              "      <td>0.0</td>\n",
              "      <td>0.0</td>\n",
              "      <td>3.0</td>\n",
              "      <td>189.000000</td>\n",
              "      <td>0.0</td>\n",
              "      <td>1.0</td>\n",
              "      <td>0.000</td>\n",
              "      <td>...</td>\n",
              "      <td>3</td>\n",
              "      <td>-0.144760</td>\n",
              "      <td>2.0</td>\n",
              "      <td>2.012326</td>\n",
              "      <td>1.0</td>\n",
              "      <td>0.0</td>\n",
              "      <td>0.0</td>\n",
              "      <td>0.0</td>\n",
              "      <td>0.0</td>\n",
              "      <td>1.0</td>\n",
              "    </tr>\n",
              "    <tr>\n",
              "      <th>2</th>\n",
              "      <td>3.0</td>\n",
              "      <td>0.0</td>\n",
              "      <td>0.000000</td>\n",
              "      <td>1.0</td>\n",
              "      <td>132.0</td>\n",
              "      <td>8.0</td>\n",
              "      <td>445.000000</td>\n",
              "      <td>0.0</td>\n",
              "      <td>0.0</td>\n",
              "      <td>0.000</td>\n",
              "      <td>...</td>\n",
              "      <td>3</td>\n",
              "      <td>-0.144760</td>\n",
              "      <td>2.0</td>\n",
              "      <td>0.352666</td>\n",
              "      <td>14.0</td>\n",
              "      <td>1.0</td>\n",
              "      <td>0.0</td>\n",
              "      <td>0.0</td>\n",
              "      <td>0.0</td>\n",
              "      <td>1.0</td>\n",
              "    </tr>\n",
              "    <tr>\n",
              "      <th>3</th>\n",
              "      <td>4.0</td>\n",
              "      <td>0.0</td>\n",
              "      <td>0.000000</td>\n",
              "      <td>0.0</td>\n",
              "      <td>0.0</td>\n",
              "      <td>3.0</td>\n",
              "      <td>0.000000</td>\n",
              "      <td>4.0</td>\n",
              "      <td>4.0</td>\n",
              "      <td>0.000</td>\n",
              "      <td>...</td>\n",
              "      <td>3</td>\n",
              "      <td>-0.144760</td>\n",
              "      <td>8.0</td>\n",
              "      <td>-0.477164</td>\n",
              "      <td>1.0</td>\n",
              "      <td>0.0</td>\n",
              "      <td>0.0</td>\n",
              "      <td>0.0</td>\n",
              "      <td>0.0</td>\n",
              "      <td>1.0</td>\n",
              "    </tr>\n",
              "    <tr>\n",
              "      <th>4</th>\n",
              "      <td>5.0</td>\n",
              "      <td>0.0</td>\n",
              "      <td>0.000000</td>\n",
              "      <td>0.0</td>\n",
              "      <td>0.0</td>\n",
              "      <td>4.0</td>\n",
              "      <td>14.000000</td>\n",
              "      <td>2.0</td>\n",
              "      <td>3.0</td>\n",
              "      <td>0.000</td>\n",
              "      <td>...</td>\n",
              "      <td>3</td>\n",
              "      <td>0.965712</td>\n",
              "      <td>2.0</td>\n",
              "      <td>-0.892079</td>\n",
              "      <td>1.0</td>\n",
              "      <td>0.0</td>\n",
              "      <td>0.0</td>\n",
              "      <td>0.0</td>\n",
              "      <td>0.0</td>\n",
              "      <td>1.0</td>\n",
              "    </tr>\n",
              "    <tr>\n",
              "      <th>...</th>\n",
              "      <td>...</td>\n",
              "      <td>...</td>\n",
              "      <td>...</td>\n",
              "      <td>...</td>\n",
              "      <td>...</td>\n",
              "      <td>...</td>\n",
              "      <td>...</td>\n",
              "      <td>...</td>\n",
              "      <td>...</td>\n",
              "      <td>...</td>\n",
              "      <td>...</td>\n",
              "      <td>...</td>\n",
              "      <td>...</td>\n",
              "      <td>...</td>\n",
              "      <td>...</td>\n",
              "      <td>...</td>\n",
              "      <td>...</td>\n",
              "      <td>...</td>\n",
              "      <td>...</td>\n",
              "      <td>...</td>\n",
              "      <td>...</td>\n",
              "    </tr>\n",
              "    <tr>\n",
              "      <th>8626</th>\n",
              "      <td>8627.0</td>\n",
              "      <td>1.0</td>\n",
              "      <td>1005.608333</td>\n",
              "      <td>0.0</td>\n",
              "      <td>0.0</td>\n",
              "      <td>25.0</td>\n",
              "      <td>732.344872</td>\n",
              "      <td>0.0</td>\n",
              "      <td>0.0</td>\n",
              "      <td>0.000</td>\n",
              "      <td>...</td>\n",
              "      <td>11</td>\n",
              "      <td>-0.144760</td>\n",
              "      <td>2.0</td>\n",
              "      <td>-0.892079</td>\n",
              "      <td>2.0</td>\n",
              "      <td>0.0</td>\n",
              "      <td>0.0</td>\n",
              "      <td>0.0</td>\n",
              "      <td>0.0</td>\n",
              "      <td>1.0</td>\n",
              "    </tr>\n",
              "    <tr>\n",
              "      <th>8627</th>\n",
              "      <td>8628.0</td>\n",
              "      <td>0.0</td>\n",
              "      <td>0.000000</td>\n",
              "      <td>0.0</td>\n",
              "      <td>0.0</td>\n",
              "      <td>14.0</td>\n",
              "      <td>340.000000</td>\n",
              "      <td>0.0</td>\n",
              "      <td>0.0</td>\n",
              "      <td>23.388</td>\n",
              "      <td>...</td>\n",
              "      <td>5</td>\n",
              "      <td>-0.144760</td>\n",
              "      <td>2.0</td>\n",
              "      <td>-0.062249</td>\n",
              "      <td>1.0</td>\n",
              "      <td>1.0</td>\n",
              "      <td>1.0</td>\n",
              "      <td>0.0</td>\n",
              "      <td>0.0</td>\n",
              "      <td>1.0</td>\n",
              "    </tr>\n",
              "    <tr>\n",
              "      <th>8628</th>\n",
              "      <td>8629.0</td>\n",
              "      <td>0.0</td>\n",
              "      <td>0.000000</td>\n",
              "      <td>0.0</td>\n",
              "      <td>0.0</td>\n",
              "      <td>3.0</td>\n",
              "      <td>189.000000</td>\n",
              "      <td>0.0</td>\n",
              "      <td>1.0</td>\n",
              "      <td>0.000</td>\n",
              "      <td>...</td>\n",
              "      <td>5</td>\n",
              "      <td>-0.144760</td>\n",
              "      <td>2.0</td>\n",
              "      <td>-0.062249</td>\n",
              "      <td>4.0</td>\n",
              "      <td>0.0</td>\n",
              "      <td>0.0</td>\n",
              "      <td>0.0</td>\n",
              "      <td>0.0</td>\n",
              "      <td>1.0</td>\n",
              "    </tr>\n",
              "    <tr>\n",
              "      <th>8629</th>\n",
              "      <td>8630.0</td>\n",
              "      <td>0.0</td>\n",
              "      <td>0.000000</td>\n",
              "      <td>0.0</td>\n",
              "      <td>0.0</td>\n",
              "      <td>13.0</td>\n",
              "      <td>305.000000</td>\n",
              "      <td>0.0</td>\n",
              "      <td>0.0</td>\n",
              "      <td>0.000</td>\n",
              "      <td>...</td>\n",
              "      <td>3</td>\n",
              "      <td>-0.144760</td>\n",
              "      <td>1.0</td>\n",
              "      <td>-0.892079</td>\n",
              "      <td>2.0</td>\n",
              "      <td>0.0</td>\n",
              "      <td>0.0</td>\n",
              "      <td>1.0</td>\n",
              "      <td>0.0</td>\n",
              "      <td>0.0</td>\n",
              "    </tr>\n",
              "    <tr>\n",
              "      <th>8630</th>\n",
              "      <td>8631.0</td>\n",
              "      <td>1.0</td>\n",
              "      <td>138.150000</td>\n",
              "      <td>0.0</td>\n",
              "      <td>0.0</td>\n",
              "      <td>9.0</td>\n",
              "      <td>232.310000</td>\n",
              "      <td>0.0</td>\n",
              "      <td>0.0</td>\n",
              "      <td>0.000</td>\n",
              "      <td>...</td>\n",
              "      <td>10</td>\n",
              "      <td>-0.144760</td>\n",
              "      <td>2.0</td>\n",
              "      <td>0.767581</td>\n",
              "      <td>2.0</td>\n",
              "      <td>1.0</td>\n",
              "      <td>0.0</td>\n",
              "      <td>0.0</td>\n",
              "      <td>0.0</td>\n",
              "      <td>1.0</td>\n",
              "    </tr>\n",
              "  </tbody>\n",
              "</table>\n",
              "<p>8631 rows × 21 columns</p>\n",
              "</div>"
            ],
            "text/plain": [
              "          id  Administrative  Administrative_Duration  Informational  \\\n",
              "0        1.0             0.0                 0.000000            0.0   \n",
              "1        2.0             0.0                 0.000000            0.0   \n",
              "2        3.0             0.0                 0.000000            1.0   \n",
              "3        4.0             0.0                 0.000000            0.0   \n",
              "4        5.0             0.0                 0.000000            0.0   \n",
              "...      ...             ...                      ...            ...   \n",
              "8626  8627.0             1.0              1005.608333            0.0   \n",
              "8627  8628.0             0.0                 0.000000            0.0   \n",
              "8628  8629.0             0.0                 0.000000            0.0   \n",
              "8629  8630.0             0.0                 0.000000            0.0   \n",
              "8630  8631.0             1.0               138.150000            0.0   \n",
              "\n",
              "      Informational_Duration  ProductRelated  ProductRelated_Duration  \\\n",
              "0                        0.0             5.0                81.083333   \n",
              "1                        0.0             3.0               189.000000   \n",
              "2                      132.0             8.0               445.000000   \n",
              "3                        0.0             3.0                 0.000000   \n",
              "4                        0.0             4.0                14.000000   \n",
              "...                      ...             ...                      ...   \n",
              "8626                     0.0            25.0               732.344872   \n",
              "8627                     0.0            14.0               340.000000   \n",
              "8628                     0.0             3.0               189.000000   \n",
              "8629                     0.0            13.0               305.000000   \n",
              "8630                     0.0             9.0               232.310000   \n",
              "\n",
              "      BounceRates  ExitRates  PageValues  ...  Month OperatingSystems  \\\n",
              "0             1.0        1.0       0.000  ...     12        -0.144760   \n",
              "1             0.0        1.0       0.000  ...      3        -0.144760   \n",
              "2             0.0        0.0       0.000  ...      3        -0.144760   \n",
              "3             4.0        4.0       0.000  ...      3        -0.144760   \n",
              "4             2.0        3.0       0.000  ...      3         0.965712   \n",
              "...           ...        ...         ...  ...    ...              ...   \n",
              "8626          0.0        0.0       0.000  ...     11        -0.144760   \n",
              "8627          0.0        0.0      23.388  ...      5        -0.144760   \n",
              "8628          0.0        1.0       0.000  ...      5        -0.144760   \n",
              "8629          0.0        0.0       0.000  ...      3        -0.144760   \n",
              "8630          0.0        0.0       0.000  ...     10        -0.144760   \n",
              "\n",
              "      Browser    Region  TrafficType  Weekend  revenue  New_visitor  \\\n",
              "0         2.0 -0.892079          2.0      0.0      0.0          1.0   \n",
              "1         2.0  2.012326          1.0      0.0      0.0          0.0   \n",
              "2         2.0  0.352666         14.0      1.0      0.0          0.0   \n",
              "3         8.0 -0.477164          1.0      0.0      0.0          0.0   \n",
              "4         2.0 -0.892079          1.0      0.0      0.0          0.0   \n",
              "...       ...       ...          ...      ...      ...          ...   \n",
              "8626      2.0 -0.892079          2.0      0.0      0.0          0.0   \n",
              "8627      2.0 -0.062249          1.0      1.0      1.0          0.0   \n",
              "8628      2.0 -0.062249          4.0      0.0      0.0          0.0   \n",
              "8629      1.0 -0.892079          2.0      0.0      0.0          1.0   \n",
              "8630      2.0  0.767581          2.0      1.0      0.0          0.0   \n",
              "\n",
              "      Other_visitor  Returning_visitor  \n",
              "0               0.0                0.0  \n",
              "1               0.0                1.0  \n",
              "2               0.0                1.0  \n",
              "3               0.0                1.0  \n",
              "4               0.0                1.0  \n",
              "...             ...                ...  \n",
              "8626            0.0                1.0  \n",
              "8627            0.0                1.0  \n",
              "8628            0.0                1.0  \n",
              "8629            0.0                0.0  \n",
              "8630            0.0                1.0  \n",
              "\n",
              "[8631 rows x 21 columns]"
            ]
          },
          "execution_count": 58,
          "metadata": {},
          "output_type": "execute_result"
        }
      ],
      "source": [
        "df"
      ]
    }
  ],
  "metadata": {
    "colab": {
      "name": "Variables categóricas.ipynb",
      "provenance": []
    },
    "kernelspec": {
      "display_name": "Python 3",
      "name": "python3"
    },
    "language_info": {
      "codemirror_mode": {
        "name": "ipython",
        "version": 3
      },
      "file_extension": ".py",
      "mimetype": "text/x-python",
      "name": "python",
      "nbconvert_exporter": "python",
      "pygments_lexer": "ipython3",
      "version": "3.9.6"
    }
  },
  "nbformat": 4,
  "nbformat_minor": 0
}
